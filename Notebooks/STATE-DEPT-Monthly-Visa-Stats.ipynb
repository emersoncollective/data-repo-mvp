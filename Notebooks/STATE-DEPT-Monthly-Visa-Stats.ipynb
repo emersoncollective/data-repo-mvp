{
 "cells": [
  {
   "cell_type": "markdown",
   "metadata": {
    "id": "xVASb7wDPsQl"
   },
   "source": [
    "# Travel.State.Gov Visa Issuances"
   ]
  },
  {
   "cell_type": "markdown",
   "metadata": {
    "id": "cl1894BsAiXf"
   },
   "source": [
    "## Summary \n",
    "This notebook provides functionality to \"scrape\" or extract all data from the the PDF files found on the  [Monthly Immigrant Visa Issuance Statistics](https://travel.state.gov/content/travel/en/legal/visa-law0/visa-statistics/immigrant-visa-statistics/monthly-immigrant-visa-issuances.html) page. The State Department releases monthly data on visa issuances, for both immigrant visas and nonimmigrant visas.  \n",
    "\n",
    "The pdfs come in two forms.\n",
    "  * Posts --> Provides the counts of visas provides by and visa class.\n",
    "  * FSC (Foreign State of Chargeability, or Place of Birth)--> Provides the counts of visas granted by FSC and by visa class.\n",
    "  \n",
    "\n",
    "This notebook provides specific functionality to: \n",
    "1. Download all pdf files to a local directory (could be applied to another site)\n",
    "2. Extract structured data from all pdfs and recode the visa types to narrower categories. \n",
    "\n",
    "We also provide an example summarizing this data. \n",
    "\n",
    "**Please note:** \n",
    "\n",
    "TBD\n",
    "\n",
    "\n"
   ]
  },
  {
   "cell_type": "markdown",
   "metadata": {
    "id": "cHxgFnIeslJe"
   },
   "source": [
    "## Code "
   ]
  },
  {
   "cell_type": "markdown",
   "metadata": {
    "id": "pl4I1EMdC5l2"
   },
   "source": [
    "First we mount our google drive directory "
   ]
  },
  {
   "cell_type": "code",
   "execution_count": 1,
   "metadata": {
    "colab": {
     "base_uri": "https://localhost:8080/"
    },
    "executionInfo": {
     "elapsed": 26488,
     "status": "ok",
     "timestamp": 1636674494584,
     "user": {
      "displayName": "Michael Dowd",
      "photoUrl": "https://lh3.googleusercontent.com/a/default-user=s64",
      "userId": "00770521119407228668"
     },
     "user_tz": 480
    },
    "id": "lUyKMXB8REbg",
    "outputId": "ea5583e4-712a-4795-e61a-6b6ee0d8944d"
   },
   "outputs": [
    {
     "name": "stdout",
     "output_type": "stream",
     "text": [
      "Mounted at /content/drive/\n"
     ]
    }
   ],
   "source": [
    "from google.colab import drive\n",
    "\n",
    "drive.mount(\"/content/drive/\", force_remount=True)"
   ]
  },
  {
   "cell_type": "markdown",
   "metadata": {
    "id": "wlDPc07wDAMv"
   },
   "source": [
    "Change the base directory to the location of the DataRepo.\n",
    "\n",
    " **NOTE**: Your location WILL be different depending on where you saved the data repo. "
   ]
  },
  {
   "cell_type": "code",
   "execution_count": 2,
   "metadata": {
    "colab": {
     "base_uri": "https://localhost:8080/"
    },
    "executionInfo": {
     "elapsed": 2003,
     "status": "ok",
     "timestamp": 1636674528504,
     "user": {
      "displayName": "Michael Dowd",
      "photoUrl": "https://lh3.googleusercontent.com/a/default-user=s64",
      "userId": "00770521119407228668"
     },
     "user_tz": 480
    },
    "id": "w1-Lx_uwRJyX",
    "outputId": "5d7dd228-59f4-4877-e5fa-0976af04e0a9"
   },
   "outputs": [
    {
     "name": "stdout",
     "output_type": "stream",
     "text": [
      "/content/drive/Shareddrives/Data Products Team/Products/Immigration Data Hub/DataRepo/data-repo-mvp\n"
     ]
    }
   ],
   "source": [
    "%cd drive/Shareddrives/Data\\ Products\\ Team/Products/Immigration\\ Data\\ Hub/DataRepo/data-repo-mvp"
   ]
  },
  {
   "cell_type": "markdown",
   "metadata": {
    "id": "8Ts4gIXxDTtr"
   },
   "source": [
    "**Installs**\n",
    "\n",
    "Certain libraries need to be installed because they are not automatically installed by colab. "
   ]
  },
  {
   "cell_type": "code",
   "execution_count": 3,
   "metadata": {
    "colab": {
     "base_uri": "https://localhost:8080/"
    },
    "executionInfo": {
     "elapsed": 8796,
     "status": "ok",
     "timestamp": 1636674542828,
     "user": {
      "displayName": "Michael Dowd",
      "photoUrl": "https://lh3.googleusercontent.com/a/default-user=s64",
      "userId": "00770521119407228668"
     },
     "user_tz": 480
    },
    "id": "nJYEmaTLQZkh",
    "outputId": "cff8541b-6d40-4bbf-856e-c1fa50b1886a"
   },
   "outputs": [
    {
     "name": "stdout",
     "output_type": "stream",
     "text": [
      "Collecting PyPDF2\n",
      "  Downloading PyPDF2-1.26.0.tar.gz (77 kB)\n",
      "\u001b[?25l\r",
      "\u001b[K     |████▎                           | 10 kB 25.2 MB/s eta 0:00:01\r",
      "\u001b[K     |████████▌                       | 20 kB 28.4 MB/s eta 0:00:01\r",
      "\u001b[K     |████████████▊                   | 30 kB 19.4 MB/s eta 0:00:01\r",
      "\u001b[K     |█████████████████               | 40 kB 16.3 MB/s eta 0:00:01\r",
      "\u001b[K     |█████████████████████▏          | 51 kB 7.4 MB/s eta 0:00:01\r",
      "\u001b[K     |█████████████████████████▍      | 61 kB 8.6 MB/s eta 0:00:01\r",
      "\u001b[K     |█████████████████████████████▋  | 71 kB 8.1 MB/s eta 0:00:01\r",
      "\u001b[K     |████████████████████████████████| 77 kB 4.4 MB/s \n",
      "\u001b[?25hBuilding wheels for collected packages: PyPDF2\n",
      "  Building wheel for PyPDF2 (setup.py) ... \u001b[?25l\u001b[?25hdone\n",
      "  Created wheel for PyPDF2: filename=PyPDF2-1.26.0-py3-none-any.whl size=61101 sha256=a47b091f2dea69a7abb77b6071a124f2473dba406b6603b9042478462bd21dbf\n",
      "  Stored in directory: /root/.cache/pip/wheels/80/1a/24/648467ade3a77ed20f35cfd2badd32134e96dd25ca811e64b3\n",
      "Successfully built PyPDF2\n",
      "Installing collected packages: PyPDF2\n",
      "Successfully installed PyPDF2-1.26.0\n",
      "Collecting tabula-py\n",
      "  Downloading tabula_py-2.3.0-py3-none-any.whl (12.0 MB)\n",
      "\u001b[K     |████████████████████████████████| 12.0 MB 104 kB/s \n",
      "\u001b[?25hRequirement already satisfied: numpy in /usr/local/lib/python3.7/dist-packages (from tabula-py) (1.19.5)\n",
      "Collecting distro\n",
      "  Downloading distro-1.6.0-py2.py3-none-any.whl (19 kB)\n",
      "Requirement already satisfied: pandas>=0.25.3 in /usr/local/lib/python3.7/dist-packages (from tabula-py) (1.1.5)\n",
      "Requirement already satisfied: python-dateutil>=2.7.3 in /usr/local/lib/python3.7/dist-packages (from pandas>=0.25.3->tabula-py) (2.8.2)\n",
      "Requirement already satisfied: pytz>=2017.2 in /usr/local/lib/python3.7/dist-packages (from pandas>=0.25.3->tabula-py) (2018.9)\n",
      "Requirement already satisfied: six>=1.5 in /usr/local/lib/python3.7/dist-packages (from python-dateutil>=2.7.3->pandas>=0.25.3->tabula-py) (1.15.0)\n",
      "Installing collected packages: distro, tabula-py\n",
      "Successfully installed distro-1.6.0 tabula-py-2.3.0\n"
     ]
    }
   ],
   "source": [
    "!pip install PyPDF2\n",
    "!pip install tabula-py"
   ]
  },
  {
   "cell_type": "markdown",
   "metadata": {
    "id": "W-_41ycrstZQ"
   },
   "source": [
    "**Imports**"
   ]
  },
  {
   "cell_type": "code",
   "execution_count": 1,
   "metadata": {
    "executionInfo": {
     "elapsed": 403,
     "status": "ok",
     "timestamp": 1636674614891,
     "user": {
      "displayName": "Michael Dowd",
      "photoUrl": "https://lh3.googleusercontent.com/a/default-user=s64",
      "userId": "00770521119407228668"
     },
     "user_tz": 480
    },
    "id": "WD1XUUQDQJ3C"
   },
   "outputs": [],
   "source": [
    "import logging\n",
    "import logging.config\n",
    "from pathlib import Path\n",
    "import requests\n",
    "\n",
    "from bs4 import BeautifulSoup\n",
    "import pandas as pd\n",
    "from PyPDF2 import PdfFileReader\n",
    "import tabula\n",
    "\n",
    "\n",
    "from urllib.parse import urljoin, urlparse, urljoin\n",
    "\n",
    "pd.set_option(\"max_rows\", 400)\n",
    "logging.config.dictConfig(\n",
    "    {\n",
    "        \"version\": 1,\n",
    "        \"disable_existing_loggers\": True,\n",
    "    }\n",
    ")"
   ]
  },
  {
   "cell_type": "markdown",
   "metadata": {
    "id": "SSJ3pcgHNJV-"
   },
   "source": [
    "**Source Data Url**"
   ]
  },
  {
   "cell_type": "code",
   "execution_count": 2,
   "metadata": {
    "executionInfo": {
     "elapsed": 156,
     "status": "ok",
     "timestamp": 1636674616996,
     "user": {
      "displayName": "Michael Dowd",
      "photoUrl": "https://lh3.googleusercontent.com/a/default-user=s64",
      "userId": "00770521119407228668"
     },
     "user_tz": 480
    },
    "id": "kTM64x0cNJV-"
   },
   "outputs": [],
   "source": [
    "url = \"https://travel.state.gov/content/travel/en/legal/visa-law0/visa-statistics/immigrant-visa-statistics/monthly-immigrant-visa-issuances.html\"\n"
   ]
  },
  {
   "cell_type": "markdown",
   "metadata": {
    "id": "6cWjCKg_vNkQ"
   },
   "source": [
    "## Download PDFs"
   ]
  },
  {
   "cell_type": "markdown",
   "metadata": {
    "id": "QJNWfPTpvafJ"
   },
   "source": [
    "**Functions**"
   ]
  },
  {
   "cell_type": "code",
   "execution_count": 3,
   "metadata": {
    "executionInfo": {
     "elapsed": 163,
     "status": "ok",
     "timestamp": 1636674620488,
     "user": {
      "displayName": "Michael Dowd",
      "photoUrl": "https://lh3.googleusercontent.com/a/default-user=s64",
      "userId": "00770521119407228668"
     },
     "user_tz": 480
    },
    "id": "XwEKrAykEwCu"
   },
   "outputs": [],
   "source": [
    "def download_pdf(url, name, output_folder):\n",
    "    \"\"\"\n",
    "    Function to download a single pdf file from a provided link.\n",
    "\n",
    "    Parameters:\n",
    "      url: Url of the file you want to download\n",
    "      name: name label you want to apply to the file\n",
    "      output_folder: Folder path to savae file\n",
    "\n",
    "    Returns:\n",
    "      Saves the file to the output directory, function itself returns nothing.\n",
    "\n",
    "    Example:\n",
    "      download_pdf(\n",
    "        'https://travel.state.gov/content/travel/en/legal/visa-law0/visa-statistics/immigrant-visa-statistics/monthly-immigrant-visa-issuances.html',\n",
    "        'July 2020 - IV Issuances by Post and Visa Class',\n",
    "        'visa_test/'\n",
    "      )\n",
    "    \"\"\"\n",
    "    output_folder = Path(output_folder)\n",
    "    response = requests.get(url)\n",
    "    if response.status_code == 200:\n",
    "        # Write content in pdf file\n",
    "        outpath = output_folder / f\"{name}.pdf\"\n",
    "        pdf = open(str(outpath), \"wb\")\n",
    "        pdf.write(response.content)\n",
    "        pdf.close()\n",
    "        print(\"File \", f\"{name}.pdf\", \" downloaded\")\n",
    "    else:\n",
    "        print(\"File \", f\"{name}.pdf\", \" not found.\")\n",
    "\n",
    "\n",
    "def download_all_pdf_links(url, output_folder):\n",
    "    \"\"\"\n",
    "    Download all pdfs on a webpage where the pdfs\n",
    "    are presented as links. Uses the download_pdf function\n",
    "    defined above.\n",
    "\n",
    "    Parameters:\n",
    "      url (str): URL for website with links to many pdfs, the pdf links\n",
    "        must link to direct download url vs another website with pdf links.\n",
    "      output_folder (str): Folder to store downloaded PDF files.\n",
    "\n",
    "    Returns:\n",
    "      Saves many files to the output directory, function itself returns nothing.\n",
    "\n",
    "    Examples:\n",
    "      download_all_pdf_links(\n",
    "        https://travel.state.gov/content/travel/en/legal/visa-law0/visa-statistics/immigrant-visa-statistics/monthly-immigrant-visa-issuances.html,\n",
    "         'visa_test')\n",
    "    \"\"\"\n",
    "\n",
    "    output_folder = Path(output_folder)\n",
    "    output_folder.mkdir(exist_ok=True, parents=True)\n",
    "\n",
    "    parse_url = urlparse(url)\n",
    "    base_url = f\"{parse_url.scheme}://{parse_url.netloc}\"\n",
    "\n",
    "    # Requests URL and get response object\n",
    "    response = requests.get(url)\n",
    "\n",
    "    # Parse text obtained\n",
    "    soup = BeautifulSoup(response.text, \"html.parser\")\n",
    "\n",
    "    # Find all hyperlinks present on webpage\n",
    "    links = soup.find_all(\"a\")\n",
    "    # From all links check for pdf link and\n",
    "    # if present download file\n",
    "    for link in links:\n",
    "        if \".pdf\" in link.get(\"href\", []):\n",
    "            name = link.text\n",
    "            url = f\"{base_url}/{link.get('href')}\"\n",
    "            download_pdf(url, name, output_folder)\n",
    "    print(\"All PDF files downloaded\")"
   ]
  },
  {
   "cell_type": "markdown",
   "metadata": {
    "id": "q-U_vSQDveuk"
   },
   "source": [
    "### Download Single Example File "
   ]
  },
  {
   "cell_type": "code",
   "execution_count": 4,
   "metadata": {
    "executionInfo": {
     "elapsed": 158,
     "status": "ok",
     "timestamp": 1636674626545,
     "user": {
      "displayName": "Michael Dowd",
      "photoUrl": "https://lh3.googleusercontent.com/a/default-user=s64",
      "userId": "00770521119407228668"
     },
     "user_tz": 480
    },
    "id": "Z9gvcEndvTeC"
   },
   "outputs": [],
   "source": [
    "#July 2020 Post file https://travel.state.gov/content/dam/visas/Statistics/Immigrant-Statistics/MonthlyIVIssuances/JULY%202020%20-%20IV%20Issuances%20by%20Post%20and%20Visa%20Class.pdf\n",
    "example_pdf = (\n",
    "    \"https://travel.state.gov/content/dam/visas/Statistics/\"\n",
    "    \"Immigrant-Statistics/MonthlyIVIssuances/\"\n",
    "    \"JULY%202021%20-%20IV%20Issuances%20by%20Post%20and%20Visa%20Class.pdf\"\n",
    ")\n"
   ]
  },
  {
   "cell_type": "code",
   "execution_count": 8,
   "metadata": {
    "colab": {
     "base_uri": "https://localhost:8080/"
    },
    "executionInfo": {
     "elapsed": 3575,
     "status": "ok",
     "timestamp": 1636674642876,
     "user": {
      "displayName": "Michael Dowd",
      "photoUrl": "https://lh3.googleusercontent.com/a/default-user=s64",
      "userId": "00770521119407228668"
     },
     "user_tz": 480
    },
    "id": "mqbPUbAkvtvg",
    "outputId": "c46d63e8-449f-4935-c01c-8b32e4a006fe"
   },
   "outputs": [
    {
     "name": "stdout",
     "output_type": "stream",
     "text": [
      "File  July 2020 - IV Issuances by Post and Visa Class.pdf  downloaded\n"
     ]
    }
   ],
   "source": [
    "download_pdf(\n",
    "    example_pdf,\n",
    "    \"July 2020 - IV Issuances by Post and Visa Class\",\n",
    "    \"./data/raw_source_files/visa_test/\",\n",
    ")"
   ]
  },
  {
   "cell_type": "markdown",
   "metadata": {
    "id": "yfF_Ujq4vcZA"
   },
   "source": [
    "### Download all files "
   ]
  },
  {
   "cell_type": "code",
   "execution_count": null,
   "metadata": {
    "id": "Fqq4-39ENJWA"
   },
   "outputs": [],
   "source": [
    "download_all_pdf_links(url, './data/raw_source_files/visa_test')"
   ]
  },
  {
   "cell_type": "markdown",
   "metadata": {
    "id": "p7M9uCDkxVxI"
   },
   "source": [
    "----------------"
   ]
  },
  {
   "cell_type": "markdown",
   "metadata": {
    "id": "gfrg56-3w1bN"
   },
   "source": [
    "## Extract Data from PDFs"
   ]
  },
  {
   "cell_type": "markdown",
   "metadata": {
    "id": "bczW8ODQx_7V"
   },
   "source": [
    "To extract structured data (in tabular format) from the PDFs we use a python package called [tabula-py](https://tabula-py.readthedocs.io/en/latest/). This package is a wrapper for a library written in the Java programming language called Tabula. It provides functionality to extract data from pdfs. We also use another python library called PdfFileReader to count the number of pages we need to process. "
   ]
  },
  {
   "cell_type": "code",
   "execution_count": 9,
   "metadata": {
    "executionInfo": {
     "elapsed": 164,
     "status": "ok",
     "timestamp": 1636674654528,
     "user": {
      "displayName": "Michael Dowd",
      "photoUrl": "https://lh3.googleusercontent.com/a/default-user=s64",
      "userId": "00770521119407228668"
     },
     "user_tz": 480
    },
    "id": "sibec158NJWB"
   },
   "outputs": [],
   "source": [
    "# Note below function not generalizable as has hard coded column names\n",
    "def get_table_data(path, data_cols=[\"Post\", \"Visa Class\", \"Issuances\"]):\n",
    "    \"\"\"\n",
    "    Parameters:\n",
    "      path: path to specific PDF file to extract data from\n",
    "      data_cols: what the output data columns should be if usingp processing\n",
    "        the post table it is most likely --> [\"Post\", \"Visa Class\", \"Issuances\"],\n",
    "        if processing the FSC tables it is most likley\n",
    "        [\"FSC\", \"Visa Class\", \"Issuances\"]\n",
    "\n",
    "    Returns:\n",
    "      Pandas dataframe of structured (tabular) data extracted from the PDF\n",
    "      path provided.\n",
    "\n",
    "    Example:\n",
    "      get_table_data(\n",
    "        'data-repo-mvp/visa_test/April 2018 - IV Issuances by FSC or Place of Birth and Visa Class.pdf',\n",
    "        data_cols = [\"FSC\", \"Visa Class\", \"Issuances\"]\n",
    "        )\n",
    "\n",
    "    \"\"\"\n",
    "    # Read the pdf to get basic info on it\n",
    "    pdf = PdfFileReader(path)\n",
    "\n",
    "    # Data Holders\n",
    "    tables = []  # Will hold each individual page of data\n",
    "    full_table = pd.DataFrame(columns=data_cols)  # Will hold the combined data\n",
    "\n",
    "    # Processing PDF - we start with first page and go to the end\n",
    "    start = 1\n",
    "    stop = pdf.getNumPages() + 1\n",
    "    table_num = -1\n",
    "    for i in range(start, stop):\n",
    "        # Extract data from the specific PDF page using Tabula\n",
    "        df = tabula.read_pdf(\n",
    "            path,\n",
    "            pages=f\"{i}\",\n",
    "            lattice=True,\n",
    "            pandas_options={\n",
    "                \"header\": None\n",
    "            },  # none because some have headers and some dont\n",
    "        )[0]\n",
    "\n",
    "        # Edge case error correction  - sometimes fully null extra columns\n",
    "        # are produced by tabula\n",
    "        if df.shape[1] > 3:\n",
    "            full_null = df.isnull().all()\n",
    "            full_null_index = full_null[full_null].index[0]\n",
    "            if full_null_index:\n",
    "                df = df.drop(full_null_index, axis=1)\n",
    "            else:\n",
    "                print(f\"ERROR on portion of table: {path}\")\n",
    "\n",
    "        df.columns = data_cols\n",
    "\n",
    "        # Check if we have  headers or not - if so drop 2 top rows\n",
    "        if not str(df.iloc[1][data_cols][2]).replace(\",\", \"\").isdigit():\n",
    "            # Then drop headers // files sometimes are missing headers on some pages\n",
    "            df = df.loc[2:, :]\n",
    "\n",
    "        # Append this page of data to the full table\n",
    "        full_table = full_table.append(df)\n",
    "\n",
    "    # Clean up and validate the full table\n",
    "    # We validate by comparing the grand total column in the pdf\n",
    "    # to the sum of visas in the extracted table\n",
    "    full_table = full_table.reset_index(drop=True)\n",
    "    grand_total = full_table[\n",
    "        full_table[data_cols[0]].str.upper().str.contains(\"GRAND TOTAL\")\n",
    "    ]\n",
    "    full_table = full_table.drop(grand_total.index, axis=0)\n",
    "\n",
    "    full_table.loc[:, \"Issuances\"] = (\n",
    "        full_table.Issuances.astype(str).str.replace(\",\", \"\").astype(int)\n",
    "    )\n",
    "    table_grand_total = full_table.Issuances.sum()\n",
    "    row_grand_total = int(grand_total.Issuances.sum().replace(\",\", \"\"))\n",
    "\n",
    "    assert (\n",
    "        table_grand_total == row_grand_total\n",
    "    ), f\"Warning - Grand Total Row Does Not Equal Sum of Rows {row_grand_total} vs {table_grand_total}\"\n",
    "    print(\"Data successfully extracted.\")\n",
    "    return full_table\n",
    "\n",
    "\n",
    "def extract_data_for_specific_year_month(pdf_folder_path, year, month, report):\n",
    "    \"\"\"\n",
    "    Helper function that allows you to extract data from a SINGLE PDF by passing\n",
    "    a folder path where pdf files are located and then retrieve a specific pdf based on a\n",
    "    numeric year, named month and report type of either fsc or post being present in the\n",
    "    pdf file name.\n",
    "\n",
    "    Parameters:\n",
    "        pdf_folder: path to folder holding pdfs\n",
    "        year: year of data to extract\n",
    "        month: month of data to extract\n",
    "        report: (options) -->  posts | fsc\n",
    "\n",
    "    Returns:\n",
    "        Pandas dataframe of structured (tabular) data extracted from the PDF\n",
    "      path provided.\n",
    "\n",
    "    Example:\n",
    "        extract_data_for_specific_year_month('visa_test', 2019, 'August', 'fsc')\n",
    "    \"\"\"\n",
    "    pdf_folder = Path(pdf_folder_path)\n",
    "    report = report.lower()\n",
    "    target_filepath = None\n",
    "    data_cols = (\n",
    "        [\"Post\", \"Visa Class\", \"Issuances\"]\n",
    "        if report == \"post\"\n",
    "        else [\"FSC\", \"Visa Class\", \"Issuances\"]\n",
    "    )\n",
    "    for file in pdf_folder.iterdir():\n",
    "        fn = file.name.lower()\n",
    "        if str(year).lower() in fn and str(month).lower() in fn and report in fn:\n",
    "            target_filepath = file\n",
    "            break\n",
    "    if target_filepath and target_filepath.exists():\n",
    "        return get_table_data(str(target_filepath), data_cols=data_cols)\n",
    "\n",
    "\n",
    "def extract_data_from_many_pdfs(pdf_folder_path, start_year, stop_year, report):\n",
    "\n",
    "    \"\"\"\n",
    "    Helper function that allows you to extract data from a MANY PDFs of a single\n",
    "    report type (FSC, POST) by passing  a folder path where pdf files are located\n",
    "    and then retrieve data on all pdfs with in the time range of start year and stop\n",
    "    year and the report type.\n",
    "\n",
    "    Parameters:\n",
    "        pdf_folder (str): path to folder holding pdfs\n",
    "        year (int | str): year of data to extract\n",
    "        month (int | str): month of data to extract\n",
    "        report (str): (options) -->  posts | fsc\n",
    "\n",
    "    Returns:\n",
    "        Pandas dataframe of structured (tabular) data extracted from the PDF\n",
    "      path provided.\n",
    "\n",
    "    Example:\n",
    "        extract_data_for_specific_year_month('visa_test', 2019, 'August', 'fsc')\n",
    "    \"\"\"\n",
    "\n",
    "    months = [\n",
    "        \"January\",\n",
    "        \"February\",\n",
    "        \"March\",\n",
    "        \"April\",\n",
    "        \"May\",\n",
    "        \"June\",\n",
    "        \"July\",\n",
    "        \"August\",\n",
    "        \"September\",\n",
    "        \"October\",\n",
    "        \"November\",\n",
    "        \"December\",\n",
    "    ]\n",
    "\n",
    "    visa_raw_data = []\n",
    "    for year in range(start_year, stop_year + 1):\n",
    "        for month in months:\n",
    "            data = extract_data_for_specific_year_month(pdf_folder_path, year, month, report)\n",
    "            if data is not None:\n",
    "                data[\"source\"] = f\"{year}-{month}\"\n",
    "                visa_raw_data.append(data)\n",
    "                print(year, month, \"- Processed\")\n",
    "            else:\n",
    "                print(year, month, \"- Not Available\")\n",
    "    return pd.concat(visa_raw_data, axis=0)\n",
    "\n"
   ]
  },
  {
   "cell_type": "markdown",
   "metadata": {
    "id": "o1u5kxcElLDd"
   },
   "source": [
    "### Extract data for years "
   ]
  },
  {
   "cell_type": "code",
   "execution_count": 11,
   "metadata": {
    "executionInfo": {
     "elapsed": 159,
     "status": "ok",
     "timestamp": 1636674672745,
     "user": {
      "displayName": "Michael Dowd",
      "photoUrl": "https://lh3.googleusercontent.com/a/default-user=s64",
      "userId": "00770521119407228668"
     },
     "user_tz": 480
    },
    "id": "JP35x-BglQvq"
   },
   "outputs": [],
   "source": [
    "start_year = 2019\n",
    "stop_year = 2021\n",
    "downloaded_data_path = Path(\"./data/raw_source_files/visa_test/\")\n",
    "extracted_data_path = Path(\"./data/extracted_data/\")"
   ]
  },
  {
   "cell_type": "code",
   "execution_count": 12,
   "metadata": {},
   "outputs": [
    {
     "name": "stderr",
     "output_type": "stream",
     "text": [
      "PdfReadWarning: Xref table not zero-indexed. ID numbers for objects will be corrected. [pdf.py:1736]\n"
     ]
    },
    {
     "name": "stdout",
     "output_type": "stream",
     "text": [
      "Data successfully extracted.\n",
      "2019 January - Processed\n"
     ]
    },
    {
     "name": "stderr",
     "output_type": "stream",
     "text": [
      "PdfReadWarning: Xref table not zero-indexed. ID numbers for objects will be corrected. [pdf.py:1736]\n"
     ]
    },
    {
     "name": "stdout",
     "output_type": "stream",
     "text": [
      "Data successfully extracted.\n",
      "2019 February - Processed\n"
     ]
    },
    {
     "name": "stderr",
     "output_type": "stream",
     "text": [
      "PdfReadWarning: Xref table not zero-indexed. ID numbers for objects will be corrected. [pdf.py:1736]\n"
     ]
    },
    {
     "name": "stdout",
     "output_type": "stream",
     "text": [
      "Data successfully extracted.\n",
      "2019 March - Processed\n"
     ]
    },
    {
     "name": "stderr",
     "output_type": "stream",
     "text": [
      "PdfReadWarning: Xref table not zero-indexed. ID numbers for objects will be corrected. [pdf.py:1736]\n"
     ]
    },
    {
     "name": "stdout",
     "output_type": "stream",
     "text": [
      "Data successfully extracted.\n",
      "2019 April - Processed\n"
     ]
    },
    {
     "name": "stderr",
     "output_type": "stream",
     "text": [
      "PdfReadWarning: Xref table not zero-indexed. ID numbers for objects will be corrected. [pdf.py:1736]\n"
     ]
    },
    {
     "name": "stdout",
     "output_type": "stream",
     "text": [
      "Data successfully extracted.\n",
      "2019 May - Processed\n"
     ]
    },
    {
     "name": "stderr",
     "output_type": "stream",
     "text": [
      "PdfReadWarning: Xref table not zero-indexed. ID numbers for objects will be corrected. [pdf.py:1736]\n"
     ]
    },
    {
     "name": "stdout",
     "output_type": "stream",
     "text": [
      "Data successfully extracted.\n",
      "2019 June - Processed\n"
     ]
    },
    {
     "name": "stderr",
     "output_type": "stream",
     "text": [
      "PdfReadWarning: Xref table not zero-indexed. ID numbers for objects will be corrected. [pdf.py:1736]\n"
     ]
    },
    {
     "name": "stdout",
     "output_type": "stream",
     "text": [
      "Data successfully extracted.\n",
      "2019 July - Processed\n"
     ]
    },
    {
     "name": "stderr",
     "output_type": "stream",
     "text": [
      "PdfReadWarning: Xref table not zero-indexed. ID numbers for objects will be corrected. [pdf.py:1736]\n"
     ]
    },
    {
     "name": "stdout",
     "output_type": "stream",
     "text": [
      "Data successfully extracted.\n",
      "2019 August - Processed\n"
     ]
    },
    {
     "name": "stderr",
     "output_type": "stream",
     "text": [
      "PdfReadWarning: Xref table not zero-indexed. ID numbers for objects will be corrected. [pdf.py:1736]\n"
     ]
    },
    {
     "name": "stdout",
     "output_type": "stream",
     "text": [
      "Data successfully extracted.\n",
      "2019 September - Processed\n"
     ]
    },
    {
     "name": "stderr",
     "output_type": "stream",
     "text": [
      "PdfReadWarning: Xref table not zero-indexed. ID numbers for objects will be corrected. [pdf.py:1736]\n"
     ]
    },
    {
     "name": "stdout",
     "output_type": "stream",
     "text": [
      "Data successfully extracted.\n",
      "2019 October - Processed\n"
     ]
    },
    {
     "name": "stderr",
     "output_type": "stream",
     "text": [
      "PdfReadWarning: Xref table not zero-indexed. ID numbers for objects will be corrected. [pdf.py:1736]\n"
     ]
    },
    {
     "name": "stdout",
     "output_type": "stream",
     "text": [
      "Data successfully extracted.\n",
      "2019 November - Processed\n"
     ]
    },
    {
     "name": "stderr",
     "output_type": "stream",
     "text": [
      "PdfReadWarning: Xref table not zero-indexed. ID numbers for objects will be corrected. [pdf.py:1736]\n"
     ]
    },
    {
     "name": "stdout",
     "output_type": "stream",
     "text": [
      "Data successfully extracted.\n",
      "2019 December - Processed\n"
     ]
    },
    {
     "name": "stderr",
     "output_type": "stream",
     "text": [
      "PdfReadWarning: Xref table not zero-indexed. ID numbers for objects will be corrected. [pdf.py:1736]\n"
     ]
    },
    {
     "name": "stdout",
     "output_type": "stream",
     "text": [
      "Data successfully extracted.\n",
      "2020 January - Processed\n"
     ]
    },
    {
     "name": "stderr",
     "output_type": "stream",
     "text": [
      "PdfReadWarning: Xref table not zero-indexed. ID numbers for objects will be corrected. [pdf.py:1736]\n"
     ]
    },
    {
     "name": "stdout",
     "output_type": "stream",
     "text": [
      "Data successfully extracted.\n",
      "2020 February - Processed\n"
     ]
    },
    {
     "name": "stderr",
     "output_type": "stream",
     "text": [
      "PdfReadWarning: Xref table not zero-indexed. ID numbers for objects will be corrected. [pdf.py:1736]\n"
     ]
    },
    {
     "name": "stdout",
     "output_type": "stream",
     "text": [
      "Data successfully extracted.\n",
      "2020 March - Processed\n"
     ]
    },
    {
     "name": "stderr",
     "output_type": "stream",
     "text": [
      "PdfReadWarning: Xref table not zero-indexed. ID numbers for objects will be corrected. [pdf.py:1736]\n"
     ]
    },
    {
     "name": "stdout",
     "output_type": "stream",
     "text": [
      "Data successfully extracted.\n",
      "2020 April - Processed\n"
     ]
    },
    {
     "name": "stderr",
     "output_type": "stream",
     "text": [
      "PdfReadWarning: Xref table not zero-indexed. ID numbers for objects will be corrected. [pdf.py:1736]\n"
     ]
    },
    {
     "name": "stdout",
     "output_type": "stream",
     "text": [
      "Data successfully extracted.\n",
      "2020 May - Processed\n"
     ]
    },
    {
     "name": "stderr",
     "output_type": "stream",
     "text": [
      "PdfReadWarning: Xref table not zero-indexed. ID numbers for objects will be corrected. [pdf.py:1736]\n"
     ]
    },
    {
     "name": "stdout",
     "output_type": "stream",
     "text": [
      "Data successfully extracted.\n",
      "2020 June - Processed\n"
     ]
    },
    {
     "name": "stderr",
     "output_type": "stream",
     "text": [
      "PdfReadWarning: Xref table not zero-indexed. ID numbers for objects will be corrected. [pdf.py:1736]\n"
     ]
    },
    {
     "name": "stdout",
     "output_type": "stream",
     "text": [
      "Data successfully extracted.\n",
      "2020 July - Processed\n"
     ]
    },
    {
     "name": "stderr",
     "output_type": "stream",
     "text": [
      "PdfReadWarning: Xref table not zero-indexed. ID numbers for objects will be corrected. [pdf.py:1736]\n"
     ]
    },
    {
     "name": "stdout",
     "output_type": "stream",
     "text": [
      "Data successfully extracted.\n",
      "2020 August - Processed\n"
     ]
    },
    {
     "name": "stderr",
     "output_type": "stream",
     "text": [
      "PdfReadWarning: Xref table not zero-indexed. ID numbers for objects will be corrected. [pdf.py:1736]\n"
     ]
    },
    {
     "name": "stdout",
     "output_type": "stream",
     "text": [
      "Data successfully extracted.\n",
      "2020 September - Processed\n"
     ]
    },
    {
     "name": "stderr",
     "output_type": "stream",
     "text": [
      "PdfReadWarning: Xref table not zero-indexed. ID numbers for objects will be corrected. [pdf.py:1736]\n"
     ]
    },
    {
     "name": "stdout",
     "output_type": "stream",
     "text": [
      "Data successfully extracted.\n",
      "2020 October - Processed\n"
     ]
    },
    {
     "name": "stderr",
     "output_type": "stream",
     "text": [
      "PdfReadWarning: Xref table not zero-indexed. ID numbers for objects will be corrected. [pdf.py:1736]\n"
     ]
    },
    {
     "name": "stdout",
     "output_type": "stream",
     "text": [
      "Data successfully extracted.\n",
      "2020 November - Processed\n"
     ]
    },
    {
     "name": "stderr",
     "output_type": "stream",
     "text": [
      "PdfReadWarning: Xref table not zero-indexed. ID numbers for objects will be corrected. [pdf.py:1736]\n"
     ]
    },
    {
     "name": "stdout",
     "output_type": "stream",
     "text": [
      "Data successfully extracted.\n",
      "2020 December - Processed\n"
     ]
    },
    {
     "name": "stderr",
     "output_type": "stream",
     "text": [
      "PdfReadWarning: Xref table not zero-indexed. ID numbers for objects will be corrected. [pdf.py:1736]\n"
     ]
    },
    {
     "name": "stdout",
     "output_type": "stream",
     "text": [
      "Data successfully extracted.\n",
      "2021 January - Processed\n",
      "Data successfully extracted.\n",
      "2021 February - Processed\n",
      "Data successfully extracted.\n",
      "2021 March - Processed\n"
     ]
    },
    {
     "name": "stderr",
     "output_type": "stream",
     "text": [
      "PdfReadWarning: Superfluous whitespace found in object header b'1' b'0' [pdf.py:1665]\n",
      "PdfReadWarning: Superfluous whitespace found in object header b'2' b'0' [pdf.py:1665]\n",
      "PdfReadWarning: Superfluous whitespace found in object header b'3' b'0' [pdf.py:1665]\n",
      "PdfReadWarning: Superfluous whitespace found in object header b'30' b'0' [pdf.py:1665]\n",
      "PdfReadWarning: Superfluous whitespace found in object header b'33' b'0' [pdf.py:1665]\n",
      "PdfReadWarning: Superfluous whitespace found in object header b'36' b'0' [pdf.py:1665]\n",
      "PdfReadWarning: Superfluous whitespace found in object header b'39' b'0' [pdf.py:1665]\n",
      "PdfReadWarning: Superfluous whitespace found in object header b'42' b'0' [pdf.py:1665]\n",
      "PdfReadWarning: Superfluous whitespace found in object header b'45' b'0' [pdf.py:1665]\n",
      "PdfReadWarning: Superfluous whitespace found in object header b'48' b'0' [pdf.py:1665]\n",
      "PdfReadWarning: Superfluous whitespace found in object header b'51' b'0' [pdf.py:1665]\n",
      "PdfReadWarning: Superfluous whitespace found in object header b'54' b'0' [pdf.py:1665]\n",
      "PdfReadWarning: Superfluous whitespace found in object header b'57' b'0' [pdf.py:1665]\n",
      "PdfReadWarning: Superfluous whitespace found in object header b'60' b'0' [pdf.py:1665]\n",
      "PdfReadWarning: Superfluous whitespace found in object header b'63' b'0' [pdf.py:1665]\n",
      "PdfReadWarning: Superfluous whitespace found in object header b'66' b'0' [pdf.py:1665]\n",
      "PdfReadWarning: Superfluous whitespace found in object header b'69' b'0' [pdf.py:1665]\n",
      "PdfReadWarning: Superfluous whitespace found in object header b'72' b'0' [pdf.py:1665]\n",
      "PdfReadWarning: Superfluous whitespace found in object header b'75' b'0' [pdf.py:1665]\n",
      "PdfReadWarning: Superfluous whitespace found in object header b'78' b'0' [pdf.py:1665]\n",
      "PdfReadWarning: Superfluous whitespace found in object header b'81' b'0' [pdf.py:1665]\n",
      "PdfReadWarning: Superfluous whitespace found in object header b'84' b'0' [pdf.py:1665]\n",
      "PdfReadWarning: Superfluous whitespace found in object header b'87' b'0' [pdf.py:1665]\n",
      "PdfReadWarning: Superfluous whitespace found in object header b'90' b'0' [pdf.py:1665]\n",
      "PdfReadWarning: Superfluous whitespace found in object header b'93' b'0' [pdf.py:1665]\n",
      "PdfReadWarning: Superfluous whitespace found in object header b'96' b'0' [pdf.py:1665]\n",
      "PdfReadWarning: Superfluous whitespace found in object header b'99' b'0' [pdf.py:1665]\n",
      "PdfReadWarning: Superfluous whitespace found in object header b'102' b'0' [pdf.py:1665]\n",
      "PdfReadWarning: Superfluous whitespace found in object header b'105' b'0' [pdf.py:1665]\n",
      "PdfReadWarning: Superfluous whitespace found in object header b'108' b'0' [pdf.py:1665]\n"
     ]
    },
    {
     "name": "stdout",
     "output_type": "stream",
     "text": [
      "Data successfully extracted.\n",
      "2021 April - Processed\n"
     ]
    },
    {
     "name": "stderr",
     "output_type": "stream",
     "text": [
      "PdfReadWarning: Xref table not zero-indexed. ID numbers for objects will be corrected. [pdf.py:1736]\n"
     ]
    },
    {
     "name": "stdout",
     "output_type": "stream",
     "text": [
      "Data successfully extracted.\n",
      "2021 May - Processed\n"
     ]
    },
    {
     "name": "stderr",
     "output_type": "stream",
     "text": [
      "PdfReadWarning: Xref table not zero-indexed. ID numbers for objects will be corrected. [pdf.py:1736]\n"
     ]
    },
    {
     "name": "stdout",
     "output_type": "stream",
     "text": [
      "Data successfully extracted.\n",
      "2021 June - Processed\n"
     ]
    },
    {
     "name": "stderr",
     "output_type": "stream",
     "text": [
      "PdfReadWarning: Xref table not zero-indexed. ID numbers for objects will be corrected. [pdf.py:1736]\n"
     ]
    },
    {
     "name": "stdout",
     "output_type": "stream",
     "text": [
      "Data successfully extracted.\n",
      "2021 July - Processed\n"
     ]
    },
    {
     "name": "stderr",
     "output_type": "stream",
     "text": [
      "PdfReadWarning: Xref table not zero-indexed. ID numbers for objects will be corrected. [pdf.py:1736]\n"
     ]
    },
    {
     "name": "stdout",
     "output_type": "stream",
     "text": [
      "Data successfully extracted.\n",
      "2021 August - Processed\n"
     ]
    },
    {
     "name": "stderr",
     "output_type": "stream",
     "text": [
      "PdfReadWarning: Xref table not zero-indexed. ID numbers for objects will be corrected. [pdf.py:1736]\n"
     ]
    },
    {
     "name": "stdout",
     "output_type": "stream",
     "text": [
      "Data successfully extracted.\n",
      "2021 September - Processed\n",
      "2021 October - Not Available\n",
      "2021 November - Not Available\n",
      "2021 December - Not Available\n"
     ]
    }
   ],
   "source": [
    "posts_data_2019_2021 = extract_data_from_many_pdfs(\n",
    "    downloaded_data_path, 2019, 2021, \"post\"\n",
    ")"
   ]
  },
  {
   "cell_type": "code",
   "execution_count": 13,
   "metadata": {},
   "outputs": [],
   "source": [
    "posts_data_2019_2021.to_csv('./data/extracted_data/state-dept/raw_posts_extract-nov2021.csv')"
   ]
  },
  {
   "cell_type": "code",
   "execution_count": 15,
   "metadata": {
    "colab": {
     "base_uri": "https://localhost:8080/"
    },
    "executionInfo": {
     "elapsed": 518077,
     "status": "ok",
     "timestamp": 1636675194811,
     "user": {
      "displayName": "Michael Dowd",
      "photoUrl": "https://lh3.googleusercontent.com/a/default-user=s64",
      "userId": "00770521119407228668"
     },
     "user_tz": 480
    },
    "id": "CYnWZs8hexkO",
    "outputId": "2d7af050-c492-4a67-bc3f-29dcc25dc675",
    "scrolled": true
   },
   "outputs": [
    {
     "name": "stderr",
     "output_type": "stream",
     "text": [
      "PdfReadWarning: Xref table not zero-indexed. ID numbers for objects will be corrected. [pdf.py:1736]\n"
     ]
    },
    {
     "name": "stdout",
     "output_type": "stream",
     "text": [
      "Data successfully extracted.\n",
      "2019 January - Processed\n"
     ]
    },
    {
     "name": "stderr",
     "output_type": "stream",
     "text": [
      "PdfReadWarning: Xref table not zero-indexed. ID numbers for objects will be corrected. [pdf.py:1736]\n"
     ]
    },
    {
     "name": "stdout",
     "output_type": "stream",
     "text": [
      "Data successfully extracted.\n",
      "2019 February - Processed\n"
     ]
    },
    {
     "name": "stderr",
     "output_type": "stream",
     "text": [
      "PdfReadWarning: Xref table not zero-indexed. ID numbers for objects will be corrected. [pdf.py:1736]\n"
     ]
    },
    {
     "name": "stdout",
     "output_type": "stream",
     "text": [
      "Data successfully extracted.\n",
      "2019 March - Processed\n"
     ]
    },
    {
     "name": "stderr",
     "output_type": "stream",
     "text": [
      "PdfReadWarning: Xref table not zero-indexed. ID numbers for objects will be corrected. [pdf.py:1736]\n"
     ]
    },
    {
     "name": "stdout",
     "output_type": "stream",
     "text": [
      "Data successfully extracted.\n",
      "2019 April - Processed\n"
     ]
    },
    {
     "name": "stderr",
     "output_type": "stream",
     "text": [
      "PdfReadWarning: Xref table not zero-indexed. ID numbers for objects will be corrected. [pdf.py:1736]\n"
     ]
    },
    {
     "name": "stdout",
     "output_type": "stream",
     "text": [
      "Data successfully extracted.\n",
      "2019 May - Processed\n"
     ]
    },
    {
     "name": "stderr",
     "output_type": "stream",
     "text": [
      "PdfReadWarning: Xref table not zero-indexed. ID numbers for objects will be corrected. [pdf.py:1736]\n"
     ]
    },
    {
     "name": "stdout",
     "output_type": "stream",
     "text": [
      "Data successfully extracted.\n",
      "2019 June - Processed\n"
     ]
    },
    {
     "name": "stderr",
     "output_type": "stream",
     "text": [
      "PdfReadWarning: Xref table not zero-indexed. ID numbers for objects will be corrected. [pdf.py:1736]\n"
     ]
    },
    {
     "name": "stdout",
     "output_type": "stream",
     "text": [
      "Data successfully extracted.\n",
      "2019 July - Processed\n"
     ]
    },
    {
     "name": "stderr",
     "output_type": "stream",
     "text": [
      "PdfReadWarning: Xref table not zero-indexed. ID numbers for objects will be corrected. [pdf.py:1736]\n"
     ]
    },
    {
     "name": "stdout",
     "output_type": "stream",
     "text": [
      "Data successfully extracted.\n",
      "2019 August - Processed\n"
     ]
    },
    {
     "name": "stderr",
     "output_type": "stream",
     "text": [
      "PdfReadWarning: Xref table not zero-indexed. ID numbers for objects will be corrected. [pdf.py:1736]\n"
     ]
    },
    {
     "name": "stdout",
     "output_type": "stream",
     "text": [
      "Data successfully extracted.\n",
      "2019 September - Processed\n"
     ]
    },
    {
     "name": "stderr",
     "output_type": "stream",
     "text": [
      "PdfReadWarning: Xref table not zero-indexed. ID numbers for objects will be corrected. [pdf.py:1736]\n"
     ]
    },
    {
     "name": "stdout",
     "output_type": "stream",
     "text": [
      "Data successfully extracted.\n",
      "2019 October - Processed\n"
     ]
    },
    {
     "name": "stderr",
     "output_type": "stream",
     "text": [
      "PdfReadWarning: Xref table not zero-indexed. ID numbers for objects will be corrected. [pdf.py:1736]\n"
     ]
    },
    {
     "name": "stdout",
     "output_type": "stream",
     "text": [
      "Data successfully extracted.\n",
      "2019 November - Processed\n"
     ]
    },
    {
     "name": "stderr",
     "output_type": "stream",
     "text": [
      "PdfReadWarning: Xref table not zero-indexed. ID numbers for objects will be corrected. [pdf.py:1736]\n"
     ]
    },
    {
     "name": "stdout",
     "output_type": "stream",
     "text": [
      "Data successfully extracted.\n",
      "2019 December - Processed\n"
     ]
    },
    {
     "name": "stderr",
     "output_type": "stream",
     "text": [
      "PdfReadWarning: Xref table not zero-indexed. ID numbers for objects will be corrected. [pdf.py:1736]\n"
     ]
    },
    {
     "name": "stdout",
     "output_type": "stream",
     "text": [
      "Data successfully extracted.\n",
      "2020 January - Processed\n"
     ]
    },
    {
     "name": "stderr",
     "output_type": "stream",
     "text": [
      "PdfReadWarning: Xref table not zero-indexed. ID numbers for objects will be corrected. [pdf.py:1736]\n"
     ]
    },
    {
     "name": "stdout",
     "output_type": "stream",
     "text": [
      "Data successfully extracted.\n",
      "2020 February - Processed\n"
     ]
    },
    {
     "name": "stderr",
     "output_type": "stream",
     "text": [
      "PdfReadWarning: Xref table not zero-indexed. ID numbers for objects will be corrected. [pdf.py:1736]\n"
     ]
    },
    {
     "name": "stdout",
     "output_type": "stream",
     "text": [
      "Data successfully extracted.\n",
      "2020 March - Processed\n"
     ]
    },
    {
     "name": "stderr",
     "output_type": "stream",
     "text": [
      "PdfReadWarning: Xref table not zero-indexed. ID numbers for objects will be corrected. [pdf.py:1736]\n"
     ]
    },
    {
     "name": "stdout",
     "output_type": "stream",
     "text": [
      "Data successfully extracted.\n",
      "2020 April - Processed\n"
     ]
    },
    {
     "name": "stderr",
     "output_type": "stream",
     "text": [
      "PdfReadWarning: Xref table not zero-indexed. ID numbers for objects will be corrected. [pdf.py:1736]\n"
     ]
    },
    {
     "name": "stdout",
     "output_type": "stream",
     "text": [
      "Data successfully extracted.\n",
      "2020 May - Processed\n"
     ]
    },
    {
     "name": "stderr",
     "output_type": "stream",
     "text": [
      "PdfReadWarning: Xref table not zero-indexed. ID numbers for objects will be corrected. [pdf.py:1736]\n"
     ]
    },
    {
     "name": "stdout",
     "output_type": "stream",
     "text": [
      "Data successfully extracted.\n",
      "2020 June - Processed\n"
     ]
    },
    {
     "name": "stderr",
     "output_type": "stream",
     "text": [
      "PdfReadWarning: Xref table not zero-indexed. ID numbers for objects will be corrected. [pdf.py:1736]\n"
     ]
    },
    {
     "name": "stdout",
     "output_type": "stream",
     "text": [
      "Data successfully extracted.\n",
      "2020 July - Processed\n"
     ]
    },
    {
     "name": "stderr",
     "output_type": "stream",
     "text": [
      "PdfReadWarning: Xref table not zero-indexed. ID numbers for objects will be corrected. [pdf.py:1736]\n"
     ]
    },
    {
     "name": "stdout",
     "output_type": "stream",
     "text": [
      "Data successfully extracted.\n",
      "2020 August - Processed\n"
     ]
    },
    {
     "name": "stderr",
     "output_type": "stream",
     "text": [
      "PdfReadWarning: Xref table not zero-indexed. ID numbers for objects will be corrected. [pdf.py:1736]\n"
     ]
    },
    {
     "name": "stdout",
     "output_type": "stream",
     "text": [
      "Data successfully extracted.\n",
      "2020 September - Processed\n"
     ]
    },
    {
     "name": "stderr",
     "output_type": "stream",
     "text": [
      "PdfReadWarning: Xref table not zero-indexed. ID numbers for objects will be corrected. [pdf.py:1736]\n"
     ]
    },
    {
     "name": "stdout",
     "output_type": "stream",
     "text": [
      "Data successfully extracted.\n",
      "2020 October - Processed\n"
     ]
    },
    {
     "name": "stderr",
     "output_type": "stream",
     "text": [
      "PdfReadWarning: Xref table not zero-indexed. ID numbers for objects will be corrected. [pdf.py:1736]\n"
     ]
    },
    {
     "name": "stdout",
     "output_type": "stream",
     "text": [
      "Data successfully extracted.\n",
      "2020 November - Processed\n"
     ]
    },
    {
     "name": "stderr",
     "output_type": "stream",
     "text": [
      "PdfReadWarning: Xref table not zero-indexed. ID numbers for objects will be corrected. [pdf.py:1736]\n"
     ]
    },
    {
     "name": "stdout",
     "output_type": "stream",
     "text": [
      "Data successfully extracted.\n",
      "2020 December - Processed\n"
     ]
    },
    {
     "name": "stderr",
     "output_type": "stream",
     "text": [
      "PdfReadWarning: Xref table not zero-indexed. ID numbers for objects will be corrected. [pdf.py:1736]\n"
     ]
    },
    {
     "name": "stdout",
     "output_type": "stream",
     "text": [
      "Data successfully extracted.\n",
      "2021 January - Processed\n",
      "Data successfully extracted.\n",
      "2021 February - Processed\n",
      "Data successfully extracted.\n",
      "2021 March - Processed\n"
     ]
    },
    {
     "name": "stderr",
     "output_type": "stream",
     "text": [
      "PdfReadWarning: Superfluous whitespace found in object header b'1' b'0' [pdf.py:1665]\n",
      "PdfReadWarning: Superfluous whitespace found in object header b'2' b'0' [pdf.py:1665]\n",
      "PdfReadWarning: Superfluous whitespace found in object header b'3' b'0' [pdf.py:1665]\n",
      "PdfReadWarning: Superfluous whitespace found in object header b'30' b'0' [pdf.py:1665]\n",
      "PdfReadWarning: Superfluous whitespace found in object header b'33' b'0' [pdf.py:1665]\n",
      "PdfReadWarning: Superfluous whitespace found in object header b'36' b'0' [pdf.py:1665]\n",
      "PdfReadWarning: Superfluous whitespace found in object header b'39' b'0' [pdf.py:1665]\n",
      "PdfReadWarning: Superfluous whitespace found in object header b'42' b'0' [pdf.py:1665]\n",
      "PdfReadWarning: Superfluous whitespace found in object header b'45' b'0' [pdf.py:1665]\n",
      "PdfReadWarning: Superfluous whitespace found in object header b'48' b'0' [pdf.py:1665]\n",
      "PdfReadWarning: Superfluous whitespace found in object header b'51' b'0' [pdf.py:1665]\n",
      "PdfReadWarning: Superfluous whitespace found in object header b'54' b'0' [pdf.py:1665]\n",
      "PdfReadWarning: Superfluous whitespace found in object header b'57' b'0' [pdf.py:1665]\n",
      "PdfReadWarning: Superfluous whitespace found in object header b'60' b'0' [pdf.py:1665]\n",
      "PdfReadWarning: Superfluous whitespace found in object header b'63' b'0' [pdf.py:1665]\n",
      "PdfReadWarning: Superfluous whitespace found in object header b'66' b'0' [pdf.py:1665]\n",
      "PdfReadWarning: Superfluous whitespace found in object header b'69' b'0' [pdf.py:1665]\n",
      "PdfReadWarning: Superfluous whitespace found in object header b'72' b'0' [pdf.py:1665]\n",
      "PdfReadWarning: Superfluous whitespace found in object header b'75' b'0' [pdf.py:1665]\n",
      "PdfReadWarning: Superfluous whitespace found in object header b'78' b'0' [pdf.py:1665]\n",
      "PdfReadWarning: Superfluous whitespace found in object header b'81' b'0' [pdf.py:1665]\n",
      "PdfReadWarning: Superfluous whitespace found in object header b'84' b'0' [pdf.py:1665]\n",
      "PdfReadWarning: Superfluous whitespace found in object header b'87' b'0' [pdf.py:1665]\n",
      "PdfReadWarning: Superfluous whitespace found in object header b'90' b'0' [pdf.py:1665]\n",
      "PdfReadWarning: Superfluous whitespace found in object header b'93' b'0' [pdf.py:1665]\n",
      "PdfReadWarning: Superfluous whitespace found in object header b'96' b'0' [pdf.py:1665]\n",
      "PdfReadWarning: Superfluous whitespace found in object header b'99' b'0' [pdf.py:1665]\n",
      "PdfReadWarning: Superfluous whitespace found in object header b'102' b'0' [pdf.py:1665]\n",
      "PdfReadWarning: Superfluous whitespace found in object header b'105' b'0' [pdf.py:1665]\n",
      "PdfReadWarning: Superfluous whitespace found in object header b'108' b'0' [pdf.py:1665]\n",
      "PdfReadWarning: Superfluous whitespace found in object header b'111' b'0' [pdf.py:1665]\n",
      "PdfReadWarning: Superfluous whitespace found in object header b'114' b'0' [pdf.py:1665]\n",
      "PdfReadWarning: Superfluous whitespace found in object header b'117' b'0' [pdf.py:1665]\n",
      "PdfReadWarning: Superfluous whitespace found in object header b'120' b'0' [pdf.py:1665]\n",
      "PdfReadWarning: Superfluous whitespace found in object header b'123' b'0' [pdf.py:1665]\n",
      "PdfReadWarning: Superfluous whitespace found in object header b'126' b'0' [pdf.py:1665]\n",
      "PdfReadWarning: Superfluous whitespace found in object header b'129' b'0' [pdf.py:1665]\n"
     ]
    },
    {
     "name": "stdout",
     "output_type": "stream",
     "text": [
      "Data successfully extracted.\n",
      "2021 April - Processed\n"
     ]
    },
    {
     "name": "stderr",
     "output_type": "stream",
     "text": [
      "PdfReadWarning: Xref table not zero-indexed. ID numbers for objects will be corrected. [pdf.py:1736]\n"
     ]
    },
    {
     "name": "stdout",
     "output_type": "stream",
     "text": [
      "Data successfully extracted.\n",
      "2021 May - Processed\n"
     ]
    },
    {
     "name": "stderr",
     "output_type": "stream",
     "text": [
      "PdfReadWarning: Xref table not zero-indexed. ID numbers for objects will be corrected. [pdf.py:1736]\n"
     ]
    },
    {
     "name": "stdout",
     "output_type": "stream",
     "text": [
      "Data successfully extracted.\n",
      "2021 June - Processed\n"
     ]
    },
    {
     "name": "stderr",
     "output_type": "stream",
     "text": [
      "PdfReadWarning: Xref table not zero-indexed. ID numbers for objects will be corrected. [pdf.py:1736]\n"
     ]
    },
    {
     "name": "stdout",
     "output_type": "stream",
     "text": [
      "Data successfully extracted.\n",
      "2021 July - Processed\n"
     ]
    },
    {
     "name": "stderr",
     "output_type": "stream",
     "text": [
      "PdfReadWarning: Xref table not zero-indexed. ID numbers for objects will be corrected. [pdf.py:1736]\n"
     ]
    },
    {
     "name": "stdout",
     "output_type": "stream",
     "text": [
      "Data successfully extracted.\n",
      "2021 August - Processed\n"
     ]
    },
    {
     "name": "stderr",
     "output_type": "stream",
     "text": [
      "PdfReadWarning: Xref table not zero-indexed. ID numbers for objects will be corrected. [pdf.py:1736]\n"
     ]
    },
    {
     "name": "stdout",
     "output_type": "stream",
     "text": [
      "Data successfully extracted.\n",
      "2021 September - Processed\n",
      "2021 October - Not Available\n",
      "2021 November - Not Available\n",
      "2021 December - Not Available\n"
     ]
    }
   ],
   "source": [
    "fsc_data_2019_2021 = extract_data_from_many_pdfs(\n",
    "    downloaded_data_path, 2019, 2021, \"fsc\"\n",
    ")"
   ]
  },
  {
   "cell_type": "code",
   "execution_count": 16,
   "metadata": {},
   "outputs": [],
   "source": [
    "fsc_data_2019_2021.to_csv('./data/extracted_data/state-dept/raw_fsc_extract-nov2021.csv')"
   ]
  },
  {
   "cell_type": "markdown",
   "metadata": {
    "id": "jna9XGoPexkO"
   },
   "source": [
    "------------"
   ]
  },
  {
   "cell_type": "markdown",
   "metadata": {
    "id": "Wz1Axf1vexkO"
   },
   "source": [
    "## Analyze / Summarize Data "
   ]
  },
  {
   "cell_type": "markdown",
   "metadata": {
    "id": "5KQY0b_fexkO"
   },
   "source": [
    "**Summarizing Functions**"
   ]
  },
  {
   "cell_type": "code",
   "execution_count": null,
   "metadata": {
    "executionInfo": {
     "elapsed": 11,
     "status": "aborted",
     "timestamp": 1635790864169,
     "user": {
      "displayName": "Michael Dowd",
      "photoUrl": "https://lh3.googleusercontent.com/a/default-user=s64",
      "userId": "00770521119407228668"
     },
     "user_tz": 420
    },
    "id": "YuQjQup4nY_L",
    "outputId": "a876f1b4-3ebf-4cb7-a74b-23cec81bbc03"
   },
   "outputs": [
    {
     "data": {
      "application/javascript": [
       "\n",
       "            setTimeout(function() {\n",
       "                var nbb_cell_id = 14;\n",
       "                var nbb_unformatted_code = \"\\ndef summarize_by_visa_class(df):\\n    \\\"\\\"\\\"\\n    Summarizes a single dataframe of visa issuance data by visa class\\n\\n    Parameters:\\n        df (pd.DataFrame): Pandas dataframe of visa issuance data, either FSC or POST data\\n\\n    Returns:\\n        Pandas dataframe with the total number of visas issued by each visa class.\\n\\n    Example:\\n        summarize_by_visa_class(df)\\n    \\\"\\\"\\\"\\n    df[\\\"vc\\\"] = df[\\\"Visa Class\\\"]\\n    out = df.groupby(\\\"vc\\\")[\\\"Issuances\\\"].sum()\\n    out.name = df.source.unique()[0]\\n    return out\";\n",
       "                var nbb_formatted_code = \"def summarize_by_visa_class(df):\\n    \\\"\\\"\\\"\\n    Summarizes a single dataframe of visa issuance data by visa class\\n\\n    Parameters:\\n        df (pd.DataFrame): Pandas dataframe of visa issuance data, either FSC or POST data\\n\\n    Returns:\\n        Pandas dataframe with the total number of visas issued by each visa class.\\n\\n    Example:\\n        summarize_by_visa_class(df)\\n    \\\"\\\"\\\"\\n    df[\\\"vc\\\"] = df[\\\"Visa Class\\\"]\\n    out = df.groupby(\\\"vc\\\")[\\\"Issuances\\\"].sum()\\n    out.name = df.source.unique()[0]\\n    return out\";\n",
       "                var nbb_cells = Jupyter.notebook.get_cells();\n",
       "                for (var i = 0; i < nbb_cells.length; ++i) {\n",
       "                    if (nbb_cells[i].input_prompt_number == nbb_cell_id) {\n",
       "                        if (nbb_cells[i].get_text() == nbb_unformatted_code) {\n",
       "                             nbb_cells[i].set_text(nbb_formatted_code);\n",
       "                        }\n",
       "                        break;\n",
       "                    }\n",
       "                }\n",
       "            }, 500);\n",
       "            "
      ],
      "text/plain": [
       "<IPython.core.display.Javascript object>"
      ]
     },
     "metadata": {},
     "output_type": "display_data"
    }
   ],
   "source": [
    "def summarize_by_visa_class(df):\n",
    "    \"\"\"\n",
    "    Summarizes a single dataframe of visa issuance data by visa class\n",
    "\n",
    "    Parameters:\n",
    "        df (pd.DataFrame): Pandas dataframe of visa issuance data, either FSC or POST data\n",
    "\n",
    "    Returns:\n",
    "        Pandas dataframe with the total number of visas issued by each visa class.\n",
    "\n",
    "    Example:\n",
    "        summarize_by_visa_class(df)\n",
    "    \"\"\"\n",
    "    df[\"vc\"] = df[\"Visa Class\"]\n",
    "    out = df.groupby(\"vc\")[\"Issuances\"].sum()\n",
    "    out.name = df.source.unique()[0]\n",
    "    return out"
   ]
  },
  {
   "cell_type": "markdown",
   "metadata": {
    "id": "fEf2d9L3exkP"
   },
   "source": [
    "### Example 1: Get total visas by visa class per month"
   ]
  },
  {
   "cell_type": "code",
   "execution_count": null,
   "metadata": {
    "id": "2bcVBGqOexkP",
    "outputId": "231dc96f-ac68-451f-e368-477db8ff0071"
   },
   "outputs": [
    {
     "data": {
      "application/javascript": [
       "\n",
       "            setTimeout(function() {\n",
       "                var nbb_cell_id = 51;\n",
       "                var nbb_unformatted_code = \"fsc_data_2019_2021.source = pd.to_datetime(fsc_data_2019_2021.source)\";\n",
       "                var nbb_formatted_code = \"fsc_data_2019_2021.source = pd.to_datetime(fsc_data_2019_2021.source)\";\n",
       "                var nbb_cells = Jupyter.notebook.get_cells();\n",
       "                for (var i = 0; i < nbb_cells.length; ++i) {\n",
       "                    if (nbb_cells[i].input_prompt_number == nbb_cell_id) {\n",
       "                        if (nbb_cells[i].get_text() == nbb_unformatted_code) {\n",
       "                             nbb_cells[i].set_text(nbb_formatted_code);\n",
       "                        }\n",
       "                        break;\n",
       "                    }\n",
       "                }\n",
       "            }, 500);\n",
       "            "
      ],
      "text/plain": [
       "<IPython.core.display.Javascript object>"
      ]
     },
     "metadata": {},
     "output_type": "display_data"
    }
   ],
   "source": [
    "fsc_data_2019_2021.source = pd.to_datetime(fsc_data_2019_2021.source)"
   ]
  },
  {
   "cell_type": "code",
   "execution_count": null,
   "metadata": {
    "id": "OI2sljAIexkP",
    "outputId": "d569c0ca-16b8-4be7-cd4c-89cd863c3764"
   },
   "outputs": [
    {
     "data": {
      "application/javascript": [
       "\n",
       "            setTimeout(function() {\n",
       "                var nbb_cell_id = 52;\n",
       "                var nbb_unformatted_code = \"summed_by_yearmonth_and_class = (\\n    fsc_data_2019_2021.groupby([\\\"source\\\", \\\"Visa Class\\\"]).sum().reset_index()\\n)\";\n",
       "                var nbb_formatted_code = \"summed_by_yearmonth_and_class = (\\n    fsc_data_2019_2021.groupby([\\\"source\\\", \\\"Visa Class\\\"]).sum().reset_index()\\n)\";\n",
       "                var nbb_cells = Jupyter.notebook.get_cells();\n",
       "                for (var i = 0; i < nbb_cells.length; ++i) {\n",
       "                    if (nbb_cells[i].input_prompt_number == nbb_cell_id) {\n",
       "                        if (nbb_cells[i].get_text() == nbb_unformatted_code) {\n",
       "                             nbb_cells[i].set_text(nbb_formatted_code);\n",
       "                        }\n",
       "                        break;\n",
       "                    }\n",
       "                }\n",
       "            }, 500);\n",
       "            "
      ],
      "text/plain": [
       "<IPython.core.display.Javascript object>"
      ]
     },
     "metadata": {},
     "output_type": "display_data"
    }
   ],
   "source": [
    "summed_by_yearmonth_and_class = (\n",
    "    fsc_data_2019_2021.groupby([\"source\", \"Visa Class\"]).sum().reset_index()\n",
    ")"
   ]
  },
  {
   "cell_type": "code",
   "execution_count": null,
   "metadata": {
    "id": "57ZEQRj8exkQ",
    "outputId": "7cbfbe0e-3201-47ab-88f1-cd0b4e947cb8"
   },
   "outputs": [
    {
     "data": {
      "text/html": [
       "<div>\n",
       "<style scoped>\n",
       "    .dataframe tbody tr th:only-of-type {\n",
       "        vertical-align: middle;\n",
       "    }\n",
       "\n",
       "    .dataframe tbody tr th {\n",
       "        vertical-align: top;\n",
       "    }\n",
       "\n",
       "    .dataframe thead th {\n",
       "        text-align: right;\n",
       "    }\n",
       "</style>\n",
       "<table border=\"1\" class=\"dataframe\">\n",
       "  <thead>\n",
       "    <tr style=\"text-align: right;\">\n",
       "      <th>source</th>\n",
       "      <th>2021-01-01</th>\n",
       "      <th>2021-02-01</th>\n",
       "      <th>2021-03-01</th>\n",
       "      <th>2021-04-01</th>\n",
       "      <th>2021-05-01</th>\n",
       "      <th>2021-06-01</th>\n",
       "      <th>2021-07-01</th>\n",
       "      <th>2021-08-01</th>\n",
       "      <th>2021-09-01</th>\n",
       "    </tr>\n",
       "    <tr>\n",
       "      <th>Visa Class</th>\n",
       "      <th></th>\n",
       "      <th></th>\n",
       "      <th></th>\n",
       "      <th></th>\n",
       "      <th></th>\n",
       "      <th></th>\n",
       "      <th></th>\n",
       "      <th></th>\n",
       "      <th></th>\n",
       "    </tr>\n",
       "  </thead>\n",
       "  <tbody>\n",
       "    <tr>\n",
       "      <th>AM</th>\n",
       "      <td>NaN</td>\n",
       "      <td>NaN</td>\n",
       "      <td>NaN</td>\n",
       "      <td>17.0</td>\n",
       "      <td>5.0</td>\n",
       "      <td>25.0</td>\n",
       "      <td>13.0</td>\n",
       "      <td>6.0</td>\n",
       "      <td>5.0</td>\n",
       "    </tr>\n",
       "    <tr>\n",
       "      <th>B2A</th>\n",
       "      <td>NaN</td>\n",
       "      <td>NaN</td>\n",
       "      <td>NaN</td>\n",
       "      <td>NaN</td>\n",
       "      <td>3.0</td>\n",
       "      <td>NaN</td>\n",
       "      <td>NaN</td>\n",
       "      <td>NaN</td>\n",
       "      <td>NaN</td>\n",
       "    </tr>\n",
       "    <tr>\n",
       "      <th>BC</th>\n",
       "      <td>NaN</td>\n",
       "      <td>NaN</td>\n",
       "      <td>NaN</td>\n",
       "      <td>NaN</td>\n",
       "      <td>NaN</td>\n",
       "      <td>NaN</td>\n",
       "      <td>3.0</td>\n",
       "      <td>NaN</td>\n",
       "      <td>NaN</td>\n",
       "    </tr>\n",
       "    <tr>\n",
       "      <th>BC1</th>\n",
       "      <td>NaN</td>\n",
       "      <td>NaN</td>\n",
       "      <td>NaN</td>\n",
       "      <td>NaN</td>\n",
       "      <td>NaN</td>\n",
       "      <td>NaN</td>\n",
       "      <td>NaN</td>\n",
       "      <td>4.0</td>\n",
       "      <td>NaN</td>\n",
       "    </tr>\n",
       "    <tr>\n",
       "      <th>BX</th>\n",
       "      <td>NaN</td>\n",
       "      <td>NaN</td>\n",
       "      <td>NaN</td>\n",
       "      <td>1.0</td>\n",
       "      <td>NaN</td>\n",
       "      <td>NaN</td>\n",
       "      <td>2.0</td>\n",
       "      <td>NaN</td>\n",
       "      <td>5.0</td>\n",
       "    </tr>\n",
       "    <tr>\n",
       "      <th>C2A</th>\n",
       "      <td>NaN</td>\n",
       "      <td>NaN</td>\n",
       "      <td>NaN</td>\n",
       "      <td>7.0</td>\n",
       "      <td>NaN</td>\n",
       "      <td>NaN</td>\n",
       "      <td>NaN</td>\n",
       "      <td>1.0</td>\n",
       "      <td>NaN</td>\n",
       "    </tr>\n",
       "    <tr>\n",
       "      <th>C5</th>\n",
       "      <td>NaN</td>\n",
       "      <td>NaN</td>\n",
       "      <td>NaN</td>\n",
       "      <td>NaN</td>\n",
       "      <td>3.0</td>\n",
       "      <td>NaN</td>\n",
       "      <td>45.0</td>\n",
       "      <td>8.0</td>\n",
       "      <td>5.0</td>\n",
       "    </tr>\n",
       "    <tr>\n",
       "      <th>CQ</th>\n",
       "      <td>NaN</td>\n",
       "      <td>NaN</td>\n",
       "      <td>NaN</td>\n",
       "      <td>NaN</td>\n",
       "      <td>NaN</td>\n",
       "      <td>NaN</td>\n",
       "      <td>NaN</td>\n",
       "      <td>948.0</td>\n",
       "      <td>407.0</td>\n",
       "    </tr>\n",
       "    <tr>\n",
       "      <th>CR1</th>\n",
       "      <td>2106.0</td>\n",
       "      <td>2171.0</td>\n",
       "      <td>2869.0</td>\n",
       "      <td>1431.0</td>\n",
       "      <td>929.0</td>\n",
       "      <td>1423.0</td>\n",
       "      <td>1465.0</td>\n",
       "      <td>1353.0</td>\n",
       "      <td>1173.0</td>\n",
       "    </tr>\n",
       "    <tr>\n",
       "      <th>CR2</th>\n",
       "      <td>207.0</td>\n",
       "      <td>200.0</td>\n",
       "      <td>220.0</td>\n",
       "      <td>159.0</td>\n",
       "      <td>110.0</td>\n",
       "      <td>157.0</td>\n",
       "      <td>161.0</td>\n",
       "      <td>173.0</td>\n",
       "      <td>184.0</td>\n",
       "    </tr>\n",
       "    <tr>\n",
       "      <th>CX</th>\n",
       "      <td>NaN</td>\n",
       "      <td>NaN</td>\n",
       "      <td>NaN</td>\n",
       "      <td>2.0</td>\n",
       "      <td>1.0</td>\n",
       "      <td>NaN</td>\n",
       "      <td>3.0</td>\n",
       "      <td>1.0</td>\n",
       "      <td>NaN</td>\n",
       "    </tr>\n",
       "    <tr>\n",
       "      <th>DV</th>\n",
       "      <td>NaN</td>\n",
       "      <td>1.0</td>\n",
       "      <td>20.0</td>\n",
       "      <td>534.0</td>\n",
       "      <td>965.0</td>\n",
       "      <td>1552.0</td>\n",
       "      <td>1824.0</td>\n",
       "      <td>4155.0</td>\n",
       "      <td>8770.0</td>\n",
       "    </tr>\n",
       "    <tr>\n",
       "      <th>DV1</th>\n",
       "      <td>1.0</td>\n",
       "      <td>NaN</td>\n",
       "      <td>NaN</td>\n",
       "      <td>NaN</td>\n",
       "      <td>NaN</td>\n",
       "      <td>NaN</td>\n",
       "      <td>NaN</td>\n",
       "      <td>NaN</td>\n",
       "      <td>NaN</td>\n",
       "    </tr>\n",
       "    <tr>\n",
       "      <th>E1</th>\n",
       "      <td>NaN</td>\n",
       "      <td>6.0</td>\n",
       "      <td>28.0</td>\n",
       "      <td>85.0</td>\n",
       "      <td>149.0</td>\n",
       "      <td>206.0</td>\n",
       "      <td>251.0</td>\n",
       "      <td>271.0</td>\n",
       "      <td>243.0</td>\n",
       "    </tr>\n",
       "    <tr>\n",
       "      <th>E11</th>\n",
       "      <td>3.0</td>\n",
       "      <td>NaN</td>\n",
       "      <td>NaN</td>\n",
       "      <td>NaN</td>\n",
       "      <td>NaN</td>\n",
       "      <td>NaN</td>\n",
       "      <td>NaN</td>\n",
       "      <td>NaN</td>\n",
       "      <td>NaN</td>\n",
       "    </tr>\n",
       "    <tr>\n",
       "      <th>E14</th>\n",
       "      <td>1.0</td>\n",
       "      <td>NaN</td>\n",
       "      <td>NaN</td>\n",
       "      <td>NaN</td>\n",
       "      <td>NaN</td>\n",
       "      <td>NaN</td>\n",
       "      <td>NaN</td>\n",
       "      <td>NaN</td>\n",
       "      <td>NaN</td>\n",
       "    </tr>\n",
       "    <tr>\n",
       "      <th>E15</th>\n",
       "      <td>2.0</td>\n",
       "      <td>NaN</td>\n",
       "      <td>NaN</td>\n",
       "      <td>NaN</td>\n",
       "      <td>NaN</td>\n",
       "      <td>NaN</td>\n",
       "      <td>NaN</td>\n",
       "      <td>NaN</td>\n",
       "      <td>NaN</td>\n",
       "    </tr>\n",
       "    <tr>\n",
       "      <th>E2</th>\n",
       "      <td>NaN</td>\n",
       "      <td>23.0</td>\n",
       "      <td>84.0</td>\n",
       "      <td>176.0</td>\n",
       "      <td>133.0</td>\n",
       "      <td>246.0</td>\n",
       "      <td>213.0</td>\n",
       "      <td>262.0</td>\n",
       "      <td>293.0</td>\n",
       "    </tr>\n",
       "    <tr>\n",
       "      <th>E21</th>\n",
       "      <td>5.0</td>\n",
       "      <td>NaN</td>\n",
       "      <td>NaN</td>\n",
       "      <td>NaN</td>\n",
       "      <td>NaN</td>\n",
       "      <td>NaN</td>\n",
       "      <td>NaN</td>\n",
       "      <td>NaN</td>\n",
       "      <td>NaN</td>\n",
       "    </tr>\n",
       "    <tr>\n",
       "      <th>E22</th>\n",
       "      <td>6.0</td>\n",
       "      <td>NaN</td>\n",
       "      <td>NaN</td>\n",
       "      <td>NaN</td>\n",
       "      <td>NaN</td>\n",
       "      <td>NaN</td>\n",
       "      <td>NaN</td>\n",
       "      <td>NaN</td>\n",
       "      <td>NaN</td>\n",
       "    </tr>\n",
       "    <tr>\n",
       "      <th>E23</th>\n",
       "      <td>1.0</td>\n",
       "      <td>NaN</td>\n",
       "      <td>NaN</td>\n",
       "      <td>NaN</td>\n",
       "      <td>NaN</td>\n",
       "      <td>NaN</td>\n",
       "      <td>NaN</td>\n",
       "      <td>NaN</td>\n",
       "      <td>NaN</td>\n",
       "    </tr>\n",
       "    <tr>\n",
       "      <th>E3</th>\n",
       "      <td>NaN</td>\n",
       "      <td>1020.0</td>\n",
       "      <td>1869.0</td>\n",
       "      <td>999.0</td>\n",
       "      <td>805.0</td>\n",
       "      <td>1247.0</td>\n",
       "      <td>924.0</td>\n",
       "      <td>803.0</td>\n",
       "      <td>872.0</td>\n",
       "    </tr>\n",
       "    <tr>\n",
       "      <th>E31</th>\n",
       "      <td>658.0</td>\n",
       "      <td>NaN</td>\n",
       "      <td>NaN</td>\n",
       "      <td>NaN</td>\n",
       "      <td>NaN</td>\n",
       "      <td>NaN</td>\n",
       "      <td>NaN</td>\n",
       "      <td>NaN</td>\n",
       "      <td>NaN</td>\n",
       "    </tr>\n",
       "    <tr>\n",
       "      <th>E32</th>\n",
       "      <td>6.0</td>\n",
       "      <td>NaN</td>\n",
       "      <td>NaN</td>\n",
       "      <td>NaN</td>\n",
       "      <td>NaN</td>\n",
       "      <td>NaN</td>\n",
       "      <td>NaN</td>\n",
       "      <td>NaN</td>\n",
       "      <td>NaN</td>\n",
       "    </tr>\n",
       "    <tr>\n",
       "      <th>E34</th>\n",
       "      <td>264.0</td>\n",
       "      <td>NaN</td>\n",
       "      <td>NaN</td>\n",
       "      <td>NaN</td>\n",
       "      <td>NaN</td>\n",
       "      <td>NaN</td>\n",
       "      <td>NaN</td>\n",
       "      <td>NaN</td>\n",
       "      <td>NaN</td>\n",
       "    </tr>\n",
       "    <tr>\n",
       "      <th>E35</th>\n",
       "      <td>374.0</td>\n",
       "      <td>NaN</td>\n",
       "      <td>NaN</td>\n",
       "      <td>NaN</td>\n",
       "      <td>NaN</td>\n",
       "      <td>NaN</td>\n",
       "      <td>NaN</td>\n",
       "      <td>NaN</td>\n",
       "      <td>NaN</td>\n",
       "    </tr>\n",
       "    <tr>\n",
       "      <th>E4</th>\n",
       "      <td>NaN</td>\n",
       "      <td>NaN</td>\n",
       "      <td>2.0</td>\n",
       "      <td>NaN</td>\n",
       "      <td>NaN</td>\n",
       "      <td>NaN</td>\n",
       "      <td>NaN</td>\n",
       "      <td>NaN</td>\n",
       "      <td>NaN</td>\n",
       "    </tr>\n",
       "    <tr>\n",
       "      <th>EW</th>\n",
       "      <td>NaN</td>\n",
       "      <td>NaN</td>\n",
       "      <td>27.0</td>\n",
       "      <td>53.0</td>\n",
       "      <td>132.0</td>\n",
       "      <td>181.0</td>\n",
       "      <td>223.0</td>\n",
       "      <td>186.0</td>\n",
       "      <td>241.0</td>\n",
       "    </tr>\n",
       "    <tr>\n",
       "      <th>EW3</th>\n",
       "      <td>5.0</td>\n",
       "      <td>NaN</td>\n",
       "      <td>NaN</td>\n",
       "      <td>NaN</td>\n",
       "      <td>NaN</td>\n",
       "      <td>NaN</td>\n",
       "      <td>NaN</td>\n",
       "      <td>NaN</td>\n",
       "      <td>NaN</td>\n",
       "    </tr>\n",
       "    <tr>\n",
       "      <th>EW4</th>\n",
       "      <td>4.0</td>\n",
       "      <td>NaN</td>\n",
       "      <td>NaN</td>\n",
       "      <td>NaN</td>\n",
       "      <td>NaN</td>\n",
       "      <td>NaN</td>\n",
       "      <td>NaN</td>\n",
       "      <td>NaN</td>\n",
       "      <td>NaN</td>\n",
       "    </tr>\n",
       "    <tr>\n",
       "      <th>EW5</th>\n",
       "      <td>9.0</td>\n",
       "      <td>NaN</td>\n",
       "      <td>NaN</td>\n",
       "      <td>NaN</td>\n",
       "      <td>NaN</td>\n",
       "      <td>NaN</td>\n",
       "      <td>NaN</td>\n",
       "      <td>NaN</td>\n",
       "      <td>NaN</td>\n",
       "    </tr>\n",
       "    <tr>\n",
       "      <th>F1</th>\n",
       "      <td>NaN</td>\n",
       "      <td>36.0</td>\n",
       "      <td>275.0</td>\n",
       "      <td>584.0</td>\n",
       "      <td>829.0</td>\n",
       "      <td>932.0</td>\n",
       "      <td>1107.0</td>\n",
       "      <td>1313.0</td>\n",
       "      <td>1565.0</td>\n",
       "    </tr>\n",
       "    <tr>\n",
       "      <th>F11</th>\n",
       "      <td>17.0</td>\n",
       "      <td>NaN</td>\n",
       "      <td>NaN</td>\n",
       "      <td>NaN</td>\n",
       "      <td>NaN</td>\n",
       "      <td>NaN</td>\n",
       "      <td>NaN</td>\n",
       "      <td>NaN</td>\n",
       "      <td>NaN</td>\n",
       "    </tr>\n",
       "    <tr>\n",
       "      <th>F12</th>\n",
       "      <td>3.0</td>\n",
       "      <td>NaN</td>\n",
       "      <td>NaN</td>\n",
       "      <td>NaN</td>\n",
       "      <td>NaN</td>\n",
       "      <td>NaN</td>\n",
       "      <td>NaN</td>\n",
       "      <td>NaN</td>\n",
       "      <td>NaN</td>\n",
       "    </tr>\n",
       "    <tr>\n",
       "      <th>F24</th>\n",
       "      <td>4.0</td>\n",
       "      <td>NaN</td>\n",
       "      <td>NaN</td>\n",
       "      <td>NaN</td>\n",
       "      <td>NaN</td>\n",
       "      <td>NaN</td>\n",
       "      <td>NaN</td>\n",
       "      <td>NaN</td>\n",
       "      <td>NaN</td>\n",
       "    </tr>\n",
       "    <tr>\n",
       "      <th>F25</th>\n",
       "      <td>4.0</td>\n",
       "      <td>NaN</td>\n",
       "      <td>NaN</td>\n",
       "      <td>NaN</td>\n",
       "      <td>NaN</td>\n",
       "      <td>NaN</td>\n",
       "      <td>NaN</td>\n",
       "      <td>NaN</td>\n",
       "      <td>NaN</td>\n",
       "    </tr>\n",
       "    <tr>\n",
       "      <th>F2A</th>\n",
       "      <td>NaN</td>\n",
       "      <td>2.0</td>\n",
       "      <td>6.0</td>\n",
       "      <td>5.0</td>\n",
       "      <td>6.0</td>\n",
       "      <td>2.0</td>\n",
       "      <td>8.0</td>\n",
       "      <td>10.0</td>\n",
       "      <td>6.0</td>\n",
       "    </tr>\n",
       "    <tr>\n",
       "      <th>F2B</th>\n",
       "      <td>NaN</td>\n",
       "      <td>17.0</td>\n",
       "      <td>288.0</td>\n",
       "      <td>665.0</td>\n",
       "      <td>756.0</td>\n",
       "      <td>896.0</td>\n",
       "      <td>1142.0</td>\n",
       "      <td>1333.0</td>\n",
       "      <td>1493.0</td>\n",
       "    </tr>\n",
       "    <tr>\n",
       "      <th>F3</th>\n",
       "      <td>NaN</td>\n",
       "      <td>46.0</td>\n",
       "      <td>350.0</td>\n",
       "      <td>848.0</td>\n",
       "      <td>961.0</td>\n",
       "      <td>1036.0</td>\n",
       "      <td>1156.0</td>\n",
       "      <td>1285.0</td>\n",
       "      <td>1582.0</td>\n",
       "    </tr>\n",
       "    <tr>\n",
       "      <th>F31</th>\n",
       "      <td>13.0</td>\n",
       "      <td>NaN</td>\n",
       "      <td>NaN</td>\n",
       "      <td>NaN</td>\n",
       "      <td>NaN</td>\n",
       "      <td>NaN</td>\n",
       "      <td>NaN</td>\n",
       "      <td>NaN</td>\n",
       "      <td>NaN</td>\n",
       "    </tr>\n",
       "    <tr>\n",
       "      <th>F32</th>\n",
       "      <td>12.0</td>\n",
       "      <td>NaN</td>\n",
       "      <td>NaN</td>\n",
       "      <td>NaN</td>\n",
       "      <td>NaN</td>\n",
       "      <td>NaN</td>\n",
       "      <td>NaN</td>\n",
       "      <td>NaN</td>\n",
       "      <td>NaN</td>\n",
       "    </tr>\n",
       "    <tr>\n",
       "      <th>F33</th>\n",
       "      <td>21.0</td>\n",
       "      <td>NaN</td>\n",
       "      <td>NaN</td>\n",
       "      <td>NaN</td>\n",
       "      <td>NaN</td>\n",
       "      <td>NaN</td>\n",
       "      <td>NaN</td>\n",
       "      <td>NaN</td>\n",
       "      <td>NaN</td>\n",
       "    </tr>\n",
       "    <tr>\n",
       "      <th>F4</th>\n",
       "      <td>NaN</td>\n",
       "      <td>113.0</td>\n",
       "      <td>444.0</td>\n",
       "      <td>1235.0</td>\n",
       "      <td>1690.0</td>\n",
       "      <td>2682.0</td>\n",
       "      <td>4260.0</td>\n",
       "      <td>4063.0</td>\n",
       "      <td>3993.0</td>\n",
       "    </tr>\n",
       "    <tr>\n",
       "      <th>F41</th>\n",
       "      <td>25.0</td>\n",
       "      <td>NaN</td>\n",
       "      <td>NaN</td>\n",
       "      <td>NaN</td>\n",
       "      <td>NaN</td>\n",
       "      <td>NaN</td>\n",
       "      <td>NaN</td>\n",
       "      <td>NaN</td>\n",
       "      <td>NaN</td>\n",
       "    </tr>\n",
       "    <tr>\n",
       "      <th>F42</th>\n",
       "      <td>15.0</td>\n",
       "      <td>NaN</td>\n",
       "      <td>NaN</td>\n",
       "      <td>NaN</td>\n",
       "      <td>NaN</td>\n",
       "      <td>NaN</td>\n",
       "      <td>NaN</td>\n",
       "      <td>NaN</td>\n",
       "      <td>NaN</td>\n",
       "    </tr>\n",
       "    <tr>\n",
       "      <th>F43</th>\n",
       "      <td>35.0</td>\n",
       "      <td>NaN</td>\n",
       "      <td>NaN</td>\n",
       "      <td>NaN</td>\n",
       "      <td>NaN</td>\n",
       "      <td>NaN</td>\n",
       "      <td>NaN</td>\n",
       "      <td>NaN</td>\n",
       "      <td>NaN</td>\n",
       "    </tr>\n",
       "    <tr>\n",
       "      <th>FX</th>\n",
       "      <td>NaN</td>\n",
       "      <td>101.0</td>\n",
       "      <td>1267.0</td>\n",
       "      <td>3648.0</td>\n",
       "      <td>2761.0</td>\n",
       "      <td>3916.0</td>\n",
       "      <td>4075.0</td>\n",
       "      <td>5377.0</td>\n",
       "      <td>5984.0</td>\n",
       "    </tr>\n",
       "    <tr>\n",
       "      <th>FX1</th>\n",
       "      <td>91.0</td>\n",
       "      <td>NaN</td>\n",
       "      <td>NaN</td>\n",
       "      <td>NaN</td>\n",
       "      <td>NaN</td>\n",
       "      <td>NaN</td>\n",
       "      <td>NaN</td>\n",
       "      <td>NaN</td>\n",
       "      <td>NaN</td>\n",
       "    </tr>\n",
       "    <tr>\n",
       "      <th>FX2</th>\n",
       "      <td>30.0</td>\n",
       "      <td>NaN</td>\n",
       "      <td>NaN</td>\n",
       "      <td>NaN</td>\n",
       "      <td>NaN</td>\n",
       "      <td>NaN</td>\n",
       "      <td>NaN</td>\n",
       "      <td>NaN</td>\n",
       "      <td>NaN</td>\n",
       "    </tr>\n",
       "    <tr>\n",
       "      <th>FX3</th>\n",
       "      <td>26.0</td>\n",
       "      <td>NaN</td>\n",
       "      <td>NaN</td>\n",
       "      <td>NaN</td>\n",
       "      <td>NaN</td>\n",
       "      <td>NaN</td>\n",
       "      <td>NaN</td>\n",
       "      <td>NaN</td>\n",
       "      <td>NaN</td>\n",
       "    </tr>\n",
       "    <tr>\n",
       "      <th>I5</th>\n",
       "      <td>NaN</td>\n",
       "      <td>151.0</td>\n",
       "      <td>381.0</td>\n",
       "      <td>120.0</td>\n",
       "      <td>540.0</td>\n",
       "      <td>542.0</td>\n",
       "      <td>27.0</td>\n",
       "      <td>NaN</td>\n",
       "      <td>NaN</td>\n",
       "    </tr>\n",
       "    <tr>\n",
       "      <th>I51</th>\n",
       "      <td>8.0</td>\n",
       "      <td>NaN</td>\n",
       "      <td>NaN</td>\n",
       "      <td>NaN</td>\n",
       "      <td>NaN</td>\n",
       "      <td>NaN</td>\n",
       "      <td>NaN</td>\n",
       "      <td>NaN</td>\n",
       "      <td>NaN</td>\n",
       "    </tr>\n",
       "    <tr>\n",
       "      <th>I52</th>\n",
       "      <td>9.0</td>\n",
       "      <td>NaN</td>\n",
       "      <td>NaN</td>\n",
       "      <td>NaN</td>\n",
       "      <td>NaN</td>\n",
       "      <td>NaN</td>\n",
       "      <td>NaN</td>\n",
       "      <td>NaN</td>\n",
       "      <td>NaN</td>\n",
       "    </tr>\n",
       "    <tr>\n",
       "      <th>I53</th>\n",
       "      <td>15.0</td>\n",
       "      <td>NaN</td>\n",
       "      <td>NaN</td>\n",
       "      <td>NaN</td>\n",
       "      <td>NaN</td>\n",
       "      <td>NaN</td>\n",
       "      <td>NaN</td>\n",
       "      <td>NaN</td>\n",
       "      <td>NaN</td>\n",
       "    </tr>\n",
       "    <tr>\n",
       "      <th>IB1</th>\n",
       "      <td>6.0</td>\n",
       "      <td>16.0</td>\n",
       "      <td>23.0</td>\n",
       "      <td>16.0</td>\n",
       "      <td>15.0</td>\n",
       "      <td>18.0</td>\n",
       "      <td>13.0</td>\n",
       "      <td>5.0</td>\n",
       "      <td>14.0</td>\n",
       "    </tr>\n",
       "    <tr>\n",
       "      <th>IB2</th>\n",
       "      <td>NaN</td>\n",
       "      <td>2.0</td>\n",
       "      <td>NaN</td>\n",
       "      <td>NaN</td>\n",
       "      <td>NaN</td>\n",
       "      <td>1.0</td>\n",
       "      <td>1.0</td>\n",
       "      <td>1.0</td>\n",
       "      <td>5.0</td>\n",
       "    </tr>\n",
       "    <tr>\n",
       "      <th>IH3</th>\n",
       "      <td>56.0</td>\n",
       "      <td>55.0</td>\n",
       "      <td>85.0</td>\n",
       "      <td>51.0</td>\n",
       "      <td>52.0</td>\n",
       "      <td>70.0</td>\n",
       "      <td>92.0</td>\n",
       "      <td>85.0</td>\n",
       "      <td>80.0</td>\n",
       "    </tr>\n",
       "    <tr>\n",
       "      <th>IH4</th>\n",
       "      <td>16.0</td>\n",
       "      <td>24.0</td>\n",
       "      <td>16.0</td>\n",
       "      <td>8.0</td>\n",
       "      <td>7.0</td>\n",
       "      <td>11.0</td>\n",
       "      <td>6.0</td>\n",
       "      <td>5.0</td>\n",
       "      <td>3.0</td>\n",
       "    </tr>\n",
       "    <tr>\n",
       "      <th>IR1</th>\n",
       "      <td>4751.0</td>\n",
       "      <td>5877.0</td>\n",
       "      <td>7345.0</td>\n",
       "      <td>4925.0</td>\n",
       "      <td>5027.0</td>\n",
       "      <td>6362.0</td>\n",
       "      <td>7190.0</td>\n",
       "      <td>8045.0</td>\n",
       "      <td>7598.0</td>\n",
       "    </tr>\n",
       "    <tr>\n",
       "      <th>IR2</th>\n",
       "      <td>2325.0</td>\n",
       "      <td>2705.0</td>\n",
       "      <td>3890.0</td>\n",
       "      <td>2890.0</td>\n",
       "      <td>2734.0</td>\n",
       "      <td>3728.0</td>\n",
       "      <td>4290.0</td>\n",
       "      <td>4913.0</td>\n",
       "      <td>4128.0</td>\n",
       "    </tr>\n",
       "    <tr>\n",
       "      <th>IR3</th>\n",
       "      <td>52.0</td>\n",
       "      <td>35.0</td>\n",
       "      <td>57.0</td>\n",
       "      <td>41.0</td>\n",
       "      <td>88.0</td>\n",
       "      <td>44.0</td>\n",
       "      <td>46.0</td>\n",
       "      <td>32.0</td>\n",
       "      <td>57.0</td>\n",
       "    </tr>\n",
       "    <tr>\n",
       "      <th>IR4</th>\n",
       "      <td>6.0</td>\n",
       "      <td>10.0</td>\n",
       "      <td>8.0</td>\n",
       "      <td>11.0</td>\n",
       "      <td>10.0</td>\n",
       "      <td>5.0</td>\n",
       "      <td>6.0</td>\n",
       "      <td>11.0</td>\n",
       "      <td>9.0</td>\n",
       "    </tr>\n",
       "    <tr>\n",
       "      <th>IR5</th>\n",
       "      <td>138.0</td>\n",
       "      <td>116.0</td>\n",
       "      <td>1166.0</td>\n",
       "      <td>5358.0</td>\n",
       "      <td>6237.0</td>\n",
       "      <td>9751.0</td>\n",
       "      <td>8260.0</td>\n",
       "      <td>7550.0</td>\n",
       "      <td>7764.0</td>\n",
       "    </tr>\n",
       "    <tr>\n",
       "      <th>IW</th>\n",
       "      <td>26.0</td>\n",
       "      <td>41.0</td>\n",
       "      <td>41.0</td>\n",
       "      <td>47.0</td>\n",
       "      <td>41.0</td>\n",
       "      <td>32.0</td>\n",
       "      <td>39.0</td>\n",
       "      <td>66.0</td>\n",
       "      <td>61.0</td>\n",
       "    </tr>\n",
       "    <tr>\n",
       "      <th>SB1</th>\n",
       "      <td>111.0</td>\n",
       "      <td>127.0</td>\n",
       "      <td>358.0</td>\n",
       "      <td>289.0</td>\n",
       "      <td>233.0</td>\n",
       "      <td>470.0</td>\n",
       "      <td>525.0</td>\n",
       "      <td>574.0</td>\n",
       "      <td>453.0</td>\n",
       "    </tr>\n",
       "    <tr>\n",
       "      <th>SD</th>\n",
       "      <td>NaN</td>\n",
       "      <td>NaN</td>\n",
       "      <td>5.0</td>\n",
       "      <td>18.0</td>\n",
       "      <td>22.0</td>\n",
       "      <td>3.0</td>\n",
       "      <td>9.0</td>\n",
       "      <td>7.0</td>\n",
       "      <td>15.0</td>\n",
       "    </tr>\n",
       "    <tr>\n",
       "      <th>SE</th>\n",
       "      <td>NaN</td>\n",
       "      <td>127.0</td>\n",
       "      <td>226.0</td>\n",
       "      <td>237.0</td>\n",
       "      <td>315.0</td>\n",
       "      <td>590.0</td>\n",
       "      <td>439.0</td>\n",
       "      <td>346.0</td>\n",
       "      <td>270.0</td>\n",
       "    </tr>\n",
       "    <tr>\n",
       "      <th>SE1</th>\n",
       "      <td>11.0</td>\n",
       "      <td>NaN</td>\n",
       "      <td>NaN</td>\n",
       "      <td>NaN</td>\n",
       "      <td>NaN</td>\n",
       "      <td>NaN</td>\n",
       "      <td>NaN</td>\n",
       "      <td>NaN</td>\n",
       "      <td>NaN</td>\n",
       "    </tr>\n",
       "    <tr>\n",
       "      <th>SE2</th>\n",
       "      <td>10.0</td>\n",
       "      <td>NaN</td>\n",
       "      <td>NaN</td>\n",
       "      <td>NaN</td>\n",
       "      <td>NaN</td>\n",
       "      <td>NaN</td>\n",
       "      <td>NaN</td>\n",
       "      <td>NaN</td>\n",
       "      <td>NaN</td>\n",
       "    </tr>\n",
       "    <tr>\n",
       "      <th>SE3</th>\n",
       "      <td>15.0</td>\n",
       "      <td>NaN</td>\n",
       "      <td>NaN</td>\n",
       "      <td>NaN</td>\n",
       "      <td>NaN</td>\n",
       "      <td>NaN</td>\n",
       "      <td>NaN</td>\n",
       "      <td>NaN</td>\n",
       "      <td>NaN</td>\n",
       "    </tr>\n",
       "    <tr>\n",
       "      <th>SI</th>\n",
       "      <td>NaN</td>\n",
       "      <td>7.0</td>\n",
       "      <td>NaN</td>\n",
       "      <td>5.0</td>\n",
       "      <td>4.0</td>\n",
       "      <td>1.0</td>\n",
       "      <td>4.0</td>\n",
       "      <td>13.0</td>\n",
       "      <td>6.0</td>\n",
       "    </tr>\n",
       "    <tr>\n",
       "      <th>SI1</th>\n",
       "      <td>1.0</td>\n",
       "      <td>NaN</td>\n",
       "      <td>NaN</td>\n",
       "      <td>NaN</td>\n",
       "      <td>NaN</td>\n",
       "      <td>NaN</td>\n",
       "      <td>NaN</td>\n",
       "      <td>NaN</td>\n",
       "      <td>NaN</td>\n",
       "    </tr>\n",
       "    <tr>\n",
       "      <th>SK</th>\n",
       "      <td>NaN</td>\n",
       "      <td>NaN</td>\n",
       "      <td>NaN</td>\n",
       "      <td>NaN</td>\n",
       "      <td>1.0</td>\n",
       "      <td>2.0</td>\n",
       "      <td>NaN</td>\n",
       "      <td>NaN</td>\n",
       "      <td>NaN</td>\n",
       "    </tr>\n",
       "    <tr>\n",
       "      <th>SQ</th>\n",
       "      <td>NaN</td>\n",
       "      <td>165.0</td>\n",
       "      <td>317.0</td>\n",
       "      <td>370.0</td>\n",
       "      <td>621.0</td>\n",
       "      <td>1792.0</td>\n",
       "      <td>2085.0</td>\n",
       "      <td>2246.0</td>\n",
       "      <td>131.0</td>\n",
       "    </tr>\n",
       "    <tr>\n",
       "      <th>SQ1</th>\n",
       "      <td>66.0</td>\n",
       "      <td>NaN</td>\n",
       "      <td>NaN</td>\n",
       "      <td>NaN</td>\n",
       "      <td>NaN</td>\n",
       "      <td>NaN</td>\n",
       "      <td>NaN</td>\n",
       "      <td>NaN</td>\n",
       "      <td>NaN</td>\n",
       "    </tr>\n",
       "    <tr>\n",
       "      <th>SQ2</th>\n",
       "      <td>66.0</td>\n",
       "      <td>NaN</td>\n",
       "      <td>NaN</td>\n",
       "      <td>NaN</td>\n",
       "      <td>NaN</td>\n",
       "      <td>NaN</td>\n",
       "      <td>NaN</td>\n",
       "      <td>NaN</td>\n",
       "      <td>NaN</td>\n",
       "    </tr>\n",
       "    <tr>\n",
       "      <th>SQ3</th>\n",
       "      <td>242.0</td>\n",
       "      <td>NaN</td>\n",
       "      <td>NaN</td>\n",
       "      <td>NaN</td>\n",
       "      <td>NaN</td>\n",
       "      <td>NaN</td>\n",
       "      <td>NaN</td>\n",
       "      <td>NaN</td>\n",
       "      <td>NaN</td>\n",
       "    </tr>\n",
       "    <tr>\n",
       "      <th>SR</th>\n",
       "      <td>NaN</td>\n",
       "      <td>NaN</td>\n",
       "      <td>2.0</td>\n",
       "      <td>2.0</td>\n",
       "      <td>1.0</td>\n",
       "      <td>2.0</td>\n",
       "      <td>6.0</td>\n",
       "      <td>2.0</td>\n",
       "      <td>12.0</td>\n",
       "    </tr>\n",
       "    <tr>\n",
       "      <th>SU</th>\n",
       "      <td>NaN</td>\n",
       "      <td>1.0</td>\n",
       "      <td>1.0</td>\n",
       "      <td>2.0</td>\n",
       "      <td>14.0</td>\n",
       "      <td>6.0</td>\n",
       "      <td>6.0</td>\n",
       "      <td>4.0</td>\n",
       "      <td>8.0</td>\n",
       "    </tr>\n",
       "    <tr>\n",
       "      <th>SU3</th>\n",
       "      <td>2.0</td>\n",
       "      <td>NaN</td>\n",
       "      <td>NaN</td>\n",
       "      <td>NaN</td>\n",
       "      <td>NaN</td>\n",
       "      <td>NaN</td>\n",
       "      <td>NaN</td>\n",
       "      <td>NaN</td>\n",
       "      <td>NaN</td>\n",
       "    </tr>\n",
       "    <tr>\n",
       "      <th>T5</th>\n",
       "      <td>NaN</td>\n",
       "      <td>7.0</td>\n",
       "      <td>NaN</td>\n",
       "      <td>2.0</td>\n",
       "      <td>4.0</td>\n",
       "      <td>1.0</td>\n",
       "      <td>86.0</td>\n",
       "      <td>34.0</td>\n",
       "      <td>19.0</td>\n",
       "    </tr>\n",
       "  </tbody>\n",
       "</table>\n",
       "</div>"
      ],
      "text/plain": [
       "source      2021-01-01  2021-02-01  2021-03-01  2021-04-01  2021-05-01  \\\n",
       "Visa Class                                                               \n",
       "AM                 NaN         NaN         NaN        17.0         5.0   \n",
       "B2A                NaN         NaN         NaN         NaN         3.0   \n",
       "BC                 NaN         NaN         NaN         NaN         NaN   \n",
       "BC1                NaN         NaN         NaN         NaN         NaN   \n",
       "BX                 NaN         NaN         NaN         1.0         NaN   \n",
       "C2A                NaN         NaN         NaN         7.0         NaN   \n",
       "C5                 NaN         NaN         NaN         NaN         3.0   \n",
       "CQ                 NaN         NaN         NaN         NaN         NaN   \n",
       "CR1             2106.0      2171.0      2869.0      1431.0       929.0   \n",
       "CR2              207.0       200.0       220.0       159.0       110.0   \n",
       "CX                 NaN         NaN         NaN         2.0         1.0   \n",
       "DV                 NaN         1.0        20.0       534.0       965.0   \n",
       "DV1                1.0         NaN         NaN         NaN         NaN   \n",
       "E1                 NaN         6.0        28.0        85.0       149.0   \n",
       "E11                3.0         NaN         NaN         NaN         NaN   \n",
       "E14                1.0         NaN         NaN         NaN         NaN   \n",
       "E15                2.0         NaN         NaN         NaN         NaN   \n",
       "E2                 NaN        23.0        84.0       176.0       133.0   \n",
       "E21                5.0         NaN         NaN         NaN         NaN   \n",
       "E22                6.0         NaN         NaN         NaN         NaN   \n",
       "E23                1.0         NaN         NaN         NaN         NaN   \n",
       "E3                 NaN      1020.0      1869.0       999.0       805.0   \n",
       "E31              658.0         NaN         NaN         NaN         NaN   \n",
       "E32                6.0         NaN         NaN         NaN         NaN   \n",
       "E34              264.0         NaN         NaN         NaN         NaN   \n",
       "E35              374.0         NaN         NaN         NaN         NaN   \n",
       "E4                 NaN         NaN         2.0         NaN         NaN   \n",
       "EW                 NaN         NaN        27.0        53.0       132.0   \n",
       "EW3                5.0         NaN         NaN         NaN         NaN   \n",
       "EW4                4.0         NaN         NaN         NaN         NaN   \n",
       "EW5                9.0         NaN         NaN         NaN         NaN   \n",
       "F1                 NaN        36.0       275.0       584.0       829.0   \n",
       "F11               17.0         NaN         NaN         NaN         NaN   \n",
       "F12                3.0         NaN         NaN         NaN         NaN   \n",
       "F24                4.0         NaN         NaN         NaN         NaN   \n",
       "F25                4.0         NaN         NaN         NaN         NaN   \n",
       "F2A                NaN         2.0         6.0         5.0         6.0   \n",
       "F2B                NaN        17.0       288.0       665.0       756.0   \n",
       "F3                 NaN        46.0       350.0       848.0       961.0   \n",
       "F31               13.0         NaN         NaN         NaN         NaN   \n",
       "F32               12.0         NaN         NaN         NaN         NaN   \n",
       "F33               21.0         NaN         NaN         NaN         NaN   \n",
       "F4                 NaN       113.0       444.0      1235.0      1690.0   \n",
       "F41               25.0         NaN         NaN         NaN         NaN   \n",
       "F42               15.0         NaN         NaN         NaN         NaN   \n",
       "F43               35.0         NaN         NaN         NaN         NaN   \n",
       "FX                 NaN       101.0      1267.0      3648.0      2761.0   \n",
       "FX1               91.0         NaN         NaN         NaN         NaN   \n",
       "FX2               30.0         NaN         NaN         NaN         NaN   \n",
       "FX3               26.0         NaN         NaN         NaN         NaN   \n",
       "I5                 NaN       151.0       381.0       120.0       540.0   \n",
       "I51                8.0         NaN         NaN         NaN         NaN   \n",
       "I52                9.0         NaN         NaN         NaN         NaN   \n",
       "I53               15.0         NaN         NaN         NaN         NaN   \n",
       "IB1                6.0        16.0        23.0        16.0        15.0   \n",
       "IB2                NaN         2.0         NaN         NaN         NaN   \n",
       "IH3               56.0        55.0        85.0        51.0        52.0   \n",
       "IH4               16.0        24.0        16.0         8.0         7.0   \n",
       "IR1             4751.0      5877.0      7345.0      4925.0      5027.0   \n",
       "IR2             2325.0      2705.0      3890.0      2890.0      2734.0   \n",
       "IR3               52.0        35.0        57.0        41.0        88.0   \n",
       "IR4                6.0        10.0         8.0        11.0        10.0   \n",
       "IR5              138.0       116.0      1166.0      5358.0      6237.0   \n",
       "IW                26.0        41.0        41.0        47.0        41.0   \n",
       "SB1              111.0       127.0       358.0       289.0       233.0   \n",
       "SD                 NaN         NaN         5.0        18.0        22.0   \n",
       "SE                 NaN       127.0       226.0       237.0       315.0   \n",
       "SE1               11.0         NaN         NaN         NaN         NaN   \n",
       "SE2               10.0         NaN         NaN         NaN         NaN   \n",
       "SE3               15.0         NaN         NaN         NaN         NaN   \n",
       "SI                 NaN         7.0         NaN         5.0         4.0   \n",
       "SI1                1.0         NaN         NaN         NaN         NaN   \n",
       "SK                 NaN         NaN         NaN         NaN         1.0   \n",
       "SQ                 NaN       165.0       317.0       370.0       621.0   \n",
       "SQ1               66.0         NaN         NaN         NaN         NaN   \n",
       "SQ2               66.0         NaN         NaN         NaN         NaN   \n",
       "SQ3              242.0         NaN         NaN         NaN         NaN   \n",
       "SR                 NaN         NaN         2.0         2.0         1.0   \n",
       "SU                 NaN         1.0         1.0         2.0        14.0   \n",
       "SU3                2.0         NaN         NaN         NaN         NaN   \n",
       "T5                 NaN         7.0         NaN         2.0         4.0   \n",
       "\n",
       "source      2021-06-01  2021-07-01  2021-08-01  2021-09-01  \n",
       "Visa Class                                                  \n",
       "AM                25.0        13.0         6.0         5.0  \n",
       "B2A                NaN         NaN         NaN         NaN  \n",
       "BC                 NaN         3.0         NaN         NaN  \n",
       "BC1                NaN         NaN         4.0         NaN  \n",
       "BX                 NaN         2.0         NaN         5.0  \n",
       "C2A                NaN         NaN         1.0         NaN  \n",
       "C5                 NaN        45.0         8.0         5.0  \n",
       "CQ                 NaN         NaN       948.0       407.0  \n",
       "CR1             1423.0      1465.0      1353.0      1173.0  \n",
       "CR2              157.0       161.0       173.0       184.0  \n",
       "CX                 NaN         3.0         1.0         NaN  \n",
       "DV              1552.0      1824.0      4155.0      8770.0  \n",
       "DV1                NaN         NaN         NaN         NaN  \n",
       "E1               206.0       251.0       271.0       243.0  \n",
       "E11                NaN         NaN         NaN         NaN  \n",
       "E14                NaN         NaN         NaN         NaN  \n",
       "E15                NaN         NaN         NaN         NaN  \n",
       "E2               246.0       213.0       262.0       293.0  \n",
       "E21                NaN         NaN         NaN         NaN  \n",
       "E22                NaN         NaN         NaN         NaN  \n",
       "E23                NaN         NaN         NaN         NaN  \n",
       "E3              1247.0       924.0       803.0       872.0  \n",
       "E31                NaN         NaN         NaN         NaN  \n",
       "E32                NaN         NaN         NaN         NaN  \n",
       "E34                NaN         NaN         NaN         NaN  \n",
       "E35                NaN         NaN         NaN         NaN  \n",
       "E4                 NaN         NaN         NaN         NaN  \n",
       "EW               181.0       223.0       186.0       241.0  \n",
       "EW3                NaN         NaN         NaN         NaN  \n",
       "EW4                NaN         NaN         NaN         NaN  \n",
       "EW5                NaN         NaN         NaN         NaN  \n",
       "F1               932.0      1107.0      1313.0      1565.0  \n",
       "F11                NaN         NaN         NaN         NaN  \n",
       "F12                NaN         NaN         NaN         NaN  \n",
       "F24                NaN         NaN         NaN         NaN  \n",
       "F25                NaN         NaN         NaN         NaN  \n",
       "F2A                2.0         8.0        10.0         6.0  \n",
       "F2B              896.0      1142.0      1333.0      1493.0  \n",
       "F3              1036.0      1156.0      1285.0      1582.0  \n",
       "F31                NaN         NaN         NaN         NaN  \n",
       "F32                NaN         NaN         NaN         NaN  \n",
       "F33                NaN         NaN         NaN         NaN  \n",
       "F4              2682.0      4260.0      4063.0      3993.0  \n",
       "F41                NaN         NaN         NaN         NaN  \n",
       "F42                NaN         NaN         NaN         NaN  \n",
       "F43                NaN         NaN         NaN         NaN  \n",
       "FX              3916.0      4075.0      5377.0      5984.0  \n",
       "FX1                NaN         NaN         NaN         NaN  \n",
       "FX2                NaN         NaN         NaN         NaN  \n",
       "FX3                NaN         NaN         NaN         NaN  \n",
       "I5               542.0        27.0         NaN         NaN  \n",
       "I51                NaN         NaN         NaN         NaN  \n",
       "I52                NaN         NaN         NaN         NaN  \n",
       "I53                NaN         NaN         NaN         NaN  \n",
       "IB1               18.0        13.0         5.0        14.0  \n",
       "IB2                1.0         1.0         1.0         5.0  \n",
       "IH3               70.0        92.0        85.0        80.0  \n",
       "IH4               11.0         6.0         5.0         3.0  \n",
       "IR1             6362.0      7190.0      8045.0      7598.0  \n",
       "IR2             3728.0      4290.0      4913.0      4128.0  \n",
       "IR3               44.0        46.0        32.0        57.0  \n",
       "IR4                5.0         6.0        11.0         9.0  \n",
       "IR5             9751.0      8260.0      7550.0      7764.0  \n",
       "IW                32.0        39.0        66.0        61.0  \n",
       "SB1              470.0       525.0       574.0       453.0  \n",
       "SD                 3.0         9.0         7.0        15.0  \n",
       "SE               590.0       439.0       346.0       270.0  \n",
       "SE1                NaN         NaN         NaN         NaN  \n",
       "SE2                NaN         NaN         NaN         NaN  \n",
       "SE3                NaN         NaN         NaN         NaN  \n",
       "SI                 1.0         4.0        13.0         6.0  \n",
       "SI1                NaN         NaN         NaN         NaN  \n",
       "SK                 2.0         NaN         NaN         NaN  \n",
       "SQ              1792.0      2085.0      2246.0       131.0  \n",
       "SQ1                NaN         NaN         NaN         NaN  \n",
       "SQ2                NaN         NaN         NaN         NaN  \n",
       "SQ3                NaN         NaN         NaN         NaN  \n",
       "SR                 2.0         6.0         2.0        12.0  \n",
       "SU                 6.0         6.0         4.0         8.0  \n",
       "SU3                NaN         NaN         NaN         NaN  \n",
       "T5                 1.0        86.0        34.0        19.0  "
      ]
     },
     "execution_count": 53,
     "metadata": {},
     "output_type": "execute_result"
    },
    {
     "data": {
      "application/javascript": [
       "\n",
       "            setTimeout(function() {\n",
       "                var nbb_cell_id = 53;\n",
       "                var nbb_unformatted_code = \"summed_by_yearmonth_and_class.pivot(\\n    index=\\\"Visa Class\\\", columns=\\\"source\\\", values=\\\"Issuances\\\"\\n)\";\n",
       "                var nbb_formatted_code = \"summed_by_yearmonth_and_class.pivot(\\n    index=\\\"Visa Class\\\", columns=\\\"source\\\", values=\\\"Issuances\\\"\\n)\";\n",
       "                var nbb_cells = Jupyter.notebook.get_cells();\n",
       "                for (var i = 0; i < nbb_cells.length; ++i) {\n",
       "                    if (nbb_cells[i].input_prompt_number == nbb_cell_id) {\n",
       "                        if (nbb_cells[i].get_text() == nbb_unformatted_code) {\n",
       "                             nbb_cells[i].set_text(nbb_formatted_code);\n",
       "                        }\n",
       "                        break;\n",
       "                    }\n",
       "                }\n",
       "            }, 500);\n",
       "            "
      ],
      "text/plain": [
       "<IPython.core.display.Javascript object>"
      ]
     },
     "metadata": {},
     "output_type": "display_data"
    }
   ],
   "source": [
    "summed_by_yearmonth_and_class.pivot(\n",
    "    index=\"Visa Class\", columns=\"source\", values=\"Issuances\"\n",
    ")"
   ]
  },
  {
   "cell_type": "markdown",
   "metadata": {
    "id": "9C3VoOJHexkQ"
   },
   "source": [
    "### Example 2: Get total visas by visa class per month with simplified coding"
   ]
  },
  {
   "cell_type": "code",
   "execution_count": null,
   "metadata": {
    "executionInfo": {
     "elapsed": 12,
     "status": "aborted",
     "timestamp": 1635790864170,
     "user": {
      "displayName": "Michael Dowd",
      "photoUrl": "https://lh3.googleusercontent.com/a/default-user=s64",
      "userId": "00770521119407228668"
     },
     "user_tz": 420
    },
    "id": "Eyjd5jWrYcE_",
    "outputId": "42508c2b-3938-4805-ddf8-33975b9c8870"
   },
   "outputs": [
    {
     "data": {
      "application/javascript": [
       "\n",
       "            setTimeout(function() {\n",
       "                var nbb_cell_id = 66;\n",
       "                var nbb_unformatted_code = \"recodes = {\\n    \\\"IR\\\": {\\n        \\\"1a\\\": [\\\"IR1\\\", \\\"CR1\\\", \\\"IB1\\\", \\\"IW1\\\", \\\"VI5\\\", \\\"IW\\\"],\\n        \\\"1b\\\": [\\\"IR2\\\", \\\"CR2\\\", \\\"IB2\\\", \\\"IB3\\\", \\\"IW2\\\"],\\n        \\\"1c\\\": [\\\"IR5\\\"],\\n        \\\"1d\\\": [\\\"IR3\\\", \\\"IR4\\\", \\\"IH3\\\", \\\"IH4\\\"],\\n    },\\n    \\\"FSP\\\": {\\n        \\\"2a\\\": [\\\"F11\\\", \\\"F12\\\", \\\"B11\\\", \\\"B12\\\", \\\"F1\\\"],\\n        \\\"2b\\\": [\\n            \\\"F21\\\",\\n            \\\"F22\\\",\\n            \\\"F23\\\",\\n            \\\"F24\\\",\\n            \\\"F25\\\",\\n            \\\"C21\\\",\\n            \\\"C22\\\",\\n            \\\"C23\\\",\\n            \\\"C24\\\",\\n            \\\"C25\\\",\\n            \\\"B21\\\",\\n            \\\"B22\\\",\\n            \\\"B23\\\",\\n            \\\"B24\\\",\\n            \\\"B25\\\",\\n            \\\"FX\\\",\\n            \\\"FX1\\\",\\n            \\\"FX2\\\",\\n            \\\"FX3\\\",\\n            \\\"CX\\\",\\n            \\\"CX1\\\",\\n            \\\"CX2\\\",\\n            \\\"CX3\\\",\\n            \\\"BX1\\\",\\n            \\\"BX2\\\",\\n            \\\"BX3\\\",\\n        ],\\n        \\\"2c\\\": [\\\"F31\\\", \\\"F32\\\", \\\"F33\\\", \\\"C31\\\", \\\"C32\\\", \\\"C33\\\", \\\"B31\\\", \\\"B32\\\", \\\"B33\\\", \\\"F3\\\"],\\n        \\\"2d\\\": [\\\"F41\\\", \\\"F42\\\", \\\"F43\\\", \\\"F4\\\"],\\n    },\\n    \\\"EB\\\": {\\n        \\\"3a\\\": [\\\"E11\\\", \\\"E12\\\", \\\"E13\\\", \\\"E14\\\", \\\"E15\\\", \\\"E1\\\"],\\n        \\\"3b\\\": [\\\"E21\\\", \\\"E22\\\", \\\"E23\\\", \\\"E2\\\"],\\n        \\\"3c\\\": [\\\"E31\\\", \\\"E32\\\", \\\"E34\\\", \\\"E35\\\", \\\"EW3\\\", \\\"EW4\\\", \\\"EW5\\\", \\\"E3\\\", \\\"EW\\\"],\\n        \\\"3d\\\": [\\n            \\\"BC1\\\",\\n            \\\"BC2\\\",\\n            \\\"BC3\\\",\\n            \\\"SD1\\\",\\n            \\\"SD2\\\",\\n            \\\"SD3\\\",\\n            \\\"SE1\\\",\\n            \\\"SE2\\\",\\n            \\\"SE3\\\",\\n            \\\"SF1\\\",\\n            \\\"SF2\\\",\\n            \\\"SG1\\\",\\n            \\\"SG2\\\",\\n            \\\"SH1\\\",\\n            \\\"SH2\\\",\\n            \\\"SJ1\\\",\\n            \\\"SJ2\\\",\\n            \\\"SK1\\\",\\n            \\\"SK2\\\",\\n            \\\"SK3\\\",\\n            \\\"SK4\\\",\\n            \\\"SL1\\\",\\n            \\\"SN1\\\",\\n            \\\"SN2\\\",\\n            \\\"SN3\\\",\\n            \\\"SN4\\\",\\n            \\\"SR1\\\",\\n            \\\"SR2\\\",\\n            \\\"SR3\\\",\\n            \\\"BC\\\",\\n            \\\"E4\\\",\\n            \\\"SD\\\",\\n            \\\"SE\\\",\\n            \\\"SF\\\",\\n            \\\"SG\\\",\\n            \\\"SH\\\",\\n            \\\"SJ\\\",\\n            \\\"SK\\\",\\n            \\\"SN\\\",\\n            \\\"SR\\\",\\n        ],\\n        \\\"3e\\\": [\\n            \\\"C51\\\",\\n            \\\"C52\\\",\\n            \\\"C53\\\",\\n            \\\"T51\\\",\\n            \\\"T52\\\",\\n            \\\"T53\\\",\\n            \\\"R51\\\",\\n            \\\"R52\\\",\\n            \\\"R53\\\",\\n            \\\"I51\\\",\\n            \\\"I52\\\",\\n            \\\"I53\\\",\\n            \\\"C5\\\",\\n            \\\"T5\\\",\\n            \\\"R5\\\",\\n            \\\"I5\\\",\\n        ],\\n    },\\n    \\\"DI\\\": [\\\"DV1\\\", \\\"DV2\\\", \\\"DV3\\\", \\\"DV\\\"],\\n    \\\"Other\\\": [\\n        \\\"AM\\\",\\n        \\\"AM1\\\",\\n        \\\"AM2\\\",\\n        \\\"AM3\\\",\\n        \\\"SC2\\\",\\n        \\\"SI1\\\",\\n        \\\"SI2\\\",\\n        \\\"SI3\\\",\\n        \\\"SM1\\\",\\n        \\\"SM2\\\",\\n        \\\"SM3\\\",\\n        \\\"SQ1\\\",\\n        \\\"SQ2\\\",\\n        \\\"SQ3\\\",\\n        \\\"SU2\\\",\\n        \\\"SU3\\\",\\n        \\\"SU5\\\",\\n        \\\"SB1\\\",\\n        \\\"SC\\\",\\n        \\\"SI\\\",\\n        \\\"SM\\\",\\n        \\\"SQ\\\",\\n        \\\"SU\\\",\\n    ],\\n}\";\n",
       "                var nbb_formatted_code = \"recodes = {\\n    \\\"IR\\\": {\\n        \\\"1a\\\": [\\\"IR1\\\", \\\"CR1\\\", \\\"IB1\\\", \\\"IW1\\\", \\\"VI5\\\", \\\"IW\\\"],\\n        \\\"1b\\\": [\\\"IR2\\\", \\\"CR2\\\", \\\"IB2\\\", \\\"IB3\\\", \\\"IW2\\\"],\\n        \\\"1c\\\": [\\\"IR5\\\"],\\n        \\\"1d\\\": [\\\"IR3\\\", \\\"IR4\\\", \\\"IH3\\\", \\\"IH4\\\"],\\n    },\\n    \\\"FSP\\\": {\\n        \\\"2a\\\": [\\\"F11\\\", \\\"F12\\\", \\\"B11\\\", \\\"B12\\\", \\\"F1\\\"],\\n        \\\"2b\\\": [\\n            \\\"F21\\\",\\n            \\\"F22\\\",\\n            \\\"F23\\\",\\n            \\\"F24\\\",\\n            \\\"F25\\\",\\n            \\\"C21\\\",\\n            \\\"C22\\\",\\n            \\\"C23\\\",\\n            \\\"C24\\\",\\n            \\\"C25\\\",\\n            \\\"B21\\\",\\n            \\\"B22\\\",\\n            \\\"B23\\\",\\n            \\\"B24\\\",\\n            \\\"B25\\\",\\n            \\\"FX\\\",\\n            \\\"FX1\\\",\\n            \\\"FX2\\\",\\n            \\\"FX3\\\",\\n            \\\"CX\\\",\\n            \\\"CX1\\\",\\n            \\\"CX2\\\",\\n            \\\"CX3\\\",\\n            \\\"BX1\\\",\\n            \\\"BX2\\\",\\n            \\\"BX3\\\",\\n        ],\\n        \\\"2c\\\": [\\\"F31\\\", \\\"F32\\\", \\\"F33\\\", \\\"C31\\\", \\\"C32\\\", \\\"C33\\\", \\\"B31\\\", \\\"B32\\\", \\\"B33\\\", \\\"F3\\\"],\\n        \\\"2d\\\": [\\\"F41\\\", \\\"F42\\\", \\\"F43\\\", \\\"F4\\\"],\\n    },\\n    \\\"EB\\\": {\\n        \\\"3a\\\": [\\\"E11\\\", \\\"E12\\\", \\\"E13\\\", \\\"E14\\\", \\\"E15\\\", \\\"E1\\\"],\\n        \\\"3b\\\": [\\\"E21\\\", \\\"E22\\\", \\\"E23\\\", \\\"E2\\\"],\\n        \\\"3c\\\": [\\\"E31\\\", \\\"E32\\\", \\\"E34\\\", \\\"E35\\\", \\\"EW3\\\", \\\"EW4\\\", \\\"EW5\\\", \\\"E3\\\", \\\"EW\\\"],\\n        \\\"3d\\\": [\\n            \\\"BC1\\\",\\n            \\\"BC2\\\",\\n            \\\"BC3\\\",\\n            \\\"SD1\\\",\\n            \\\"SD2\\\",\\n            \\\"SD3\\\",\\n            \\\"SE1\\\",\\n            \\\"SE2\\\",\\n            \\\"SE3\\\",\\n            \\\"SF1\\\",\\n            \\\"SF2\\\",\\n            \\\"SG1\\\",\\n            \\\"SG2\\\",\\n            \\\"SH1\\\",\\n            \\\"SH2\\\",\\n            \\\"SJ1\\\",\\n            \\\"SJ2\\\",\\n            \\\"SK1\\\",\\n            \\\"SK2\\\",\\n            \\\"SK3\\\",\\n            \\\"SK4\\\",\\n            \\\"SL1\\\",\\n            \\\"SN1\\\",\\n            \\\"SN2\\\",\\n            \\\"SN3\\\",\\n            \\\"SN4\\\",\\n            \\\"SR1\\\",\\n            \\\"SR2\\\",\\n            \\\"SR3\\\",\\n            \\\"BC\\\",\\n            \\\"E4\\\",\\n            \\\"SD\\\",\\n            \\\"SE\\\",\\n            \\\"SF\\\",\\n            \\\"SG\\\",\\n            \\\"SH\\\",\\n            \\\"SJ\\\",\\n            \\\"SK\\\",\\n            \\\"SN\\\",\\n            \\\"SR\\\",\\n        ],\\n        \\\"3e\\\": [\\n            \\\"C51\\\",\\n            \\\"C52\\\",\\n            \\\"C53\\\",\\n            \\\"T51\\\",\\n            \\\"T52\\\",\\n            \\\"T53\\\",\\n            \\\"R51\\\",\\n            \\\"R52\\\",\\n            \\\"R53\\\",\\n            \\\"I51\\\",\\n            \\\"I52\\\",\\n            \\\"I53\\\",\\n            \\\"C5\\\",\\n            \\\"T5\\\",\\n            \\\"R5\\\",\\n            \\\"I5\\\",\\n        ],\\n    },\\n    \\\"DI\\\": [\\\"DV1\\\", \\\"DV2\\\", \\\"DV3\\\", \\\"DV\\\"],\\n    \\\"Other\\\": [\\n        \\\"AM\\\",\\n        \\\"AM1\\\",\\n        \\\"AM2\\\",\\n        \\\"AM3\\\",\\n        \\\"SC2\\\",\\n        \\\"SI1\\\",\\n        \\\"SI2\\\",\\n        \\\"SI3\\\",\\n        \\\"SM1\\\",\\n        \\\"SM2\\\",\\n        \\\"SM3\\\",\\n        \\\"SQ1\\\",\\n        \\\"SQ2\\\",\\n        \\\"SQ3\\\",\\n        \\\"SU2\\\",\\n        \\\"SU3\\\",\\n        \\\"SU5\\\",\\n        \\\"SB1\\\",\\n        \\\"SC\\\",\\n        \\\"SI\\\",\\n        \\\"SM\\\",\\n        \\\"SQ\\\",\\n        \\\"SU\\\",\\n    ],\\n}\";\n",
       "                var nbb_cells = Jupyter.notebook.get_cells();\n",
       "                for (var i = 0; i < nbb_cells.length; ++i) {\n",
       "                    if (nbb_cells[i].input_prompt_number == nbb_cell_id) {\n",
       "                        if (nbb_cells[i].get_text() == nbb_unformatted_code) {\n",
       "                             nbb_cells[i].set_text(nbb_formatted_code);\n",
       "                        }\n",
       "                        break;\n",
       "                    }\n",
       "                }\n",
       "            }, 500);\n",
       "            "
      ],
      "text/plain": [
       "<IPython.core.display.Javascript object>"
      ]
     },
     "metadata": {},
     "output_type": "display_data"
    }
   ],
   "source": [
    "recodes = {\n",
    "    \"IR\": {\n",
    "        \"1a\": [\"IR1\", \"CR1\", \"IB1\", \"IW1\", \"VI5\", \"IW\"],\n",
    "        \"1b\": [\"IR2\", \"CR2\", \"IB2\", \"IB3\", \"IW2\"],\n",
    "        \"1c\": [\"IR5\"],\n",
    "        \"1d\": [\"IR3\", \"IR4\", \"IH3\", \"IH4\"],\n",
    "    },\n",
    "    \"FSP\": {\n",
    "        \"2a\": [\"F11\", \"F12\", \"B11\", \"B12\", \"F1\"],\n",
    "        \"2b\": [\n",
    "            \"F21\",\n",
    "            \"F22\",\n",
    "            \"F23\",\n",
    "            \"F24\",\n",
    "            \"F25\",\n",
    "            \"C21\",\n",
    "            \"C22\",\n",
    "            \"C23\",\n",
    "            \"C24\",\n",
    "            \"C25\",\n",
    "            \"B21\",\n",
    "            \"B22\",\n",
    "            \"B23\",\n",
    "            \"B24\",\n",
    "            \"B25\",\n",
    "            \"FX\",\n",
    "            \"FX1\",\n",
    "            \"FX2\",\n",
    "            \"FX3\",\n",
    "            \"CX\",\n",
    "            \"CX1\",\n",
    "            \"CX2\",\n",
    "            \"CX3\",\n",
    "            \"BX1\",\n",
    "            \"BX2\",\n",
    "            \"BX3\",\n",
    "        ],\n",
    "        \"2c\": [\"F31\", \"F32\", \"F33\", \"C31\", \"C32\", \"C33\", \"B31\", \"B32\", \"B33\", \"F3\"],\n",
    "        \"2d\": [\"F41\", \"F42\", \"F43\", \"F4\"],\n",
    "    },\n",
    "    \"EB\": {\n",
    "        \"3a\": [\"E11\", \"E12\", \"E13\", \"E14\", \"E15\", \"E1\"],\n",
    "        \"3b\": [\"E21\", \"E22\", \"E23\", \"E2\"],\n",
    "        \"3c\": [\"E31\", \"E32\", \"E34\", \"E35\", \"EW3\", \"EW4\", \"EW5\", \"E3\", \"EW\"],\n",
    "        \"3d\": [\n",
    "            \"BC1\",\n",
    "            \"BC2\",\n",
    "            \"BC3\",\n",
    "            \"SD1\",\n",
    "            \"SD2\",\n",
    "            \"SD3\",\n",
    "            \"SE1\",\n",
    "            \"SE2\",\n",
    "            \"SE3\",\n",
    "            \"SF1\",\n",
    "            \"SF2\",\n",
    "            \"SG1\",\n",
    "            \"SG2\",\n",
    "            \"SH1\",\n",
    "            \"SH2\",\n",
    "            \"SJ1\",\n",
    "            \"SJ2\",\n",
    "            \"SK1\",\n",
    "            \"SK2\",\n",
    "            \"SK3\",\n",
    "            \"SK4\",\n",
    "            \"SL1\",\n",
    "            \"SN1\",\n",
    "            \"SN2\",\n",
    "            \"SN3\",\n",
    "            \"SN4\",\n",
    "            \"SR1\",\n",
    "            \"SR2\",\n",
    "            \"SR3\",\n",
    "            \"BC\",\n",
    "            \"E4\",\n",
    "            \"SD\",\n",
    "            \"SE\",\n",
    "            \"SF\",\n",
    "            \"SG\",\n",
    "            \"SH\",\n",
    "            \"SJ\",\n",
    "            \"SK\",\n",
    "            \"SN\",\n",
    "            \"SR\",\n",
    "        ],\n",
    "        \"3e\": [\n",
    "            \"C51\",\n",
    "            \"C52\",\n",
    "            \"C53\",\n",
    "            \"T51\",\n",
    "            \"T52\",\n",
    "            \"T53\",\n",
    "            \"R51\",\n",
    "            \"R52\",\n",
    "            \"R53\",\n",
    "            \"I51\",\n",
    "            \"I52\",\n",
    "            \"I53\",\n",
    "            \"C5\",\n",
    "            \"T5\",\n",
    "            \"R5\",\n",
    "            \"I5\",\n",
    "        ],\n",
    "    },\n",
    "    \"DI\": [\"DV1\", \"DV2\", \"DV3\", \"DV\"],\n",
    "    \"Other\": [\n",
    "        \"AM\",\n",
    "        \"AM1\",\n",
    "        \"AM2\",\n",
    "        \"AM3\",\n",
    "        \"SC2\",\n",
    "        \"SI1\",\n",
    "        \"SI2\",\n",
    "        \"SI3\",\n",
    "        \"SM1\",\n",
    "        \"SM2\",\n",
    "        \"SM3\",\n",
    "        \"SQ1\",\n",
    "        \"SQ2\",\n",
    "        \"SQ3\",\n",
    "        \"SU2\",\n",
    "        \"SU3\",\n",
    "        \"SU5\",\n",
    "        \"SB1\",\n",
    "        \"SC\",\n",
    "        \"SI\",\n",
    "        \"SM\",\n",
    "        \"SQ\",\n",
    "        \"SU\",\n",
    "    ],\n",
    "}"
   ]
  },
  {
   "cell_type": "code",
   "execution_count": null,
   "metadata": {
    "executionInfo": {
     "elapsed": 12,
     "status": "aborted",
     "timestamp": 1635790864170,
     "user": {
      "displayName": "Michael Dowd",
      "photoUrl": "https://lh3.googleusercontent.com/a/default-user=s64",
      "userId": "00770521119407228668"
     },
     "user_tz": 420
    },
    "id": "H0qEfpr2lJVh",
    "outputId": "84ba7e35-7f18-460d-9c0f-1945b7fe4b5f"
   },
   "outputs": [
    {
     "data": {
      "application/javascript": [
       "\n",
       "            setTimeout(function() {\n",
       "                var nbb_cell_id = 67;\n",
       "                var nbb_unformatted_code = \"unpack_codes = []\\nfor k in recodes:\\n    next_level = recodes[k]\\n    if isinstance(next_level, dict):\\n        for sub_k in next_level:\\n            unpack_codes += [[k, sub_k, val] for val in next_level[sub_k]]\\n    else:\\n        unpack_codes += [[k, k, val] for val in next_level]\\n\\ncoding_map = pd.DataFrame(\\n    unpack_codes, columns=[\\\"base_code\\\", \\\"base_2_code\\\", \\\"detail_code\\\"]\\n)\";\n",
       "                var nbb_formatted_code = \"unpack_codes = []\\nfor k in recodes:\\n    next_level = recodes[k]\\n    if isinstance(next_level, dict):\\n        for sub_k in next_level:\\n            unpack_codes += [[k, sub_k, val] for val in next_level[sub_k]]\\n    else:\\n        unpack_codes += [[k, k, val] for val in next_level]\\n\\ncoding_map = pd.DataFrame(\\n    unpack_codes, columns=[\\\"base_code\\\", \\\"base_2_code\\\", \\\"detail_code\\\"]\\n)\";\n",
       "                var nbb_cells = Jupyter.notebook.get_cells();\n",
       "                for (var i = 0; i < nbb_cells.length; ++i) {\n",
       "                    if (nbb_cells[i].input_prompt_number == nbb_cell_id) {\n",
       "                        if (nbb_cells[i].get_text() == nbb_unformatted_code) {\n",
       "                             nbb_cells[i].set_text(nbb_formatted_code);\n",
       "                        }\n",
       "                        break;\n",
       "                    }\n",
       "                }\n",
       "            }, 500);\n",
       "            "
      ],
      "text/plain": [
       "<IPython.core.display.Javascript object>"
      ]
     },
     "metadata": {},
     "output_type": "display_data"
    }
   ],
   "source": [
    "unpack_codes = []\n",
    "for k in recodes:\n",
    "    next_level = recodes[k]\n",
    "    if isinstance(next_level, dict):\n",
    "        for sub_k in next_level:\n",
    "            unpack_codes += [[k, sub_k, val] for val in next_level[sub_k]]\n",
    "    else:\n",
    "        unpack_codes += [[k, k, val] for val in next_level]\n",
    "\n",
    "coding_map = pd.DataFrame(\n",
    "    unpack_codes, columns=[\"base_code\", \"base_2_code\", \"detail_code\"]\n",
    ")"
   ]
  },
  {
   "cell_type": "code",
   "execution_count": null,
   "metadata": {
    "executionInfo": {
     "elapsed": 13,
     "status": "aborted",
     "timestamp": 1635790864172,
     "user": {
      "displayName": "Michael Dowd",
      "photoUrl": "https://lh3.googleusercontent.com/a/default-user=s64",
      "userId": "00770521119407228668"
     },
     "user_tz": 420
    },
    "id": "X3mMfM8TqDQm",
    "outputId": "81b3e8a5-d82e-4307-cdff-4a8d2f6d61ab"
   },
   "outputs": [
    {
     "data": {
      "application/javascript": [
       "\n",
       "            setTimeout(function() {\n",
       "                var nbb_cell_id = 68;\n",
       "                var nbb_unformatted_code = \"summary_data = coding_map.merge(\\n    fsc_data_2019_2021, left_on=\\\"detail_code\\\", right_on=\\\"Visa Class\\\", how=\\\"right\\\"\\n)\\n\\nsummary_data.base_code = summary_data.base_code.fillna(\\\"NA\\\")\\nsummary_data.detail_code = summary_data.detail_code.fillna(\\\"NA\\\")\";\n",
       "                var nbb_formatted_code = \"summary_data = coding_map.merge(\\n    fsc_data_2019_2021, left_on=\\\"detail_code\\\", right_on=\\\"Visa Class\\\", how=\\\"right\\\"\\n)\\n\\nsummary_data.base_code = summary_data.base_code.fillna(\\\"NA\\\")\\nsummary_data.detail_code = summary_data.detail_code.fillna(\\\"NA\\\")\";\n",
       "                var nbb_cells = Jupyter.notebook.get_cells();\n",
       "                for (var i = 0; i < nbb_cells.length; ++i) {\n",
       "                    if (nbb_cells[i].input_prompt_number == nbb_cell_id) {\n",
       "                        if (nbb_cells[i].get_text() == nbb_unformatted_code) {\n",
       "                             nbb_cells[i].set_text(nbb_formatted_code);\n",
       "                        }\n",
       "                        break;\n",
       "                    }\n",
       "                }\n",
       "            }, 500);\n",
       "            "
      ],
      "text/plain": [
       "<IPython.core.display.Javascript object>"
      ]
     },
     "metadata": {},
     "output_type": "display_data"
    }
   ],
   "source": [
    "summary_data = coding_map.merge(\n",
    "    fsc_data_2019_2021, left_on=\"detail_code\", right_on=\"Visa Class\", how=\"right\"\n",
    ")\n",
    "\n",
    "summary_data.base_code = summary_data.base_code.fillna(\"NA\")\n",
    "summary_data.detail_code = summary_data.detail_code.fillna(\"NA\")"
   ]
  },
  {
   "cell_type": "code",
   "execution_count": null,
   "metadata": {
    "id": "MNSj_X_EexkR",
    "outputId": "80d2fb58-c24d-4afc-f7ae-d4caafae1c34"
   },
   "outputs": [
    {
     "data": {
      "text/plain": [
       "(11750, 4)"
      ]
     },
     "execution_count": 70,
     "metadata": {},
     "output_type": "execute_result"
    },
    {
     "data": {
      "application/javascript": [
       "\n",
       "            setTimeout(function() {\n",
       "                var nbb_cell_id = 70;\n",
       "                var nbb_unformatted_code = \"fsc_data_2019_2021.shape\";\n",
       "                var nbb_formatted_code = \"fsc_data_2019_2021.shape\";\n",
       "                var nbb_cells = Jupyter.notebook.get_cells();\n",
       "                for (var i = 0; i < nbb_cells.length; ++i) {\n",
       "                    if (nbb_cells[i].input_prompt_number == nbb_cell_id) {\n",
       "                        if (nbb_cells[i].get_text() == nbb_unformatted_code) {\n",
       "                             nbb_cells[i].set_text(nbb_formatted_code);\n",
       "                        }\n",
       "                        break;\n",
       "                    }\n",
       "                }\n",
       "            }, 500);\n",
       "            "
      ],
      "text/plain": [
       "<IPython.core.display.Javascript object>"
      ]
     },
     "metadata": {},
     "output_type": "display_data"
    }
   ],
   "source": [
    "fsc_data_2019_2021.shape"
   ]
  },
  {
   "cell_type": "code",
   "execution_count": null,
   "metadata": {
    "id": "SfatyB2rexkR",
    "outputId": "b6c61d34-5022-45e2-8965-7eefdd746c19"
   },
   "outputs": [
    {
     "data": {
      "text/html": [
       "<div>\n",
       "<style scoped>\n",
       "    .dataframe tbody tr th:only-of-type {\n",
       "        vertical-align: middle;\n",
       "    }\n",
       "\n",
       "    .dataframe tbody tr th {\n",
       "        vertical-align: top;\n",
       "    }\n",
       "\n",
       "    .dataframe thead th {\n",
       "        text-align: right;\n",
       "    }\n",
       "</style>\n",
       "<table border=\"1\" class=\"dataframe\">\n",
       "  <thead>\n",
       "    <tr style=\"text-align: right;\">\n",
       "      <th></th>\n",
       "      <th>base_code</th>\n",
       "      <th>base_2_code</th>\n",
       "      <th>detail_code</th>\n",
       "      <th>FSC</th>\n",
       "      <th>Visa Class</th>\n",
       "      <th>Issuances</th>\n",
       "      <th>source</th>\n",
       "    </tr>\n",
       "  </thead>\n",
       "  <tbody>\n",
       "    <tr>\n",
       "      <th>0</th>\n",
       "      <td>IR</td>\n",
       "      <td>1a</td>\n",
       "      <td>CR1</td>\n",
       "      <td>Afghanistan</td>\n",
       "      <td>CR1</td>\n",
       "      <td>2</td>\n",
       "      <td>2021-01-01</td>\n",
       "    </tr>\n",
       "    <tr>\n",
       "      <th>1</th>\n",
       "      <td>IR</td>\n",
       "      <td>1a</td>\n",
       "      <td>IR1</td>\n",
       "      <td>Afghanistan</td>\n",
       "      <td>IR1</td>\n",
       "      <td>23</td>\n",
       "      <td>2021-01-01</td>\n",
       "    </tr>\n",
       "    <tr>\n",
       "      <th>2</th>\n",
       "      <td>IR</td>\n",
       "      <td>1b</td>\n",
       "      <td>IR2</td>\n",
       "      <td>Afghanistan</td>\n",
       "      <td>IR2</td>\n",
       "      <td>2</td>\n",
       "      <td>2021-01-01</td>\n",
       "    </tr>\n",
       "    <tr>\n",
       "      <th>3</th>\n",
       "      <td>Other</td>\n",
       "      <td>Other</td>\n",
       "      <td>SB1</td>\n",
       "      <td>Afghanistan</td>\n",
       "      <td>SB1</td>\n",
       "      <td>3</td>\n",
       "      <td>2021-01-01</td>\n",
       "    </tr>\n",
       "    <tr>\n",
       "      <th>4</th>\n",
       "      <td>Other</td>\n",
       "      <td>Other</td>\n",
       "      <td>SI1</td>\n",
       "      <td>Afghanistan</td>\n",
       "      <td>SI1</td>\n",
       "      <td>1</td>\n",
       "      <td>2021-01-01</td>\n",
       "    </tr>\n",
       "    <tr>\n",
       "      <th>...</th>\n",
       "      <td>...</td>\n",
       "      <td>...</td>\n",
       "      <td>...</td>\n",
       "      <td>...</td>\n",
       "      <td>...</td>\n",
       "      <td>...</td>\n",
       "      <td>...</td>\n",
       "    </tr>\n",
       "    <tr>\n",
       "      <th>11745</th>\n",
       "      <td>IR</td>\n",
       "      <td>1a</td>\n",
       "      <td>IB1</td>\n",
       "      <td>Zimbabwe</td>\n",
       "      <td>IB1</td>\n",
       "      <td>1</td>\n",
       "      <td>2021-09-01</td>\n",
       "    </tr>\n",
       "    <tr>\n",
       "      <th>11746</th>\n",
       "      <td>IR</td>\n",
       "      <td>1a</td>\n",
       "      <td>IR1</td>\n",
       "      <td>Zimbabwe</td>\n",
       "      <td>IR1</td>\n",
       "      <td>5</td>\n",
       "      <td>2021-09-01</td>\n",
       "    </tr>\n",
       "    <tr>\n",
       "      <th>11747</th>\n",
       "      <td>IR</td>\n",
       "      <td>1b</td>\n",
       "      <td>IR2</td>\n",
       "      <td>Zimbabwe</td>\n",
       "      <td>IR2</td>\n",
       "      <td>1</td>\n",
       "      <td>2021-09-01</td>\n",
       "    </tr>\n",
       "    <tr>\n",
       "      <th>11748</th>\n",
       "      <td>IR</td>\n",
       "      <td>1c</td>\n",
       "      <td>IR5</td>\n",
       "      <td>Zimbabwe</td>\n",
       "      <td>IR5</td>\n",
       "      <td>15</td>\n",
       "      <td>2021-09-01</td>\n",
       "    </tr>\n",
       "    <tr>\n",
       "      <th>11749</th>\n",
       "      <td>Other</td>\n",
       "      <td>Other</td>\n",
       "      <td>SB1</td>\n",
       "      <td>Zimbabwe</td>\n",
       "      <td>SB1</td>\n",
       "      <td>1</td>\n",
       "      <td>2021-09-01</td>\n",
       "    </tr>\n",
       "  </tbody>\n",
       "</table>\n",
       "<p>11750 rows × 7 columns</p>\n",
       "</div>"
      ],
      "text/plain": [
       "      base_code base_2_code detail_code          FSC Visa Class  Issuances  \\\n",
       "0            IR          1a         CR1  Afghanistan        CR1          2   \n",
       "1            IR          1a         IR1  Afghanistan        IR1         23   \n",
       "2            IR          1b         IR2  Afghanistan        IR2          2   \n",
       "3         Other       Other         SB1  Afghanistan        SB1          3   \n",
       "4         Other       Other         SI1  Afghanistan        SI1          1   \n",
       "...         ...         ...         ...          ...        ...        ...   \n",
       "11745        IR          1a         IB1     Zimbabwe        IB1          1   \n",
       "11746        IR          1a         IR1     Zimbabwe        IR1          5   \n",
       "11747        IR          1b         IR2     Zimbabwe        IR2          1   \n",
       "11748        IR          1c         IR5     Zimbabwe        IR5         15   \n",
       "11749     Other       Other         SB1     Zimbabwe        SB1          1   \n",
       "\n",
       "          source  \n",
       "0     2021-01-01  \n",
       "1     2021-01-01  \n",
       "2     2021-01-01  \n",
       "3     2021-01-01  \n",
       "4     2021-01-01  \n",
       "...          ...  \n",
       "11745 2021-09-01  \n",
       "11746 2021-09-01  \n",
       "11747 2021-09-01  \n",
       "11748 2021-09-01  \n",
       "11749 2021-09-01  \n",
       "\n",
       "[11750 rows x 7 columns]"
      ]
     },
     "execution_count": 74,
     "metadata": {},
     "output_type": "execute_result"
    },
    {
     "data": {
      "application/javascript": [
       "\n",
       "            setTimeout(function() {\n",
       "                var nbb_cell_id = 74;\n",
       "                var nbb_unformatted_code = \"summary_data\";\n",
       "                var nbb_formatted_code = \"summary_data\";\n",
       "                var nbb_cells = Jupyter.notebook.get_cells();\n",
       "                for (var i = 0; i < nbb_cells.length; ++i) {\n",
       "                    if (nbb_cells[i].input_prompt_number == nbb_cell_id) {\n",
       "                        if (nbb_cells[i].get_text() == nbb_unformatted_code) {\n",
       "                             nbb_cells[i].set_text(nbb_formatted_code);\n",
       "                        }\n",
       "                        break;\n",
       "                    }\n",
       "                }\n",
       "            }, 500);\n",
       "            "
      ],
      "text/plain": [
       "<IPython.core.display.Javascript object>"
      ]
     },
     "metadata": {},
     "output_type": "display_data"
    }
   ],
   "source": [
    "summary_data"
   ]
  },
  {
   "cell_type": "code",
   "execution_count": null,
   "metadata": {
    "id": "XszNdfWRexkR",
    "outputId": "ff557b0a-d3e8-4f13-c575-850b2653e4e6"
   },
   "outputs": [
    {
     "name": "stdout",
     "output_type": "stream",
     "text": [
      "  base_code     source  Issuances\n",
      "0        DI 2021-01-01          1\n",
      "1        DI 2021-02-01          1\n",
      "2        DI 2021-03-01         20\n",
      "3        DI 2021-04-01        534\n",
      "4        DI 2021-05-01        965\n"
     ]
    },
    {
     "data": {
      "text/html": [
       "<div>\n",
       "<style scoped>\n",
       "    .dataframe tbody tr th:only-of-type {\n",
       "        vertical-align: middle;\n",
       "    }\n",
       "\n",
       "    .dataframe tbody tr th {\n",
       "        vertical-align: top;\n",
       "    }\n",
       "\n",
       "    .dataframe thead th {\n",
       "        text-align: right;\n",
       "    }\n",
       "</style>\n",
       "<table border=\"1\" class=\"dataframe\">\n",
       "  <thead>\n",
       "    <tr style=\"text-align: right;\">\n",
       "      <th>source</th>\n",
       "      <th>2021-01-01</th>\n",
       "      <th>2021-02-01</th>\n",
       "      <th>2021-03-01</th>\n",
       "      <th>2021-04-01</th>\n",
       "      <th>2021-05-01</th>\n",
       "      <th>2021-06-01</th>\n",
       "      <th>2021-07-01</th>\n",
       "      <th>2021-08-01</th>\n",
       "      <th>2021-09-01</th>\n",
       "    </tr>\n",
       "    <tr>\n",
       "      <th>base_code</th>\n",
       "      <th></th>\n",
       "      <th></th>\n",
       "      <th></th>\n",
       "      <th></th>\n",
       "      <th></th>\n",
       "      <th></th>\n",
       "      <th></th>\n",
       "      <th></th>\n",
       "      <th></th>\n",
       "    </tr>\n",
       "  </thead>\n",
       "  <tbody>\n",
       "    <tr>\n",
       "      <th>DI</th>\n",
       "      <td>1.0</td>\n",
       "      <td>1.0</td>\n",
       "      <td>20.0</td>\n",
       "      <td>534.0</td>\n",
       "      <td>965.0</td>\n",
       "      <td>1552.0</td>\n",
       "      <td>1824.0</td>\n",
       "      <td>4155.0</td>\n",
       "      <td>8770.0</td>\n",
       "    </tr>\n",
       "    <tr>\n",
       "      <th>EB</th>\n",
       "      <td>1406.0</td>\n",
       "      <td>1334.0</td>\n",
       "      <td>2624.0</td>\n",
       "      <td>1692.0</td>\n",
       "      <td>2105.0</td>\n",
       "      <td>3020.0</td>\n",
       "      <td>2226.0</td>\n",
       "      <td>1923.0</td>\n",
       "      <td>1970.0</td>\n",
       "    </tr>\n",
       "    <tr>\n",
       "      <th>FSP</th>\n",
       "      <td>296.0</td>\n",
       "      <td>296.0</td>\n",
       "      <td>2336.0</td>\n",
       "      <td>6317.0</td>\n",
       "      <td>6242.0</td>\n",
       "      <td>8566.0</td>\n",
       "      <td>10601.0</td>\n",
       "      <td>12039.0</td>\n",
       "      <td>13124.0</td>\n",
       "    </tr>\n",
       "    <tr>\n",
       "      <th>IR</th>\n",
       "      <td>9689.0</td>\n",
       "      <td>11252.0</td>\n",
       "      <td>15720.0</td>\n",
       "      <td>14937.0</td>\n",
       "      <td>15250.0</td>\n",
       "      <td>21602.0</td>\n",
       "      <td>21569.0</td>\n",
       "      <td>22239.0</td>\n",
       "      <td>21076.0</td>\n",
       "    </tr>\n",
       "    <tr>\n",
       "      <th>NA</th>\n",
       "      <td>NaN</td>\n",
       "      <td>19.0</td>\n",
       "      <td>294.0</td>\n",
       "      <td>678.0</td>\n",
       "      <td>765.0</td>\n",
       "      <td>898.0</td>\n",
       "      <td>1152.0</td>\n",
       "      <td>2292.0</td>\n",
       "      <td>1911.0</td>\n",
       "    </tr>\n",
       "    <tr>\n",
       "      <th>Other</th>\n",
       "      <td>488.0</td>\n",
       "      <td>300.0</td>\n",
       "      <td>676.0</td>\n",
       "      <td>683.0</td>\n",
       "      <td>877.0</td>\n",
       "      <td>2294.0</td>\n",
       "      <td>2633.0</td>\n",
       "      <td>2843.0</td>\n",
       "      <td>603.0</td>\n",
       "    </tr>\n",
       "  </tbody>\n",
       "</table>\n",
       "</div>"
      ],
      "text/plain": [
       "source     2021-01-01  2021-02-01  2021-03-01  2021-04-01  2021-05-01  \\\n",
       "base_code                                                               \n",
       "DI                1.0         1.0        20.0       534.0       965.0   \n",
       "EB             1406.0      1334.0      2624.0      1692.0      2105.0   \n",
       "FSP             296.0       296.0      2336.0      6317.0      6242.0   \n",
       "IR             9689.0     11252.0     15720.0     14937.0     15250.0   \n",
       "NA                NaN        19.0       294.0       678.0       765.0   \n",
       "Other           488.0       300.0       676.0       683.0       877.0   \n",
       "\n",
       "source     2021-06-01  2021-07-01  2021-08-01  2021-09-01  \n",
       "base_code                                                  \n",
       "DI             1552.0      1824.0      4155.0      8770.0  \n",
       "EB             3020.0      2226.0      1923.0      1970.0  \n",
       "FSP            8566.0     10601.0     12039.0     13124.0  \n",
       "IR            21602.0     21569.0     22239.0     21076.0  \n",
       "NA              898.0      1152.0      2292.0      1911.0  \n",
       "Other          2294.0      2633.0      2843.0       603.0  "
      ]
     },
     "execution_count": 84,
     "metadata": {},
     "output_type": "execute_result"
    },
    {
     "data": {
      "application/javascript": [
       "\n",
       "            setTimeout(function() {\n",
       "                var nbb_cell_id = 84;\n",
       "                var nbb_unformatted_code = \"base_code_summary_long = (\\n    summary_data.groupby([\\\"base_code\\\", \\\"source\\\"]).Issuances.sum().reset_index()\\n)\\nprint(base_code_summary_long.head())\\n\\nbase_code_summary_long.pivot(index=\\\"base_code\\\", columns=\\\"source\\\", values=\\\"Issuances\\\")\";\n",
       "                var nbb_formatted_code = \"base_code_summary_long = (\\n    summary_data.groupby([\\\"base_code\\\", \\\"source\\\"]).Issuances.sum().reset_index()\\n)\\nprint(base_code_summary_long.head())\\n\\nbase_code_summary_long.pivot(index=\\\"base_code\\\", columns=\\\"source\\\", values=\\\"Issuances\\\")\";\n",
       "                var nbb_cells = Jupyter.notebook.get_cells();\n",
       "                for (var i = 0; i < nbb_cells.length; ++i) {\n",
       "                    if (nbb_cells[i].input_prompt_number == nbb_cell_id) {\n",
       "                        if (nbb_cells[i].get_text() == nbb_unformatted_code) {\n",
       "                             nbb_cells[i].set_text(nbb_formatted_code);\n",
       "                        }\n",
       "                        break;\n",
       "                    }\n",
       "                }\n",
       "            }, 500);\n",
       "            "
      ],
      "text/plain": [
       "<IPython.core.display.Javascript object>"
      ]
     },
     "metadata": {},
     "output_type": "display_data"
    }
   ],
   "source": [
    "base_code_summary_long = (\n",
    "    summary_data.groupby([\"base_code\", \"source\"]).Issuances.sum().reset_index()\n",
    ")\n",
    "print(base_code_summary_long.head())\n",
    "\n",
    "base_code_summary_long.pivot(index=\"base_code\", columns=\"source\", values=\"Issuances\")"
   ]
  },
  {
   "cell_type": "code",
   "execution_count": null,
   "metadata": {
    "id": "FoYftO2ZexkR",
    "outputId": "ee5a0240-a2b6-4ce2-e284-c25cd263ac87"
   },
   "outputs": [
    {
     "name": "stdout",
     "output_type": "stream",
     "text": [
      "  base_code base_2_code     source  Issuances\n",
      "0        DI          DI 2021-01-01          1\n",
      "1        DI          DI 2021-02-01          1\n",
      "2        DI          DI 2021-03-01         20\n",
      "3        DI          DI 2021-04-01        534\n",
      "4        DI          DI 2021-05-01        965\n"
     ]
    },
    {
     "data": {
      "text/html": [
       "<div>\n",
       "<style scoped>\n",
       "    .dataframe tbody tr th:only-of-type {\n",
       "        vertical-align: middle;\n",
       "    }\n",
       "\n",
       "    .dataframe tbody tr th {\n",
       "        vertical-align: top;\n",
       "    }\n",
       "\n",
       "    .dataframe thead th {\n",
       "        text-align: right;\n",
       "    }\n",
       "</style>\n",
       "<table border=\"1\" class=\"dataframe\">\n",
       "  <thead>\n",
       "    <tr style=\"text-align: right;\">\n",
       "      <th></th>\n",
       "      <th>source</th>\n",
       "      <th>2021-01-01</th>\n",
       "      <th>2021-02-01</th>\n",
       "      <th>2021-03-01</th>\n",
       "      <th>2021-04-01</th>\n",
       "      <th>2021-05-01</th>\n",
       "      <th>2021-06-01</th>\n",
       "      <th>2021-07-01</th>\n",
       "      <th>2021-08-01</th>\n",
       "      <th>2021-09-01</th>\n",
       "    </tr>\n",
       "    <tr>\n",
       "      <th>base_code</th>\n",
       "      <th>base_2_code</th>\n",
       "      <th></th>\n",
       "      <th></th>\n",
       "      <th></th>\n",
       "      <th></th>\n",
       "      <th></th>\n",
       "      <th></th>\n",
       "      <th></th>\n",
       "      <th></th>\n",
       "      <th></th>\n",
       "    </tr>\n",
       "  </thead>\n",
       "  <tbody>\n",
       "    <tr>\n",
       "      <th>DI</th>\n",
       "      <th>DI</th>\n",
       "      <td>1</td>\n",
       "      <td>1</td>\n",
       "      <td>20</td>\n",
       "      <td>534</td>\n",
       "      <td>965</td>\n",
       "      <td>1552</td>\n",
       "      <td>1824</td>\n",
       "      <td>4155</td>\n",
       "      <td>8770</td>\n",
       "    </tr>\n",
       "    <tr>\n",
       "      <th rowspan=\"5\" valign=\"top\">EB</th>\n",
       "      <th>3a</th>\n",
       "      <td>6</td>\n",
       "      <td>6</td>\n",
       "      <td>28</td>\n",
       "      <td>85</td>\n",
       "      <td>149</td>\n",
       "      <td>206</td>\n",
       "      <td>251</td>\n",
       "      <td>271</td>\n",
       "      <td>243</td>\n",
       "    </tr>\n",
       "    <tr>\n",
       "      <th>3b</th>\n",
       "      <td>12</td>\n",
       "      <td>23</td>\n",
       "      <td>84</td>\n",
       "      <td>176</td>\n",
       "      <td>133</td>\n",
       "      <td>246</td>\n",
       "      <td>213</td>\n",
       "      <td>262</td>\n",
       "      <td>293</td>\n",
       "    </tr>\n",
       "    <tr>\n",
       "      <th>3c</th>\n",
       "      <td>1320</td>\n",
       "      <td>1020</td>\n",
       "      <td>1896</td>\n",
       "      <td>1052</td>\n",
       "      <td>937</td>\n",
       "      <td>1428</td>\n",
       "      <td>1147</td>\n",
       "      <td>989</td>\n",
       "      <td>1113</td>\n",
       "    </tr>\n",
       "    <tr>\n",
       "      <th>3d</th>\n",
       "      <td>36</td>\n",
       "      <td>127</td>\n",
       "      <td>235</td>\n",
       "      <td>257</td>\n",
       "      <td>339</td>\n",
       "      <td>597</td>\n",
       "      <td>457</td>\n",
       "      <td>359</td>\n",
       "      <td>297</td>\n",
       "    </tr>\n",
       "    <tr>\n",
       "      <th>3e</th>\n",
       "      <td>32</td>\n",
       "      <td>158</td>\n",
       "      <td>381</td>\n",
       "      <td>122</td>\n",
       "      <td>547</td>\n",
       "      <td>543</td>\n",
       "      <td>158</td>\n",
       "      <td>42</td>\n",
       "      <td>24</td>\n",
       "    </tr>\n",
       "    <tr>\n",
       "      <th rowspan=\"4\" valign=\"top\">FSP</th>\n",
       "      <th>2a</th>\n",
       "      <td>20</td>\n",
       "      <td>36</td>\n",
       "      <td>275</td>\n",
       "      <td>584</td>\n",
       "      <td>829</td>\n",
       "      <td>932</td>\n",
       "      <td>1107</td>\n",
       "      <td>1313</td>\n",
       "      <td>1565</td>\n",
       "    </tr>\n",
       "    <tr>\n",
       "      <th>2b</th>\n",
       "      <td>155</td>\n",
       "      <td>101</td>\n",
       "      <td>1267</td>\n",
       "      <td>3650</td>\n",
       "      <td>2762</td>\n",
       "      <td>3916</td>\n",
       "      <td>4078</td>\n",
       "      <td>5378</td>\n",
       "      <td>5984</td>\n",
       "    </tr>\n",
       "    <tr>\n",
       "      <th>2c</th>\n",
       "      <td>46</td>\n",
       "      <td>46</td>\n",
       "      <td>350</td>\n",
       "      <td>848</td>\n",
       "      <td>961</td>\n",
       "      <td>1036</td>\n",
       "      <td>1156</td>\n",
       "      <td>1285</td>\n",
       "      <td>1582</td>\n",
       "    </tr>\n",
       "    <tr>\n",
       "      <th>2d</th>\n",
       "      <td>75</td>\n",
       "      <td>113</td>\n",
       "      <td>444</td>\n",
       "      <td>1235</td>\n",
       "      <td>1690</td>\n",
       "      <td>2682</td>\n",
       "      <td>4260</td>\n",
       "      <td>4063</td>\n",
       "      <td>3993</td>\n",
       "    </tr>\n",
       "    <tr>\n",
       "      <th rowspan=\"4\" valign=\"top\">IR</th>\n",
       "      <th>1a</th>\n",
       "      <td>6889</td>\n",
       "      <td>8105</td>\n",
       "      <td>10278</td>\n",
       "      <td>6419</td>\n",
       "      <td>6012</td>\n",
       "      <td>7835</td>\n",
       "      <td>8707</td>\n",
       "      <td>9469</td>\n",
       "      <td>8846</td>\n",
       "    </tr>\n",
       "    <tr>\n",
       "      <th>1b</th>\n",
       "      <td>2532</td>\n",
       "      <td>2907</td>\n",
       "      <td>4110</td>\n",
       "      <td>3049</td>\n",
       "      <td>2844</td>\n",
       "      <td>3886</td>\n",
       "      <td>4452</td>\n",
       "      <td>5087</td>\n",
       "      <td>4317</td>\n",
       "    </tr>\n",
       "    <tr>\n",
       "      <th>1c</th>\n",
       "      <td>138</td>\n",
       "      <td>116</td>\n",
       "      <td>1166</td>\n",
       "      <td>5358</td>\n",
       "      <td>6237</td>\n",
       "      <td>9751</td>\n",
       "      <td>8260</td>\n",
       "      <td>7550</td>\n",
       "      <td>7764</td>\n",
       "    </tr>\n",
       "    <tr>\n",
       "      <th>1d</th>\n",
       "      <td>130</td>\n",
       "      <td>124</td>\n",
       "      <td>166</td>\n",
       "      <td>111</td>\n",
       "      <td>157</td>\n",
       "      <td>130</td>\n",
       "      <td>150</td>\n",
       "      <td>133</td>\n",
       "      <td>149</td>\n",
       "    </tr>\n",
       "    <tr>\n",
       "      <th>Other</th>\n",
       "      <th>Other</th>\n",
       "      <td>488</td>\n",
       "      <td>300</td>\n",
       "      <td>676</td>\n",
       "      <td>683</td>\n",
       "      <td>877</td>\n",
       "      <td>2294</td>\n",
       "      <td>2633</td>\n",
       "      <td>2843</td>\n",
       "      <td>603</td>\n",
       "    </tr>\n",
       "  </tbody>\n",
       "</table>\n",
       "</div>"
      ],
      "text/plain": [
       "source                 2021-01-01  2021-02-01  2021-03-01  2021-04-01  \\\n",
       "base_code base_2_code                                                   \n",
       "DI        DI                    1           1          20         534   \n",
       "EB        3a                    6           6          28          85   \n",
       "          3b                   12          23          84         176   \n",
       "          3c                 1320        1020        1896        1052   \n",
       "          3d                   36         127         235         257   \n",
       "          3e                   32         158         381         122   \n",
       "FSP       2a                   20          36         275         584   \n",
       "          2b                  155         101        1267        3650   \n",
       "          2c                   46          46         350         848   \n",
       "          2d                   75         113         444        1235   \n",
       "IR        1a                 6889        8105       10278        6419   \n",
       "          1b                 2532        2907        4110        3049   \n",
       "          1c                  138         116        1166        5358   \n",
       "          1d                  130         124         166         111   \n",
       "Other     Other               488         300         676         683   \n",
       "\n",
       "source                 2021-05-01  2021-06-01  2021-07-01  2021-08-01  \\\n",
       "base_code base_2_code                                                   \n",
       "DI        DI                  965        1552        1824        4155   \n",
       "EB        3a                  149         206         251         271   \n",
       "          3b                  133         246         213         262   \n",
       "          3c                  937        1428        1147         989   \n",
       "          3d                  339         597         457         359   \n",
       "          3e                  547         543         158          42   \n",
       "FSP       2a                  829         932        1107        1313   \n",
       "          2b                 2762        3916        4078        5378   \n",
       "          2c                  961        1036        1156        1285   \n",
       "          2d                 1690        2682        4260        4063   \n",
       "IR        1a                 6012        7835        8707        9469   \n",
       "          1b                 2844        3886        4452        5087   \n",
       "          1c                 6237        9751        8260        7550   \n",
       "          1d                  157         130         150         133   \n",
       "Other     Other               877        2294        2633        2843   \n",
       "\n",
       "source                 2021-09-01  \n",
       "base_code base_2_code              \n",
       "DI        DI                 8770  \n",
       "EB        3a                  243  \n",
       "          3b                  293  \n",
       "          3c                 1113  \n",
       "          3d                  297  \n",
       "          3e                   24  \n",
       "FSP       2a                 1565  \n",
       "          2b                 5984  \n",
       "          2c                 1582  \n",
       "          2d                 3993  \n",
       "IR        1a                 8846  \n",
       "          1b                 4317  \n",
       "          1c                 7764  \n",
       "          1d                  149  \n",
       "Other     Other               603  "
      ]
     },
     "execution_count": 85,
     "metadata": {},
     "output_type": "execute_result"
    },
    {
     "data": {
      "application/javascript": [
       "\n",
       "            setTimeout(function() {\n",
       "                var nbb_cell_id = 85;\n",
       "                var nbb_unformatted_code = \"base_code_summary_long = (\\n    summary_data.groupby([\\\"base_code\\\",'base_2_code', \\\"source\\\"]).Issuances.sum().reset_index()\\n)\\nprint(base_code_summary_long.head())\\n\\nbase_code_summary_long.pivot(index=[\\\"base_code\\\",'base_2_code'], columns=\\\"source\\\", values=\\\"Issuances\\\")\";\n",
       "                var nbb_formatted_code = \"base_code_summary_long = (\\n    summary_data.groupby([\\\"base_code\\\", \\\"base_2_code\\\", \\\"source\\\"])\\n    .Issuances.sum()\\n    .reset_index()\\n)\\nprint(base_code_summary_long.head())\\n\\nbase_code_summary_long.pivot(\\n    index=[\\\"base_code\\\", \\\"base_2_code\\\"], columns=\\\"source\\\", values=\\\"Issuances\\\"\\n)\";\n",
       "                var nbb_cells = Jupyter.notebook.get_cells();\n",
       "                for (var i = 0; i < nbb_cells.length; ++i) {\n",
       "                    if (nbb_cells[i].input_prompt_number == nbb_cell_id) {\n",
       "                        if (nbb_cells[i].get_text() == nbb_unformatted_code) {\n",
       "                             nbb_cells[i].set_text(nbb_formatted_code);\n",
       "                        }\n",
       "                        break;\n",
       "                    }\n",
       "                }\n",
       "            }, 500);\n",
       "            "
      ],
      "text/plain": [
       "<IPython.core.display.Javascript object>"
      ]
     },
     "metadata": {},
     "output_type": "display_data"
    }
   ],
   "source": [
    "base_code_summary_long = (\n",
    "    summary_data.groupby([\"base_code\", \"base_2_code\", \"source\"])\n",
    "    .Issuances.sum()\n",
    "    .reset_index()\n",
    ")\n",
    "print(base_code_summary_long.head())\n",
    "\n",
    "base_code_summary_long.pivot(\n",
    "    index=[\"base_code\", \"base_2_code\"], columns=\"source\", values=\"Issuances\"\n",
    ")"
   ]
  },
  {
   "cell_type": "markdown",
   "metadata": {
    "id": "qxi0CkgpASyh"
   },
   "source": [
    "# End"
   ]
  }
 ],
 "metadata": {
  "colab": {
   "collapsed_sections": [],
   "name": "STATE-DEPT-Monthly-Visa-Stats.ipynb",
   "provenance": [
    {
     "file_id": "1r803je1rskjfRtj8Sm3Mr8aD0YvH_j9n",
     "timestamp": 1635971202156
    }
   ]
  },
  "hide_input": false,
  "kernelspec": {
   "display_name": "Python 3",
   "language": "python",
   "name": "python3"
  },
  "language_info": {
   "codemirror_mode": {
    "name": "ipython",
    "version": 3
   },
   "file_extension": ".py",
   "mimetype": "text/x-python",
   "name": "python",
   "nbconvert_exporter": "python",
   "pygments_lexer": "ipython3",
   "version": "3.8.5"
  }
 },
 "nbformat": 4,
 "nbformat_minor": 1
}
