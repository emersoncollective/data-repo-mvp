{
 "cells": [
  {
   "cell_type": "markdown",
   "metadata": {
    "id": "nDSGKfnnhFvZ"
   },
   "source": [
    "# CBP Data Processing"
   ]
  },
  {
   "cell_type": "markdown",
   "metadata": {
    "id": "vQVSwvmshFva"
   },
   "source": [
    "## Summary\n",
    "Notebook to extract the contents of CBP pdf on apprehensions by nationality at specfiic border crossings. \n",
    "\n",
    "Mostly automated but some manual work.\n",
    "\n",
    "Additional notes:\n",
    "* Totals may not match 100% - appears from comparing TOTAL column and summed totals to be off - generally low rate but would want to add more verification and testing if we plan on using or sharing this data more broadly. \n",
    "* There are many other pdfs which could be extracted - holding for now until we determine if there is value in extracting them "
   ]
  },
  {
   "cell_type": "markdown",
   "metadata": {
    "id": "dOBp0gWYhFvb"
   },
   "source": [
    "dataset source: https://www.cbp.gov/newsroom/media-resources/stats <br>\n",
    "specific file link: https://www.cbp.gov/sites/default/files/assets/documents/2021-Aug/USBORD~3.PDF"
   ]
  },
  {
   "cell_type": "code",
   "execution_count": 8,
   "metadata": {
    "colab": {
     "base_uri": "https://localhost:8080/"
    },
    "executionInfo": {
     "elapsed": 20906,
     "status": "ok",
     "timestamp": 1635973077793,
     "user": {
      "displayName": "Michael Dowd",
      "photoUrl": "https://lh3.googleusercontent.com/a/default-user=s64",
      "userId": "00770521119407228668"
     },
     "user_tz": 420
    },
    "id": "lEZnEImal8MP",
    "outputId": "ff77e281-78ee-4890-f1a4-cb9237f9100a"
   },
   "outputs": [
    {
     "name": "stdout",
     "output_type": "stream",
     "text": [
      "Mounted at /content/drive/\n"
     ]
    }
   ],
   "source": [
    "from google.colab import drive\n",
    "drive.mount(\"/content/drive/\", force_remount=True)"
   ]
  },
  {
   "cell_type": "markdown",
   "metadata": {},
   "source": [
    "**Change the directory to your local copy of the data repo**"
   ]
  },
  {
   "cell_type": "code",
   "execution_count": 9,
   "metadata": {
    "colab": {
     "base_uri": "https://localhost:8080/"
    },
    "executionInfo": {
     "elapsed": 2009,
     "status": "ok",
     "timestamp": 1635973091783,
     "user": {
      "displayName": "Michael Dowd",
      "photoUrl": "https://lh3.googleusercontent.com/a/default-user=s64",
      "userId": "00770521119407228668"
     },
     "user_tz": 420
    },
    "id": "SPniSAB7mERQ",
    "outputId": "1fb2bc32-157f-4393-a459-4a74b83df4e8"
   },
   "outputs": [
    {
     "name": "stdout",
     "output_type": "stream",
     "text": [
      "/content/drive/Shareddrives/Data Products Team/Products/Immigration Data Hub/DataRepo/data-repo-mvp\n"
     ]
    }
   ],
   "source": [
    "%cd /content/drive/MyDrive/data-repo-mvps"
   ]
  },
  {
   "cell_type": "code",
   "execution_count": 1,
   "metadata": {
    "colab": {
     "base_uri": "https://localhost:8080/"
    },
    "executionInfo": {
     "elapsed": 9592,
     "status": "ok",
     "timestamp": 1635972627079,
     "user": {
      "displayName": "Michael Dowd",
      "photoUrl": "https://lh3.googleusercontent.com/a/default-user=s64",
      "userId": "00770521119407228668"
     },
     "user_tz": 420
    },
    "id": "27Blf9kOkQ_N",
    "outputId": "29c8c71e-ea68-41d1-8e8c-6030ada223f7"
   },
   "outputs": [
    {
     "name": "stdout",
     "output_type": "stream",
     "text": [
      "Requirement already satisfied: PyPDF2 in /opt/anaconda3/lib/python3.8/site-packages (1.26.0)\n",
      "Requirement already satisfied: tabula-py in /opt/anaconda3/lib/python3.8/site-packages (2.2.0)\n",
      "Requirement already satisfied: numpy in /opt/anaconda3/lib/python3.8/site-packages (from tabula-py) (1.21.4)\n",
      "Requirement already satisfied: pandas>=0.25.3 in /opt/anaconda3/lib/python3.8/site-packages (from tabula-py) (1.3.4)\n",
      "Requirement already satisfied: distro in /opt/anaconda3/lib/python3.8/site-packages (from tabula-py) (1.5.0)\n",
      "Requirement already satisfied: python-dateutil>=2.7.3 in /opt/anaconda3/lib/python3.8/site-packages (from pandas>=0.25.3->tabula-py) (2.8.2)\n",
      "Requirement already satisfied: pytz>=2017.3 in /opt/anaconda3/lib/python3.8/site-packages (from pandas>=0.25.3->tabula-py) (2021.3)\n",
      "Requirement already satisfied: six>=1.5 in /opt/anaconda3/lib/python3.8/site-packages (from python-dateutil>=2.7.3->pandas>=0.25.3->tabula-py) (1.16.0)\n"
     ]
    }
   ],
   "source": [
    "!pip install PyPDF2\n",
    "!pip install tabula-py"
   ]
  },
  {
   "cell_type": "code",
   "execution_count": 2,
   "metadata": {
    "executionInfo": {
     "elapsed": 191,
     "status": "ok",
     "timestamp": 1635973149210,
     "user": {
      "displayName": "Michael Dowd",
      "photoUrl": "https://lh3.googleusercontent.com/a/default-user=s64",
      "userId": "00770521119407228668"
     },
     "user_tz": 420
    },
    "id": "0vuhMj5chFvb"
   },
   "outputs": [],
   "source": [
    "import pandas as pd\n",
    "import requests\n",
    "import tabula\n",
    "\n",
    "\n",
    "from pathlib import Path\n",
    "from PyPDF2 import PdfFileReader\n",
    "pd.set_option(\"max_rows\", 400)"
   ]
  },
  {
   "cell_type": "code",
   "execution_count": 5,
   "metadata": {
    "executionInfo": {
     "elapsed": 167,
     "status": "ok",
     "timestamp": 1635972830450,
     "user": {
      "displayName": "Michael Dowd",
      "photoUrl": "https://lh3.googleusercontent.com/a/default-user=s64",
      "userId": "00770521119407228668"
     },
     "user_tz": 420
    },
    "id": "LMPivpgxlEak"
   },
   "outputs": [],
   "source": [
    "def download_pdf(url, name, output_folder):\n",
    "    \"\"\"\n",
    "    Function to download a single pdf file from a provided link.\n",
    "\n",
    "    Parameters:\n",
    "      url: Url of the file you want to download\n",
    "      name: name label you want to apply to the file\n",
    "      output_folder: Folder path to savae file\n",
    "\n",
    "    Returns:\n",
    "      Saves the file to the output directory, function itself returns nothing.\n",
    "\n",
    "    Example:\n",
    "      download_pdf(\n",
    "        'https://travel.state.gov/content/travel/en/legal/visa-law0/visa-statistics/immigrant-visa-statistics/monthly-immigrant-visa-issuances.html',\n",
    "        'July 2020 - IV Issuances by Post and Visa Class',\n",
    "        'visa_test/'\n",
    "      )\n",
    "    \"\"\"\n",
    "    output_folder = Path(output_folder)\n",
    "    response = requests.get(url)\n",
    "    if response.status_code == 200:\n",
    "        # Write content in pdf file\n",
    "        outpath = output_folder / f\"{name}.pdf\"\n",
    "        pdf = open(str(outpath), \"wb\")\n",
    "        pdf.write(response.content)\n",
    "        pdf.close()\n",
    "        print(\"File \", f\"{name}.pdf\", \" downloaded\")\n",
    "    else:\n",
    "        print(\"File \", f\"{name}.pdf\", \" not found.\")\n"
   ]
  },
  {
   "cell_type": "code",
   "execution_count": 6,
   "metadata": {
    "executionInfo": {
     "elapsed": 187,
     "status": "ok",
     "timestamp": 1635973017849,
     "user": {
      "displayName": "Michael Dowd",
      "photoUrl": "https://lh3.googleusercontent.com/a/default-user=s64",
      "userId": "00770521119407228668"
     },
     "user_tz": 420
    },
    "id": "JsAZ5c7FhFvc"
   },
   "outputs": [],
   "source": [
    "name = \"US Border Patrol Nationwide Apps by Citizenship & Sector\""
   ]
  },
  {
   "cell_type": "code",
   "execution_count": 14,
   "metadata": {
    "colab": {
     "base_uri": "https://localhost:8080/"
    },
    "executionInfo": {
     "elapsed": 380,
     "status": "ok",
     "timestamp": 1635973154168,
     "user": {
      "displayName": "Michael Dowd",
      "photoUrl": "https://lh3.googleusercontent.com/a/default-user=s64",
      "userId": "00770521119407228668"
     },
     "user_tz": 420
    },
    "id": "27wFeXBhlGef",
    "outputId": "b9afe619-4c46-4b82-b45f-313d45681b85"
   },
   "outputs": [
    {
     "name": "stdout",
     "output_type": "stream",
     "text": [
      "File  US Border Patrol Nationwide Apps by Citizenship & Sector.pdf  downloaded\n"
     ]
    }
   ],
   "source": [
    "download_pdf(\n",
    "    'https://www.cbp.gov/sites/default/files/assets/documents/2021-Aug/USBORD~3.PDF',\n",
    "    name, \n",
    "    '../data-repo-mvp/data/raw_source_files/'\n",
    ")"
   ]
  },
  {
   "cell_type": "code",
   "execution_count": 7,
   "metadata": {
    "colab": {
     "base_uri": "https://localhost:8080/"
    },
    "executionInfo": {
     "elapsed": 2850,
     "status": "ok",
     "timestamp": 1635973352837,
     "user": {
      "displayName": "Michael Dowd",
      "photoUrl": "https://lh3.googleusercontent.com/a/default-user=s64",
      "userId": "00770521119407228668"
     },
     "user_tz": 420
    },
    "id": "KCteQ2VFhFvc",
    "outputId": "39d0799e-cbf0-4fea-cf86-285ddd64c44a"
   },
   "outputs": [
    {
     "name": "stdout",
     "output_type": "stream",
     "text": [
      "../data-repo-mvp/data/raw_source_files/US Border Patrol Nationwide Apps by Citizenship & Sector.pdf\n"
     ]
    }
   ],
   "source": [
    "path = \"../data-repo-mvp/data/raw_source_files/US Border Patrol Nationwide Apps by Citizenship & Sector.pdf\"\n",
    "print(path)\n",
    "pdf = PdfFileReader(path)"
   ]
  },
  {
   "cell_type": "markdown",
   "metadata": {
    "id": "rBpw9_vEmkR-"
   },
   "source": [
    "We manually define the columns based on the table structure - see link to pdf above or visit local pdf to verify. \n",
    "\n",
    "TODO - perhaps insert picture of table here to make this more clear "
   ]
  },
  {
   "cell_type": "code",
   "execution_count": 8,
   "metadata": {
    "executionInfo": {
     "elapsed": 184,
     "status": "ok",
     "timestamp": 1635973264084,
     "user": {
      "displayName": "Michael Dowd",
      "photoUrl": "https://lh3.googleusercontent.com/a/default-user=s64",
      "userId": "00770521119407228668"
     },
     "user_tz": 420
    },
    "id": "XEKAVqSIhFvd"
   },
   "outputs": [],
   "source": [
    "cols = [\n",
    "    \"citizenship\",\n",
    "    \"bbt\",\n",
    "    \"drt\",\n",
    "    \"elc\",\n",
    "    \"ept\",\n",
    "    \"lrt\",\n",
    "    \"rgv\",\n",
    "    \"sdc\",\n",
    "    \"tca\",\n",
    "    \"yum\",\n",
    "    \"sbo_total\",  # SBO\n",
    "    \"blw\",\n",
    "    \"bun\",\n",
    "    \"dtm\",\n",
    "    \"gfn\",\n",
    "    \"hlt\",\n",
    "    \"hvm\",\n",
    "    \"spw\",\n",
    "    \"swb\",\n",
    "    \"nbo_total\",\n",
    "    \"mip\",\n",
    "    \"nll\",\n",
    "    \"rmy\",\n",
    "    \"cbo_total\",\n",
    "    \"total\",\n",
    "]"
   ]
  },
  {
   "cell_type": "code",
   "execution_count": 9,
   "metadata": {
    "executionInfo": {
     "elapsed": 186,
     "status": "ok",
     "timestamp": 1635973275151,
     "user": {
      "displayName": "Michael Dowd",
      "photoUrl": "https://lh3.googleusercontent.com/a/default-user=s64",
      "userId": "00770521119407228668"
     },
     "user_tz": 420
    },
    "id": "9tSSR95ghFve"
   },
   "outputs": [],
   "source": [
    "def fix_header_pages(df):\n",
    "    df.columns = cols\n",
    "    df = df.drop([0, 1], axis=0)\n",
    "    return df"
   ]
  },
  {
   "cell_type": "code",
   "execution_count": 10,
   "metadata": {
    "colab": {
     "base_uri": "https://localhost:8080/"
    },
    "executionInfo": {
     "elapsed": 327302,
     "status": "ok",
     "timestamp": 1635973687493,
     "user": {
      "displayName": "Michael Dowd",
      "photoUrl": "https://lh3.googleusercontent.com/a/default-user=s64",
      "userId": "00770521119407228668"
     },
     "user_tz": 420
    },
    "id": "nf6IRgE8hFve",
    "outputId": "00abce65-ba0d-4611-9cc9-5e9a214ec226"
   },
   "outputs": [
    {
     "name": "stdout",
     "output_type": "stream",
     "text": [
      "ERROR!! pg:35, country=SYRIA, table_num=11\n",
      "ERROR!! pg:37, country=IRELAND, table_num=12\n",
      "Success - Likely Fixed Automatically\n",
      "ERROR!! pg:38, country=UNKNOWN, table_num=12\n"
     ]
    }
   ],
   "source": [
    "tables = []\n",
    "table_segments = pd.DataFrame()\n",
    "start = 1\n",
    "stop = pdf.getNumPages()+1\n",
    "table_num = -1\n",
    "for i in range(start, stop):\n",
    "    new_table = False\n",
    "    df = tabula.read_pdf(\n",
    "        path, pages=f\"{i}\", lattice=True, pandas_options={\"header\": None}\n",
    "    )[0]\n",
    "\n",
    "    if \"AFGHANISTAN\" in df.loc[2][0]:\n",
    "        new_table = True\n",
    "        table_num += 1\n",
    "\n",
    "    if \"CITIZENSHIP\" in df.loc[0][0]:\n",
    "        df = fix_header_pages(df)  # Mixed formats in this pdf\n",
    "    else:\n",
    "        df.columns = cols\n",
    "\n",
    "    check_for_error = df[df.citizenship.str.isdigit()]\n",
    "    if len(check_for_error) > 0:\n",
    "        fixed = False\n",
    "        missing_country_df = tabula.read_pdf(\n",
    "            path,\n",
    "            pages=f\"{i}\",\n",
    "            stream=True,\n",
    "            area=(500, 5.65, 570, 5.65 + 800),\n",
    "            pandas_options={\"header\": None},\n",
    "        )[0]\n",
    "        missing_country = missing_country_df.tail(1)[0].squeeze()\n",
    "        print(f\"ERROR!! pg:{i}, country={missing_country}, table_num={table_num}\")\n",
    "\n",
    "        if missing_country_df.shape[1] == df.shape[1]:\n",
    "            fixed = True\n",
    "            print(\"Success - Likely Fixed Automatically\")\n",
    "            missing_country_df.columns = cols\n",
    "            df.loc[check_for_error.index[0]] = missing_country_df.iloc[-1]\n",
    "        if not fixed:\n",
    "            df.loc[\n",
    "                check_for_error.index[0], \"citizenship\"\n",
    "            ] = f\"ERROR - {missing_country}\"\n",
    "\n",
    "    # Check if new table\n",
    "    if i != start and new_table:\n",
    "        tables.append(table_segments)\n",
    "        table_segments = df\n",
    "\n",
    "    else:\n",
    "        table_segments = table_segments.append(df)\n",
    "tables.append(table_segments)"
   ]
  },
  {
   "cell_type": "markdown",
   "metadata": {
    "id": "BPWKoOlnhFvf"
   },
   "source": [
    "## Manual Fixes\n",
    "These rows were not captured correctly because the last row didn't have a full line. Using the STREAM option in Tabula I'm able to grab the name of the \"citizenship\" but the data was not parsed correctly. "
   ]
  },
  {
   "cell_type": "code",
   "execution_count": 11,
   "metadata": {
    "colab": {
     "base_uri": "https://localhost:8080/"
    },
    "executionInfo": {
     "elapsed": 236,
     "status": "ok",
     "timestamp": 1635974099534,
     "user": {
      "displayName": "Michael Dowd",
      "photoUrl": "https://lh3.googleusercontent.com/a/default-user=s64",
      "userId": "00770521119407228668"
     },
     "user_tz": 420
    },
    "id": "hSVz5VdchFvg",
    "outputId": "49772979-1024-4773-d386-ba2c73097381"
   },
   "outputs": [
    {
     "data": {
      "text/plain": [
       "25"
      ]
     },
     "execution_count": 11,
     "metadata": {},
     "output_type": "execute_result"
    }
   ],
   "source": [
    "syria_correct = [\n",
    "    \"SYRIA\",\n",
    "    0,\n",
    "    0,\n",
    "    0,\n",
    "    1,\n",
    "    2,\n",
    "    0,\n",
    "    0,\n",
    "    0,\n",
    "    0,\n",
    "    3,\n",
    "    0,\n",
    "    0,\n",
    "    0,\n",
    "    0,\n",
    "    0,\n",
    "    0,\n",
    "    0,\n",
    "    0,\n",
    "    0,\n",
    "    0,\n",
    "    0,\n",
    "    0,\n",
    "    0,\n",
    "    3,\n",
    "]\n",
    "len(syria_correct)"
   ]
  },
  {
   "cell_type": "code",
   "execution_count": 12,
   "metadata": {
    "colab": {
     "base_uri": "https://localhost:8080/"
    },
    "executionInfo": {
     "elapsed": 4,
     "status": "ok",
     "timestamp": 1635974100323,
     "user": {
      "displayName": "Michael Dowd",
      "photoUrl": "https://lh3.googleusercontent.com/a/default-user=s64",
      "userId": "00770521119407228668"
     },
     "user_tz": 420
    },
    "id": "JKHNc6nihFvg",
    "outputId": "6112dedd-069a-42db-cd97-9c1b15619484"
   },
   "outputs": [
    {
     "data": {
      "text/plain": [
       "25"
      ]
     },
     "execution_count": 12,
     "metadata": {},
     "output_type": "execute_result"
    }
   ],
   "source": [
    "unknown_correct = [\n",
    "    \"UNNKOWN\",\n",
    "    0,\n",
    "    1,\n",
    "    0,\n",
    "    0,\n",
    "    0,\n",
    "    0,\n",
    "    0,\n",
    "    0,\n",
    "    0,\n",
    "    1,\n",
    "    0,\n",
    "    0,\n",
    "    0,\n",
    "    0,\n",
    "    0,\n",
    "    0,\n",
    "    0,\n",
    "    0,\n",
    "    0,\n",
    "    0,\n",
    "    0,\n",
    "    0,\n",
    "    0,\n",
    "    1,\n",
    "]\n",
    "len(unknown_correct)"
   ]
  },
  {
   "cell_type": "code",
   "execution_count": 13,
   "metadata": {
    "executionInfo": {
     "elapsed": 169,
     "status": "ok",
     "timestamp": 1635974102352,
     "user": {
      "displayName": "Michael Dowd",
      "photoUrl": "https://lh3.googleusercontent.com/a/default-user=s64",
      "userId": "00770521119407228668"
     },
     "user_tz": 420
    },
    "id": "tE7LIBH9hFvh",
    "scrolled": false
   },
   "outputs": [],
   "source": [
    "tbl_index = 11\n",
    "tables[tbl_index].loc[\n",
    "    tables[tbl_index][tables[tbl_index].citizenship.str.contains(\"SYRIA\")].index[0]\n",
    "] = syria_correct"
   ]
  },
  {
   "cell_type": "code",
   "execution_count": 14,
   "metadata": {
    "executionInfo": {
     "elapsed": 180,
     "status": "ok",
     "timestamp": 1635974102968,
     "user": {
      "displayName": "Michael Dowd",
      "photoUrl": "https://lh3.googleusercontent.com/a/default-user=s64",
      "userId": "00770521119407228668"
     },
     "user_tz": 420
    },
    "id": "q_ir1PbDhFvh"
   },
   "outputs": [],
   "source": [
    "tbl_index = 12\n",
    "tables[tbl_index].loc[\n",
    "    tables[tbl_index][tables[tbl_index].citizenship.str.contains(\"UNKNOWN\")].index[0]\n",
    "] = unknown_correct"
   ]
  },
  {
   "cell_type": "markdown",
   "metadata": {
    "id": "hyKNtcfehFvi"
   },
   "source": [
    "## Clean Up Tables"
   ]
  },
  {
   "cell_type": "code",
   "execution_count": 22,
   "metadata": {
    "executionInfo": {
     "elapsed": 208,
     "status": "ok",
     "timestamp": 1635976075019,
     "user": {
      "displayName": "Michael Dowd",
      "photoUrl": "https://lh3.googleusercontent.com/a/default-user=s64",
      "userId": "00770521119407228668"
     },
     "user_tz": 420
    },
    "id": "rQ-4621WhFvi"
   },
   "outputs": [],
   "source": [
    "station_cols = [\n",
    "    i\n",
    "    for i in cols\n",
    "    if i not in [\"citizenship\", \"sbo_total\", \"nbo_total\", \"cbo_total\", \"total\"]\n",
    "]\n",
    "\n",
    "total_cols = [ \"sbo_total\", \"nbo_total\", \"cbo_total\", \"total\"]\n",
    "def clean_tables(df):\n",
    "    df = df.fillna(0).reset_index(drop=True)\n",
    "    df[\"total\"] = [\n",
    "        int(i.replace(\",\", \"\")) if isinstance(i, str) else i for i in df[\"total\"]\n",
    "    ]\n",
    "    for c in station_cols + total_cols:\n",
    "        df.loc[:, c] = [\n",
    "            int(i.replace(\",\", \"\")) if isinstance(i, str) else i for i in df[c]\n",
    "        ]\n",
    "\n",
    "    return df"
   ]
  },
  {
   "cell_type": "code",
   "execution_count": 23,
   "metadata": {
    "executionInfo": {
     "elapsed": 462,
     "status": "ok",
     "timestamp": 1635976075704,
     "user": {
      "displayName": "Michael Dowd",
      "photoUrl": "https://lh3.googleusercontent.com/a/default-user=s64",
      "userId": "00770521119407228668"
     },
     "user_tz": 420
    },
    "id": "vjMQ2DA1hFvi"
   },
   "outputs": [],
   "source": [
    "data = {\n",
    "    f\"total_apprehensions_FY{idx+7:02}\": clean_tables(df)\n",
    "    for idx, df in enumerate(tables)\n",
    "}"
   ]
  },
  {
   "cell_type": "code",
   "execution_count": 24,
   "metadata": {
    "colab": {
     "base_uri": "https://localhost:8080/",
     "height": 824
    },
    "executionInfo": {
     "elapsed": 197,
     "status": "ok",
     "timestamp": 1635976212190,
     "user": {
      "displayName": "Michael Dowd",
      "photoUrl": "https://lh3.googleusercontent.com/a/default-user=s64",
      "userId": "00770521119407228668"
     },
     "user_tz": 420
    },
    "id": "sfHG_Mw8qJFf",
    "outputId": "65b364a7-46d6-4ced-f368-4c0722dd6e78"
   },
   "outputs": [
    {
     "data": {
      "text/html": [
       "<div>\n",
       "<style scoped>\n",
       "    .dataframe tbody tr th:only-of-type {\n",
       "        vertical-align: middle;\n",
       "    }\n",
       "\n",
       "    .dataframe tbody tr th {\n",
       "        vertical-align: top;\n",
       "    }\n",
       "\n",
       "    .dataframe thead th {\n",
       "        text-align: right;\n",
       "    }\n",
       "</style>\n",
       "<table border=\"1\" class=\"dataframe\">\n",
       "  <thead>\n",
       "    <tr style=\"text-align: right;\">\n",
       "      <th></th>\n",
       "      <th>0</th>\n",
       "      <th>148</th>\n",
       "    </tr>\n",
       "  </thead>\n",
       "  <tbody>\n",
       "    <tr>\n",
       "      <th>citizenship</th>\n",
       "      <td>AFGHANISTANALBANIAALGERIAANGOLAANTIGUA-BARBUDA...</td>\n",
       "      <td>TOTAL</td>\n",
       "    </tr>\n",
       "    <tr>\n",
       "      <th>bbt</th>\n",
       "      <td>9637</td>\n",
       "      <td>9637</td>\n",
       "    </tr>\n",
       "    <tr>\n",
       "      <th>drt</th>\n",
       "      <td>57269</td>\n",
       "      <td>57269</td>\n",
       "    </tr>\n",
       "    <tr>\n",
       "      <th>elc</th>\n",
       "      <td>35138</td>\n",
       "      <td>35138</td>\n",
       "    </tr>\n",
       "    <tr>\n",
       "      <th>ept</th>\n",
       "      <td>182143</td>\n",
       "      <td>182143</td>\n",
       "    </tr>\n",
       "    <tr>\n",
       "      <th>lrt</th>\n",
       "      <td>38378</td>\n",
       "      <td>38378</td>\n",
       "    </tr>\n",
       "    <tr>\n",
       "      <th>rgv</th>\n",
       "      <td>339135</td>\n",
       "      <td>339135</td>\n",
       "    </tr>\n",
       "    <tr>\n",
       "      <th>sdc</th>\n",
       "      <td>58049</td>\n",
       "      <td>58049</td>\n",
       "    </tr>\n",
       "    <tr>\n",
       "      <th>tca</th>\n",
       "      <td>63490</td>\n",
       "      <td>63490</td>\n",
       "    </tr>\n",
       "    <tr>\n",
       "      <th>yum</th>\n",
       "      <td>68269</td>\n",
       "      <td>68269</td>\n",
       "    </tr>\n",
       "    <tr>\n",
       "      <th>sbo_total</th>\n",
       "      <td>851508</td>\n",
       "      <td>851508</td>\n",
       "    </tr>\n",
       "    <tr>\n",
       "      <th>blw</th>\n",
       "      <td>524</td>\n",
       "      <td>524</td>\n",
       "    </tr>\n",
       "    <tr>\n",
       "      <th>bun</th>\n",
       "      <td>537</td>\n",
       "      <td>537</td>\n",
       "    </tr>\n",
       "    <tr>\n",
       "      <th>dtm</th>\n",
       "      <td>1322</td>\n",
       "      <td>1322</td>\n",
       "    </tr>\n",
       "    <tr>\n",
       "      <th>gfn</th>\n",
       "      <td>412</td>\n",
       "      <td>412</td>\n",
       "    </tr>\n",
       "    <tr>\n",
       "      <th>hlt</th>\n",
       "      <td>52</td>\n",
       "      <td>52</td>\n",
       "    </tr>\n",
       "    <tr>\n",
       "      <th>hvm</th>\n",
       "      <td>77</td>\n",
       "      <td>77</td>\n",
       "    </tr>\n",
       "    <tr>\n",
       "      <th>spw</th>\n",
       "      <td>428</td>\n",
       "      <td>428</td>\n",
       "    </tr>\n",
       "    <tr>\n",
       "      <th>swb</th>\n",
       "      <td>1056.0</td>\n",
       "      <td>1056.0</td>\n",
       "    </tr>\n",
       "    <tr>\n",
       "      <th>nbo_total</th>\n",
       "      <td>4408</td>\n",
       "      <td>4408</td>\n",
       "    </tr>\n",
       "    <tr>\n",
       "      <th>mip</th>\n",
       "      <td>1891</td>\n",
       "      <td>1891</td>\n",
       "    </tr>\n",
       "    <tr>\n",
       "      <th>nll</th>\n",
       "      <td>1132.0</td>\n",
       "      <td>1132.0</td>\n",
       "    </tr>\n",
       "    <tr>\n",
       "      <th>rmy</th>\n",
       "      <td>562</td>\n",
       "      <td>562</td>\n",
       "    </tr>\n",
       "    <tr>\n",
       "      <th>cbo_total</th>\n",
       "      <td>3585</td>\n",
       "      <td>3585</td>\n",
       "    </tr>\n",
       "    <tr>\n",
       "      <th>total</th>\n",
       "      <td>859501</td>\n",
       "      <td>859501</td>\n",
       "    </tr>\n",
       "  </tbody>\n",
       "</table>\n",
       "</div>"
      ],
      "text/plain": [
       "                                                           0       148\n",
       "citizenship  AFGHANISTANALBANIAALGERIAANGOLAANTIGUA-BARBUDA...   TOTAL\n",
       "bbt                                                       9637    9637\n",
       "drt                                                      57269   57269\n",
       "elc                                                      35138   35138\n",
       "ept                                                     182143  182143\n",
       "lrt                                                      38378   38378\n",
       "rgv                                                     339135  339135\n",
       "sdc                                                      58049   58049\n",
       "tca                                                      63490   63490\n",
       "yum                                                      68269   68269\n",
       "sbo_total                                               851508  851508\n",
       "blw                                                        524     524\n",
       "bun                                                        537     537\n",
       "dtm                                                       1322    1322\n",
       "gfn                                                        412     412\n",
       "hlt                                                         52      52\n",
       "hvm                                                         77      77\n",
       "spw                                                        428     428\n",
       "swb                                                     1056.0  1056.0\n",
       "nbo_total                                                 4408    4408\n",
       "mip                                                       1891    1891\n",
       "nll                                                     1132.0  1132.0\n",
       "rmy                                                        562     562\n",
       "cbo_total                                                 3585    3585\n",
       "total                                                   859501  859501"
      ]
     },
     "execution_count": 24,
     "metadata": {},
     "output_type": "execute_result"
    }
   ],
   "source": [
    "table_name = 'total_apprehensions_FY19'\n",
    "totals = data[table_name].query('citizenship == \"TOTAL\"')\n",
    "pd.concat([data[table_name].query('citizenship != \"TOTAL\"').sum(axis=0),\n",
    "           totals.T],axis=1)"
   ]
  },
  {
   "cell_type": "code",
   "execution_count": 25,
   "metadata": {
    "executionInfo": {
     "elapsed": 199,
     "status": "ok",
     "timestamp": 1635974116301,
     "user": {
      "displayName": "Michael Dowd",
      "photoUrl": "https://lh3.googleusercontent.com/a/default-user=s64",
      "userId": "00770521119407228668"
     },
     "user_tz": 420
    },
    "id": "u70ILtCphFvj"
   },
   "outputs": [],
   "source": [
    "combined = pd.DataFrame()\n",
    "for k in data:\n",
    "    tmp = data[k]\n",
    "    tmp[\"label\"] = k\n",
    "    combined = combined.append(tmp)"
   ]
  },
  {
   "cell_type": "code",
   "execution_count": 26,
   "metadata": {
    "executionInfo": {
     "elapsed": 3,
     "status": "ok",
     "timestamp": 1635974118591,
     "user": {
      "displayName": "Michael Dowd",
      "photoUrl": "https://lh3.googleusercontent.com/a/default-user=s64",
      "userId": "00770521119407228668"
     },
     "user_tz": 420
    },
    "id": "cmRymcYuhFvj"
   },
   "outputs": [],
   "source": [
    "combined[\"year\"] = combined.label.apply(lambda x: int(f\"20{x[-2:]}\"))"
   ]
  },
  {
   "cell_type": "code",
   "execution_count": 27,
   "metadata": {
    "colab": {
     "base_uri": "https://localhost:8080/",
     "height": 473
    },
    "executionInfo": {
     "elapsed": 190,
     "status": "ok",
     "timestamp": 1635974120427,
     "user": {
      "displayName": "Michael Dowd",
      "photoUrl": "https://lh3.googleusercontent.com/a/default-user=s64",
      "userId": "00770521119407228668"
     },
     "user_tz": 420
    },
    "id": "HYFVGjsuhFvj",
    "outputId": "85836ca4-1c43-424e-82dd-d5d53d5eb717"
   },
   "outputs": [
    {
     "data": {
      "text/html": [
       "<div>\n",
       "<style scoped>\n",
       "    .dataframe tbody tr th:only-of-type {\n",
       "        vertical-align: middle;\n",
       "    }\n",
       "\n",
       "    .dataframe tbody tr th {\n",
       "        vertical-align: top;\n",
       "    }\n",
       "\n",
       "    .dataframe thead th {\n",
       "        text-align: right;\n",
       "    }\n",
       "</style>\n",
       "<table border=\"1\" class=\"dataframe\">\n",
       "  <thead>\n",
       "    <tr style=\"text-align: right;\">\n",
       "      <th></th>\n",
       "      <th>citizenship</th>\n",
       "      <th>bbt</th>\n",
       "      <th>drt</th>\n",
       "      <th>elc</th>\n",
       "      <th>ept</th>\n",
       "      <th>lrt</th>\n",
       "      <th>rgv</th>\n",
       "      <th>sdc</th>\n",
       "      <th>tca</th>\n",
       "      <th>yum</th>\n",
       "      <th>...</th>\n",
       "      <th>spw</th>\n",
       "      <th>swb</th>\n",
       "      <th>nbo_total</th>\n",
       "      <th>mip</th>\n",
       "      <th>nll</th>\n",
       "      <th>rmy</th>\n",
       "      <th>cbo_total</th>\n",
       "      <th>total</th>\n",
       "      <th>label</th>\n",
       "      <th>year</th>\n",
       "    </tr>\n",
       "  </thead>\n",
       "  <tbody>\n",
       "    <tr>\n",
       "      <th>0</th>\n",
       "      <td>AFGHANISTAN</td>\n",
       "      <td>0</td>\n",
       "      <td>0</td>\n",
       "      <td>0</td>\n",
       "      <td>0</td>\n",
       "      <td>0</td>\n",
       "      <td>0</td>\n",
       "      <td>0</td>\n",
       "      <td>0</td>\n",
       "      <td>1</td>\n",
       "      <td>...</td>\n",
       "      <td>0.0</td>\n",
       "      <td>1.0</td>\n",
       "      <td>1</td>\n",
       "      <td>0</td>\n",
       "      <td>0.0</td>\n",
       "      <td>0.0</td>\n",
       "      <td>0</td>\n",
       "      <td>2</td>\n",
       "      <td>total_apprehensions_FY07</td>\n",
       "      <td>2007</td>\n",
       "    </tr>\n",
       "    <tr>\n",
       "      <th>1</th>\n",
       "      <td>ALBANIA</td>\n",
       "      <td>0</td>\n",
       "      <td>0</td>\n",
       "      <td>0</td>\n",
       "      <td>1</td>\n",
       "      <td>3</td>\n",
       "      <td>4</td>\n",
       "      <td>0</td>\n",
       "      <td>0</td>\n",
       "      <td>0</td>\n",
       "      <td>...</td>\n",
       "      <td>0.0</td>\n",
       "      <td>6.0</td>\n",
       "      <td>13</td>\n",
       "      <td>0</td>\n",
       "      <td>0.0</td>\n",
       "      <td>0.0</td>\n",
       "      <td>0</td>\n",
       "      <td>21</td>\n",
       "      <td>total_apprehensions_FY07</td>\n",
       "      <td>2007</td>\n",
       "    </tr>\n",
       "    <tr>\n",
       "      <th>2</th>\n",
       "      <td>ALGERIA</td>\n",
       "      <td>0</td>\n",
       "      <td>0</td>\n",
       "      <td>0</td>\n",
       "      <td>0</td>\n",
       "      <td>1</td>\n",
       "      <td>0</td>\n",
       "      <td>0</td>\n",
       "      <td>0</td>\n",
       "      <td>0</td>\n",
       "      <td>...</td>\n",
       "      <td>0.0</td>\n",
       "      <td>0.0</td>\n",
       "      <td>0</td>\n",
       "      <td>0</td>\n",
       "      <td>0.0</td>\n",
       "      <td>0.0</td>\n",
       "      <td>0</td>\n",
       "      <td>1</td>\n",
       "      <td>total_apprehensions_FY07</td>\n",
       "      <td>2007</td>\n",
       "    </tr>\n",
       "    <tr>\n",
       "      <th>3</th>\n",
       "      <td>ANGOLA</td>\n",
       "      <td>0</td>\n",
       "      <td>0</td>\n",
       "      <td>1</td>\n",
       "      <td>0</td>\n",
       "      <td>0</td>\n",
       "      <td>0</td>\n",
       "      <td>0</td>\n",
       "      <td>0</td>\n",
       "      <td>0</td>\n",
       "      <td>...</td>\n",
       "      <td>0.0</td>\n",
       "      <td>0.0</td>\n",
       "      <td>0</td>\n",
       "      <td>0</td>\n",
       "      <td>0.0</td>\n",
       "      <td>0.0</td>\n",
       "      <td>0</td>\n",
       "      <td>1</td>\n",
       "      <td>total_apprehensions_FY07</td>\n",
       "      <td>2007</td>\n",
       "    </tr>\n",
       "    <tr>\n",
       "      <th>4</th>\n",
       "      <td>ANTIGUA-BARBUDA</td>\n",
       "      <td>0</td>\n",
       "      <td>0</td>\n",
       "      <td>0</td>\n",
       "      <td>0</td>\n",
       "      <td>0</td>\n",
       "      <td>0</td>\n",
       "      <td>0</td>\n",
       "      <td>0</td>\n",
       "      <td>0</td>\n",
       "      <td>...</td>\n",
       "      <td>0.0</td>\n",
       "      <td>1.0</td>\n",
       "      <td>1</td>\n",
       "      <td>2</td>\n",
       "      <td>1.0</td>\n",
       "      <td>0.0</td>\n",
       "      <td>3</td>\n",
       "      <td>4</td>\n",
       "      <td>total_apprehensions_FY07</td>\n",
       "      <td>2007</td>\n",
       "    </tr>\n",
       "    <tr>\n",
       "      <th>...</th>\n",
       "      <td>...</td>\n",
       "      <td>...</td>\n",
       "      <td>...</td>\n",
       "      <td>...</td>\n",
       "      <td>...</td>\n",
       "      <td>...</td>\n",
       "      <td>...</td>\n",
       "      <td>...</td>\n",
       "      <td>...</td>\n",
       "      <td>...</td>\n",
       "      <td>...</td>\n",
       "      <td>...</td>\n",
       "      <td>...</td>\n",
       "      <td>...</td>\n",
       "      <td>...</td>\n",
       "      <td>...</td>\n",
       "      <td>...</td>\n",
       "      <td>...</td>\n",
       "      <td>...</td>\n",
       "      <td>...</td>\n",
       "      <td>...</td>\n",
       "    </tr>\n",
       "    <tr>\n",
       "      <th>137</th>\n",
       "      <td>YEMEN</td>\n",
       "      <td>0</td>\n",
       "      <td>8</td>\n",
       "      <td>1</td>\n",
       "      <td>2</td>\n",
       "      <td>1</td>\n",
       "      <td>4</td>\n",
       "      <td>5</td>\n",
       "      <td>0</td>\n",
       "      <td>7</td>\n",
       "      <td>...</td>\n",
       "      <td>0.0</td>\n",
       "      <td>0.0</td>\n",
       "      <td>0</td>\n",
       "      <td>0</td>\n",
       "      <td>0.0</td>\n",
       "      <td>0.0</td>\n",
       "      <td>0</td>\n",
       "      <td>28</td>\n",
       "      <td>total_apprehensions_FY20</td>\n",
       "      <td>2020</td>\n",
       "    </tr>\n",
       "    <tr>\n",
       "      <th>138</th>\n",
       "      <td>YUGOSLAVIA</td>\n",
       "      <td>0</td>\n",
       "      <td>0</td>\n",
       "      <td>0</td>\n",
       "      <td>0</td>\n",
       "      <td>0</td>\n",
       "      <td>0</td>\n",
       "      <td>0</td>\n",
       "      <td>0</td>\n",
       "      <td>0</td>\n",
       "      <td>...</td>\n",
       "      <td>0.0</td>\n",
       "      <td>0.0</td>\n",
       "      <td>1</td>\n",
       "      <td>0</td>\n",
       "      <td>0.0</td>\n",
       "      <td>0.0</td>\n",
       "      <td>0</td>\n",
       "      <td>1</td>\n",
       "      <td>total_apprehensions_FY20</td>\n",
       "      <td>2020</td>\n",
       "    </tr>\n",
       "    <tr>\n",
       "      <th>139</th>\n",
       "      <td>ZAMBIA</td>\n",
       "      <td>0</td>\n",
       "      <td>0</td>\n",
       "      <td>0</td>\n",
       "      <td>0</td>\n",
       "      <td>0</td>\n",
       "      <td>0</td>\n",
       "      <td>0</td>\n",
       "      <td>0</td>\n",
       "      <td>0</td>\n",
       "      <td>...</td>\n",
       "      <td>0.0</td>\n",
       "      <td>0.0</td>\n",
       "      <td>1</td>\n",
       "      <td>1</td>\n",
       "      <td>0.0</td>\n",
       "      <td>0.0</td>\n",
       "      <td>1</td>\n",
       "      <td>2</td>\n",
       "      <td>total_apprehensions_FY20</td>\n",
       "      <td>2020</td>\n",
       "    </tr>\n",
       "    <tr>\n",
       "      <th>140</th>\n",
       "      <td>ZIMBABWE</td>\n",
       "      <td>0</td>\n",
       "      <td>0</td>\n",
       "      <td>0</td>\n",
       "      <td>0</td>\n",
       "      <td>0</td>\n",
       "      <td>1</td>\n",
       "      <td>0</td>\n",
       "      <td>0</td>\n",
       "      <td>0</td>\n",
       "      <td>...</td>\n",
       "      <td>0.0</td>\n",
       "      <td>0.0</td>\n",
       "      <td>1</td>\n",
       "      <td>0</td>\n",
       "      <td>0.0</td>\n",
       "      <td>0.0</td>\n",
       "      <td>0</td>\n",
       "      <td>2</td>\n",
       "      <td>total_apprehensions_FY20</td>\n",
       "      <td>2020</td>\n",
       "    </tr>\n",
       "    <tr>\n",
       "      <th>141</th>\n",
       "      <td>TOTAL</td>\n",
       "      <td>8628</td>\n",
       "      <td>40342</td>\n",
       "      <td>27492</td>\n",
       "      <td>54396</td>\n",
       "      <td>51425</td>\n",
       "      <td>90206</td>\n",
       "      <td>53282</td>\n",
       "      <td>66076</td>\n",
       "      <td>8804</td>\n",
       "      <td>...</td>\n",
       "      <td>236.0</td>\n",
       "      <td>574.0</td>\n",
       "      <td>2155</td>\n",
       "      <td>1302</td>\n",
       "      <td>572.0</td>\n",
       "      <td>356.0</td>\n",
       "      <td>2230</td>\n",
       "      <td>405036</td>\n",
       "      <td>total_apprehensions_FY20</td>\n",
       "      <td>2020</td>\n",
       "    </tr>\n",
       "  </tbody>\n",
       "</table>\n",
       "<p>2075 rows × 27 columns</p>\n",
       "</div>"
      ],
      "text/plain": [
       "         citizenship   bbt    drt    elc    ept    lrt    rgv    sdc    tca  \\\n",
       "0        AFGHANISTAN     0      0      0      0      0      0      0      0   \n",
       "1            ALBANIA     0      0      0      1      3      4      0      0   \n",
       "2            ALGERIA     0      0      0      0      1      0      0      0   \n",
       "3             ANGOLA     0      0      1      0      0      0      0      0   \n",
       "4    ANTIGUA-BARBUDA     0      0      0      0      0      0      0      0   \n",
       "..               ...   ...    ...    ...    ...    ...    ...    ...    ...   \n",
       "137            YEMEN     0      8      1      2      1      4      5      0   \n",
       "138       YUGOSLAVIA     0      0      0      0      0      0      0      0   \n",
       "139           ZAMBIA     0      0      0      0      0      0      0      0   \n",
       "140         ZIMBABWE     0      0      0      0      0      1      0      0   \n",
       "141            TOTAL  8628  40342  27492  54396  51425  90206  53282  66076   \n",
       "\n",
       "      yum  ...    spw    swb  nbo_total   mip    nll    rmy  cbo_total  \\\n",
       "0       1  ...    0.0    1.0          1     0    0.0    0.0          0   \n",
       "1       0  ...    0.0    6.0         13     0    0.0    0.0          0   \n",
       "2       0  ...    0.0    0.0          0     0    0.0    0.0          0   \n",
       "3       0  ...    0.0    0.0          0     0    0.0    0.0          0   \n",
       "4       0  ...    0.0    1.0          1     2    1.0    0.0          3   \n",
       "..    ...  ...    ...    ...        ...   ...    ...    ...        ...   \n",
       "137     7  ...    0.0    0.0          0     0    0.0    0.0          0   \n",
       "138     0  ...    0.0    0.0          1     0    0.0    0.0          0   \n",
       "139     0  ...    0.0    0.0          1     1    0.0    0.0          1   \n",
       "140     0  ...    0.0    0.0          1     0    0.0    0.0          0   \n",
       "141  8804  ...  236.0  574.0       2155  1302  572.0  356.0       2230   \n",
       "\n",
       "      total                     label  year  \n",
       "0         2  total_apprehensions_FY07  2007  \n",
       "1        21  total_apprehensions_FY07  2007  \n",
       "2         1  total_apprehensions_FY07  2007  \n",
       "3         1  total_apprehensions_FY07  2007  \n",
       "4         4  total_apprehensions_FY07  2007  \n",
       "..      ...                       ...   ...  \n",
       "137      28  total_apprehensions_FY20  2020  \n",
       "138       1  total_apprehensions_FY20  2020  \n",
       "139       2  total_apprehensions_FY20  2020  \n",
       "140       2  total_apprehensions_FY20  2020  \n",
       "141  405036  total_apprehensions_FY20  2020  \n",
       "\n",
       "[2075 rows x 27 columns]"
      ]
     },
     "execution_count": 27,
     "metadata": {},
     "output_type": "execute_result"
    }
   ],
   "source": [
    "combined"
   ]
  },
  {
   "cell_type": "code",
   "execution_count": 29,
   "metadata": {},
   "outputs": [],
   "source": [
    "combined.citizenship = [str(i) for i in combined.citizenship]"
   ]
  },
  {
   "cell_type": "code",
   "execution_count": 30,
   "metadata": {},
   "outputs": [],
   "source": [
    "combined.to_csv('./data/extracted_data/cbp-apprehensions-nov2021.csv')"
   ]
  },
  {
   "cell_type": "markdown",
   "metadata": {
    "id": "tjB2zvVlhFvj"
   },
   "source": [
    "# Examine"
   ]
  },
  {
   "cell_type": "code",
   "execution_count": 40,
   "metadata": {
    "colab": {
     "base_uri": "https://localhost:8080/",
     "height": 530
    },
    "executionInfo": {
     "elapsed": 892,
     "status": "ok",
     "timestamp": 1635974127492,
     "user": {
      "displayName": "Michael Dowd",
      "photoUrl": "https://lh3.googleusercontent.com/a/default-user=s64",
      "userId": "00770521119407228668"
     },
     "user_tz": 420
    },
    "id": "59rXJoXGhFvk",
    "outputId": "9008b604-8e3c-424f-8496-32e97994b26c"
   },
   "outputs": [
    {
     "data": {
      "text/plain": [
       "<matplotlib.axes._subplots.AxesSubplot at 0x7f8b00f5da90>"
      ]
     },
     "execution_count": 40,
     "metadata": {},
     "output_type": "execute_result"
    },
    {
     "data": {
      "image/png": "[encoded data removed]",
      "text/plain": [
       "<Figure size 1080x576 with 1 Axes>"
      ]
     },
     "metadata": {
      "needs_background": "light"
     },
     "output_type": "display_data"
    }
   ],
   "source": [
    "pd.pivot(\n",
    "    index=\"year\",\n",
    "    columns=\"citizenship\",\n",
    "    values=\"total\",\n",
    "    data=combined[\n",
    "        combined.citizenship.isin(\n",
    "            combined.groupby(\"citizenship\")\n",
    "            .sum()\n",
    "            .sort_values(\"total\", ascending=False)\n",
    "            .head(5)\n",
    "            .index.tolist()\n",
    "        )\n",
    "    ],\n",
    ").plot(\n",
    "    figsize=(15, 8),\n",
    "    marker=\"o\",\n",
    "    color=[\"yellow\", \"red\", \"blue\", \"black\", \"gray\"],\n",
    "    title=\"FY07-19 Total Apprehensions by Citizenship at US Borders\",\n",
    ")"
   ]
  }
 ],
 "metadata": {
  "colab": {
   "name": "CBP-Apprehensions-PDF-Extraction.ipynb",
   "provenance": [
    {
     "file_id": "18Z1CNcmDpyvNLzrBuQFWpzPH7E-nBK4S",
     "timestamp": 1635971794319
    }
   ]
  },
  "hide_input": false,
  "kernelspec": {
   "display_name": "Python 3",
   "language": "python",
   "name": "python3"
  },
  "language_info": {
   "codemirror_mode": {
    "name": "ipython",
    "version": 3
   },
   "file_extension": ".py",
   "mimetype": "text/x-python",
   "name": "python",
   "nbconvert_exporter": "python",
   "pygments_lexer": "ipython3",
   "version": "3.8.5"
  }
 },
 "nbformat": 4,
 "nbformat_minor": 1
}
