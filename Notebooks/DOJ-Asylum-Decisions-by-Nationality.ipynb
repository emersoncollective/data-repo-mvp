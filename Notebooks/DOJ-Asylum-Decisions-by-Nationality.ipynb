{
 "cells": [
  {
   "cell_type": "markdown",
   "metadata": {
    "id": "QsAihC4rnRhC"
   },
   "source": [
    "# DOJ asylum decisions by nationality\n",
    "### [Output Dataset(s)](../data/extracted_data/doj)"
   ]
  },
  {
   "cell_type": "markdown",
   "metadata": {},
   "source": [
    "## Purpose "
   ]
  },
  {
   "cell_type": "markdown",
   "metadata": {
    "id": "QSCms3HJnRhE"
   },
   "source": [
    "EOIR has published [data](https://www.justice.gov/eoir/page/file/1107366/download) on asylum decision rates by nationality since around 2019 as part of their switch from releasing annual statistical yearbooks to releasing regularly updated individual data sets (“workload and adjudication statistics”).\n",
    "\n",
    "Every time they update this data they overwrite the previous year’s data. "
   ]
  },
  {
   "cell_type": "markdown",
   "metadata": {},
   "source": [
    "## Approach"
   ]
  },
  {
   "cell_type": "markdown",
   "metadata": {},
   "source": [
    "To get all versions of this data we can leverage python and the Wayback Machine to collect previous versions of the [PDF]( https://web.archive.org/web/*/https://www.justice.gov/eoir/page/file/1107366/download). \n",
    "\n",
    "We don't have to do this manually though - we can use a python library to find the different versions and download them.\n",
    "\n",
    "We can then extract the data from the PDFs."
   ]
  },
  {
   "cell_type": "code",
   "execution_count": 1,
   "metadata": {
    "executionInfo": {
     "elapsed": 156,
     "status": "ok",
     "timestamp": 1636675843103,
     "user": {
      "displayName": "Michael Dowd",
      "photoUrl": "https://lh3.googleusercontent.com/a/default-user=s64",
      "userId": "00770521119407228668"
     },
     "user_tz": 480
    },
    "id": "sjTnfKh1nRhN"
   },
   "outputs": [],
   "source": [
    "import requests\n",
    "import pprint\n",
    "\n",
    "import numpy as np\n",
    "import pandas as pd\n",
    "import waybackpy\n",
    "\n",
    "from datetime import timedelta\n",
    "from pathlib import Path\n",
    "\n",
    "pp = pprint.PrettyPrinter(indent=4)"
   ]
  },
  {
   "cell_type": "markdown",
   "metadata": {
    "id": "2np576HMnRhO"
   },
   "source": [
    "## Download PDFs From Wayback Machine"
   ]
  },
  {
   "cell_type": "markdown",
   "metadata": {
    "id": "tgzBZ5tJnRhP"
   },
   "source": [
    "**Functions**"
   ]
  },
  {
   "cell_type": "code",
   "execution_count": 4,
   "metadata": {
    "code_folding": [],
    "executionInfo": {
     "elapsed": 180,
     "status": "ok",
     "timestamp": 1636675845972,
     "user": {
      "displayName": "Michael Dowd",
      "photoUrl": "https://lh3.googleusercontent.com/a/default-user=s64",
      "userId": "00770521119407228668"
     },
     "user_tz": 480
    },
    "id": "IghTuPEGnRhP"
   },
   "outputs": [],
   "source": [
    "def download_pdf(url, name, output_directory):\n",
    "    \"\"\"\n",
    "    Function to download a single pdf file from a provided link.\n",
    "\n",
    "    Parameters:\n",
    "      url: URL of the file you want to download\n",
    "      name: Label you want to apply to the file\n",
    "\n",
    "      output_folder: Folder path to savae file\n",
    "\n",
    "    Returns:\n",
    "      Saves the file to the output directory, function itself returns nothing.\n",
    "\n",
    "    Example:\n",
    "      download_pdf(\n",
    "        'https://www.justice.gov/eoir/page/file/1107366/download',\n",
    "        'eoir_data',\n",
    "        './'\n",
    "      )\n",
    "    \"\"\"\n",
    "    output_folder = Path(output_directory)\n",
    "    response = requests.get(url)\n",
    "    if response.status_code == 200:\n",
    "        # Write content in pdf file\n",
    "        outpath = output_directory / f\"{name}.pdf\"\n",
    "        pdf = open(str(outpath), \"wb\")\n",
    "        pdf.write(response.content)\n",
    "        pdf.close()\n",
    "        print(\"File \", f\"{name}.pdf\", \" downloaded\")\n",
    "    else:\n",
    "        print(\"File \", f\"{name}.pdf\", \" not found.\")"
   ]
  },
  {
   "cell_type": "markdown",
   "metadata": {
    "id": "DG4_ulRdnRhQ"
   },
   "source": [
    "### Using a Wayback Machine Python Library to Get Wayback Machine URLs"
   ]
  },
  {
   "cell_type": "markdown",
   "metadata": {
    "id": "hrfxELHZnRhR"
   },
   "source": [
    "We pick the url of a file / page we are insterested in, here it is [EOIR Adjudication Stats](https://www.justice.gov/eoir/page/file/1107366/download)\n",
    "\n",
    "We also set up something called a user agent. A user agent is a grouping of information you pass to a website that suggests you are an actual person, vs. a machine (python code), using a web browser to access that website. \n",
    "\n",
    "Some websites block automated access so you need to provide this info.\n",
    "\n",
    "We then pass the url and the user agent info to the waybackpy library and create an instance of the waybackpy tool for accessing the EOIR data."
   ]
  },
  {
   "cell_type": "code",
   "execution_count": 5,
   "metadata": {
    "executionInfo": {
     "elapsed": 173,
     "status": "ok",
     "timestamp": 1636675854545,
     "user": {
      "displayName": "Michael Dowd",
      "photoUrl": "https://lh3.googleusercontent.com/a/default-user=s64",
      "userId": "00770521119407228668"
     },
     "user_tz": 480
    },
    "id": "hXLWHze0nRhR"
   },
   "outputs": [],
   "source": [
    "url = \"https://www.justice.gov/eoir/page/file/1107366/download\"\n",
    "\n",
    "user_agent = \"Mozilla/5.0 (Windows NT 5.1; rv:40.0) Gecko/20100101 Firefox/40.0\"\n",
    "wayback = waybackpy.Url(url, user_agent)"
   ]
  },
  {
   "cell_type": "markdown",
   "metadata": {
    "id": "sxX3Q26AnRhS"
   },
   "source": [
    "The waybackpy package allows us to find the oldest date and newest date a url was archived. We can also search for the date that is nearest a date that we provide. \n",
    "\n",
    "So what we will do is:\n",
    "1. get the oldest date\n",
    "2. then search every 90 days from the oldest date till we reach the newest date for the archive date \n",
    "3. save each of those dates and their corresponding wayback urls \n",
    "4. make sure we only get unique wayback urls (note this does not guarantee that the data archived is unique) \n",
    "5. then download each of the pdf files associated with those wayback archive urls. "
   ]
  },
  {
   "cell_type": "code",
   "execution_count": 6,
   "metadata": {
    "executionInfo": {
     "elapsed": 161,
     "status": "ok",
     "timestamp": 1636675870492,
     "user": {
      "displayName": "Michael Dowd",
      "photoUrl": "https://lh3.googleusercontent.com/a/default-user=s64",
      "userId": "00770521119407228668"
     },
     "user_tz": 480
    },
    "id": "6QsWijWGnRhS"
   },
   "outputs": [
    {
     "name": "stdout",
     "output_type": "stream",
     "text": [
      "Oldest Archive Date 2019-03-06 01:21:00\n",
      "Newest Archive Date 2021-09-28 21:11:24\n"
     ]
    }
   ],
   "source": [
    "# Python Dictionary to store the Wayback urls\n",
    "wb_archive_urls = {}\n",
    "\n",
    "# Get the oldest archive date and URL\n",
    "oldest = wayback.oldest()\n",
    "oldest_date = oldest.timestamp\n",
    "print(\"Oldest Archive Date\", oldest_date)\n",
    "wb_archive_urls[oldest_date] = oldest.archive_url\n",
    "\n",
    "# Get the newest archive date and URL\n",
    "newest = wayback.newest()\n",
    "newest_date = newest.timestamp\n",
    "print(\"Newest Archive Date\", newest_date)\n",
    "wb_archive_urls[newest_date] = newest.archive_url"
   ]
  },
  {
   "cell_type": "code",
   "execution_count": 9,
   "metadata": {
    "colab": {
     "base_uri": "https://localhost:8080/"
    },
    "executionInfo": {
     "elapsed": 9036,
     "status": "ok",
     "timestamp": 1636675893007,
     "user": {
      "displayName": "Michael Dowd",
      "photoUrl": "https://lh3.googleusercontent.com/a/default-user=s64",
      "userId": "00770521119407228668"
     },
     "user_tz": 480
    },
    "id": "tdbPw43unRhT",
    "outputId": "488377ea-bc70-4968-d66a-52c8c0a071ff"
   },
   "outputs": [
    {
     "name": "stdout",
     "output_type": "stream",
     "text": [
      "[   datetime.datetime(2019, 3, 6, 1, 21),\n",
      "    datetime.datetime(2019, 10, 3, 1, 7, 56),\n",
      "    datetime.datetime(2020, 1, 14, 2, 26, 25),\n",
      "    datetime.datetime(2020, 2, 1, 3, 59, 31),\n",
      "    datetime.datetime(2020, 5, 19, 1, 19, 51),\n",
      "    datetime.datetime(2020, 8, 1, 19, 34, 30),\n",
      "    datetime.datetime(2020, 12, 20, 19, 26, 12),\n",
      "    datetime.datetime(2021, 3, 2, 13, 53, 24),\n",
      "    datetime.datetime(2021, 5, 17, 22, 57, 49),\n",
      "    datetime.datetime(2021, 9, 28, 21, 11, 24)]\n"
     ]
    }
   ],
   "source": [
    "# Take the oldest date and set a variable called `search_date` to it\n",
    "# then keep adding 90 days to the search date and see if the wayback\n",
    "# machine has a new archive date near that search date\n",
    "# stop when we reach the newest date\n",
    "search_date = oldest_date\n",
    "retrieved_dates = [oldest_date, newest_date]\n",
    "\n",
    "while search_date < newest_date:\n",
    "    search_date += timedelta(days=90)\n",
    "    check_for_next = wayback.near(year=search_date.year, month=search_date.month)\n",
    "    if check_for_next.timestamp in retrieved_dates:\n",
    "        continue\n",
    "    else:\n",
    "        retrieved_dates.append(check_for_next.timestamp)\n",
    "        wb_archive_urls[check_for_next.timestamp] = check_for_next.archive_url\n",
    "\n",
    "pp.pprint(sorted(retrieved_dates))"
   ]
  },
  {
   "cell_type": "markdown",
   "metadata": {
    "id": "QiqORrt4nRhU"
   },
   "source": [
    "The dates above are year, month, day, hour, minute. So we can see that we have grabbed urls for dates ranging from 2019-03-06 - 2021-09-28 . This date range will shift depending on when the code is run.\n",
    "\n",
    "Below we print our dictionary of wayback urls, where the keys are the dates. "
   ]
  },
  {
   "cell_type": "code",
   "execution_count": 10,
   "metadata": {
    "colab": {
     "base_uri": "https://localhost:8080/"
    },
    "executionInfo": {
     "elapsed": 326,
     "status": "ok",
     "timestamp": 1636675897675,
     "user": {
      "displayName": "Michael Dowd",
      "photoUrl": "https://lh3.googleusercontent.com/a/default-user=s64",
      "userId": "00770521119407228668"
     },
     "user_tz": 480
    },
    "id": "2UEVyq80nRhU",
    "outputId": "fc853fe0-dfc1-4d76-a701-c0cdfa0fad3e"
   },
   "outputs": [
    {
     "name": "stdout",
     "output_type": "stream",
     "text": [
      "{   datetime.datetime(2019, 3, 6, 1, 21): 'https://web.archive.org/web/20190306012100/https://www.justice.gov/eoir/page/file/1107366/download',\n",
      "    datetime.datetime(2019, 10, 3, 1, 7, 56): 'https://web.archive.org/web/20191003010756/https://www.justice.gov/eoir/page/file/1107366/download',\n",
      "    datetime.datetime(2020, 1, 14, 2, 26, 25): 'https://web.archive.org/web/20200114022625/https://www.justice.gov/eoir/page/file/1107366/download',\n",
      "    datetime.datetime(2020, 2, 1, 3, 59, 31): 'https://web.archive.org/web/20200201035931/https://www.justice.gov/eoir/page/file/1107366/download',\n",
      "    datetime.datetime(2020, 5, 19, 1, 19, 51): 'https://web.archive.org/web/20200519011951/https://www.justice.gov/eoir/page/file/1107366/download',\n",
      "    datetime.datetime(2020, 8, 1, 19, 34, 30): 'https://web.archive.org/web/20200801193430/https://www.justice.gov/eoir/page/file/1107366/download',\n",
      "    datetime.datetime(2020, 12, 20, 19, 26, 12): 'https://web.archive.org/web/20201220192612/https://www.justice.gov/eoir/page/file/1107366/download',\n",
      "    datetime.datetime(2021, 3, 2, 13, 53, 24): 'https://web.archive.org/web/20210302135324/https://www.justice.gov/eoir/page/file/1107366/download',\n",
      "    datetime.datetime(2021, 5, 17, 22, 57, 49): 'https://web.archive.org/web/20210517225749/https://www.justice.gov/eoir/page/file/1107366/download',\n",
      "    datetime.datetime(2021, 9, 28, 21, 11, 24): 'https://web.archive.org/web/20210928211124/https://www.justice.gov/eoir/page/file/1107366/download'}\n"
     ]
    }
   ],
   "source": [
    "pp.pprint(wb_archive_urls)"
   ]
  },
  {
   "cell_type": "code",
   "execution_count": 11,
   "metadata": {},
   "outputs": [
    {
     "data": {
      "text/plain": [
       "{datetime.datetime(2019, 3, 6, 1, 21): 'https://web.archive.org/web/20190306012100/https://www.justice.gov/eoir/page/file/1107366/download',\n",
       " datetime.datetime(2021, 9, 28, 21, 11, 24): 'https://web.archive.org/web/20210928211124/https://www.justice.gov/eoir/page/file/1107366/download',\n",
       " datetime.datetime(2019, 10, 3, 1, 7, 56): 'https://web.archive.org/web/20191003010756/https://www.justice.gov/eoir/page/file/1107366/download',\n",
       " datetime.datetime(2020, 1, 14, 2, 26, 25): 'https://web.archive.org/web/20200114022625/https://www.justice.gov/eoir/page/file/1107366/download',\n",
       " datetime.datetime(2020, 2, 1, 3, 59, 31): 'https://web.archive.org/web/20200201035931/https://www.justice.gov/eoir/page/file/1107366/download',\n",
       " datetime.datetime(2020, 5, 19, 1, 19, 51): 'https://web.archive.org/web/20200519011951/https://www.justice.gov/eoir/page/file/1107366/download',\n",
       " datetime.datetime(2020, 8, 1, 19, 34, 30): 'https://web.archive.org/web/20200801193430/https://www.justice.gov/eoir/page/file/1107366/download',\n",
       " datetime.datetime(2020, 12, 20, 19, 26, 12): 'https://web.archive.org/web/20201220192612/https://www.justice.gov/eoir/page/file/1107366/download',\n",
       " datetime.datetime(2021, 3, 2, 13, 53, 24): 'https://web.archive.org/web/20210302135324/https://www.justice.gov/eoir/page/file/1107366/download',\n",
       " datetime.datetime(2021, 5, 17, 22, 57, 49): 'https://web.archive.org/web/20210517225749/https://www.justice.gov/eoir/page/file/1107366/download'}"
      ]
     },
     "execution_count": 11,
     "metadata": {},
     "output_type": "execute_result"
    }
   ],
   "source": [
    "wb_archive_urls"
   ]
  },
  {
   "cell_type": "markdown",
   "metadata": {
    "id": "wS2MnIjZnRhU"
   },
   "source": [
    "### Now Download the PDFs from the Wayback Machine"
   ]
  },
  {
   "cell_type": "code",
   "execution_count": 12,
   "metadata": {
    "colab": {
     "base_uri": "https://localhost:8080/"
    },
    "executionInfo": {
     "elapsed": 11407,
     "status": "ok",
     "timestamp": 1636675945003,
     "user": {
      "displayName": "Michael Dowd",
      "photoUrl": "https://lh3.googleusercontent.com/a/default-user=s64",
      "userId": "00770521119407228668"
     },
     "user_tz": 480
    },
    "id": "0au771UHnRhU",
    "outputId": "04490184-e55c-4c8a-94b5-d07da4d0dbbb"
   },
   "outputs": [
    {
     "name": "stdout",
     "output_type": "stream",
     "text": [
      "File  eoir_adjudication_stats_2019-03-06 01:21:00.pdf  downloaded\n",
      "File  eoir_adjudication_stats_2021-09-28 21:11:24.pdf  downloaded\n",
      "File  eoir_adjudication_stats_2019-10-03 01:07:56.pdf  downloaded\n",
      "File  eoir_adjudication_stats_2020-01-14 02:26:25.pdf  downloaded\n",
      "File  eoir_adjudication_stats_2020-02-01 03:59:31.pdf  downloaded\n",
      "File  eoir_adjudication_stats_2020-05-19 01:19:51.pdf  downloaded\n",
      "File  eoir_adjudication_stats_2020-08-01 19:34:30.pdf  downloaded\n",
      "File  eoir_adjudication_stats_2020-12-20 19:26:12.pdf  downloaded\n",
      "File  eoir_adjudication_stats_2021-03-02 13:53:24.pdf  downloaded\n",
      "File  eoir_adjudication_stats_2021-05-17 22:57:49.pdf  downloaded\n"
     ]
    }
   ],
   "source": [
    "# We will save the pdfs in the export directory below\n",
    "export_directory = Path(\"../data/raw_source_files/justice.gov/\")\n",
    "\n",
    "for link in wb_archive_urls:\n",
    "    url = wb_archive_urls[link]\n",
    "    download_pdf(url, f\"eoir_adjudication_stats_{str(link)}\", export_directory)"
   ]
  },
  {
   "cell_type": "markdown",
   "metadata": {
    "id": "lr2HXIUgnRhV"
   },
   "source": [
    "We can list files in a directory with the ls command - below we can see that we have successfully downloaded all of the pdfs"
   ]
  },
  {
   "cell_type": "code",
   "execution_count": 13,
   "metadata": {
    "colab": {
     "base_uri": "https://localhost:8080/"
    },
    "executionInfo": {
     "elapsed": 205,
     "status": "ok",
     "timestamp": 1636057972745,
     "user": {
      "displayName": "Michael Dowd",
      "photoUrl": "https://lh3.googleusercontent.com/a/default-user=s64",
      "userId": "00770521119407228668"
     },
     "user_tz": 420
    },
    "id": "X1KJQuAbnRhV",
    "outputId": "9d5df53a-d4e2-44d8-f0c4-3e4a909a0740"
   },
   "outputs": [
    {
     "name": "stdout",
     "output_type": "stream",
     "text": [
      "eoir_adjudication_stats_2019-03-06 01:21:00.pdf\r\n",
      "eoir_adjudication_stats_2019-10-03 01:07:56.pdf\r\n",
      "eoir_adjudication_stats_2019-11-13 02:08:38.pdf\r\n",
      "eoir_adjudication_stats_2020-01-14 02:26:25.pdf\r\n",
      "eoir_adjudication_stats_2020-02-01 03:59:31.pdf\r\n",
      "eoir_adjudication_stats_2020-05-19 01:19:51.pdf\r\n",
      "eoir_adjudication_stats_2020-08-01 19:34:30.pdf\r\n",
      "eoir_adjudication_stats_2020-09-28 23:53:59.pdf\r\n",
      "eoir_adjudication_stats_2020-12-20 19:26:12.pdf\r\n",
      "eoir_adjudication_stats_2021-01-19 23:28:15.pdf\r\n",
      "eoir_adjudication_stats_2021-03-02 13:53:24.pdf\r\n",
      "eoir_adjudication_stats_2021-05-17 22:57:49.pdf\r\n",
      "eoir_adjudication_stats_2021-09-28 21:11:24.pdf\r\n"
     ]
    }
   ],
   "source": [
    "ls ../data/raw_source_files/justice.gov/"
   ]
  },
  {
   "cell_type": "markdown",
   "metadata": {
    "id": "5xhXqPcOnRhV"
   },
   "source": [
    "**Note**: Now these PDFs were not updated very frequently. The only place in the PDF where it indicates what term this data covers is the in the #1 Footnote. Given that we don't have a large number of PDFs its probably faster to just go through and see which are unique, what fiscal period they cover and when they were last updated. \n",
    "\n",
    "This is our approach below. This process can be automated using code, but isn't something we currently support."
   ]
  },
  {
   "cell_type": "markdown",
   "metadata": {
    "id": "OrB5zMpLnRhW"
   },
   "source": [
    "eoir_adjudication_stats_2019-03-06 01:21:00.pdf --> Asylum rates for Fiscal Year 2018. Data generated on October 24, 2018 <br>\n",
    "eoir_adjudication_stats_2019-10-03 01:07:56.pdf --> Same as above <br>\n",
    "eoir_adjudication_stats_2019-11-13 02:08:38.pdf --> Asylum rates for Fiscal Year 2019, Data generated on October 23, 2019<br>\n",
    "eoir_adjudication_stats_2020-02-01 03:59:31.pdf --> Same as above <br>\n",
    "eoir_adjudication_stats_2020-05-19 01:19:51.pdf --> Same as above <br>\n",
    "eoir_adjudication_stats_2020-08-01 19:34:30.pdf --> Asylum rates for Fiscal Year 2020, Data generated on July 14, 2020 <br>\n",
    "eoir_adjudication_stats_2020-09-28 23:53:59.pdf --> Same as above <br>\n",
    "eoir_adjudication_stats_2021-01-19 23:28:15.pdf -->  Fiscal Year 2021,  Data generated on January 7, 2020<br>\n",
    "eoir_adjudication_stats_2021-05-17 22:57:49.pdf --> Fiscal Year 2021, Data generated on April 19, 2021<br>\n",
    "eoir_adjudication_stats_2021-09-28 21:11:24.pdf -->  Fiscal Year 2021, Data generated on July 8, 2021 <br>"
   ]
  },
  {
   "cell_type": "markdown",
   "metadata": {
    "id": "hHZVCuwfnRhW"
   },
   "source": [
    "So our unique dataset are:\n"
   ]
  },
  {
   "cell_type": "code",
   "execution_count": 16,
   "metadata": {
    "executionInfo": {
     "elapsed": 155,
     "status": "ok",
     "timestamp": 1636675975894,
     "user": {
      "displayName": "Michael Dowd",
      "photoUrl": "https://lh3.googleusercontent.com/a/default-user=s64",
      "userId": "00770521119407228668"
     },
     "user_tz": 480
    },
    "id": "sYi8oyXRnRhW"
   },
   "outputs": [],
   "source": [
    "uniq_pdfs = {\n",
    "    \"eoir_adjudication_stats_2019-03-06 01:21:00.pdf\": [\"FS18\", \"10/2018\"],\n",
    "    \"eoir_adjudication_stats_2019-11-13 02:08:38.pdf\": [\"FS19\", \"10/2019\"],\n",
    "    \"eoir_adjudication_stats_2020-08-01 19:34:30.pdf\": [\"FS20\", \"07/2020\"],\n",
    "    \"eoir_adjudication_stats_2021-01-19 23:28:15.pdf\": [\"FS21\", \"01/2021\"],\n",
    "    \"eoir_adjudication_stats_2021-05-17 22:57:49.pdf\": [\"FS21\", \"04/2021\"],\n",
    "    \"eoir_adjudication_stats_2021-09-28 21:11:24.pdf\": [\"FS21\", \"07/2021\"],\n",
    "}"
   ]
  },
  {
   "cell_type": "markdown",
   "metadata": {
    "id": "G9CFYiaFnRhW"
   },
   "source": [
    "the structure is the pdf filename as the key and then the values are the Fiscal Year followed by the month the data was generated"
   ]
  },
  {
   "cell_type": "markdown",
   "metadata": {
    "id": "MijLw8KcnRhX"
   },
   "source": [
    "## Extracting Structured Data from the PDFs "
   ]
  },
  {
   "cell_type": "markdown",
   "metadata": {
    "id": "q4CEAL2bnRhX"
   },
   "source": [
    "### First Let's Try 1 PDF"
   ]
  },
  {
   "cell_type": "code",
   "execution_count": 17,
   "metadata": {
    "executionInfo": {
     "elapsed": 143,
     "status": "ok",
     "timestamp": 1636676038914,
     "user": {
      "displayName": "Michael Dowd",
      "photoUrl": "https://lh3.googleusercontent.com/a/default-user=s64",
      "userId": "00770521119407228668"
     },
     "user_tz": 480
    },
    "id": "WXNNI7O-nRhX"
   },
   "outputs": [],
   "source": [
    "from PyPDF2 import PdfFileReader\n",
    "from tabula.io import read_pdf"
   ]
  },
  {
   "cell_type": "markdown",
   "metadata": {
    "id": "ktkEIJZqnRhX"
   },
   "source": [
    "**First let's extract one page to see if the tabula library is successful**"
   ]
  },
  {
   "cell_type": "code",
   "execution_count": 18,
   "metadata": {
    "executionInfo": {
     "elapsed": 3383,
     "status": "ok",
     "timestamp": 1636676046322,
     "user": {
      "displayName": "Michael Dowd",
      "photoUrl": "https://lh3.googleusercontent.com/a/default-user=s64",
      "userId": "00770521119407228668"
     },
     "user_tz": 480
    },
    "id": "rXPsv74lnRhX"
   },
   "outputs": [],
   "source": [
    "extract_test = read_pdf(\n",
    "    export_directory / \"eoir_adjudication_stats_2019-03-06 01:21:00.pdf\",\n",
    "    pages=1,\n",
    "    lattice=True,\n",
    "    pandas_options={\"header\": None},  # none because some have headers and some dont\n",
    ")[0]"
   ]
  },
  {
   "cell_type": "markdown",
   "metadata": {
    "id": "Kt-v0qpmnRhX"
   },
   "source": [
    "Below we see the single extracted page - by comparing to page 1 of that actual pdf we can see that overall the results look great. \n"
   ]
  },
  {
   "cell_type": "code",
   "execution_count": 19,
   "metadata": {
    "colab": {
     "base_uri": "https://localhost:8080/",
     "height": 669
    },
    "executionInfo": {
     "elapsed": 172,
     "status": "ok",
     "timestamp": 1636676106081,
     "user": {
      "displayName": "Michael Dowd",
      "photoUrl": "https://lh3.googleusercontent.com/a/default-user=s64",
      "userId": "00770521119407228668"
     },
     "user_tz": 480
    },
    "id": "STmAcjDznRhX",
    "outputId": "b41707df-eedc-4a52-c75a-254bea036eb8"
   },
   "outputs": [
    {
     "data": {
      "text/html": [
       "<div>\n",
       "<style scoped>\n",
       "    .dataframe tbody tr th:only-of-type {\n",
       "        vertical-align: middle;\n",
       "    }\n",
       "\n",
       "    .dataframe tbody tr th {\n",
       "        vertical-align: top;\n",
       "    }\n",
       "\n",
       "    .dataframe thead th {\n",
       "        text-align: right;\n",
       "    }\n",
       "</style>\n",
       "<table border=\"1\" class=\"dataframe\">\n",
       "  <thead>\n",
       "    <tr style=\"text-align: right;\">\n",
       "      <th></th>\n",
       "      <th>0</th>\n",
       "      <th>1</th>\n",
       "      <th>2</th>\n",
       "      <th>3</th>\n",
       "      <th>4</th>\n",
       "      <th>5</th>\n",
       "      <th>6</th>\n",
       "      <th>7</th>\n",
       "      <th>8</th>\n",
       "      <th>9</th>\n",
       "    </tr>\n",
       "  </thead>\n",
       "  <tbody>\n",
       "    <tr>\n",
       "      <th>0</th>\n",
       "      <td>Admin\\rDenialAdmin\\rNationalityGrants2\\rGrant ...</td>\n",
       "      <td>NaN</td>\n",
       "      <td>NaN</td>\n",
       "      <td>NaN</td>\n",
       "      <td>NaN</td>\n",
       "      <td>NaN</td>\n",
       "      <td>NaN</td>\n",
       "      <td>NaN</td>\n",
       "      <td>NaN</td>\n",
       "      <td>NaN</td>\n",
       "    </tr>\n",
       "    <tr>\n",
       "      <th>1</th>\n",
       "      <td>Nationality</td>\n",
       "      <td>Grants2</td>\n",
       "      <td>Grant Rate</td>\n",
       "      <td>Denials</td>\n",
       "      <td>Denial\\rRate</td>\n",
       "      <td>Other3</td>\n",
       "      <td>Other Rate</td>\n",
       "      <td>Admin\\rClosure4</td>\n",
       "      <td>Admin\\rClosure\\rRate</td>\n",
       "      <td>Total</td>\n",
       "    </tr>\n",
       "    <tr>\n",
       "      <th>2</th>\n",
       "      <td>AFGHANISTAN</td>\n",
       "      <td>28</td>\n",
       "      <td>*</td>\n",
       "      <td>19</td>\n",
       "      <td>*</td>\n",
       "      <td>21</td>\n",
       "      <td>*</td>\n",
       "      <td>*</td>\n",
       "      <td>*</td>\n",
       "      <td>*</td>\n",
       "    </tr>\n",
       "    <tr>\n",
       "      <th>3</th>\n",
       "      <td>ALBANIA</td>\n",
       "      <td>181</td>\n",
       "      <td>62.41%</td>\n",
       "      <td>55</td>\n",
       "      <td>18.97%</td>\n",
       "      <td>49</td>\n",
       "      <td>16.90%</td>\n",
       "      <td>5</td>\n",
       "      <td>1.72%</td>\n",
       "      <td>290</td>\n",
       "    </tr>\n",
       "    <tr>\n",
       "      <th>4</th>\n",
       "      <td>ALGERIA</td>\n",
       "      <td>*</td>\n",
       "      <td>*</td>\n",
       "      <td>*</td>\n",
       "      <td>*</td>\n",
       "      <td>*</td>\n",
       "      <td>*</td>\n",
       "      <td>*</td>\n",
       "      <td>*</td>\n",
       "      <td>*</td>\n",
       "    </tr>\n",
       "    <tr>\n",
       "      <th>5</th>\n",
       "      <td>ANGOLA</td>\n",
       "      <td>19</td>\n",
       "      <td>*</td>\n",
       "      <td>29</td>\n",
       "      <td>*</td>\n",
       "      <td>10</td>\n",
       "      <td>*</td>\n",
       "      <td>*</td>\n",
       "      <td>*</td>\n",
       "      <td>*</td>\n",
       "    </tr>\n",
       "    <tr>\n",
       "      <th>6</th>\n",
       "      <td>ANTIGUA AND\\rBARBUDA</td>\n",
       "      <td>*</td>\n",
       "      <td>*</td>\n",
       "      <td>*</td>\n",
       "      <td>*</td>\n",
       "      <td>*</td>\n",
       "      <td>*</td>\n",
       "      <td>*</td>\n",
       "      <td>*</td>\n",
       "      <td>*</td>\n",
       "    </tr>\n",
       "    <tr>\n",
       "      <th>7</th>\n",
       "      <td>ARGENTINA</td>\n",
       "      <td>*</td>\n",
       "      <td>*</td>\n",
       "      <td>8</td>\n",
       "      <td>*</td>\n",
       "      <td>16</td>\n",
       "      <td>*</td>\n",
       "      <td>*</td>\n",
       "      <td>*</td>\n",
       "      <td>*</td>\n",
       "    </tr>\n",
       "    <tr>\n",
       "      <th>8</th>\n",
       "      <td>ARMENIA</td>\n",
       "      <td>60</td>\n",
       "      <td>*</td>\n",
       "      <td>39</td>\n",
       "      <td>*</td>\n",
       "      <td>43</td>\n",
       "      <td>*</td>\n",
       "      <td>*</td>\n",
       "      <td>*</td>\n",
       "      <td>*</td>\n",
       "    </tr>\n",
       "    <tr>\n",
       "      <th>9</th>\n",
       "      <td>AUSTRALIA</td>\n",
       "      <td>*</td>\n",
       "      <td>*</td>\n",
       "      <td>*</td>\n",
       "      <td>*</td>\n",
       "      <td>*</td>\n",
       "      <td>*</td>\n",
       "      <td>*</td>\n",
       "      <td>*</td>\n",
       "      <td>*</td>\n",
       "    </tr>\n",
       "    <tr>\n",
       "      <th>10</th>\n",
       "      <td>AUSTRIA</td>\n",
       "      <td>10</td>\n",
       "      <td>*</td>\n",
       "      <td>*</td>\n",
       "      <td>*</td>\n",
       "      <td>*</td>\n",
       "      <td>*</td>\n",
       "      <td>*</td>\n",
       "      <td>*</td>\n",
       "      <td>*</td>\n",
       "    </tr>\n",
       "    <tr>\n",
       "      <th>11</th>\n",
       "      <td>AZERBAIJAN</td>\n",
       "      <td>21</td>\n",
       "      <td>*</td>\n",
       "      <td>5</td>\n",
       "      <td>*</td>\n",
       "      <td>5</td>\n",
       "      <td>*</td>\n",
       "      <td>*</td>\n",
       "      <td>*</td>\n",
       "      <td>*</td>\n",
       "    </tr>\n",
       "    <tr>\n",
       "      <th>12</th>\n",
       "      <td>BAHAMAS</td>\n",
       "      <td>*</td>\n",
       "      <td>*</td>\n",
       "      <td>9</td>\n",
       "      <td>*</td>\n",
       "      <td>5</td>\n",
       "      <td>*</td>\n",
       "      <td>*</td>\n",
       "      <td>*</td>\n",
       "      <td>*</td>\n",
       "    </tr>\n",
       "    <tr>\n",
       "      <th>13</th>\n",
       "      <td>BAHRAIN</td>\n",
       "      <td>*</td>\n",
       "      <td>*</td>\n",
       "      <td>*</td>\n",
       "      <td>*</td>\n",
       "      <td>*</td>\n",
       "      <td>*</td>\n",
       "      <td>*</td>\n",
       "      <td>*</td>\n",
       "      <td>*</td>\n",
       "    </tr>\n",
       "    <tr>\n",
       "      <th>14</th>\n",
       "      <td>BANGLADESH</td>\n",
       "      <td>289</td>\n",
       "      <td>51.06%</td>\n",
       "      <td>155</td>\n",
       "      <td>27.39%</td>\n",
       "      <td>117</td>\n",
       "      <td>20.67%</td>\n",
       "      <td>5</td>\n",
       "      <td>0.88%</td>\n",
       "      <td>566</td>\n",
       "    </tr>\n",
       "    <tr>\n",
       "      <th>15</th>\n",
       "      <td>BARBADOS</td>\n",
       "      <td>*</td>\n",
       "      <td>*</td>\n",
       "      <td>*</td>\n",
       "      <td>*</td>\n",
       "      <td>*</td>\n",
       "      <td>*</td>\n",
       "      <td>*</td>\n",
       "      <td>*</td>\n",
       "      <td>*</td>\n",
       "    </tr>\n",
       "    <tr>\n",
       "      <th>16</th>\n",
       "      <td>BELARUS</td>\n",
       "      <td>34</td>\n",
       "      <td>*</td>\n",
       "      <td>6</td>\n",
       "      <td>*</td>\n",
       "      <td>7</td>\n",
       "      <td>*</td>\n",
       "      <td>*</td>\n",
       "      <td>*</td>\n",
       "      <td>*</td>\n",
       "    </tr>\n",
       "    <tr>\n",
       "      <th>17</th>\n",
       "      <td>BELGIUM</td>\n",
       "      <td>*</td>\n",
       "      <td>*</td>\n",
       "      <td>*</td>\n",
       "      <td>*</td>\n",
       "      <td>*</td>\n",
       "      <td>*</td>\n",
       "      <td>*</td>\n",
       "      <td>*</td>\n",
       "      <td>*</td>\n",
       "    </tr>\n",
       "    <tr>\n",
       "      <th>18</th>\n",
       "      <td>BELIZE</td>\n",
       "      <td>*</td>\n",
       "      <td>*</td>\n",
       "      <td>16</td>\n",
       "      <td>*</td>\n",
       "      <td>10</td>\n",
       "      <td>*</td>\n",
       "      <td>*</td>\n",
       "      <td>*</td>\n",
       "      <td>*</td>\n",
       "    </tr>\n",
       "    <tr>\n",
       "      <th>19</th>\n",
       "      <td>BENIN</td>\n",
       "      <td>*</td>\n",
       "      <td>*</td>\n",
       "      <td>6</td>\n",
       "      <td>*</td>\n",
       "      <td>*</td>\n",
       "      <td>*</td>\n",
       "      <td>*</td>\n",
       "      <td>*</td>\n",
       "      <td>*</td>\n",
       "    </tr>\n",
       "  </tbody>\n",
       "</table>\n",
       "</div>"
      ],
      "text/plain": [
       "                                                    0        1           2  \\\n",
       "0   Admin\\rDenialAdmin\\rNationalityGrants2\\rGrant ...      NaN         NaN   \n",
       "1                                         Nationality  Grants2  Grant Rate   \n",
       "2                                         AFGHANISTAN       28           *   \n",
       "3                                             ALBANIA      181      62.41%   \n",
       "4                                             ALGERIA        *           *   \n",
       "5                                              ANGOLA       19           *   \n",
       "6                                ANTIGUA AND\\rBARBUDA        *           *   \n",
       "7                                           ARGENTINA        *           *   \n",
       "8                                             ARMENIA       60           *   \n",
       "9                                           AUSTRALIA        *           *   \n",
       "10                                            AUSTRIA       10           *   \n",
       "11                                         AZERBAIJAN       21           *   \n",
       "12                                            BAHAMAS        *           *   \n",
       "13                                            BAHRAIN        *           *   \n",
       "14                                         BANGLADESH      289      51.06%   \n",
       "15                                           BARBADOS        *           *   \n",
       "16                                            BELARUS       34           *   \n",
       "17                                            BELGIUM        *           *   \n",
       "18                                             BELIZE        *           *   \n",
       "19                                              BENIN        *           *   \n",
       "\n",
       "          3             4       5           6                7  \\\n",
       "0       NaN           NaN     NaN         NaN              NaN   \n",
       "1   Denials  Denial\\rRate  Other3  Other Rate  Admin\\rClosure4   \n",
       "2        19             *      21           *                *   \n",
       "3        55        18.97%      49      16.90%                5   \n",
       "4         *             *       *           *                *   \n",
       "5        29             *      10           *                *   \n",
       "6         *             *       *           *                *   \n",
       "7         8             *      16           *                *   \n",
       "8        39             *      43           *                *   \n",
       "9         *             *       *           *                *   \n",
       "10        *             *       *           *                *   \n",
       "11        5             *       5           *                *   \n",
       "12        9             *       5           *                *   \n",
       "13        *             *       *           *                *   \n",
       "14      155        27.39%     117      20.67%                5   \n",
       "15        *             *       *           *                *   \n",
       "16        6             *       7           *                *   \n",
       "17        *             *       *           *                *   \n",
       "18       16             *      10           *                *   \n",
       "19        6             *       *           *                *   \n",
       "\n",
       "                       8      9  \n",
       "0                    NaN    NaN  \n",
       "1   Admin\\rClosure\\rRate  Total  \n",
       "2                      *      *  \n",
       "3                  1.72%    290  \n",
       "4                      *      *  \n",
       "5                      *      *  \n",
       "6                      *      *  \n",
       "7                      *      *  \n",
       "8                      *      *  \n",
       "9                      *      *  \n",
       "10                     *      *  \n",
       "11                     *      *  \n",
       "12                     *      *  \n",
       "13                     *      *  \n",
       "14                 0.88%    566  \n",
       "15                     *      *  \n",
       "16                     *      *  \n",
       "17                     *      *  \n",
       "18                     *      *  \n",
       "19                     *      *  "
      ]
     },
     "execution_count": 19,
     "metadata": {},
     "output_type": "execute_result"
    }
   ],
   "source": [
    "extract_test.head(20)"
   ]
  },
  {
   "cell_type": "markdown",
   "metadata": {
    "id": "jafMPS6rnRhY"
   },
   "source": [
    "\n",
    "The only issue is that the headers are pretty messed up. If we check a couple of other pages (try putting in 2,3,4) for the `pages=1` value. We see this is a consistent issue and actually we can just drop the first 2 rows.\n",
    "\n",
    "So we will write that into our `get_table_data` function."
   ]
  },
  {
   "cell_type": "code",
   "execution_count": 23,
   "metadata": {
    "code_folding": [],
    "executionInfo": {
     "elapsed": 171,
     "status": "ok",
     "timestamp": 1636676128764,
     "user": {
      "displayName": "Michael Dowd",
      "photoUrl": "https://lh3.googleusercontent.com/a/default-user=s64",
      "userId": "00770521119407228668"
     },
     "user_tz": 480
    },
    "id": "BH514KvvnRhY"
   },
   "outputs": [],
   "source": [
    "def get_table_data(path):\n",
    "    \"\"\"\n",
    "    Parameters:\n",
    "      path: path to specific PDF file to extract data from\n",
    "\n",
    "    Returns:\n",
    "      Pandas dataframe of structured (tabular) data extracted from the PDF\n",
    "      path provided.\n",
    "\n",
    "    Example:\n",
    "      get_table_data( 'eoir_adjudication_stats_2019-03-06 01:21:00.pdf' )\n",
    "\n",
    "    \"\"\"\n",
    "    # Read the pdf to get basic info on it\n",
    "    pdf = PdfFileReader(path)\n",
    "\n",
    "    # Data Holders\n",
    "    full_table = pd.DataFrame()  # Will hold the combined data\n",
    "\n",
    "    # Processing PDF - we start with the first page (start) and go to the last page (stop)\n",
    "    start = 1\n",
    "    stop = pdf.getNumPages() + 1\n",
    "    for i in range(start, stop):\n",
    "        # Extract data from the specific PDF page using Tabula\n",
    "        df = read_pdf(\n",
    "            path,\n",
    "            pages=f\"{i}\",\n",
    "            lattice=True,\n",
    "            pandas_options={\n",
    "                \"header\": None\n",
    "            },  # none because some have headers and some dont\n",
    "        )[0]\n",
    "        if len(df.columns) == 10:\n",
    "            df.columns = [\n",
    "                \"nationality\",\n",
    "                \"grants\",\n",
    "                \"grant rate\",\n",
    "                \"denials\",\n",
    "                \"denial rate\",\n",
    "                \"other\",\n",
    "                \"other rate\",\n",
    "                \"admin closure\",\n",
    "                \"admin closure rate\",\n",
    "                \"total\",\n",
    "            ]\n",
    "        elif len(df.columns) == 8:\n",
    "            df.columns = [\n",
    "                \"nationality\",\n",
    "                \"grants\",\n",
    "                \"grant rate\",\n",
    "                \"denials\",\n",
    "                \"denial rate\",\n",
    "                \"other\",\n",
    "                \"other rate\",\n",
    "                \"total\",\n",
    "            ]\n",
    "        else:\n",
    "            raise AssertionError(\n",
    "                \"Something is wrong with column lengths check the pdf file manually\"\n",
    "            )\n",
    "        # Here we drop the first N rows, the weird headers.\n",
    "        df = df.loc[\n",
    "            df[df[\"nationality\"].str.lower().str.contains(\"nationality\")].index.max()\n",
    "            + 1 :,\n",
    "            :,\n",
    "        ]\n",
    "\n",
    "        df = df[~df[\"nationality\"].str.lower().str.contains(\"asylum rates for fiscal\")]\n",
    "        # Append this page of data to the full table\n",
    "        full_table = full_table.append(df)\n",
    "\n",
    "    return full_table"
   ]
  },
  {
   "cell_type": "markdown",
   "metadata": {
    "id": "LCp-bwJznRhY"
   },
   "source": [
    "Let's define the columns that are in the source table"
   ]
  },
  {
   "cell_type": "code",
   "execution_count": 24,
   "metadata": {
    "executionInfo": {
     "elapsed": 176,
     "status": "ok",
     "timestamp": 1636676130834,
     "user": {
      "displayName": "Michael Dowd",
      "photoUrl": "https://lh3.googleusercontent.com/a/default-user=s64",
      "userId": "00770521119407228668"
     },
     "user_tz": 480
    },
    "id": "MwI0ZheEnRhZ"
   },
   "outputs": [],
   "source": [
    "pdf_cols = [\n",
    "    \"nationality\",\n",
    "    \"grants\",\n",
    "    \"grant rate\",\n",
    "    \"denials\",\n",
    "    \"denial rate\",\n",
    "    \"other\",\n",
    "    \"other rate\",\n",
    "    \"admin closure\",\n",
    "    \"admin closure rate\",\n",
    "    \"total\",\n",
    "]"
   ]
  },
  {
   "cell_type": "markdown",
   "metadata": {
    "id": "g5Tzk-yhnRhZ"
   },
   "source": [
    "Now grab the full pdf"
   ]
  },
  {
   "cell_type": "code",
   "execution_count": 25,
   "metadata": {
    "executionInfo": {
     "elapsed": 13719,
     "status": "ok",
     "timestamp": 1636676146796,
     "user": {
      "displayName": "Michael Dowd",
      "photoUrl": "https://lh3.googleusercontent.com/a/default-user=s64",
      "userId": "00770521119407228668"
     },
     "user_tz": 480
    },
    "id": "pr1ZDo-snRhZ"
   },
   "outputs": [],
   "source": [
    "test = get_table_data(\n",
    "    str(export_directory / \"eoir_adjudication_stats_2019-03-06 01:21:00.pdf\")\n",
    ")"
   ]
  },
  {
   "cell_type": "code",
   "execution_count": 26,
   "metadata": {
    "colab": {
     "base_uri": "https://localhost:8080/",
     "height": 204
    },
    "executionInfo": {
     "elapsed": 188,
     "status": "ok",
     "timestamp": 1636676227089,
     "user": {
      "displayName": "Michael Dowd",
      "photoUrl": "https://lh3.googleusercontent.com/a/default-user=s64",
      "userId": "00770521119407228668"
     },
     "user_tz": 480
    },
    "id": "qwK7XwhGnRhZ",
    "outputId": "b4533aa4-0814-487a-d689-04ab371d851c"
   },
   "outputs": [
    {
     "data": {
      "text/html": [
       "<div>\n",
       "<style scoped>\n",
       "    .dataframe tbody tr th:only-of-type {\n",
       "        vertical-align: middle;\n",
       "    }\n",
       "\n",
       "    .dataframe tbody tr th {\n",
       "        vertical-align: top;\n",
       "    }\n",
       "\n",
       "    .dataframe thead th {\n",
       "        text-align: right;\n",
       "    }\n",
       "</style>\n",
       "<table border=\"1\" class=\"dataframe\">\n",
       "  <thead>\n",
       "    <tr style=\"text-align: right;\">\n",
       "      <th></th>\n",
       "      <th>nationality</th>\n",
       "      <th>grants</th>\n",
       "      <th>grant rate</th>\n",
       "      <th>denials</th>\n",
       "      <th>denial rate</th>\n",
       "      <th>other</th>\n",
       "      <th>other rate</th>\n",
       "      <th>admin closure</th>\n",
       "      <th>admin closure rate</th>\n",
       "      <th>total</th>\n",
       "    </tr>\n",
       "  </thead>\n",
       "  <tbody>\n",
       "    <tr>\n",
       "      <th>2</th>\n",
       "      <td>AFGHANISTAN</td>\n",
       "      <td>28</td>\n",
       "      <td>*</td>\n",
       "      <td>19</td>\n",
       "      <td>*</td>\n",
       "      <td>21</td>\n",
       "      <td>*</td>\n",
       "      <td>*</td>\n",
       "      <td>*</td>\n",
       "      <td>*</td>\n",
       "    </tr>\n",
       "    <tr>\n",
       "      <th>3</th>\n",
       "      <td>ALBANIA</td>\n",
       "      <td>181</td>\n",
       "      <td>62.41%</td>\n",
       "      <td>55</td>\n",
       "      <td>18.97%</td>\n",
       "      <td>49</td>\n",
       "      <td>16.90%</td>\n",
       "      <td>5</td>\n",
       "      <td>1.72%</td>\n",
       "      <td>290</td>\n",
       "    </tr>\n",
       "    <tr>\n",
       "      <th>4</th>\n",
       "      <td>ALGERIA</td>\n",
       "      <td>*</td>\n",
       "      <td>*</td>\n",
       "      <td>*</td>\n",
       "      <td>*</td>\n",
       "      <td>*</td>\n",
       "      <td>*</td>\n",
       "      <td>*</td>\n",
       "      <td>*</td>\n",
       "      <td>*</td>\n",
       "    </tr>\n",
       "    <tr>\n",
       "      <th>5</th>\n",
       "      <td>ANGOLA</td>\n",
       "      <td>19</td>\n",
       "      <td>*</td>\n",
       "      <td>29</td>\n",
       "      <td>*</td>\n",
       "      <td>10</td>\n",
       "      <td>*</td>\n",
       "      <td>*</td>\n",
       "      <td>*</td>\n",
       "      <td>*</td>\n",
       "    </tr>\n",
       "    <tr>\n",
       "      <th>6</th>\n",
       "      <td>ANTIGUA AND\\rBARBUDA</td>\n",
       "      <td>*</td>\n",
       "      <td>*</td>\n",
       "      <td>*</td>\n",
       "      <td>*</td>\n",
       "      <td>*</td>\n",
       "      <td>*</td>\n",
       "      <td>*</td>\n",
       "      <td>*</td>\n",
       "      <td>*</td>\n",
       "    </tr>\n",
       "  </tbody>\n",
       "</table>\n",
       "</div>"
      ],
      "text/plain": [
       "            nationality grants grant rate denials denial rate other  \\\n",
       "2           AFGHANISTAN     28          *      19           *    21   \n",
       "3               ALBANIA    181     62.41%      55      18.97%    49   \n",
       "4               ALGERIA      *          *       *           *     *   \n",
       "5                ANGOLA     19          *      29           *    10   \n",
       "6  ANTIGUA AND\\rBARBUDA      *          *       *           *     *   \n",
       "\n",
       "  other rate admin closure admin closure rate total  \n",
       "2          *             *                  *     *  \n",
       "3     16.90%             5              1.72%   290  \n",
       "4          *             *                  *     *  \n",
       "5          *             *                  *     *  \n",
       "6          *             *                  *     *  "
      ]
     },
     "execution_count": 26,
     "metadata": {},
     "output_type": "execute_result"
    }
   ],
   "source": [
    "test.head()"
   ]
  },
  {
   "cell_type": "markdown",
   "metadata": {
    "id": "ZrbyacBznRhZ"
   },
   "source": [
    "Looks pretty great, only issue is that we have asterisks in the data, and I bet we have some \",\" separators in the dataset as well. This is a problem because it means we can't treat those columns as having real numbers in them, making it impossible to aggregate. "
   ]
  },
  {
   "cell_type": "markdown",
   "metadata": {
    "id": "8cN9P6CMnRhZ"
   },
   "source": [
    "**[OPTIONAL]  Cleaning the data** \n",
    "\n",
    "This is optional because you could likley do this in excel instead"
   ]
  },
  {
   "cell_type": "code",
   "execution_count": 27,
   "metadata": {
    "executionInfo": {
     "elapsed": 169,
     "status": "ok",
     "timestamp": 1636676237960,
     "user": {
      "displayName": "Michael Dowd",
      "photoUrl": "https://lh3.googleusercontent.com/a/default-user=s64",
      "userId": "00770521119407228668"
     },
     "user_tz": 480
    },
    "id": "vmYOIIEvnRhZ"
   },
   "outputs": [],
   "source": [
    "# Clean the asterisks - replace all of them with NULL or nan(not a number)\n",
    "test = test.replace(\"*\", np.nan)\n",
    "\n",
    "# Iterate over the columns\n",
    "# convert the value to type string, then replace any \",\" with \"\",\n",
    "# and convert the new value to type float.\n",
    "numerics = [\"grants\", \"denials\", \"other\", \"admin closure\", \"total\"]\n",
    "for col in numerics:\n",
    "    test[col] = test[col].astype(str).str.replace(\",\", \"\").astype(float)"
   ]
  },
  {
   "cell_type": "code",
   "execution_count": 28,
   "metadata": {
    "colab": {
     "base_uri": "https://localhost:8080/",
     "height": 204
    },
    "executionInfo": {
     "elapsed": 170,
     "status": "ok",
     "timestamp": 1636676240804,
     "user": {
      "displayName": "Michael Dowd",
      "photoUrl": "https://lh3.googleusercontent.com/a/default-user=s64",
      "userId": "00770521119407228668"
     },
     "user_tz": 480
    },
    "id": "QL2i7rmwnRha",
    "outputId": "d920a47c-e748-4024-f228-9186bcfa9dd7"
   },
   "outputs": [
    {
     "data": {
      "text/html": [
       "<div>\n",
       "<style scoped>\n",
       "    .dataframe tbody tr th:only-of-type {\n",
       "        vertical-align: middle;\n",
       "    }\n",
       "\n",
       "    .dataframe tbody tr th {\n",
       "        vertical-align: top;\n",
       "    }\n",
       "\n",
       "    .dataframe thead th {\n",
       "        text-align: right;\n",
       "    }\n",
       "</style>\n",
       "<table border=\"1\" class=\"dataframe\">\n",
       "  <thead>\n",
       "    <tr style=\"text-align: right;\">\n",
       "      <th></th>\n",
       "      <th>nationality</th>\n",
       "      <th>grants</th>\n",
       "      <th>grant rate</th>\n",
       "      <th>denials</th>\n",
       "      <th>denial rate</th>\n",
       "      <th>other</th>\n",
       "      <th>other rate</th>\n",
       "      <th>admin closure</th>\n",
       "      <th>admin closure rate</th>\n",
       "      <th>total</th>\n",
       "    </tr>\n",
       "  </thead>\n",
       "  <tbody>\n",
       "    <tr>\n",
       "      <th>2</th>\n",
       "      <td>AFGHANISTAN</td>\n",
       "      <td>28.0</td>\n",
       "      <td>NaN</td>\n",
       "      <td>19.0</td>\n",
       "      <td>NaN</td>\n",
       "      <td>21.0</td>\n",
       "      <td>NaN</td>\n",
       "      <td>NaN</td>\n",
       "      <td>NaN</td>\n",
       "      <td>NaN</td>\n",
       "    </tr>\n",
       "    <tr>\n",
       "      <th>3</th>\n",
       "      <td>ALBANIA</td>\n",
       "      <td>181.0</td>\n",
       "      <td>62.41%</td>\n",
       "      <td>55.0</td>\n",
       "      <td>18.97%</td>\n",
       "      <td>49.0</td>\n",
       "      <td>16.90%</td>\n",
       "      <td>5.0</td>\n",
       "      <td>1.72%</td>\n",
       "      <td>290.0</td>\n",
       "    </tr>\n",
       "    <tr>\n",
       "      <th>4</th>\n",
       "      <td>ALGERIA</td>\n",
       "      <td>NaN</td>\n",
       "      <td>NaN</td>\n",
       "      <td>NaN</td>\n",
       "      <td>NaN</td>\n",
       "      <td>NaN</td>\n",
       "      <td>NaN</td>\n",
       "      <td>NaN</td>\n",
       "      <td>NaN</td>\n",
       "      <td>NaN</td>\n",
       "    </tr>\n",
       "    <tr>\n",
       "      <th>5</th>\n",
       "      <td>ANGOLA</td>\n",
       "      <td>19.0</td>\n",
       "      <td>NaN</td>\n",
       "      <td>29.0</td>\n",
       "      <td>NaN</td>\n",
       "      <td>10.0</td>\n",
       "      <td>NaN</td>\n",
       "      <td>NaN</td>\n",
       "      <td>NaN</td>\n",
       "      <td>NaN</td>\n",
       "    </tr>\n",
       "    <tr>\n",
       "      <th>6</th>\n",
       "      <td>ANTIGUA AND\\rBARBUDA</td>\n",
       "      <td>NaN</td>\n",
       "      <td>NaN</td>\n",
       "      <td>NaN</td>\n",
       "      <td>NaN</td>\n",
       "      <td>NaN</td>\n",
       "      <td>NaN</td>\n",
       "      <td>NaN</td>\n",
       "      <td>NaN</td>\n",
       "      <td>NaN</td>\n",
       "    </tr>\n",
       "  </tbody>\n",
       "</table>\n",
       "</div>"
      ],
      "text/plain": [
       "            nationality  grants grant rate  denials denial rate  other  \\\n",
       "2           AFGHANISTAN    28.0        NaN     19.0         NaN   21.0   \n",
       "3               ALBANIA   181.0     62.41%     55.0      18.97%   49.0   \n",
       "4               ALGERIA     NaN        NaN      NaN         NaN    NaN   \n",
       "5                ANGOLA    19.0        NaN     29.0         NaN   10.0   \n",
       "6  ANTIGUA AND\\rBARBUDA     NaN        NaN      NaN         NaN    NaN   \n",
       "\n",
       "  other rate  admin closure admin closure rate  total  \n",
       "2        NaN            NaN                NaN    NaN  \n",
       "3     16.90%            5.0              1.72%  290.0  \n",
       "4        NaN            NaN                NaN    NaN  \n",
       "5        NaN            NaN                NaN    NaN  \n",
       "6        NaN            NaN                NaN    NaN  "
      ]
     },
     "execution_count": 28,
     "metadata": {},
     "output_type": "execute_result"
    }
   ],
   "source": [
    "test.head()"
   ]
  },
  {
   "cell_type": "markdown",
   "metadata": {
    "id": "KXXOewcrnRha"
   },
   "source": [
    "### Second Let's Get All PDFs"
   ]
  },
  {
   "cell_type": "markdown",
   "metadata": {
    "id": "cX14sAzXnRha"
   },
   "source": [
    "Earlier we identifed the unique pdfs to grab and saved some info about them in the `uniq_pdfs` dictionary"
   ]
  },
  {
   "cell_type": "code",
   "execution_count": 29,
   "metadata": {
    "colab": {
     "base_uri": "https://localhost:8080/"
    },
    "executionInfo": {
     "elapsed": 206,
     "status": "ok",
     "timestamp": 1636676248334,
     "user": {
      "displayName": "Michael Dowd",
      "photoUrl": "https://lh3.googleusercontent.com/a/default-user=s64",
      "userId": "00770521119407228668"
     },
     "user_tz": 480
    },
    "id": "AdmhAu6hnRha",
    "outputId": "c48a5f5f-90ce-40e0-ca94-841d9be39d20"
   },
   "outputs": [
    {
     "data": {
      "text/plain": [
       "{'eoir_adjudication_stats_2019-03-06 01:21:00.pdf': ['FS18', '10/2018'],\n",
       " 'eoir_adjudication_stats_2019-11-13 02:08:38.pdf': ['FS19', '10/2019'],\n",
       " 'eoir_adjudication_stats_2020-08-01 19:34:30.pdf': ['FS20', '07/2020'],\n",
       " 'eoir_adjudication_stats_2021-01-19 23:28:15.pdf': ['FS21', '01/2021'],\n",
       " 'eoir_adjudication_stats_2021-05-17 22:57:49.pdf': ['FS21', '04/2021'],\n",
       " 'eoir_adjudication_stats_2021-09-28 21:11:24.pdf': ['FS21', '07/2021']}"
      ]
     },
     "execution_count": 29,
     "metadata": {},
     "output_type": "execute_result"
    }
   ],
   "source": [
    "uniq_pdfs"
   ]
  },
  {
   "cell_type": "code",
   "execution_count": 30,
   "metadata": {
    "colab": {
     "base_uri": "https://localhost:8080/"
    },
    "executionInfo": {
     "elapsed": 45013,
     "status": "ok",
     "timestamp": 1636676295606,
     "user": {
      "displayName": "Michael Dowd",
      "photoUrl": "https://lh3.googleusercontent.com/a/default-user=s64",
      "userId": "00770521119407228668"
     },
     "user_tz": 480
    },
    "id": "9PBcXgVQnRha",
    "outputId": "4693dd54-c4f0-449b-ee90-a4ffe01fef99"
   },
   "outputs": [
    {
     "name": "stdout",
     "output_type": "stream",
     "text": [
      "eoir_adjudication_stats_2019-03-06 01:21:00.pdf\n",
      "eoir_adjudication_stats_2019-11-13 02:08:38.pdf\n",
      "eoir_adjudication_stats_2020-08-01 19:34:30.pdf\n",
      "eoir_adjudication_stats_2021-01-19 23:28:15.pdf\n",
      "eoir_adjudication_stats_2021-05-17 22:57:49.pdf\n",
      "eoir_adjudication_stats_2021-09-28 21:11:24.pdf\n"
     ]
    }
   ],
   "source": [
    "tables = []\n",
    "for pdf in uniq_pdfs:\n",
    "    print(pdf)\n",
    "    table = get_table_data(str(export_directory / pdf))\n",
    "    table[\"fiscal_year\"] = uniq_pdfs[pdf][0]\n",
    "    table[\"generated_my\"] = uniq_pdfs[pdf][1]\n",
    "    table[\"pdf_file\"] = pdf\n",
    "    tables.append(table)"
   ]
  },
  {
   "cell_type": "code",
   "execution_count": 31,
   "metadata": {
    "executionInfo": {
     "elapsed": 167,
     "status": "ok",
     "timestamp": 1636676318830,
     "user": {
      "displayName": "Michael Dowd",
      "photoUrl": "https://lh3.googleusercontent.com/a/default-user=s64",
      "userId": "00770521119407228668"
     },
     "user_tz": 480
    },
    "id": "RJXwFeRVnRha"
   },
   "outputs": [],
   "source": [
    "all_data_df = pd.DataFrame()\n",
    "for table in tables:\n",
    "    all_data_df = all_data_df.append(table)\n",
    "all_data_df = all_data_df.reset_index(drop=True)"
   ]
  },
  {
   "cell_type": "code",
   "execution_count": 32,
   "metadata": {
    "colab": {
     "base_uri": "https://localhost:8080/",
     "height": 623
    },
    "executionInfo": {
     "elapsed": 160,
     "status": "ok",
     "timestamp": 1636676325134,
     "user": {
      "displayName": "Michael Dowd",
      "photoUrl": "https://lh3.googleusercontent.com/a/default-user=s64",
      "userId": "00770521119407228668"
     },
     "user_tz": 480
    },
    "id": "XL00aPDinRhb",
    "outputId": "e4d4ec27-b8ef-40d5-881a-3864f6a7ab1a"
   },
   "outputs": [
    {
     "data": {
      "text/html": [
       "<div>\n",
       "<style scoped>\n",
       "    .dataframe tbody tr th:only-of-type {\n",
       "        vertical-align: middle;\n",
       "    }\n",
       "\n",
       "    .dataframe tbody tr th {\n",
       "        vertical-align: top;\n",
       "    }\n",
       "\n",
       "    .dataframe thead th {\n",
       "        text-align: right;\n",
       "    }\n",
       "</style>\n",
       "<table border=\"1\" class=\"dataframe\">\n",
       "  <thead>\n",
       "    <tr style=\"text-align: right;\">\n",
       "      <th></th>\n",
       "      <th>nationality</th>\n",
       "      <th>grants</th>\n",
       "      <th>grant rate</th>\n",
       "      <th>denials</th>\n",
       "      <th>denial rate</th>\n",
       "      <th>other</th>\n",
       "      <th>other rate</th>\n",
       "      <th>admin closure</th>\n",
       "      <th>admin closure rate</th>\n",
       "      <th>total</th>\n",
       "      <th>fiscal_year</th>\n",
       "      <th>generated_my</th>\n",
       "      <th>pdf_file</th>\n",
       "    </tr>\n",
       "  </thead>\n",
       "  <tbody>\n",
       "    <tr>\n",
       "      <th>0</th>\n",
       "      <td>AFGHANISTAN</td>\n",
       "      <td>28</td>\n",
       "      <td>*</td>\n",
       "      <td>19</td>\n",
       "      <td>*</td>\n",
       "      <td>21</td>\n",
       "      <td>*</td>\n",
       "      <td>*</td>\n",
       "      <td>*</td>\n",
       "      <td>*</td>\n",
       "      <td>FS18</td>\n",
       "      <td>10/2018</td>\n",
       "      <td>eoir_adjudication_stats_2019-03-06 01:21:00.pdf</td>\n",
       "    </tr>\n",
       "    <tr>\n",
       "      <th>1</th>\n",
       "      <td>ALBANIA</td>\n",
       "      <td>181</td>\n",
       "      <td>62.41%</td>\n",
       "      <td>55</td>\n",
       "      <td>18.97%</td>\n",
       "      <td>49</td>\n",
       "      <td>16.90%</td>\n",
       "      <td>5</td>\n",
       "      <td>1.72%</td>\n",
       "      <td>290</td>\n",
       "      <td>FS18</td>\n",
       "      <td>10/2018</td>\n",
       "      <td>eoir_adjudication_stats_2019-03-06 01:21:00.pdf</td>\n",
       "    </tr>\n",
       "    <tr>\n",
       "      <th>2</th>\n",
       "      <td>ALGERIA</td>\n",
       "      <td>*</td>\n",
       "      <td>*</td>\n",
       "      <td>*</td>\n",
       "      <td>*</td>\n",
       "      <td>*</td>\n",
       "      <td>*</td>\n",
       "      <td>*</td>\n",
       "      <td>*</td>\n",
       "      <td>*</td>\n",
       "      <td>FS18</td>\n",
       "      <td>10/2018</td>\n",
       "      <td>eoir_adjudication_stats_2019-03-06 01:21:00.pdf</td>\n",
       "    </tr>\n",
       "    <tr>\n",
       "      <th>3</th>\n",
       "      <td>ANGOLA</td>\n",
       "      <td>19</td>\n",
       "      <td>*</td>\n",
       "      <td>29</td>\n",
       "      <td>*</td>\n",
       "      <td>10</td>\n",
       "      <td>*</td>\n",
       "      <td>*</td>\n",
       "      <td>*</td>\n",
       "      <td>*</td>\n",
       "      <td>FS18</td>\n",
       "      <td>10/2018</td>\n",
       "      <td>eoir_adjudication_stats_2019-03-06 01:21:00.pdf</td>\n",
       "    </tr>\n",
       "    <tr>\n",
       "      <th>4</th>\n",
       "      <td>ANTIGUA AND\\rBARBUDA</td>\n",
       "      <td>*</td>\n",
       "      <td>*</td>\n",
       "      <td>*</td>\n",
       "      <td>*</td>\n",
       "      <td>*</td>\n",
       "      <td>*</td>\n",
       "      <td>*</td>\n",
       "      <td>*</td>\n",
       "      <td>*</td>\n",
       "      <td>FS18</td>\n",
       "      <td>10/2018</td>\n",
       "      <td>eoir_adjudication_stats_2019-03-06 01:21:00.pdf</td>\n",
       "    </tr>\n",
       "    <tr>\n",
       "      <th>...</th>\n",
       "      <td>...</td>\n",
       "      <td>...</td>\n",
       "      <td>...</td>\n",
       "      <td>...</td>\n",
       "      <td>...</td>\n",
       "      <td>...</td>\n",
       "      <td>...</td>\n",
       "      <td>...</td>\n",
       "      <td>...</td>\n",
       "      <td>...</td>\n",
       "      <td>...</td>\n",
       "      <td>...</td>\n",
       "      <td>...</td>\n",
       "    </tr>\n",
       "    <tr>\n",
       "      <th>854</th>\n",
       "      <td>VENEZUELA</td>\n",
       "      <td>319</td>\n",
       "      <td>51%</td>\n",
       "      <td>150</td>\n",
       "      <td>24%</td>\n",
       "      <td>160</td>\n",
       "      <td>25%</td>\n",
       "      <td>NaN</td>\n",
       "      <td>NaN</td>\n",
       "      <td>629</td>\n",
       "      <td>FS21</td>\n",
       "      <td>07/2021</td>\n",
       "      <td>eoir_adjudication_stats_2021-09-28 21:11:24.pdf</td>\n",
       "    </tr>\n",
       "    <tr>\n",
       "      <th>855</th>\n",
       "      <td>VIETNAM</td>\n",
       "      <td>37</td>\n",
       "      <td>61%</td>\n",
       "      <td>15</td>\n",
       "      <td>25%</td>\n",
       "      <td>9</td>\n",
       "      <td>15%</td>\n",
       "      <td>NaN</td>\n",
       "      <td>NaN</td>\n",
       "      <td>61</td>\n",
       "      <td>FS21</td>\n",
       "      <td>07/2021</td>\n",
       "      <td>eoir_adjudication_stats_2021-09-28 21:11:24.pdf</td>\n",
       "    </tr>\n",
       "    <tr>\n",
       "      <th>856</th>\n",
       "      <td>YEMEN</td>\n",
       "      <td>7</td>\n",
       "      <td>29%</td>\n",
       "      <td>10</td>\n",
       "      <td>42%</td>\n",
       "      <td>7</td>\n",
       "      <td>29%</td>\n",
       "      <td>NaN</td>\n",
       "      <td>NaN</td>\n",
       "      <td>24</td>\n",
       "      <td>FS21</td>\n",
       "      <td>07/2021</td>\n",
       "      <td>eoir_adjudication_stats_2021-09-28 21:11:24.pdf</td>\n",
       "    </tr>\n",
       "    <tr>\n",
       "      <th>857</th>\n",
       "      <td>ZAMBIA</td>\n",
       "      <td>*</td>\n",
       "      <td>*</td>\n",
       "      <td>*</td>\n",
       "      <td>*</td>\n",
       "      <td>*</td>\n",
       "      <td>*</td>\n",
       "      <td>NaN</td>\n",
       "      <td>NaN</td>\n",
       "      <td>*</td>\n",
       "      <td>FS21</td>\n",
       "      <td>07/2021</td>\n",
       "      <td>eoir_adjudication_stats_2021-09-28 21:11:24.pdf</td>\n",
       "    </tr>\n",
       "    <tr>\n",
       "      <th>858</th>\n",
       "      <td>ZIMBABWE</td>\n",
       "      <td>*</td>\n",
       "      <td>*</td>\n",
       "      <td>*</td>\n",
       "      <td>*</td>\n",
       "      <td>10</td>\n",
       "      <td>*</td>\n",
       "      <td>NaN</td>\n",
       "      <td>NaN</td>\n",
       "      <td>*</td>\n",
       "      <td>FS21</td>\n",
       "      <td>07/2021</td>\n",
       "      <td>eoir_adjudication_stats_2021-09-28 21:11:24.pdf</td>\n",
       "    </tr>\n",
       "  </tbody>\n",
       "</table>\n",
       "<p>859 rows × 13 columns</p>\n",
       "</div>"
      ],
      "text/plain": [
       "              nationality grants grant rate denials denial rate other  \\\n",
       "0             AFGHANISTAN     28          *      19           *    21   \n",
       "1                 ALBANIA    181     62.41%      55      18.97%    49   \n",
       "2                 ALGERIA      *          *       *           *     *   \n",
       "3                  ANGOLA     19          *      29           *    10   \n",
       "4    ANTIGUA AND\\rBARBUDA      *          *       *           *     *   \n",
       "..                    ...    ...        ...     ...         ...   ...   \n",
       "854             VENEZUELA    319        51%     150         24%   160   \n",
       "855               VIETNAM     37        61%      15         25%     9   \n",
       "856                 YEMEN      7        29%      10         42%     7   \n",
       "857                ZAMBIA      *          *       *           *     *   \n",
       "858              ZIMBABWE      *          *       *           *    10   \n",
       "\n",
       "    other rate admin closure admin closure rate total fiscal_year  \\\n",
       "0            *             *                  *     *        FS18   \n",
       "1       16.90%             5              1.72%   290        FS18   \n",
       "2            *             *                  *     *        FS18   \n",
       "3            *             *                  *     *        FS18   \n",
       "4            *             *                  *     *        FS18   \n",
       "..         ...           ...                ...   ...         ...   \n",
       "854        25%           NaN                NaN   629        FS21   \n",
       "855        15%           NaN                NaN    61        FS21   \n",
       "856        29%           NaN                NaN    24        FS21   \n",
       "857          *           NaN                NaN     *        FS21   \n",
       "858          *           NaN                NaN     *        FS21   \n",
       "\n",
       "    generated_my                                         pdf_file  \n",
       "0        10/2018  eoir_adjudication_stats_2019-03-06 01:21:00.pdf  \n",
       "1        10/2018  eoir_adjudication_stats_2019-03-06 01:21:00.pdf  \n",
       "2        10/2018  eoir_adjudication_stats_2019-03-06 01:21:00.pdf  \n",
       "3        10/2018  eoir_adjudication_stats_2019-03-06 01:21:00.pdf  \n",
       "4        10/2018  eoir_adjudication_stats_2019-03-06 01:21:00.pdf  \n",
       "..           ...                                              ...  \n",
       "854      07/2021  eoir_adjudication_stats_2021-09-28 21:11:24.pdf  \n",
       "855      07/2021  eoir_adjudication_stats_2021-09-28 21:11:24.pdf  \n",
       "856      07/2021  eoir_adjudication_stats_2021-09-28 21:11:24.pdf  \n",
       "857      07/2021  eoir_adjudication_stats_2021-09-28 21:11:24.pdf  \n",
       "858      07/2021  eoir_adjudication_stats_2021-09-28 21:11:24.pdf  \n",
       "\n",
       "[859 rows x 13 columns]"
      ]
     },
     "execution_count": 32,
     "metadata": {},
     "output_type": "execute_result"
    }
   ],
   "source": [
    "all_data_df"
   ]
  },
  {
   "cell_type": "code",
   "execution_count": 34,
   "metadata": {
    "executionInfo": {
     "elapsed": 173,
     "status": "ok",
     "timestamp": 1636676333773,
     "user": {
      "displayName": "Michael Dowd",
      "photoUrl": "https://lh3.googleusercontent.com/a/default-user=s64",
      "userId": "00770521119407228668"
     },
     "user_tz": 480
    },
    "id": "Ve3iUtDTnRhb"
   },
   "outputs": [],
   "source": [
    "# Clean the asterisks - replace all of them with NULL or nan(not a number)\n",
    "all_data_df = all_data_df.replace(\"*\", np.nan)\n",
    "\n",
    "# Convert the numeric columns to a float - iterate over the columns,\n",
    "# convert the value to type string, then replace any \",\" with \"\",\n",
    "# and convert the new value to type float.\n",
    "numerics = [\"grants\", \"denials\", \"other\", \"admin closure\", \"total\"]\n",
    "for col in numerics:\n",
    "    all_data_df[col] = all_data_df[col].astype(str).str.replace(\",\", \"\").astype(float)"
   ]
  },
  {
   "cell_type": "code",
   "execution_count": 35,
   "metadata": {
    "executionInfo": {
     "elapsed": 181,
     "status": "ok",
     "timestamp": 1636676337148,
     "user": {
      "displayName": "Michael Dowd",
      "photoUrl": "https://lh3.googleusercontent.com/a/default-user=s64",
      "userId": "00770521119407228668"
     },
     "user_tz": 480
    },
    "id": "jbTMnrsdnRhb"
   },
   "outputs": [],
   "source": [
    "all_data_df.generated_my = pd.to_datetime(all_data_df.generated_my)"
   ]
  },
  {
   "cell_type": "code",
   "execution_count": 36,
   "metadata": {
    "colab": {
     "base_uri": "https://localhost:8080/",
     "height": 623
    },
    "executionInfo": {
     "elapsed": 179,
     "status": "ok",
     "timestamp": 1636676358010,
     "user": {
      "displayName": "Michael Dowd",
      "photoUrl": "https://lh3.googleusercontent.com/a/default-user=s64",
      "userId": "00770521119407228668"
     },
     "user_tz": 480
    },
    "id": "eMGEzqi9g0kE",
    "outputId": "6fdd0adf-110f-40a3-b602-2578bc527a68"
   },
   "outputs": [
    {
     "data": {
      "text/html": [
       "<div>\n",
       "<style scoped>\n",
       "    .dataframe tbody tr th:only-of-type {\n",
       "        vertical-align: middle;\n",
       "    }\n",
       "\n",
       "    .dataframe tbody tr th {\n",
       "        vertical-align: top;\n",
       "    }\n",
       "\n",
       "    .dataframe thead th {\n",
       "        text-align: right;\n",
       "    }\n",
       "</style>\n",
       "<table border=\"1\" class=\"dataframe\">\n",
       "  <thead>\n",
       "    <tr style=\"text-align: right;\">\n",
       "      <th></th>\n",
       "      <th>nationality</th>\n",
       "      <th>grants</th>\n",
       "      <th>grant rate</th>\n",
       "      <th>denials</th>\n",
       "      <th>denial rate</th>\n",
       "      <th>other</th>\n",
       "      <th>other rate</th>\n",
       "      <th>admin closure</th>\n",
       "      <th>admin closure rate</th>\n",
       "      <th>total</th>\n",
       "      <th>fiscal_year</th>\n",
       "      <th>generated_my</th>\n",
       "      <th>pdf_file</th>\n",
       "    </tr>\n",
       "  </thead>\n",
       "  <tbody>\n",
       "    <tr>\n",
       "      <th>0</th>\n",
       "      <td>AFGHANISTAN</td>\n",
       "      <td>28.0</td>\n",
       "      <td>NaN</td>\n",
       "      <td>19.0</td>\n",
       "      <td>NaN</td>\n",
       "      <td>21.0</td>\n",
       "      <td>NaN</td>\n",
       "      <td>NaN</td>\n",
       "      <td>NaN</td>\n",
       "      <td>NaN</td>\n",
       "      <td>FS18</td>\n",
       "      <td>2018-10-01</td>\n",
       "      <td>eoir_adjudication_stats_2019-03-06 01:21:00.pdf</td>\n",
       "    </tr>\n",
       "    <tr>\n",
       "      <th>1</th>\n",
       "      <td>ALBANIA</td>\n",
       "      <td>181.0</td>\n",
       "      <td>62.41%</td>\n",
       "      <td>55.0</td>\n",
       "      <td>18.97%</td>\n",
       "      <td>49.0</td>\n",
       "      <td>16.90%</td>\n",
       "      <td>5.0</td>\n",
       "      <td>1.72%</td>\n",
       "      <td>290.0</td>\n",
       "      <td>FS18</td>\n",
       "      <td>2018-10-01</td>\n",
       "      <td>eoir_adjudication_stats_2019-03-06 01:21:00.pdf</td>\n",
       "    </tr>\n",
       "    <tr>\n",
       "      <th>2</th>\n",
       "      <td>ALGERIA</td>\n",
       "      <td>NaN</td>\n",
       "      <td>NaN</td>\n",
       "      <td>NaN</td>\n",
       "      <td>NaN</td>\n",
       "      <td>NaN</td>\n",
       "      <td>NaN</td>\n",
       "      <td>NaN</td>\n",
       "      <td>NaN</td>\n",
       "      <td>NaN</td>\n",
       "      <td>FS18</td>\n",
       "      <td>2018-10-01</td>\n",
       "      <td>eoir_adjudication_stats_2019-03-06 01:21:00.pdf</td>\n",
       "    </tr>\n",
       "    <tr>\n",
       "      <th>3</th>\n",
       "      <td>ANGOLA</td>\n",
       "      <td>19.0</td>\n",
       "      <td>NaN</td>\n",
       "      <td>29.0</td>\n",
       "      <td>NaN</td>\n",
       "      <td>10.0</td>\n",
       "      <td>NaN</td>\n",
       "      <td>NaN</td>\n",
       "      <td>NaN</td>\n",
       "      <td>NaN</td>\n",
       "      <td>FS18</td>\n",
       "      <td>2018-10-01</td>\n",
       "      <td>eoir_adjudication_stats_2019-03-06 01:21:00.pdf</td>\n",
       "    </tr>\n",
       "    <tr>\n",
       "      <th>4</th>\n",
       "      <td>ANTIGUA AND\\rBARBUDA</td>\n",
       "      <td>NaN</td>\n",
       "      <td>NaN</td>\n",
       "      <td>NaN</td>\n",
       "      <td>NaN</td>\n",
       "      <td>NaN</td>\n",
       "      <td>NaN</td>\n",
       "      <td>NaN</td>\n",
       "      <td>NaN</td>\n",
       "      <td>NaN</td>\n",
       "      <td>FS18</td>\n",
       "      <td>2018-10-01</td>\n",
       "      <td>eoir_adjudication_stats_2019-03-06 01:21:00.pdf</td>\n",
       "    </tr>\n",
       "    <tr>\n",
       "      <th>...</th>\n",
       "      <td>...</td>\n",
       "      <td>...</td>\n",
       "      <td>...</td>\n",
       "      <td>...</td>\n",
       "      <td>...</td>\n",
       "      <td>...</td>\n",
       "      <td>...</td>\n",
       "      <td>...</td>\n",
       "      <td>...</td>\n",
       "      <td>...</td>\n",
       "      <td>...</td>\n",
       "      <td>...</td>\n",
       "      <td>...</td>\n",
       "    </tr>\n",
       "    <tr>\n",
       "      <th>854</th>\n",
       "      <td>VENEZUELA</td>\n",
       "      <td>319.0</td>\n",
       "      <td>51%</td>\n",
       "      <td>150.0</td>\n",
       "      <td>24%</td>\n",
       "      <td>160.0</td>\n",
       "      <td>25%</td>\n",
       "      <td>NaN</td>\n",
       "      <td>NaN</td>\n",
       "      <td>629.0</td>\n",
       "      <td>FS21</td>\n",
       "      <td>2021-07-01</td>\n",
       "      <td>eoir_adjudication_stats_2021-09-28 21:11:24.pdf</td>\n",
       "    </tr>\n",
       "    <tr>\n",
       "      <th>855</th>\n",
       "      <td>VIETNAM</td>\n",
       "      <td>37.0</td>\n",
       "      <td>61%</td>\n",
       "      <td>15.0</td>\n",
       "      <td>25%</td>\n",
       "      <td>9.0</td>\n",
       "      <td>15%</td>\n",
       "      <td>NaN</td>\n",
       "      <td>NaN</td>\n",
       "      <td>61.0</td>\n",
       "      <td>FS21</td>\n",
       "      <td>2021-07-01</td>\n",
       "      <td>eoir_adjudication_stats_2021-09-28 21:11:24.pdf</td>\n",
       "    </tr>\n",
       "    <tr>\n",
       "      <th>856</th>\n",
       "      <td>YEMEN</td>\n",
       "      <td>7.0</td>\n",
       "      <td>29%</td>\n",
       "      <td>10.0</td>\n",
       "      <td>42%</td>\n",
       "      <td>7.0</td>\n",
       "      <td>29%</td>\n",
       "      <td>NaN</td>\n",
       "      <td>NaN</td>\n",
       "      <td>24.0</td>\n",
       "      <td>FS21</td>\n",
       "      <td>2021-07-01</td>\n",
       "      <td>eoir_adjudication_stats_2021-09-28 21:11:24.pdf</td>\n",
       "    </tr>\n",
       "    <tr>\n",
       "      <th>857</th>\n",
       "      <td>ZAMBIA</td>\n",
       "      <td>NaN</td>\n",
       "      <td>NaN</td>\n",
       "      <td>NaN</td>\n",
       "      <td>NaN</td>\n",
       "      <td>NaN</td>\n",
       "      <td>NaN</td>\n",
       "      <td>NaN</td>\n",
       "      <td>NaN</td>\n",
       "      <td>NaN</td>\n",
       "      <td>FS21</td>\n",
       "      <td>2021-07-01</td>\n",
       "      <td>eoir_adjudication_stats_2021-09-28 21:11:24.pdf</td>\n",
       "    </tr>\n",
       "    <tr>\n",
       "      <th>858</th>\n",
       "      <td>ZIMBABWE</td>\n",
       "      <td>NaN</td>\n",
       "      <td>NaN</td>\n",
       "      <td>NaN</td>\n",
       "      <td>NaN</td>\n",
       "      <td>10.0</td>\n",
       "      <td>NaN</td>\n",
       "      <td>NaN</td>\n",
       "      <td>NaN</td>\n",
       "      <td>NaN</td>\n",
       "      <td>FS21</td>\n",
       "      <td>2021-07-01</td>\n",
       "      <td>eoir_adjudication_stats_2021-09-28 21:11:24.pdf</td>\n",
       "    </tr>\n",
       "  </tbody>\n",
       "</table>\n",
       "<p>859 rows × 13 columns</p>\n",
       "</div>"
      ],
      "text/plain": [
       "              nationality  grants grant rate  denials denial rate  other  \\\n",
       "0             AFGHANISTAN    28.0        NaN     19.0         NaN   21.0   \n",
       "1                 ALBANIA   181.0     62.41%     55.0      18.97%   49.0   \n",
       "2                 ALGERIA     NaN        NaN      NaN         NaN    NaN   \n",
       "3                  ANGOLA    19.0        NaN     29.0         NaN   10.0   \n",
       "4    ANTIGUA AND\\rBARBUDA     NaN        NaN      NaN         NaN    NaN   \n",
       "..                    ...     ...        ...      ...         ...    ...   \n",
       "854             VENEZUELA   319.0        51%    150.0         24%  160.0   \n",
       "855               VIETNAM    37.0        61%     15.0         25%    9.0   \n",
       "856                 YEMEN     7.0        29%     10.0         42%    7.0   \n",
       "857                ZAMBIA     NaN        NaN      NaN         NaN    NaN   \n",
       "858              ZIMBABWE     NaN        NaN      NaN         NaN   10.0   \n",
       "\n",
       "    other rate  admin closure admin closure rate  total fiscal_year  \\\n",
       "0          NaN            NaN                NaN    NaN        FS18   \n",
       "1       16.90%            5.0              1.72%  290.0        FS18   \n",
       "2          NaN            NaN                NaN    NaN        FS18   \n",
       "3          NaN            NaN                NaN    NaN        FS18   \n",
       "4          NaN            NaN                NaN    NaN        FS18   \n",
       "..         ...            ...                ...    ...         ...   \n",
       "854        25%            NaN                NaN  629.0        FS21   \n",
       "855        15%            NaN                NaN   61.0        FS21   \n",
       "856        29%            NaN                NaN   24.0        FS21   \n",
       "857        NaN            NaN                NaN    NaN        FS21   \n",
       "858        NaN            NaN                NaN    NaN        FS21   \n",
       "\n",
       "    generated_my                                         pdf_file  \n",
       "0     2018-10-01  eoir_adjudication_stats_2019-03-06 01:21:00.pdf  \n",
       "1     2018-10-01  eoir_adjudication_stats_2019-03-06 01:21:00.pdf  \n",
       "2     2018-10-01  eoir_adjudication_stats_2019-03-06 01:21:00.pdf  \n",
       "3     2018-10-01  eoir_adjudication_stats_2019-03-06 01:21:00.pdf  \n",
       "4     2018-10-01  eoir_adjudication_stats_2019-03-06 01:21:00.pdf  \n",
       "..           ...                                              ...  \n",
       "854   2021-07-01  eoir_adjudication_stats_2021-09-28 21:11:24.pdf  \n",
       "855   2021-07-01  eoir_adjudication_stats_2021-09-28 21:11:24.pdf  \n",
       "856   2021-07-01  eoir_adjudication_stats_2021-09-28 21:11:24.pdf  \n",
       "857   2021-07-01  eoir_adjudication_stats_2021-09-28 21:11:24.pdf  \n",
       "858   2021-07-01  eoir_adjudication_stats_2021-09-28 21:11:24.pdf  \n",
       "\n",
       "[859 rows x 13 columns]"
      ]
     },
     "execution_count": 36,
     "metadata": {},
     "output_type": "execute_result"
    }
   ],
   "source": [
    "all_data_df"
   ]
  },
  {
   "cell_type": "markdown",
   "metadata": {},
   "source": [
    "## A quick chart just for reference"
   ]
  },
  {
   "cell_type": "code",
   "execution_count": 38,
   "metadata": {
    "colab": {
     "base_uri": "https://localhost:8080/",
     "height": 392
    },
    "executionInfo": {
     "elapsed": 653,
     "status": "ok",
     "timestamp": 1636676345677,
     "user": {
      "displayName": "Michael Dowd",
      "photoUrl": "https://lh3.googleusercontent.com/a/default-user=s64",
      "userId": "00770521119407228668"
     },
     "user_tz": 480
    },
    "id": "sCzg-t90nRhb",
    "outputId": "30cf2b83-cae7-4eb1-ead9-19616037bc64"
   },
   "outputs": [
    {
     "data": {
      "text/plain": [
       "<AxesSubplot:xlabel='generated_my'>"
      ]
     },
     "execution_count": 38,
     "metadata": {},
     "output_type": "execute_result"
    },
    {
     "data": {
      "image/png": "[encoded data removed]",
      "text/plain": [
       "<Figure size 432x288 with 1 Axes>"
      ]
     },
     "metadata": {
      "needs_background": "light"
     },
     "output_type": "display_data"
    }
   ],
   "source": [
    "all_data_df.groupby([\"generated_my\"])[numerics].sum().sort_index().plot(kind=\"bar\")"
   ]
  },
  {
   "cell_type": "code",
   "execution_count": null,
   "metadata": {
    "id": "zlsOecZcnRhb"
   },
   "outputs": [],
   "source": [
    "all_data_df.to_csv(\"../data/extracted_data/doj_eoir_asylym_decisions.csv\")"
   ]
  },
  {
   "cell_type": "markdown",
   "metadata": {
    "id": "xivqiogvnRhb"
   },
   "source": [
    "# End"
   ]
  }
 ],
 "metadata": {
  "colab": {
   "collapsed_sections": [],
   "name": "DOJ asylum decisions by nationality.ipynb",
   "provenance": [
    {
     "file_id": "19hgRwWKhP_tUehNk9rfnjjb1HzsSZWxD",
     "timestamp": 1636057297358
    }
   ]
  },
  "hide_input": false,
  "kernelspec": {
   "display_name": "Python 3",
   "language": "python",
   "name": "python3"
  },
  "language_info": {
   "codemirror_mode": {
    "name": "ipython",
    "version": 3
   },
   "file_extension": ".py",
   "mimetype": "text/x-python",
   "name": "python",
   "nbconvert_exporter": "python",
   "pygments_lexer": "ipython3",
   "version": "3.8.5"
  }
 },
 "nbformat": 4,
 "nbformat_minor": 1
}
