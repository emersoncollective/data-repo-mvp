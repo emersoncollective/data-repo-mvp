{
 "cells": [
  {
   "cell_type": "markdown",
   "metadata": {
    "id": "QsAihC4rnRhC"
   },
   "source": [
    "# EOIR Asylum Decision Rates by Nationality\n",
    "**Data Source:** [US Census](https://data.census.gov/cedsci/) <br>\n",
    "**Download the Output:** [here](../data/extracted_data/doj)\n",
    "\n",
    "\n",
    "## Overview \n",
    "\n",
    "DOJ-EOIR has published [data](https://www.justice.gov/eoir/page/file/1107366/download) on asylum decision rates by nationality since around 2019 as part of their switch from releasing annual statistical yearbooks to releasing regularly updated individual data sets (“workload and adjudication statistics”).\n",
    "\n",
    "Every time they update this data they overwrite the previous year’s data, but we can access older versions of this PDF by using the [Wayback Machine](https://web.archive.org/web/*/https://www.justice.gov/eoir/page/file/1107366/download). In this notebook we will access the current PDF, older PDFs through the Wayback Machine and then extract that data to a single table. \n",
    "\n",
    "## Technical Approach\n",
    "\n",
    "We will use Python to download the current PDF from EOIR, then download all archived PDFs from the Wayback Machine using a Python library called `waybackpy`, and then use code extract data from the PDFs and create a single dataset. \n",
    "\n",
    " \n",
    "## Skills Learned \n",
    "* How to download PDFs programmatically\n",
    "* How to use code to access the Wayback Machine and download archived PDFs\n",
    "* How to extract structured data from PDFs\n",
    "\n",
    "## The Code"
   ]
  },
  {
   "cell_type": "code",
   "execution_count": 1,
   "metadata": {
    "executionInfo": {
     "elapsed": 156,
     "status": "ok",
     "timestamp": 1636675843103,
     "user": {
      "displayName": "Michael Dowd",
      "photoUrl": "https://lh3.googleusercontent.com/a/default-user=s64",
      "userId": "00770521119407228668"
     },
     "user_tz": 480
    },
    "id": "sjTnfKh1nRhN"
   },
   "outputs": [],
   "source": [
    "import os\n",
    "import pprint\n",
    "import sys\n",
    "import time\n",
    "from collections import Counter\n",
    "from datetime import timedelta\n",
    "from pathlib import Path\n",
    "\n",
    "import numpy as np\n",
    "import pandas as pd\n",
    "import requests\n",
    "import waybackpy\n",
    "\n",
    "from PyPDF2 import PdfFileReader\n",
    "from tabula.io import read_pdf\n",
    "\n",
    "sys.path.append(\"../src\")\n",
    "pp = pprint.PrettyPrinter(indent=4)\n",
    "\n",
    "from utils import are_files_identical"
   ]
  },
  {
   "cell_type": "markdown",
   "metadata": {
    "id": "2np576HMnRhO"
   },
   "source": [
    "## 1. Download PDFs From Wayback Machine"
   ]
  },
  {
   "cell_type": "markdown",
   "metadata": {
    "id": "tgzBZ5tJnRhP"
   },
   "source": [
    "**Functions**"
   ]
  },
  {
   "cell_type": "code",
   "execution_count": 2,
   "metadata": {
    "code_folding": [],
    "executionInfo": {
     "elapsed": 180,
     "status": "ok",
     "timestamp": 1636675845972,
     "user": {
      "displayName": "Michael Dowd",
      "photoUrl": "https://lh3.googleusercontent.com/a/default-user=s64",
      "userId": "00770521119407228668"
     },
     "user_tz": 480
    },
    "id": "IghTuPEGnRhP"
   },
   "outputs": [],
   "source": [
    "def download_pdf(url, name, output_directory):\n",
    "    \"\"\"\n",
    "    Function to download a single pdf file from a provided link.\n",
    "\n",
    "    Parameters:\n",
    "      url: URL of the file you want to download\n",
    "      name: Label you want to apply to the file\n",
    "\n",
    "      output_folder: Folder path to savae file\n",
    "\n",
    "    Returns:\n",
    "      Saves the file to the output directory, function itself returns nothing.\n",
    "\n",
    "    Example:\n",
    "      download_pdf(\n",
    "        'https://www.justice.gov/eoir/page/file/1107366/download',\n",
    "        'eoir_data',\n",
    "        './'\n",
    "      )\n",
    "    \"\"\"\n",
    "    output_folder = Path(output_directory)\n",
    "    response = requests.get(url)\n",
    "    if response.status_code == 200:\n",
    "        # Write content in pdf file\n",
    "        outpath = output_directory / f\"{name}.pdf\"\n",
    "        pdf = open(str(outpath), \"wb\")\n",
    "        pdf.write(response.content)\n",
    "        pdf.close()\n",
    "        print(\"File \", f\"{name}.pdf\", \" downloaded\")\n",
    "    else:\n",
    "        print(\"File \", f\"{name}.pdf\", \" not found.\")"
   ]
  },
  {
   "cell_type": "markdown",
   "metadata": {
    "id": "DG4_ulRdnRhQ"
   },
   "source": [
    "### Using a Wayback Machine Python Library to Get Wayback Machine URLs"
   ]
  },
  {
   "cell_type": "markdown",
   "metadata": {
    "id": "hrfxELHZnRhR"
   },
   "source": [
    "We pick the url of a file / page we are insterested in, here it is [EOIR Adjudication Stats](https://www.justice.gov/eoir/page/file/1107366/download)\n",
    "\n",
    "We also set up something called a user agent. A user agent is a grouping of information you pass to a website that suggests you are an actual person, vs. a machine (python code), using a web browser to access that website. \n",
    "\n",
    "Some websites block automated access so you need to provide this info.\n",
    "\n",
    "We then pass the url and the user agent info to the waybackpy library and create an instance of the waybackpy tool for accessing the EOIR data."
   ]
  },
  {
   "cell_type": "code",
   "execution_count": 3,
   "metadata": {
    "executionInfo": {
     "elapsed": 173,
     "status": "ok",
     "timestamp": 1636675854545,
     "user": {
      "displayName": "Michael Dowd",
      "photoUrl": "https://lh3.googleusercontent.com/a/default-user=s64",
      "userId": "00770521119407228668"
     },
     "user_tz": 480
    },
    "id": "hXLWHze0nRhR"
   },
   "outputs": [],
   "source": [
    "url = \"https://www.justice.gov/eoir/page/file/1107366/download\"\n",
    "user_agent = \"Mozilla/5.0 (Windows NT 5.1; rv:40.0) Gecko/20100101 Firefox/40.0\"\n",
    "wayback = waybackpy.Url(url, user_agent)"
   ]
  },
  {
   "cell_type": "markdown",
   "metadata": {
    "id": "sxX3Q26AnRhS"
   },
   "source": [
    "The waybackpy package allows us to find the oldest date and newest date a url was archived. We can also search for the date that is nearest a date that we provide. \n",
    "\n",
    "So what we will do is:\n",
    "1. get the oldest date\n",
    "2. then search every 90 days from the oldest date till we reach the newest date for the archive date \n",
    "3. save each of those dates and their corresponding wayback urls \n",
    "4. make sure we only get unique wayback urls (note this does not guarantee that the data archived is unique) \n",
    "5. then download each of the pdf files associated with those wayback archive urls. "
   ]
  },
  {
   "cell_type": "code",
   "execution_count": 4,
   "metadata": {
    "executionInfo": {
     "elapsed": 161,
     "status": "ok",
     "timestamp": 1636675870492,
     "user": {
      "displayName": "Michael Dowd",
      "photoUrl": "https://lh3.googleusercontent.com/a/default-user=s64",
      "userId": "00770521119407228668"
     },
     "user_tz": 480
    },
    "id": "6QsWijWGnRhS"
   },
   "outputs": [
    {
     "name": "stdout",
     "output_type": "stream",
     "text": [
      "Oldest Archive Date 2019-03-06 01:21:00\n",
      "Newest Archive Date 2021-09-28 21:11:24\n"
     ]
    }
   ],
   "source": [
    "# Python Dictionary to store the Wayback urls\n",
    "wb_archive_urls = {}\n",
    "\n",
    "# Get the oldest archive date and URL\n",
    "oldest = wayback.oldest()\n",
    "oldest_date = oldest.timestamp\n",
    "print(\"Oldest Archive Date\", oldest_date)\n",
    "wb_archive_urls[oldest_date] = oldest.archive_url\n",
    "\n",
    "# Get the newest archive date and URL\n",
    "newest = wayback.newest()\n",
    "newest_date = newest.timestamp\n",
    "print(\"Newest Archive Date\", newest_date)\n",
    "wb_archive_urls[newest_date] = newest.archive_url"
   ]
  },
  {
   "cell_type": "markdown",
   "metadata": {},
   "source": [
    "Now we will do the following:\n",
    "* Take the oldest date and set a variable called `search_date` to it\n",
    "* then keep adding 90 days to the search date and see if the wayback\n",
    "* machine has a new archive date near that search date\n",
    "* stop when we reach the newest date\n",
    "\n",
    "**Note**: Sometimes the Wayback machine doesn't provide a response, or says there is no archive. If you get an error give it a couple attempts"
   ]
  },
  {
   "cell_type": "code",
   "execution_count": 5,
   "metadata": {
    "colab": {
     "base_uri": "https://localhost:8080/"
    },
    "executionInfo": {
     "elapsed": 9036,
     "status": "ok",
     "timestamp": 1636675893007,
     "user": {
      "displayName": "Michael Dowd",
      "photoUrl": "https://lh3.googleusercontent.com/a/default-user=s64",
      "userId": "00770521119407228668"
     },
     "user_tz": 480
    },
    "id": "tdbPw43unRhT",
    "outputId": "488377ea-bc70-4968-d66a-52c8c0a071ff"
   },
   "outputs": [
    {
     "name": "stdout",
     "output_type": "stream",
     "text": [
      "[   datetime.datetime(2019, 3, 6, 1, 21),\n",
      "    datetime.datetime(2019, 10, 3, 1, 7, 56),\n",
      "    datetime.datetime(2019, 11, 13, 2, 8, 38),\n",
      "    datetime.datetime(2020, 2, 1, 3, 59, 31),\n",
      "    datetime.datetime(2020, 5, 19, 1, 19, 51),\n",
      "    datetime.datetime(2020, 8, 1, 19, 34, 30),\n",
      "    datetime.datetime(2020, 9, 28, 23, 53, 59),\n",
      "    datetime.datetime(2021, 1, 19, 23, 28, 15),\n",
      "    datetime.datetime(2021, 5, 17, 22, 57, 49),\n",
      "    datetime.datetime(2021, 9, 28, 21, 11, 24)]\n"
     ]
    }
   ],
   "source": [
    "search_date = oldest_date\n",
    "retrieved_dates = [oldest_date, newest_date]\n",
    "\n",
    "while search_date < newest_date:\n",
    "    search_date += timedelta(days=90)\n",
    "    check_for_next = wayback.near(year=search_date.year, month=search_date.month)\n",
    "    if check_for_next.timestamp in retrieved_dates:\n",
    "        continue\n",
    "    else:\n",
    "        retrieved_dates.append(check_for_next.timestamp)\n",
    "        wb_archive_urls[check_for_next.timestamp] = check_for_next.archive_url\n",
    "\n",
    "pp.pprint(sorted(retrieved_dates))"
   ]
  },
  {
   "cell_type": "markdown",
   "metadata": {
    "id": "QiqORrt4nRhU"
   },
   "source": [
    "The dates above are year, month, day, hour, minute. So we can see that we have grabbed urls for dates ranging from 2019-03-06 - 2021-09-28 . This date range will shift depending on when the code is run.\n",
    "\n",
    "Below we print our dictionary of wayback urls, where the keys are the dates. "
   ]
  },
  {
   "cell_type": "code",
   "execution_count": 6,
   "metadata": {
    "colab": {
     "base_uri": "https://localhost:8080/"
    },
    "executionInfo": {
     "elapsed": 326,
     "status": "ok",
     "timestamp": 1636675897675,
     "user": {
      "displayName": "Michael Dowd",
      "photoUrl": "https://lh3.googleusercontent.com/a/default-user=s64",
      "userId": "00770521119407228668"
     },
     "user_tz": 480
    },
    "id": "2UEVyq80nRhU",
    "outputId": "fc853fe0-dfc1-4d76-a701-c0cdfa0fad3e"
   },
   "outputs": [
    {
     "name": "stdout",
     "output_type": "stream",
     "text": [
      "{   datetime.datetime(2019, 3, 6, 1, 21): 'https://web.archive.org/web/20190306012100/https://www.justice.gov/eoir/page/file/1107366/download',\n",
      "    datetime.datetime(2019, 10, 3, 1, 7, 56): 'https://web.archive.org/web/20191003010756/https://www.justice.gov/eoir/page/file/1107366/download',\n",
      "    datetime.datetime(2019, 11, 13, 2, 8, 38): 'https://web.archive.org/web/20191113020838/https://www.justice.gov/eoir/page/file/1107366/download',\n",
      "    datetime.datetime(2020, 2, 1, 3, 59, 31): 'https://web.archive.org/web/20200201035931/https://www.justice.gov/eoir/page/file/1107366/download',\n",
      "    datetime.datetime(2020, 5, 19, 1, 19, 51): 'https://web.archive.org/web/20200519011951/https://www.justice.gov/eoir/page/file/1107366/download',\n",
      "    datetime.datetime(2020, 8, 1, 19, 34, 30): 'https://web.archive.org/web/20200801193430/https://www.justice.gov/eoir/page/file/1107366/download',\n",
      "    datetime.datetime(2020, 9, 28, 23, 53, 59): 'https://web.archive.org/web/20200928235359/https://www.justice.gov/eoir/page/file/1107366/download',\n",
      "    datetime.datetime(2021, 1, 19, 23, 28, 15): 'https://web.archive.org/web/20210119232815/https://www.justice.gov/eoir/page/file/1107366/download',\n",
      "    datetime.datetime(2021, 5, 17, 22, 57, 49): 'https://web.archive.org/web/20210517225749/https://www.justice.gov/eoir/page/file/1107366/download',\n",
      "    datetime.datetime(2021, 9, 28, 21, 11, 24): 'https://web.archive.org/web/20210928211124/https://www.justice.gov/eoir/page/file/1107366/download'}\n"
     ]
    }
   ],
   "source": [
    "pp.pprint(wb_archive_urls)"
   ]
  },
  {
   "cell_type": "markdown",
   "metadata": {
    "id": "wS2MnIjZnRhU"
   },
   "source": [
    "### Now Download the PDFs from the Wayback Machine"
   ]
  },
  {
   "cell_type": "code",
   "execution_count": 8,
   "metadata": {
    "colab": {
     "base_uri": "https://localhost:8080/"
    },
    "executionInfo": {
     "elapsed": 11407,
     "status": "ok",
     "timestamp": 1636675945003,
     "user": {
      "displayName": "Michael Dowd",
      "photoUrl": "https://lh3.googleusercontent.com/a/default-user=s64",
      "userId": "00770521119407228668"
     },
     "user_tz": 480
    },
    "id": "0au771UHnRhU",
    "outputId": "04490184-e55c-4c8a-94b5-d07da4d0dbbb"
   },
   "outputs": [
    {
     "name": "stdout",
     "output_type": "stream",
     "text": [
      "File  eoir_adjudication_stats_2019-03-06 01:21:00.pdf  downloaded\n",
      "File  eoir_adjudication_stats_2021-09-28 21:11:24.pdf  downloaded\n",
      "File  eoir_adjudication_stats_2019-10-03 01:07:56.pdf  downloaded\n",
      "File  eoir_adjudication_stats_2019-11-13 02:08:38.pdf  downloaded\n",
      "File  eoir_adjudication_stats_2020-02-01 03:59:31.pdf  downloaded\n",
      "File  eoir_adjudication_stats_2020-05-19 01:19:51.pdf  downloaded\n",
      "File  eoir_adjudication_stats_2020-08-01 19:34:30.pdf  downloaded\n",
      "File  eoir_adjudication_stats_2020-09-28 23:53:59.pdf  downloaded\n",
      "File  eoir_adjudication_stats_2021-01-19 23:28:15.pdf  downloaded\n",
      "File  eoir_adjudication_stats_2021-05-17 22:57:49.pdf  downloaded\n"
     ]
    }
   ],
   "source": [
    "# We will save the pdfs in the export directory below\n",
    "export_directory = Path(\"../data/raw_source_files/justice.gov/\")\n",
    "\n",
    "for link in wb_archive_urls:\n",
    "    wb_url = wb_archive_urls[link]\n",
    "    download_pdf(wb_url, f\"eoir_adjudication_stats_{str(link)}\", export_directory)"
   ]
  },
  {
   "cell_type": "markdown",
   "metadata": {},
   "source": [
    "### Now Download the most recent PDF from DOJ"
   ]
  },
  {
   "cell_type": "markdown",
   "metadata": {},
   "source": [
    "We always want to grab the current DOJ PDF and make sure we don't already have it. Realistically once we have grabbed all the Wayback PDFs, in the future we just need to see if the DOJ has updated their file and then we want to add it to our directory of files. "
   ]
  },
  {
   "cell_type": "markdown",
   "metadata": {},
   "source": [
    "**Download the file and tag it with the current date and time**"
   ]
  },
  {
   "cell_type": "code",
   "execution_count": 9,
   "metadata": {},
   "outputs": [
    {
     "name": "stdout",
     "output_type": "stream",
     "text": [
      "File  eoir_adjudication_stats_2021-12-03 15:34:17.pdf  downloaded\n",
      "New Download:  ../data/raw_source_files/justice.gov/eoir_adjudication_stats_2021-12-03 15:34:17\n"
     ]
    }
   ],
   "source": [
    "current_time = time.strftime(\"%Y-%m-%d %H:%M:%S\", time.localtime())\n",
    "new_file_label = f\"eoir_adjudication_stats_{current_time}\"\n",
    "new_file_path = export_directory / f\"{new_file_label}.pdf\"\n",
    "download_pdf(url, new_file_label, export_directory)\n",
    "print(\"New Download: \", export_directory / new_file_label)"
   ]
  },
  {
   "cell_type": "markdown",
   "metadata": {},
   "source": [
    "**Now we will check if the file is new/different**\n",
    "We will iterate over the `export_directory` and check to see if the files are identical. We are using a function that checks the hash or bytes of the file. If the file is new we will keep it. If it is identical to another file we already have we will delete it. "
   ]
  },
  {
   "cell_type": "code",
   "execution_count": 10,
   "metadata": {
    "scrolled": true
   },
   "outputs": [
    {
     "name": "stdout",
     "output_type": "stream",
     "text": [
      "DOJ file is not updated - will delete\n"
     ]
    }
   ],
   "source": [
    "is_new_file = True\n",
    "for file in export_directory.iterdir():\n",
    "    if file != new_file_path:\n",
    "        if are_files_identical(file, new_file_path):\n",
    "            print(\"DOJ file is not updated - will delete\")\n",
    "            is_new_file = False\n",
    "            break\n",
    "\n",
    "if is_new_file:\n",
    "    print(\"DOJ file is updated\")\n",
    "else:\n",
    "    os.remove(new_file_path)"
   ]
  },
  {
   "cell_type": "markdown",
   "metadata": {
    "id": "lr2HXIUgnRhV"
   },
   "source": [
    "Now, we can list files in a directory with the ls command - below we can see that we have successfully downloaded all of the PDFs"
   ]
  },
  {
   "cell_type": "code",
   "execution_count": 11,
   "metadata": {
    "colab": {
     "base_uri": "https://localhost:8080/"
    },
    "executionInfo": {
     "elapsed": 205,
     "status": "ok",
     "timestamp": 1636057972745,
     "user": {
      "displayName": "Michael Dowd",
      "photoUrl": "https://lh3.googleusercontent.com/a/default-user=s64",
      "userId": "00770521119407228668"
     },
     "user_tz": 420
    },
    "id": "X1KJQuAbnRhV",
    "outputId": "9d5df53a-d4e2-44d8-f0c4-3e4a909a0740"
   },
   "outputs": [
    {
     "name": "stdout",
     "output_type": "stream",
     "text": [
      "eoir_adjudication_stats_2019-03-06 01:21:00.pdf\r\n",
      "eoir_adjudication_stats_2019-10-03 01:07:56.pdf\r\n",
      "eoir_adjudication_stats_2019-11-13 02:08:38.pdf\r\n",
      "eoir_adjudication_stats_2020-01-14 02:26:25.pdf\r\n",
      "eoir_adjudication_stats_2020-02-01 03:59:31.pdf\r\n",
      "eoir_adjudication_stats_2020-05-19 01:19:51.pdf\r\n",
      "eoir_adjudication_stats_2020-08-01 19:34:30.pdf\r\n",
      "eoir_adjudication_stats_2020-09-28 23:53:59.pdf\r\n",
      "eoir_adjudication_stats_2020-12-20 19:26:12.pdf\r\n",
      "eoir_adjudication_stats_2021-01-19 23:28:15.pdf\r\n",
      "eoir_adjudication_stats_2021-03-02 13:53:24.pdf\r\n",
      "eoir_adjudication_stats_2021-05-17 22:57:49.pdf\r\n",
      "eoir_adjudication_stats_2021-09-28 21:11:24.pdf\r\n",
      "eoir_adjudication_stats_2021-12-01 15:43:44.pdf\r\n"
     ]
    }
   ],
   "source": [
    "ls ../data/raw_source_files/justice.gov/"
   ]
  },
  {
   "cell_type": "markdown",
   "metadata": {
    "id": "5xhXqPcOnRhV"
   },
   "source": [
    "**Note**: We still don't know if all of these PDFs actually have unique information, most of these PDFs  are just when Wayback archived them. Therefore we want to check if the PDF is unique. The only place in the PDF where it indicates what term this data covers (specifically what Fiscal Year and what date the data was generated on) is the in the #1 Footnote.\n",
    "\n",
    "We have written some additional code below that opens the PDF, searches for this footnote and parses out the Fiscal Year and Generated on Date. "
   ]
  },
  {
   "cell_type": "code",
   "execution_count": 12,
   "metadata": {},
   "outputs": [],
   "source": [
    "def get_fy_and_generated_on(pdf_path):\n",
    "    \"\"\"\n",
    "    Function to extract the Fiscal Year of the data, and the date the data\n",
    "    was generated. This information is stored in footnotes in the pdf. We use the\n",
    "    PdfFileReader to extract the plain text and then search for the fiscal year\n",
    "    and generated on date. Iterates through all pages and then picks the most\n",
    "    common result for fiscal year and generated on date.\n",
    "\n",
    "    Parameters:\n",
    "        pdf_path: path to pdf\n",
    "\n",
    "    Returns:\n",
    "        List of (fiscal_year, generated_on_date)\n",
    "    \"\"\"\n",
    "    date_re = \"(Jan(uary)?|Feb(ruary)?|Mar(ch)?|Apr(il)?|May|Jun(e)?|Jul(y)?|Aug(ust)?|Sep(tember)?|Oct(ober)?|Nov(ember)?|Dec(ember)?)\\s+\\d{1,2},\\s+\\d{4}\"\n",
    "    pdf = PdfFileReader(str(pdf_path))\n",
    "    fiscal_year_options = []\n",
    "    generated_on_options = []\n",
    "    for i in range(pdf.getNumPages()):\n",
    "        try:\n",
    "            pdf_text = pdf.getPage(i).extractText()\n",
    "            fiscal_year_idx = pdf_text.lower().find(\"fiscal year\")\n",
    "            fiscal_year = (\n",
    "                pdf_text[fiscal_year_idx:].split()[2:3][0].strip().replace(\".\", \"\")\n",
    "            )\n",
    "            generated_date = [\n",
    "                i.group() for i in re.finditer(date_re, pdf_text.replace(\"\\n\", \"\"))\n",
    "            ][-1].strip()\n",
    "            fiscal_year_options.append(fiscal_year)\n",
    "            generated_on_options.append(generated_date)\n",
    "        except Exception as e:\n",
    "            print(e)\n",
    "            # We are trying multiple pages so if one errors out we will ignore it\n",
    "            continue\n",
    "\n",
    "    fy_most_common = Counter(fiscal_year_options).most_common()\n",
    "    go_most_common = Counter(generated_on_options).most_common()\n",
    "    return [fy_most_common[0][0], go_most_common[0][0]]"
   ]
  },
  {
   "cell_type": "markdown",
   "metadata": {},
   "source": [
    "We can do this on one PDF first, specifically the `eoir_adjudication_stats_2019-03-06 01:21:00.pdf` file. If you examine this file you will see the footnotes at the bottm (see image below). When you run the following code cell you should see 2018, and October 24, 2018 printed out. "
   ]
  },
  {
   "cell_type": "markdown",
   "metadata": {},
   "source": [
    "![img](\"../misc/images/doj_footnote_example.png\")"
   ]
  },
  {
   "cell_type": "markdown",
   "metadata": {},
   "source": [
    "<img src=\"../misc/images/doj_footnote_example_img.png\"/>"
   ]
  },
  {
   "cell_type": "code",
   "execution_count": 14,
   "metadata": {},
   "outputs": [
    {
     "data": {
      "application/javascript": [
       "\n",
       "        if (window._pyforest_update_imports_cell) { window._pyforest_update_imports_cell('import re'); }\n",
       "    "
      ],
      "text/plain": [
       "<IPython.core.display.Javascript object>"
      ]
     },
     "metadata": {},
     "output_type": "display_data"
    },
    {
     "data": {
      "application/javascript": [
       "\n",
       "        if (window._pyforest_update_imports_cell) { window._pyforest_update_imports_cell('import re'); }\n",
       "    "
      ],
      "text/plain": [
       "<IPython.core.display.Javascript object>"
      ]
     },
     "metadata": {},
     "output_type": "display_data"
    },
    {
     "data": {
      "application/javascript": [
       "\n",
       "        if (window._pyforest_update_imports_cell) { window._pyforest_update_imports_cell('import re'); }\n",
       "    "
      ],
      "text/plain": [
       "<IPython.core.display.Javascript object>"
      ]
     },
     "metadata": {},
     "output_type": "display_data"
    },
    {
     "data": {
      "application/javascript": [
       "\n",
       "        if (window._pyforest_update_imports_cell) { window._pyforest_update_imports_cell('import re'); }\n",
       "    "
      ],
      "text/plain": [
       "<IPython.core.display.Javascript object>"
      ]
     },
     "metadata": {},
     "output_type": "display_data"
    },
    {
     "data": {
      "application/javascript": [
       "\n",
       "        if (window._pyforest_update_imports_cell) { window._pyforest_update_imports_cell('import re'); }\n",
       "    "
      ],
      "text/plain": [
       "<IPython.core.display.Javascript object>"
      ]
     },
     "metadata": {},
     "output_type": "display_data"
    },
    {
     "data": {
      "application/javascript": [
       "\n",
       "        if (window._pyforest_update_imports_cell) { window._pyforest_update_imports_cell('import re'); }\n",
       "    "
      ],
      "text/plain": [
       "<IPython.core.display.Javascript object>"
      ]
     },
     "metadata": {},
     "output_type": "display_data"
    },
    {
     "data": {
      "text/plain": [
       "['2018', 'October 24, 2018']"
      ]
     },
     "execution_count": 14,
     "metadata": {},
     "output_type": "execute_result"
    }
   ],
   "source": [
    "get_fy_and_generated_on(\n",
    "    \"../data/raw_source_files/justice.gov/eoir_adjudication_stats_2019-03-06 01:21:00.pdf\"\n",
    ")"
   ]
  },
  {
   "cell_type": "markdown",
   "metadata": {},
   "source": [
    "The function returns the fiscal year and date generated in a list. We can now iterate over all of our files and then build a dataframe to see all of the files, their fiscal years and data date generated. "
   ]
  },
  {
   "cell_type": "code",
   "execution_count": 15,
   "metadata": {},
   "outputs": [
    {
     "data": {
      "application/javascript": [
       "\n",
       "        if (window._pyforest_update_imports_cell) { window._pyforest_update_imports_cell('import re'); }\n",
       "    "
      ],
      "text/plain": [
       "<IPython.core.display.Javascript object>"
      ]
     },
     "metadata": {},
     "output_type": "display_data"
    },
    {
     "data": {
      "application/javascript": [
       "\n",
       "        if (window._pyforest_update_imports_cell) { window._pyforest_update_imports_cell('import re'); }\n",
       "    "
      ],
      "text/plain": [
       "<IPython.core.display.Javascript object>"
      ]
     },
     "metadata": {},
     "output_type": "display_data"
    },
    {
     "data": {
      "application/javascript": [
       "\n",
       "        if (window._pyforest_update_imports_cell) { window._pyforest_update_imports_cell('import re'); }\n",
       "    "
      ],
      "text/plain": [
       "<IPython.core.display.Javascript object>"
      ]
     },
     "metadata": {},
     "output_type": "display_data"
    },
    {
     "data": {
      "application/javascript": [
       "\n",
       "        if (window._pyforest_update_imports_cell) { window._pyforest_update_imports_cell('import re'); }\n",
       "    "
      ],
      "text/plain": [
       "<IPython.core.display.Javascript object>"
      ]
     },
     "metadata": {},
     "output_type": "display_data"
    },
    {
     "data": {
      "application/javascript": [
       "\n",
       "        if (window._pyforest_update_imports_cell) { window._pyforest_update_imports_cell('import re'); }\n",
       "    "
      ],
      "text/plain": [
       "<IPython.core.display.Javascript object>"
      ]
     },
     "metadata": {},
     "output_type": "display_data"
    },
    {
     "data": {
      "application/javascript": [
       "\n",
       "        if (window._pyforest_update_imports_cell) { window._pyforest_update_imports_cell('import re'); }\n",
       "    "
      ],
      "text/plain": [
       "<IPython.core.display.Javascript object>"
      ]
     },
     "metadata": {},
     "output_type": "display_data"
    },
    {
     "data": {
      "application/javascript": [
       "\n",
       "        if (window._pyforest_update_imports_cell) { window._pyforest_update_imports_cell('import re'); }\n",
       "    "
      ],
      "text/plain": [
       "<IPython.core.display.Javascript object>"
      ]
     },
     "metadata": {},
     "output_type": "display_data"
    },
    {
     "data": {
      "application/javascript": [
       "\n",
       "        if (window._pyforest_update_imports_cell) { window._pyforest_update_imports_cell('import re'); }\n",
       "    "
      ],
      "text/plain": [
       "<IPython.core.display.Javascript object>"
      ]
     },
     "metadata": {},
     "output_type": "display_data"
    },
    {
     "data": {
      "application/javascript": [
       "\n",
       "        if (window._pyforest_update_imports_cell) { window._pyforest_update_imports_cell('import re'); }\n",
       "    "
      ],
      "text/plain": [
       "<IPython.core.display.Javascript object>"
      ]
     },
     "metadata": {},
     "output_type": "display_data"
    },
    {
     "data": {
      "application/javascript": [
       "\n",
       "        if (window._pyforest_update_imports_cell) { window._pyforest_update_imports_cell('import re'); }\n",
       "    "
      ],
      "text/plain": [
       "<IPython.core.display.Javascript object>"
      ]
     },
     "metadata": {},
     "output_type": "display_data"
    },
    {
     "data": {
      "application/javascript": [
       "\n",
       "        if (window._pyforest_update_imports_cell) { window._pyforest_update_imports_cell('import re'); }\n",
       "    "
      ],
      "text/plain": [
       "<IPython.core.display.Javascript object>"
      ]
     },
     "metadata": {},
     "output_type": "display_data"
    },
    {
     "data": {
      "application/javascript": [
       "\n",
       "        if (window._pyforest_update_imports_cell) { window._pyforest_update_imports_cell('import re'); }\n",
       "    "
      ],
      "text/plain": [
       "<IPython.core.display.Javascript object>"
      ]
     },
     "metadata": {},
     "output_type": "display_data"
    },
    {
     "data": {
      "application/javascript": [
       "\n",
       "        if (window._pyforest_update_imports_cell) { window._pyforest_update_imports_cell('import re'); }\n",
       "    "
      ],
      "text/plain": [
       "<IPython.core.display.Javascript object>"
      ]
     },
     "metadata": {},
     "output_type": "display_data"
    },
    {
     "data": {
      "application/javascript": [
       "\n",
       "        if (window._pyforest_update_imports_cell) { window._pyforest_update_imports_cell('import re'); }\n",
       "    "
      ],
      "text/plain": [
       "<IPython.core.display.Javascript object>"
      ]
     },
     "metadata": {},
     "output_type": "display_data"
    },
    {
     "data": {
      "application/javascript": [
       "\n",
       "        if (window._pyforest_update_imports_cell) { window._pyforest_update_imports_cell('import re'); }\n",
       "    "
      ],
      "text/plain": [
       "<IPython.core.display.Javascript object>"
      ]
     },
     "metadata": {},
     "output_type": "display_data"
    },
    {
     "data": {
      "application/javascript": [
       "\n",
       "        if (window._pyforest_update_imports_cell) { window._pyforest_update_imports_cell('import re'); }\n",
       "    "
      ],
      "text/plain": [
       "<IPython.core.display.Javascript object>"
      ]
     },
     "metadata": {},
     "output_type": "display_data"
    },
    {
     "data": {
      "application/javascript": [
       "\n",
       "        if (window._pyforest_update_imports_cell) { window._pyforest_update_imports_cell('import re'); }\n",
       "    "
      ],
      "text/plain": [
       "<IPython.core.display.Javascript object>"
      ]
     },
     "metadata": {},
     "output_type": "display_data"
    },
    {
     "data": {
      "application/javascript": [
       "\n",
       "        if (window._pyforest_update_imports_cell) { window._pyforest_update_imports_cell('import re'); }\n",
       "    "
      ],
      "text/plain": [
       "<IPython.core.display.Javascript object>"
      ]
     },
     "metadata": {},
     "output_type": "display_data"
    },
    {
     "data": {
      "application/javascript": [
       "\n",
       "        if (window._pyforest_update_imports_cell) { window._pyforest_update_imports_cell('import re'); }\n",
       "    "
      ],
      "text/plain": [
       "<IPython.core.display.Javascript object>"
      ]
     },
     "metadata": {},
     "output_type": "display_data"
    },
    {
     "data": {
      "application/javascript": [
       "\n",
       "        if (window._pyforest_update_imports_cell) { window._pyforest_update_imports_cell('import re'); }\n",
       "    "
      ],
      "text/plain": [
       "<IPython.core.display.Javascript object>"
      ]
     },
     "metadata": {},
     "output_type": "display_data"
    },
    {
     "data": {
      "application/javascript": [
       "\n",
       "        if (window._pyforest_update_imports_cell) { window._pyforest_update_imports_cell('import re'); }\n",
       "    "
      ],
      "text/plain": [
       "<IPython.core.display.Javascript object>"
      ]
     },
     "metadata": {},
     "output_type": "display_data"
    },
    {
     "data": {
      "application/javascript": [
       "\n",
       "        if (window._pyforest_update_imports_cell) { window._pyforest_update_imports_cell('import re'); }\n",
       "    "
      ],
      "text/plain": [
       "<IPython.core.display.Javascript object>"
      ]
     },
     "metadata": {},
     "output_type": "display_data"
    },
    {
     "data": {
      "application/javascript": [
       "\n",
       "        if (window._pyforest_update_imports_cell) { window._pyforest_update_imports_cell('import re'); }\n",
       "    "
      ],
      "text/plain": [
       "<IPython.core.display.Javascript object>"
      ]
     },
     "metadata": {},
     "output_type": "display_data"
    },
    {
     "data": {
      "application/javascript": [
       "\n",
       "        if (window._pyforest_update_imports_cell) { window._pyforest_update_imports_cell('import re'); }\n",
       "    "
      ],
      "text/plain": [
       "<IPython.core.display.Javascript object>"
      ]
     },
     "metadata": {},
     "output_type": "display_data"
    },
    {
     "data": {
      "application/javascript": [
       "\n",
       "        if (window._pyforest_update_imports_cell) { window._pyforest_update_imports_cell('import re'); }\n",
       "    "
      ],
      "text/plain": [
       "<IPython.core.display.Javascript object>"
      ]
     },
     "metadata": {},
     "output_type": "display_data"
    },
    {
     "data": {
      "application/javascript": [
       "\n",
       "        if (window._pyforest_update_imports_cell) { window._pyforest_update_imports_cell('import re'); }\n",
       "    "
      ],
      "text/plain": [
       "<IPython.core.display.Javascript object>"
      ]
     },
     "metadata": {},
     "output_type": "display_data"
    },
    {
     "data": {
      "application/javascript": [
       "\n",
       "        if (window._pyforest_update_imports_cell) { window._pyforest_update_imports_cell('import re'); }\n",
       "    "
      ],
      "text/plain": [
       "<IPython.core.display.Javascript object>"
      ]
     },
     "metadata": {},
     "output_type": "display_data"
    },
    {
     "data": {
      "application/javascript": [
       "\n",
       "        if (window._pyforest_update_imports_cell) { window._pyforest_update_imports_cell('import re'); }\n",
       "    "
      ],
      "text/plain": [
       "<IPython.core.display.Javascript object>"
      ]
     },
     "metadata": {},
     "output_type": "display_data"
    },
    {
     "data": {
      "application/javascript": [
       "\n",
       "        if (window._pyforest_update_imports_cell) { window._pyforest_update_imports_cell('import re'); }\n",
       "    "
      ],
      "text/plain": [
       "<IPython.core.display.Javascript object>"
      ]
     },
     "metadata": {},
     "output_type": "display_data"
    },
    {
     "data": {
      "application/javascript": [
       "\n",
       "        if (window._pyforest_update_imports_cell) { window._pyforest_update_imports_cell('import re'); }\n",
       "    "
      ],
      "text/plain": [
       "<IPython.core.display.Javascript object>"
      ]
     },
     "metadata": {},
     "output_type": "display_data"
    },
    {
     "data": {
      "application/javascript": [
       "\n",
       "        if (window._pyforest_update_imports_cell) { window._pyforest_update_imports_cell('import re'); }\n",
       "    "
      ],
      "text/plain": [
       "<IPython.core.display.Javascript object>"
      ]
     },
     "metadata": {},
     "output_type": "display_data"
    },
    {
     "data": {
      "application/javascript": [
       "\n",
       "        if (window._pyforest_update_imports_cell) { window._pyforest_update_imports_cell('import re'); }\n",
       "    "
      ],
      "text/plain": [
       "<IPython.core.display.Javascript object>"
      ]
     },
     "metadata": {},
     "output_type": "display_data"
    },
    {
     "data": {
      "application/javascript": [
       "\n",
       "        if (window._pyforest_update_imports_cell) { window._pyforest_update_imports_cell('import re'); }\n",
       "    "
      ],
      "text/plain": [
       "<IPython.core.display.Javascript object>"
      ]
     },
     "metadata": {},
     "output_type": "display_data"
    },
    {
     "data": {
      "application/javascript": [
       "\n",
       "        if (window._pyforest_update_imports_cell) { window._pyforest_update_imports_cell('import re'); }\n",
       "    "
      ],
      "text/plain": [
       "<IPython.core.display.Javascript object>"
      ]
     },
     "metadata": {},
     "output_type": "display_data"
    },
    {
     "data": {
      "application/javascript": [
       "\n",
       "        if (window._pyforest_update_imports_cell) { window._pyforest_update_imports_cell('import re'); }\n",
       "    "
      ],
      "text/plain": [
       "<IPython.core.display.Javascript object>"
      ]
     },
     "metadata": {},
     "output_type": "display_data"
    },
    {
     "data": {
      "application/javascript": [
       "\n",
       "        if (window._pyforest_update_imports_cell) { window._pyforest_update_imports_cell('import re'); }\n",
       "    "
      ],
      "text/plain": [
       "<IPython.core.display.Javascript object>"
      ]
     },
     "metadata": {},
     "output_type": "display_data"
    },
    {
     "data": {
      "application/javascript": [
       "\n",
       "        if (window._pyforest_update_imports_cell) { window._pyforest_update_imports_cell('import re'); }\n",
       "    "
      ],
      "text/plain": [
       "<IPython.core.display.Javascript object>"
      ]
     },
     "metadata": {},
     "output_type": "display_data"
    },
    {
     "data": {
      "application/javascript": [
       "\n",
       "        if (window._pyforest_update_imports_cell) { window._pyforest_update_imports_cell('import re'); }\n",
       "    "
      ],
      "text/plain": [
       "<IPython.core.display.Javascript object>"
      ]
     },
     "metadata": {},
     "output_type": "display_data"
    },
    {
     "data": {
      "application/javascript": [
       "\n",
       "        if (window._pyforest_update_imports_cell) { window._pyforest_update_imports_cell('import re'); }\n",
       "    "
      ],
      "text/plain": [
       "<IPython.core.display.Javascript object>"
      ]
     },
     "metadata": {},
     "output_type": "display_data"
    },
    {
     "data": {
      "application/javascript": [
       "\n",
       "        if (window._pyforest_update_imports_cell) { window._pyforest_update_imports_cell('import re'); }\n",
       "    "
      ],
      "text/plain": [
       "<IPython.core.display.Javascript object>"
      ]
     },
     "metadata": {},
     "output_type": "display_data"
    },
    {
     "data": {
      "application/javascript": [
       "\n",
       "        if (window._pyforest_update_imports_cell) { window._pyforest_update_imports_cell('import re'); }\n",
       "    "
      ],
      "text/plain": [
       "<IPython.core.display.Javascript object>"
      ]
     },
     "metadata": {},
     "output_type": "display_data"
    },
    {
     "data": {
      "application/javascript": [
       "\n",
       "        if (window._pyforest_update_imports_cell) { window._pyforest_update_imports_cell('import re'); }\n",
       "    "
      ],
      "text/plain": [
       "<IPython.core.display.Javascript object>"
      ]
     },
     "metadata": {},
     "output_type": "display_data"
    },
    {
     "data": {
      "application/javascript": [
       "\n",
       "        if (window._pyforest_update_imports_cell) { window._pyforest_update_imports_cell('import re'); }\n",
       "    "
      ],
      "text/plain": [
       "<IPython.core.display.Javascript object>"
      ]
     },
     "metadata": {},
     "output_type": "display_data"
    },
    {
     "data": {
      "application/javascript": [
       "\n",
       "        if (window._pyforest_update_imports_cell) { window._pyforest_update_imports_cell('import re'); }\n",
       "    "
      ],
      "text/plain": [
       "<IPython.core.display.Javascript object>"
      ]
     },
     "metadata": {},
     "output_type": "display_data"
    },
    {
     "data": {
      "application/javascript": [
       "\n",
       "        if (window._pyforest_update_imports_cell) { window._pyforest_update_imports_cell('import re'); }\n",
       "    "
      ],
      "text/plain": [
       "<IPython.core.display.Javascript object>"
      ]
     },
     "metadata": {},
     "output_type": "display_data"
    },
    {
     "data": {
      "application/javascript": [
       "\n",
       "        if (window._pyforest_update_imports_cell) { window._pyforest_update_imports_cell('import re'); }\n",
       "    "
      ],
      "text/plain": [
       "<IPython.core.display.Javascript object>"
      ]
     },
     "metadata": {},
     "output_type": "display_data"
    },
    {
     "data": {
      "application/javascript": [
       "\n",
       "        if (window._pyforest_update_imports_cell) { window._pyforest_update_imports_cell('import re'); }\n",
       "    "
      ],
      "text/plain": [
       "<IPython.core.display.Javascript object>"
      ]
     },
     "metadata": {},
     "output_type": "display_data"
    },
    {
     "data": {
      "application/javascript": [
       "\n",
       "        if (window._pyforest_update_imports_cell) { window._pyforest_update_imports_cell('import re'); }\n",
       "    "
      ],
      "text/plain": [
       "<IPython.core.display.Javascript object>"
      ]
     },
     "metadata": {},
     "output_type": "display_data"
    },
    {
     "data": {
      "application/javascript": [
       "\n",
       "        if (window._pyforest_update_imports_cell) { window._pyforest_update_imports_cell('import re'); }\n",
       "    "
      ],
      "text/plain": [
       "<IPython.core.display.Javascript object>"
      ]
     },
     "metadata": {},
     "output_type": "display_data"
    },
    {
     "data": {
      "application/javascript": [
       "\n",
       "        if (window._pyforest_update_imports_cell) { window._pyforest_update_imports_cell('import re'); }\n",
       "    "
      ],
      "text/plain": [
       "<IPython.core.display.Javascript object>"
      ]
     },
     "metadata": {},
     "output_type": "display_data"
    },
    {
     "data": {
      "application/javascript": [
       "\n",
       "        if (window._pyforest_update_imports_cell) { window._pyforest_update_imports_cell('import re'); }\n",
       "    "
      ],
      "text/plain": [
       "<IPython.core.display.Javascript object>"
      ]
     },
     "metadata": {},
     "output_type": "display_data"
    },
    {
     "data": {
      "application/javascript": [
       "\n",
       "        if (window._pyforest_update_imports_cell) { window._pyforest_update_imports_cell('import re'); }\n",
       "    "
      ],
      "text/plain": [
       "<IPython.core.display.Javascript object>"
      ]
     },
     "metadata": {},
     "output_type": "display_data"
    },
    {
     "data": {
      "application/javascript": [
       "\n",
       "        if (window._pyforest_update_imports_cell) { window._pyforest_update_imports_cell('import re'); }\n",
       "    "
      ],
      "text/plain": [
       "<IPython.core.display.Javascript object>"
      ]
     },
     "metadata": {},
     "output_type": "display_data"
    },
    {
     "data": {
      "application/javascript": [
       "\n",
       "        if (window._pyforest_update_imports_cell) { window._pyforest_update_imports_cell('import re'); }\n",
       "    "
      ],
      "text/plain": [
       "<IPython.core.display.Javascript object>"
      ]
     },
     "metadata": {},
     "output_type": "display_data"
    },
    {
     "data": {
      "application/javascript": [
       "\n",
       "        if (window._pyforest_update_imports_cell) { window._pyforest_update_imports_cell('import re'); }\n",
       "    "
      ],
      "text/plain": [
       "<IPython.core.display.Javascript object>"
      ]
     },
     "metadata": {},
     "output_type": "display_data"
    },
    {
     "data": {
      "application/javascript": [
       "\n",
       "        if (window._pyforest_update_imports_cell) { window._pyforest_update_imports_cell('import re'); }\n",
       "    "
      ],
      "text/plain": [
       "<IPython.core.display.Javascript object>"
      ]
     },
     "metadata": {},
     "output_type": "display_data"
    },
    {
     "data": {
      "application/javascript": [
       "\n",
       "        if (window._pyforest_update_imports_cell) { window._pyforest_update_imports_cell('import re'); }\n",
       "    "
      ],
      "text/plain": [
       "<IPython.core.display.Javascript object>"
      ]
     },
     "metadata": {},
     "output_type": "display_data"
    },
    {
     "data": {
      "application/javascript": [
       "\n",
       "        if (window._pyforest_update_imports_cell) { window._pyforest_update_imports_cell('import re'); }\n",
       "    "
      ],
      "text/plain": [
       "<IPython.core.display.Javascript object>"
      ]
     },
     "metadata": {},
     "output_type": "display_data"
    },
    {
     "data": {
      "application/javascript": [
       "\n",
       "        if (window._pyforest_update_imports_cell) { window._pyforest_update_imports_cell('import re'); }\n",
       "    "
      ],
      "text/plain": [
       "<IPython.core.display.Javascript object>"
      ]
     },
     "metadata": {},
     "output_type": "display_data"
    },
    {
     "data": {
      "application/javascript": [
       "\n",
       "        if (window._pyforest_update_imports_cell) { window._pyforest_update_imports_cell('import re'); }\n",
       "    "
      ],
      "text/plain": [
       "<IPython.core.display.Javascript object>"
      ]
     },
     "metadata": {},
     "output_type": "display_data"
    },
    {
     "data": {
      "application/javascript": [
       "\n",
       "        if (window._pyforest_update_imports_cell) { window._pyforest_update_imports_cell('import re'); }\n",
       "    "
      ],
      "text/plain": [
       "<IPython.core.display.Javascript object>"
      ]
     },
     "metadata": {},
     "output_type": "display_data"
    },
    {
     "data": {
      "application/javascript": [
       "\n",
       "        if (window._pyforest_update_imports_cell) { window._pyforest_update_imports_cell('import re'); }\n",
       "    "
      ],
      "text/plain": [
       "<IPython.core.display.Javascript object>"
      ]
     },
     "metadata": {},
     "output_type": "display_data"
    },
    {
     "data": {
      "application/javascript": [
       "\n",
       "        if (window._pyforest_update_imports_cell) { window._pyforest_update_imports_cell('import re'); }\n",
       "    "
      ],
      "text/plain": [
       "<IPython.core.display.Javascript object>"
      ]
     },
     "metadata": {},
     "output_type": "display_data"
    },
    {
     "data": {
      "application/javascript": [
       "\n",
       "        if (window._pyforest_update_imports_cell) { window._pyforest_update_imports_cell('import re'); }\n",
       "    "
      ],
      "text/plain": [
       "<IPython.core.display.Javascript object>"
      ]
     },
     "metadata": {},
     "output_type": "display_data"
    },
    {
     "data": {
      "application/javascript": [
       "\n",
       "        if (window._pyforest_update_imports_cell) { window._pyforest_update_imports_cell('import re'); }\n",
       "    "
      ],
      "text/plain": [
       "<IPython.core.display.Javascript object>"
      ]
     },
     "metadata": {},
     "output_type": "display_data"
    },
    {
     "data": {
      "application/javascript": [
       "\n",
       "        if (window._pyforest_update_imports_cell) { window._pyforest_update_imports_cell('import re'); }\n",
       "    "
      ],
      "text/plain": [
       "<IPython.core.display.Javascript object>"
      ]
     },
     "metadata": {},
     "output_type": "display_data"
    },
    {
     "data": {
      "application/javascript": [
       "\n",
       "        if (window._pyforest_update_imports_cell) { window._pyforest_update_imports_cell('import re'); }\n",
       "    "
      ],
      "text/plain": [
       "<IPython.core.display.Javascript object>"
      ]
     },
     "metadata": {},
     "output_type": "display_data"
    },
    {
     "data": {
      "application/javascript": [
       "\n",
       "        if (window._pyforest_update_imports_cell) { window._pyforest_update_imports_cell('import re'); }\n",
       "    "
      ],
      "text/plain": [
       "<IPython.core.display.Javascript object>"
      ]
     },
     "metadata": {},
     "output_type": "display_data"
    },
    {
     "data": {
      "application/javascript": [
       "\n",
       "        if (window._pyforest_update_imports_cell) { window._pyforest_update_imports_cell('import re'); }\n",
       "    "
      ],
      "text/plain": [
       "<IPython.core.display.Javascript object>"
      ]
     },
     "metadata": {},
     "output_type": "display_data"
    },
    {
     "data": {
      "application/javascript": [
       "\n",
       "        if (window._pyforest_update_imports_cell) { window._pyforest_update_imports_cell('import re'); }\n",
       "    "
      ],
      "text/plain": [
       "<IPython.core.display.Javascript object>"
      ]
     },
     "metadata": {},
     "output_type": "display_data"
    },
    {
     "data": {
      "application/javascript": [
       "\n",
       "        if (window._pyforest_update_imports_cell) { window._pyforest_update_imports_cell('import re'); }\n",
       "    "
      ],
      "text/plain": [
       "<IPython.core.display.Javascript object>"
      ]
     },
     "metadata": {},
     "output_type": "display_data"
    },
    {
     "data": {
      "application/javascript": [
       "\n",
       "        if (window._pyforest_update_imports_cell) { window._pyforest_update_imports_cell('import re'); }\n",
       "    "
      ],
      "text/plain": [
       "<IPython.core.display.Javascript object>"
      ]
     },
     "metadata": {},
     "output_type": "display_data"
    },
    {
     "data": {
      "application/javascript": [
       "\n",
       "        if (window._pyforest_update_imports_cell) { window._pyforest_update_imports_cell('import re'); }\n",
       "    "
      ],
      "text/plain": [
       "<IPython.core.display.Javascript object>"
      ]
     },
     "metadata": {},
     "output_type": "display_data"
    },
    {
     "data": {
      "text/html": [
       "<div>\n",
       "<style scoped>\n",
       "    .dataframe tbody tr th:only-of-type {\n",
       "        vertical-align: middle;\n",
       "    }\n",
       "\n",
       "    .dataframe tbody tr th {\n",
       "        vertical-align: top;\n",
       "    }\n",
       "\n",
       "    .dataframe thead th {\n",
       "        text-align: right;\n",
       "    }\n",
       "</style>\n",
       "<table border=\"1\" class=\"dataframe\">\n",
       "  <thead>\n",
       "    <tr style=\"text-align: right;\">\n",
       "      <th></th>\n",
       "      <th>file</th>\n",
       "      <th>fiscal_year</th>\n",
       "      <th>generated_on</th>\n",
       "    </tr>\n",
       "  </thead>\n",
       "  <tbody>\n",
       "    <tr>\n",
       "      <th>9</th>\n",
       "      <td>../data/raw_source_files/justice.gov/eoir_adju...</td>\n",
       "      <td>2018</td>\n",
       "      <td>October 24, 2018</td>\n",
       "    </tr>\n",
       "    <tr>\n",
       "      <th>7</th>\n",
       "      <td>../data/raw_source_files/justice.gov/eoir_adju...</td>\n",
       "      <td>2018</td>\n",
       "      <td>October 24, 2018</td>\n",
       "    </tr>\n",
       "    <tr>\n",
       "      <th>6</th>\n",
       "      <td>../data/raw_source_files/justice.gov/eoir_adju...</td>\n",
       "      <td>2019</td>\n",
       "      <td>October 23, 2019</td>\n",
       "    </tr>\n",
       "    <tr>\n",
       "      <th>12</th>\n",
       "      <td>../data/raw_source_files/justice.gov/eoir_adju...</td>\n",
       "      <td>2019</td>\n",
       "      <td>October 23, 2019</td>\n",
       "    </tr>\n",
       "    <tr>\n",
       "      <th>5</th>\n",
       "      <td>../data/raw_source_files/justice.gov/eoir_adju...</td>\n",
       "      <td>2019</td>\n",
       "      <td>October 23, 2019</td>\n",
       "    </tr>\n",
       "    <tr>\n",
       "      <th>4</th>\n",
       "      <td>../data/raw_source_files/justice.gov/eoir_adju...</td>\n",
       "      <td>2019</td>\n",
       "      <td>October 23, 2019</td>\n",
       "    </tr>\n",
       "    <tr>\n",
       "      <th>3</th>\n",
       "      <td>../data/raw_source_files/justice.gov/eoir_adju...</td>\n",
       "      <td>2020</td>\n",
       "      <td>July 14, 2020</td>\n",
       "    </tr>\n",
       "    <tr>\n",
       "      <th>2</th>\n",
       "      <td>../data/raw_source_files/justice.gov/eoir_adju...</td>\n",
       "      <td>2020</td>\n",
       "      <td>July 14, 2020</td>\n",
       "    </tr>\n",
       "    <tr>\n",
       "      <th>11</th>\n",
       "      <td>../data/raw_source_files/justice.gov/eoir_adju...</td>\n",
       "      <td>2020</td>\n",
       "      <td>July 14, 2020</td>\n",
       "    </tr>\n",
       "    <tr>\n",
       "      <th>1</th>\n",
       "      <td>../data/raw_source_files/justice.gov/eoir_adju...</td>\n",
       "      <td>2021</td>\n",
       "      <td>January 7, 2020</td>\n",
       "    </tr>\n",
       "    <tr>\n",
       "      <th>10</th>\n",
       "      <td>../data/raw_source_files/justice.gov/eoir_adju...</td>\n",
       "      <td>2021</td>\n",
       "      <td>January 7, 2020</td>\n",
       "    </tr>\n",
       "    <tr>\n",
       "      <th>0</th>\n",
       "      <td>../data/raw_source_files/justice.gov/eoir_adju...</td>\n",
       "      <td>2021</td>\n",
       "      <td>April 19, 2021</td>\n",
       "    </tr>\n",
       "    <tr>\n",
       "      <th>8</th>\n",
       "      <td>../data/raw_source_files/justice.gov/eoir_adju...</td>\n",
       "      <td>2021</td>\n",
       "      <td>July 8, 2021</td>\n",
       "    </tr>\n",
       "    <tr>\n",
       "      <th>13</th>\n",
       "      <td>../data/raw_source_files/justice.gov/eoir_adju...</td>\n",
       "      <td>2021</td>\n",
       "      <td>October 19, 2021</td>\n",
       "    </tr>\n",
       "  </tbody>\n",
       "</table>\n",
       "</div>"
      ],
      "text/plain": [
       "                                                 file fiscal_year  \\\n",
       "9   ../data/raw_source_files/justice.gov/eoir_adju...        2018   \n",
       "7   ../data/raw_source_files/justice.gov/eoir_adju...        2018   \n",
       "6   ../data/raw_source_files/justice.gov/eoir_adju...        2019   \n",
       "12  ../data/raw_source_files/justice.gov/eoir_adju...        2019   \n",
       "5   ../data/raw_source_files/justice.gov/eoir_adju...        2019   \n",
       "4   ../data/raw_source_files/justice.gov/eoir_adju...        2019   \n",
       "3   ../data/raw_source_files/justice.gov/eoir_adju...        2020   \n",
       "2   ../data/raw_source_files/justice.gov/eoir_adju...        2020   \n",
       "11  ../data/raw_source_files/justice.gov/eoir_adju...        2020   \n",
       "1   ../data/raw_source_files/justice.gov/eoir_adju...        2021   \n",
       "10  ../data/raw_source_files/justice.gov/eoir_adju...        2021   \n",
       "0   ../data/raw_source_files/justice.gov/eoir_adju...        2021   \n",
       "8   ../data/raw_source_files/justice.gov/eoir_adju...        2021   \n",
       "13  ../data/raw_source_files/justice.gov/eoir_adju...        2021   \n",
       "\n",
       "        generated_on  \n",
       "9   October 24, 2018  \n",
       "7   October 24, 2018  \n",
       "6   October 23, 2019  \n",
       "12  October 23, 2019  \n",
       "5   October 23, 2019  \n",
       "4   October 23, 2019  \n",
       "3      July 14, 2020  \n",
       "2      July 14, 2020  \n",
       "11     July 14, 2020  \n",
       "1    January 7, 2020  \n",
       "10   January 7, 2020  \n",
       "0     April 19, 2021  \n",
       "8       July 8, 2021  \n",
       "13  October 19, 2021  "
      ]
     },
     "execution_count": 15,
     "metadata": {},
     "output_type": "execute_result"
    }
   ],
   "source": [
    "# Iterate over all files in our folder\n",
    "file_info = []\n",
    "for p in Path(\"../data/raw_source_files/justice.gov/\").iterdir():\n",
    "    fiscal_year, generated_on = get_fy_and_generated_on(p)\n",
    "    file_info.append([str(p), fiscal_year, generated_on])\n",
    "\n",
    "file_info_df = pd.DataFrame(\n",
    "    file_info, columns=[\"file\", \"fiscal_year\", \"generated_on\"]\n",
    ").sort_values(\"file\")\n",
    "file_info_df"
   ]
  },
  {
   "cell_type": "markdown",
   "metadata": {},
   "source": [
    "Above we see that some of the files have duplicated information. We want to keep only files with unique information."
   ]
  },
  {
   "cell_type": "code",
   "execution_count": 16,
   "metadata": {},
   "outputs": [
    {
     "data": {
      "text/html": [
       "<div>\n",
       "<style scoped>\n",
       "    .dataframe tbody tr th:only-of-type {\n",
       "        vertical-align: middle;\n",
       "    }\n",
       "\n",
       "    .dataframe tbody tr th {\n",
       "        vertical-align: top;\n",
       "    }\n",
       "\n",
       "    .dataframe thead th {\n",
       "        text-align: right;\n",
       "    }\n",
       "</style>\n",
       "<table border=\"1\" class=\"dataframe\">\n",
       "  <thead>\n",
       "    <tr style=\"text-align: right;\">\n",
       "      <th></th>\n",
       "      <th>file</th>\n",
       "      <th>fiscal_year</th>\n",
       "      <th>generated_on</th>\n",
       "    </tr>\n",
       "  </thead>\n",
       "  <tbody>\n",
       "    <tr>\n",
       "      <th>9</th>\n",
       "      <td>../data/raw_source_files/justice.gov/eoir_adju...</td>\n",
       "      <td>2018</td>\n",
       "      <td>October 24, 2018</td>\n",
       "    </tr>\n",
       "    <tr>\n",
       "      <th>6</th>\n",
       "      <td>../data/raw_source_files/justice.gov/eoir_adju...</td>\n",
       "      <td>2019</td>\n",
       "      <td>October 23, 2019</td>\n",
       "    </tr>\n",
       "    <tr>\n",
       "      <th>3</th>\n",
       "      <td>../data/raw_source_files/justice.gov/eoir_adju...</td>\n",
       "      <td>2020</td>\n",
       "      <td>July 14, 2020</td>\n",
       "    </tr>\n",
       "    <tr>\n",
       "      <th>1</th>\n",
       "      <td>../data/raw_source_files/justice.gov/eoir_adju...</td>\n",
       "      <td>2021</td>\n",
       "      <td>January 7, 2020</td>\n",
       "    </tr>\n",
       "    <tr>\n",
       "      <th>0</th>\n",
       "      <td>../data/raw_source_files/justice.gov/eoir_adju...</td>\n",
       "      <td>2021</td>\n",
       "      <td>April 19, 2021</td>\n",
       "    </tr>\n",
       "    <tr>\n",
       "      <th>8</th>\n",
       "      <td>../data/raw_source_files/justice.gov/eoir_adju...</td>\n",
       "      <td>2021</td>\n",
       "      <td>July 8, 2021</td>\n",
       "    </tr>\n",
       "    <tr>\n",
       "      <th>13</th>\n",
       "      <td>../data/raw_source_files/justice.gov/eoir_adju...</td>\n",
       "      <td>2021</td>\n",
       "      <td>October 19, 2021</td>\n",
       "    </tr>\n",
       "  </tbody>\n",
       "</table>\n",
       "</div>"
      ],
      "text/plain": [
       "                                                 file fiscal_year  \\\n",
       "9   ../data/raw_source_files/justice.gov/eoir_adju...        2018   \n",
       "6   ../data/raw_source_files/justice.gov/eoir_adju...        2019   \n",
       "3   ../data/raw_source_files/justice.gov/eoir_adju...        2020   \n",
       "1   ../data/raw_source_files/justice.gov/eoir_adju...        2021   \n",
       "0   ../data/raw_source_files/justice.gov/eoir_adju...        2021   \n",
       "8   ../data/raw_source_files/justice.gov/eoir_adju...        2021   \n",
       "13  ../data/raw_source_files/justice.gov/eoir_adju...        2021   \n",
       "\n",
       "        generated_on  \n",
       "9   October 24, 2018  \n",
       "6   October 23, 2019  \n",
       "3      July 14, 2020  \n",
       "1    January 7, 2020  \n",
       "0     April 19, 2021  \n",
       "8       July 8, 2021  \n",
       "13  October 19, 2021  "
      ]
     },
     "execution_count": 16,
     "metadata": {},
     "output_type": "execute_result"
    }
   ],
   "source": [
    "file_info_df = file_info_df.drop_duplicates([\"fiscal_year\", \"generated_on\"])\n",
    "file_info_df"
   ]
  },
  {
   "cell_type": "markdown",
   "metadata": {},
   "source": [
    "Now above we can see our unique datasets."
   ]
  },
  {
   "cell_type": "markdown",
   "metadata": {
    "id": "MijLw8KcnRhX"
   },
   "source": [
    "## 2. Extracting Structured Data from the PDFs "
   ]
  },
  {
   "cell_type": "markdown",
   "metadata": {
    "id": "q4CEAL2bnRhX"
   },
   "source": [
    "### First Let's Try 1 PDF"
   ]
  },
  {
   "cell_type": "markdown",
   "metadata": {
    "id": "ktkEIJZqnRhX"
   },
   "source": [
    "**First let's extract one page to see if the tabula library is successful**"
   ]
  },
  {
   "cell_type": "code",
   "execution_count": 17,
   "metadata": {
    "executionInfo": {
     "elapsed": 3383,
     "status": "ok",
     "timestamp": 1636676046322,
     "user": {
      "displayName": "Michael Dowd",
      "photoUrl": "https://lh3.googleusercontent.com/a/default-user=s64",
      "userId": "00770521119407228668"
     },
     "user_tz": 480
    },
    "id": "rXPsv74lnRhX"
   },
   "outputs": [],
   "source": [
    "extract_test = read_pdf(\n",
    "    export_directory / \"eoir_adjudication_stats_2019-03-06 01:21:00.pdf\",\n",
    "    pages=1,\n",
    "    lattice=True,\n",
    "    pandas_options={\"header\": None},  # none because some have headers and some dont\n",
    ")[0]"
   ]
  },
  {
   "cell_type": "markdown",
   "metadata": {
    "id": "Kt-v0qpmnRhX"
   },
   "source": [
    "Below we see the single extracted page - by comparing to page 1 of that actual pdf we can see that overall the results look great. \n"
   ]
  },
  {
   "cell_type": "code",
   "execution_count": 18,
   "metadata": {
    "colab": {
     "base_uri": "https://localhost:8080/",
     "height": 669
    },
    "executionInfo": {
     "elapsed": 172,
     "status": "ok",
     "timestamp": 1636676106081,
     "user": {
      "displayName": "Michael Dowd",
      "photoUrl": "https://lh3.googleusercontent.com/a/default-user=s64",
      "userId": "00770521119407228668"
     },
     "user_tz": 480
    },
    "id": "STmAcjDznRhX",
    "outputId": "b41707df-eedc-4a52-c75a-254bea036eb8"
   },
   "outputs": [
    {
     "data": {
      "text/html": [
       "<div>\n",
       "<style scoped>\n",
       "    .dataframe tbody tr th:only-of-type {\n",
       "        vertical-align: middle;\n",
       "    }\n",
       "\n",
       "    .dataframe tbody tr th {\n",
       "        vertical-align: top;\n",
       "    }\n",
       "\n",
       "    .dataframe thead th {\n",
       "        text-align: right;\n",
       "    }\n",
       "</style>\n",
       "<table border=\"1\" class=\"dataframe\">\n",
       "  <thead>\n",
       "    <tr style=\"text-align: right;\">\n",
       "      <th></th>\n",
       "      <th>0</th>\n",
       "      <th>1</th>\n",
       "      <th>2</th>\n",
       "      <th>3</th>\n",
       "      <th>4</th>\n",
       "      <th>5</th>\n",
       "      <th>6</th>\n",
       "      <th>7</th>\n",
       "      <th>8</th>\n",
       "      <th>9</th>\n",
       "    </tr>\n",
       "  </thead>\n",
       "  <tbody>\n",
       "    <tr>\n",
       "      <th>0</th>\n",
       "      <td>Admin\\rDenialAdmin\\rNationalityGrants2\\rGrant ...</td>\n",
       "      <td>NaN</td>\n",
       "      <td>NaN</td>\n",
       "      <td>NaN</td>\n",
       "      <td>NaN</td>\n",
       "      <td>NaN</td>\n",
       "      <td>NaN</td>\n",
       "      <td>NaN</td>\n",
       "      <td>NaN</td>\n",
       "      <td>NaN</td>\n",
       "    </tr>\n",
       "    <tr>\n",
       "      <th>1</th>\n",
       "      <td>Nationality</td>\n",
       "      <td>Grants2</td>\n",
       "      <td>Grant Rate</td>\n",
       "      <td>Denials</td>\n",
       "      <td>Denial\\rRate</td>\n",
       "      <td>Other3</td>\n",
       "      <td>Other Rate</td>\n",
       "      <td>Admin\\rClosure4</td>\n",
       "      <td>Admin\\rClosure\\rRate</td>\n",
       "      <td>Total</td>\n",
       "    </tr>\n",
       "    <tr>\n",
       "      <th>2</th>\n",
       "      <td>AFGHANISTAN</td>\n",
       "      <td>28</td>\n",
       "      <td>*</td>\n",
       "      <td>19</td>\n",
       "      <td>*</td>\n",
       "      <td>21</td>\n",
       "      <td>*</td>\n",
       "      <td>*</td>\n",
       "      <td>*</td>\n",
       "      <td>*</td>\n",
       "    </tr>\n",
       "    <tr>\n",
       "      <th>3</th>\n",
       "      <td>ALBANIA</td>\n",
       "      <td>181</td>\n",
       "      <td>62.41%</td>\n",
       "      <td>55</td>\n",
       "      <td>18.97%</td>\n",
       "      <td>49</td>\n",
       "      <td>16.90%</td>\n",
       "      <td>5</td>\n",
       "      <td>1.72%</td>\n",
       "      <td>290</td>\n",
       "    </tr>\n",
       "    <tr>\n",
       "      <th>4</th>\n",
       "      <td>ALGERIA</td>\n",
       "      <td>*</td>\n",
       "      <td>*</td>\n",
       "      <td>*</td>\n",
       "      <td>*</td>\n",
       "      <td>*</td>\n",
       "      <td>*</td>\n",
       "      <td>*</td>\n",
       "      <td>*</td>\n",
       "      <td>*</td>\n",
       "    </tr>\n",
       "    <tr>\n",
       "      <th>5</th>\n",
       "      <td>ANGOLA</td>\n",
       "      <td>19</td>\n",
       "      <td>*</td>\n",
       "      <td>29</td>\n",
       "      <td>*</td>\n",
       "      <td>10</td>\n",
       "      <td>*</td>\n",
       "      <td>*</td>\n",
       "      <td>*</td>\n",
       "      <td>*</td>\n",
       "    </tr>\n",
       "    <tr>\n",
       "      <th>6</th>\n",
       "      <td>ANTIGUA AND\\rBARBUDA</td>\n",
       "      <td>*</td>\n",
       "      <td>*</td>\n",
       "      <td>*</td>\n",
       "      <td>*</td>\n",
       "      <td>*</td>\n",
       "      <td>*</td>\n",
       "      <td>*</td>\n",
       "      <td>*</td>\n",
       "      <td>*</td>\n",
       "    </tr>\n",
       "    <tr>\n",
       "      <th>7</th>\n",
       "      <td>ARGENTINA</td>\n",
       "      <td>*</td>\n",
       "      <td>*</td>\n",
       "      <td>8</td>\n",
       "      <td>*</td>\n",
       "      <td>16</td>\n",
       "      <td>*</td>\n",
       "      <td>*</td>\n",
       "      <td>*</td>\n",
       "      <td>*</td>\n",
       "    </tr>\n",
       "    <tr>\n",
       "      <th>8</th>\n",
       "      <td>ARMENIA</td>\n",
       "      <td>60</td>\n",
       "      <td>*</td>\n",
       "      <td>39</td>\n",
       "      <td>*</td>\n",
       "      <td>43</td>\n",
       "      <td>*</td>\n",
       "      <td>*</td>\n",
       "      <td>*</td>\n",
       "      <td>*</td>\n",
       "    </tr>\n",
       "    <tr>\n",
       "      <th>9</th>\n",
       "      <td>AUSTRALIA</td>\n",
       "      <td>*</td>\n",
       "      <td>*</td>\n",
       "      <td>*</td>\n",
       "      <td>*</td>\n",
       "      <td>*</td>\n",
       "      <td>*</td>\n",
       "      <td>*</td>\n",
       "      <td>*</td>\n",
       "      <td>*</td>\n",
       "    </tr>\n",
       "    <tr>\n",
       "      <th>10</th>\n",
       "      <td>AUSTRIA</td>\n",
       "      <td>10</td>\n",
       "      <td>*</td>\n",
       "      <td>*</td>\n",
       "      <td>*</td>\n",
       "      <td>*</td>\n",
       "      <td>*</td>\n",
       "      <td>*</td>\n",
       "      <td>*</td>\n",
       "      <td>*</td>\n",
       "    </tr>\n",
       "    <tr>\n",
       "      <th>11</th>\n",
       "      <td>AZERBAIJAN</td>\n",
       "      <td>21</td>\n",
       "      <td>*</td>\n",
       "      <td>5</td>\n",
       "      <td>*</td>\n",
       "      <td>5</td>\n",
       "      <td>*</td>\n",
       "      <td>*</td>\n",
       "      <td>*</td>\n",
       "      <td>*</td>\n",
       "    </tr>\n",
       "    <tr>\n",
       "      <th>12</th>\n",
       "      <td>BAHAMAS</td>\n",
       "      <td>*</td>\n",
       "      <td>*</td>\n",
       "      <td>9</td>\n",
       "      <td>*</td>\n",
       "      <td>5</td>\n",
       "      <td>*</td>\n",
       "      <td>*</td>\n",
       "      <td>*</td>\n",
       "      <td>*</td>\n",
       "    </tr>\n",
       "    <tr>\n",
       "      <th>13</th>\n",
       "      <td>BAHRAIN</td>\n",
       "      <td>*</td>\n",
       "      <td>*</td>\n",
       "      <td>*</td>\n",
       "      <td>*</td>\n",
       "      <td>*</td>\n",
       "      <td>*</td>\n",
       "      <td>*</td>\n",
       "      <td>*</td>\n",
       "      <td>*</td>\n",
       "    </tr>\n",
       "    <tr>\n",
       "      <th>14</th>\n",
       "      <td>BANGLADESH</td>\n",
       "      <td>289</td>\n",
       "      <td>51.06%</td>\n",
       "      <td>155</td>\n",
       "      <td>27.39%</td>\n",
       "      <td>117</td>\n",
       "      <td>20.67%</td>\n",
       "      <td>5</td>\n",
       "      <td>0.88%</td>\n",
       "      <td>566</td>\n",
       "    </tr>\n",
       "    <tr>\n",
       "      <th>15</th>\n",
       "      <td>BARBADOS</td>\n",
       "      <td>*</td>\n",
       "      <td>*</td>\n",
       "      <td>*</td>\n",
       "      <td>*</td>\n",
       "      <td>*</td>\n",
       "      <td>*</td>\n",
       "      <td>*</td>\n",
       "      <td>*</td>\n",
       "      <td>*</td>\n",
       "    </tr>\n",
       "    <tr>\n",
       "      <th>16</th>\n",
       "      <td>BELARUS</td>\n",
       "      <td>34</td>\n",
       "      <td>*</td>\n",
       "      <td>6</td>\n",
       "      <td>*</td>\n",
       "      <td>7</td>\n",
       "      <td>*</td>\n",
       "      <td>*</td>\n",
       "      <td>*</td>\n",
       "      <td>*</td>\n",
       "    </tr>\n",
       "    <tr>\n",
       "      <th>17</th>\n",
       "      <td>BELGIUM</td>\n",
       "      <td>*</td>\n",
       "      <td>*</td>\n",
       "      <td>*</td>\n",
       "      <td>*</td>\n",
       "      <td>*</td>\n",
       "      <td>*</td>\n",
       "      <td>*</td>\n",
       "      <td>*</td>\n",
       "      <td>*</td>\n",
       "    </tr>\n",
       "    <tr>\n",
       "      <th>18</th>\n",
       "      <td>BELIZE</td>\n",
       "      <td>*</td>\n",
       "      <td>*</td>\n",
       "      <td>16</td>\n",
       "      <td>*</td>\n",
       "      <td>10</td>\n",
       "      <td>*</td>\n",
       "      <td>*</td>\n",
       "      <td>*</td>\n",
       "      <td>*</td>\n",
       "    </tr>\n",
       "    <tr>\n",
       "      <th>19</th>\n",
       "      <td>BENIN</td>\n",
       "      <td>*</td>\n",
       "      <td>*</td>\n",
       "      <td>6</td>\n",
       "      <td>*</td>\n",
       "      <td>*</td>\n",
       "      <td>*</td>\n",
       "      <td>*</td>\n",
       "      <td>*</td>\n",
       "      <td>*</td>\n",
       "    </tr>\n",
       "  </tbody>\n",
       "</table>\n",
       "</div>"
      ],
      "text/plain": [
       "                                                    0        1           2  \\\n",
       "0   Admin\\rDenialAdmin\\rNationalityGrants2\\rGrant ...      NaN         NaN   \n",
       "1                                         Nationality  Grants2  Grant Rate   \n",
       "2                                         AFGHANISTAN       28           *   \n",
       "3                                             ALBANIA      181      62.41%   \n",
       "4                                             ALGERIA        *           *   \n",
       "5                                              ANGOLA       19           *   \n",
       "6                                ANTIGUA AND\\rBARBUDA        *           *   \n",
       "7                                           ARGENTINA        *           *   \n",
       "8                                             ARMENIA       60           *   \n",
       "9                                           AUSTRALIA        *           *   \n",
       "10                                            AUSTRIA       10           *   \n",
       "11                                         AZERBAIJAN       21           *   \n",
       "12                                            BAHAMAS        *           *   \n",
       "13                                            BAHRAIN        *           *   \n",
       "14                                         BANGLADESH      289      51.06%   \n",
       "15                                           BARBADOS        *           *   \n",
       "16                                            BELARUS       34           *   \n",
       "17                                            BELGIUM        *           *   \n",
       "18                                             BELIZE        *           *   \n",
       "19                                              BENIN        *           *   \n",
       "\n",
       "          3             4       5           6                7  \\\n",
       "0       NaN           NaN     NaN         NaN              NaN   \n",
       "1   Denials  Denial\\rRate  Other3  Other Rate  Admin\\rClosure4   \n",
       "2        19             *      21           *                *   \n",
       "3        55        18.97%      49      16.90%                5   \n",
       "4         *             *       *           *                *   \n",
       "5        29             *      10           *                *   \n",
       "6         *             *       *           *                *   \n",
       "7         8             *      16           *                *   \n",
       "8        39             *      43           *                *   \n",
       "9         *             *       *           *                *   \n",
       "10        *             *       *           *                *   \n",
       "11        5             *       5           *                *   \n",
       "12        9             *       5           *                *   \n",
       "13        *             *       *           *                *   \n",
       "14      155        27.39%     117      20.67%                5   \n",
       "15        *             *       *           *                *   \n",
       "16        6             *       7           *                *   \n",
       "17        *             *       *           *                *   \n",
       "18       16             *      10           *                *   \n",
       "19        6             *       *           *                *   \n",
       "\n",
       "                       8      9  \n",
       "0                    NaN    NaN  \n",
       "1   Admin\\rClosure\\rRate  Total  \n",
       "2                      *      *  \n",
       "3                  1.72%    290  \n",
       "4                      *      *  \n",
       "5                      *      *  \n",
       "6                      *      *  \n",
       "7                      *      *  \n",
       "8                      *      *  \n",
       "9                      *      *  \n",
       "10                     *      *  \n",
       "11                     *      *  \n",
       "12                     *      *  \n",
       "13                     *      *  \n",
       "14                 0.88%    566  \n",
       "15                     *      *  \n",
       "16                     *      *  \n",
       "17                     *      *  \n",
       "18                     *      *  \n",
       "19                     *      *  "
      ]
     },
     "execution_count": 18,
     "metadata": {},
     "output_type": "execute_result"
    }
   ],
   "source": [
    "extract_test.head(20)"
   ]
  },
  {
   "cell_type": "markdown",
   "metadata": {
    "id": "jafMPS6rnRhY"
   },
   "source": [
    "\n",
    "The only issue is that the headers are pretty messed up. If we check a couple of other pages (try putting in 2,3,4) for the `pages=1` value. We see this is a consistent issue and actually we can just drop the first 2 rows.\n",
    "\n",
    "So we will write that into our `get_table_data` function."
   ]
  },
  {
   "cell_type": "code",
   "execution_count": 19,
   "metadata": {
    "code_folding": [],
    "executionInfo": {
     "elapsed": 171,
     "status": "ok",
     "timestamp": 1636676128764,
     "user": {
      "displayName": "Michael Dowd",
      "photoUrl": "https://lh3.googleusercontent.com/a/default-user=s64",
      "userId": "00770521119407228668"
     },
     "user_tz": 480
    },
    "id": "BH514KvvnRhY"
   },
   "outputs": [],
   "source": [
    "def get_table_data(path):\n",
    "    \"\"\"\n",
    "    Parameters:\n",
    "      path: path to specific PDF file to extract data from\n",
    "\n",
    "    Returns:\n",
    "      Pandas dataframe of structured (tabular) data extracted from the PDF\n",
    "      path provided.\n",
    "\n",
    "    Example:\n",
    "      get_table_data( 'eoir_adjudication_stats_2019-03-06 01:21:00.pdf' )\n",
    "\n",
    "    \"\"\"\n",
    "    # Read the pdf to get basic info on it\n",
    "    pdf = PdfFileReader(path)\n",
    "\n",
    "    # Data Holders\n",
    "    full_table = pd.DataFrame()  # Will hold the combined data\n",
    "\n",
    "    # Processing PDF - we start with the first page (start) and go to the last page (stop)\n",
    "    start = 1\n",
    "    stop = pdf.getNumPages() + 1\n",
    "    for i in range(start, stop):\n",
    "        # Extract data from the specific PDF page using Tabula\n",
    "        df = read_pdf(\n",
    "            path,\n",
    "            pages=f\"{i}\",\n",
    "            lattice=True,\n",
    "            pandas_options={\n",
    "                \"header\": None\n",
    "            },  # none because some have headers and some dont\n",
    "        )[0]\n",
    "        if len(df.columns) == 10:\n",
    "            df.columns = [\n",
    "                \"nationality\",\n",
    "                \"grants\",\n",
    "                \"grant rate\",\n",
    "                \"denials\",\n",
    "                \"denial rate\",\n",
    "                \"other\",\n",
    "                \"other rate\",\n",
    "                \"admin closure\",\n",
    "                \"admin closure rate\",\n",
    "                \"total\",\n",
    "            ]\n",
    "        elif len(df.columns) == 8:\n",
    "            df.columns = [\n",
    "                \"nationality\",\n",
    "                \"grants\",\n",
    "                \"grant rate\",\n",
    "                \"denials\",\n",
    "                \"denial rate\",\n",
    "                \"other\",\n",
    "                \"other rate\",\n",
    "                \"total\",\n",
    "            ]\n",
    "        else:\n",
    "            raise AssertionError(\n",
    "                \"Something is wrong with column lengths check the pdf file manually\"\n",
    "            )\n",
    "        # Here we drop the first N rows, the weird headers.\n",
    "        df = df.loc[\n",
    "            df[df[\"nationality\"].str.lower().str.contains(\"nationality\")].index.max()\n",
    "            + 1 :,\n",
    "            :,\n",
    "        ]\n",
    "\n",
    "        df = df[~df[\"nationality\"].str.lower().str.contains(\"asylum rates for fiscal\")]\n",
    "        # Append this page of data to the full table\n",
    "        full_table = full_table.append(df)\n",
    "\n",
    "    return full_table"
   ]
  },
  {
   "cell_type": "markdown",
   "metadata": {
    "id": "LCp-bwJznRhY"
   },
   "source": [
    "Let's define the columns that are in the source table"
   ]
  },
  {
   "cell_type": "code",
   "execution_count": 20,
   "metadata": {
    "executionInfo": {
     "elapsed": 176,
     "status": "ok",
     "timestamp": 1636676130834,
     "user": {
      "displayName": "Michael Dowd",
      "photoUrl": "https://lh3.googleusercontent.com/a/default-user=s64",
      "userId": "00770521119407228668"
     },
     "user_tz": 480
    },
    "id": "MwI0ZheEnRhZ"
   },
   "outputs": [],
   "source": [
    "pdf_cols = [\n",
    "    \"nationality\",\n",
    "    \"grants\",\n",
    "    \"grant rate\",\n",
    "    \"denials\",\n",
    "    \"denial rate\",\n",
    "    \"other\",\n",
    "    \"other rate\",\n",
    "    \"admin closure\",\n",
    "    \"admin closure rate\",\n",
    "    \"total\",\n",
    "]"
   ]
  },
  {
   "cell_type": "markdown",
   "metadata": {
    "id": "g5Tzk-yhnRhZ"
   },
   "source": [
    "Now grab the full pdf"
   ]
  },
  {
   "cell_type": "code",
   "execution_count": 21,
   "metadata": {
    "executionInfo": {
     "elapsed": 13719,
     "status": "ok",
     "timestamp": 1636676146796,
     "user": {
      "displayName": "Michael Dowd",
      "photoUrl": "https://lh3.googleusercontent.com/a/default-user=s64",
      "userId": "00770521119407228668"
     },
     "user_tz": 480
    },
    "id": "pr1ZDo-snRhZ"
   },
   "outputs": [],
   "source": [
    "test = get_table_data(\n",
    "    str(export_directory / \"eoir_adjudication_stats_2019-03-06 01:21:00.pdf\")\n",
    ")"
   ]
  },
  {
   "cell_type": "code",
   "execution_count": 22,
   "metadata": {
    "colab": {
     "base_uri": "https://localhost:8080/",
     "height": 204
    },
    "executionInfo": {
     "elapsed": 188,
     "status": "ok",
     "timestamp": 1636676227089,
     "user": {
      "displayName": "Michael Dowd",
      "photoUrl": "https://lh3.googleusercontent.com/a/default-user=s64",
      "userId": "00770521119407228668"
     },
     "user_tz": 480
    },
    "id": "qwK7XwhGnRhZ",
    "outputId": "b4533aa4-0814-487a-d689-04ab371d851c"
   },
   "outputs": [
    {
     "data": {
      "text/html": [
       "<div>\n",
       "<style scoped>\n",
       "    .dataframe tbody tr th:only-of-type {\n",
       "        vertical-align: middle;\n",
       "    }\n",
       "\n",
       "    .dataframe tbody tr th {\n",
       "        vertical-align: top;\n",
       "    }\n",
       "\n",
       "    .dataframe thead th {\n",
       "        text-align: right;\n",
       "    }\n",
       "</style>\n",
       "<table border=\"1\" class=\"dataframe\">\n",
       "  <thead>\n",
       "    <tr style=\"text-align: right;\">\n",
       "      <th></th>\n",
       "      <th>nationality</th>\n",
       "      <th>grants</th>\n",
       "      <th>grant rate</th>\n",
       "      <th>denials</th>\n",
       "      <th>denial rate</th>\n",
       "      <th>other</th>\n",
       "      <th>other rate</th>\n",
       "      <th>admin closure</th>\n",
       "      <th>admin closure rate</th>\n",
       "      <th>total</th>\n",
       "    </tr>\n",
       "  </thead>\n",
       "  <tbody>\n",
       "    <tr>\n",
       "      <th>2</th>\n",
       "      <td>AFGHANISTAN</td>\n",
       "      <td>28</td>\n",
       "      <td>*</td>\n",
       "      <td>19</td>\n",
       "      <td>*</td>\n",
       "      <td>21</td>\n",
       "      <td>*</td>\n",
       "      <td>*</td>\n",
       "      <td>*</td>\n",
       "      <td>*</td>\n",
       "    </tr>\n",
       "    <tr>\n",
       "      <th>3</th>\n",
       "      <td>ALBANIA</td>\n",
       "      <td>181</td>\n",
       "      <td>62.41%</td>\n",
       "      <td>55</td>\n",
       "      <td>18.97%</td>\n",
       "      <td>49</td>\n",
       "      <td>16.90%</td>\n",
       "      <td>5</td>\n",
       "      <td>1.72%</td>\n",
       "      <td>290</td>\n",
       "    </tr>\n",
       "    <tr>\n",
       "      <th>4</th>\n",
       "      <td>ALGERIA</td>\n",
       "      <td>*</td>\n",
       "      <td>*</td>\n",
       "      <td>*</td>\n",
       "      <td>*</td>\n",
       "      <td>*</td>\n",
       "      <td>*</td>\n",
       "      <td>*</td>\n",
       "      <td>*</td>\n",
       "      <td>*</td>\n",
       "    </tr>\n",
       "    <tr>\n",
       "      <th>5</th>\n",
       "      <td>ANGOLA</td>\n",
       "      <td>19</td>\n",
       "      <td>*</td>\n",
       "      <td>29</td>\n",
       "      <td>*</td>\n",
       "      <td>10</td>\n",
       "      <td>*</td>\n",
       "      <td>*</td>\n",
       "      <td>*</td>\n",
       "      <td>*</td>\n",
       "    </tr>\n",
       "    <tr>\n",
       "      <th>6</th>\n",
       "      <td>ANTIGUA AND\\rBARBUDA</td>\n",
       "      <td>*</td>\n",
       "      <td>*</td>\n",
       "      <td>*</td>\n",
       "      <td>*</td>\n",
       "      <td>*</td>\n",
       "      <td>*</td>\n",
       "      <td>*</td>\n",
       "      <td>*</td>\n",
       "      <td>*</td>\n",
       "    </tr>\n",
       "  </tbody>\n",
       "</table>\n",
       "</div>"
      ],
      "text/plain": [
       "            nationality grants grant rate denials denial rate other  \\\n",
       "2           AFGHANISTAN     28          *      19           *    21   \n",
       "3               ALBANIA    181     62.41%      55      18.97%    49   \n",
       "4               ALGERIA      *          *       *           *     *   \n",
       "5                ANGOLA     19          *      29           *    10   \n",
       "6  ANTIGUA AND\\rBARBUDA      *          *       *           *     *   \n",
       "\n",
       "  other rate admin closure admin closure rate total  \n",
       "2          *             *                  *     *  \n",
       "3     16.90%             5              1.72%   290  \n",
       "4          *             *                  *     *  \n",
       "5          *             *                  *     *  \n",
       "6          *             *                  *     *  "
      ]
     },
     "execution_count": 22,
     "metadata": {},
     "output_type": "execute_result"
    }
   ],
   "source": [
    "test.head()"
   ]
  },
  {
   "cell_type": "markdown",
   "metadata": {
    "id": "ZrbyacBznRhZ"
   },
   "source": [
    "Looks pretty great, only issue is that we have asterisks in the data, and I bet we have some \",\" separators in the dataset as well. This is a problem because it means we can't treat those columns as having real numbers in them, making it impossible to aggregate. "
   ]
  },
  {
   "cell_type": "markdown",
   "metadata": {
    "id": "8cN9P6CMnRhZ"
   },
   "source": [
    "**[OPTIONAL]  Cleaning the data** \n",
    "\n",
    "This is optional because you could likley do this in excel instead"
   ]
  },
  {
   "cell_type": "code",
   "execution_count": 23,
   "metadata": {
    "executionInfo": {
     "elapsed": 169,
     "status": "ok",
     "timestamp": 1636676237960,
     "user": {
      "displayName": "Michael Dowd",
      "photoUrl": "https://lh3.googleusercontent.com/a/default-user=s64",
      "userId": "00770521119407228668"
     },
     "user_tz": 480
    },
    "id": "vmYOIIEvnRhZ"
   },
   "outputs": [],
   "source": [
    "# Clean the asterisks - replace all of them with NULL or nan(not a number)\n",
    "test = test.replace(\"*\", np.nan)\n",
    "\n",
    "# Iterate over the columns\n",
    "# convert the value to type string, then replace any \",\" with \"\",\n",
    "# and convert the new value to type float.\n",
    "numerics = [\"grants\", \"denials\", \"other\", \"admin closure\", \"total\"]\n",
    "for col in numerics:\n",
    "    test[col] = test[col].astype(str).str.replace(\",\", \"\").astype(float)"
   ]
  },
  {
   "cell_type": "code",
   "execution_count": 24,
   "metadata": {
    "colab": {
     "base_uri": "https://localhost:8080/",
     "height": 204
    },
    "executionInfo": {
     "elapsed": 170,
     "status": "ok",
     "timestamp": 1636676240804,
     "user": {
      "displayName": "Michael Dowd",
      "photoUrl": "https://lh3.googleusercontent.com/a/default-user=s64",
      "userId": "00770521119407228668"
     },
     "user_tz": 480
    },
    "id": "QL2i7rmwnRha",
    "outputId": "d920a47c-e748-4024-f228-9186bcfa9dd7"
   },
   "outputs": [
    {
     "data": {
      "text/html": [
       "<div>\n",
       "<style scoped>\n",
       "    .dataframe tbody tr th:only-of-type {\n",
       "        vertical-align: middle;\n",
       "    }\n",
       "\n",
       "    .dataframe tbody tr th {\n",
       "        vertical-align: top;\n",
       "    }\n",
       "\n",
       "    .dataframe thead th {\n",
       "        text-align: right;\n",
       "    }\n",
       "</style>\n",
       "<table border=\"1\" class=\"dataframe\">\n",
       "  <thead>\n",
       "    <tr style=\"text-align: right;\">\n",
       "      <th></th>\n",
       "      <th>nationality</th>\n",
       "      <th>grants</th>\n",
       "      <th>grant rate</th>\n",
       "      <th>denials</th>\n",
       "      <th>denial rate</th>\n",
       "      <th>other</th>\n",
       "      <th>other rate</th>\n",
       "      <th>admin closure</th>\n",
       "      <th>admin closure rate</th>\n",
       "      <th>total</th>\n",
       "    </tr>\n",
       "  </thead>\n",
       "  <tbody>\n",
       "    <tr>\n",
       "      <th>2</th>\n",
       "      <td>AFGHANISTAN</td>\n",
       "      <td>28.0</td>\n",
       "      <td>NaN</td>\n",
       "      <td>19.0</td>\n",
       "      <td>NaN</td>\n",
       "      <td>21.0</td>\n",
       "      <td>NaN</td>\n",
       "      <td>NaN</td>\n",
       "      <td>NaN</td>\n",
       "      <td>NaN</td>\n",
       "    </tr>\n",
       "    <tr>\n",
       "      <th>3</th>\n",
       "      <td>ALBANIA</td>\n",
       "      <td>181.0</td>\n",
       "      <td>62.41%</td>\n",
       "      <td>55.0</td>\n",
       "      <td>18.97%</td>\n",
       "      <td>49.0</td>\n",
       "      <td>16.90%</td>\n",
       "      <td>5.0</td>\n",
       "      <td>1.72%</td>\n",
       "      <td>290.0</td>\n",
       "    </tr>\n",
       "    <tr>\n",
       "      <th>4</th>\n",
       "      <td>ALGERIA</td>\n",
       "      <td>NaN</td>\n",
       "      <td>NaN</td>\n",
       "      <td>NaN</td>\n",
       "      <td>NaN</td>\n",
       "      <td>NaN</td>\n",
       "      <td>NaN</td>\n",
       "      <td>NaN</td>\n",
       "      <td>NaN</td>\n",
       "      <td>NaN</td>\n",
       "    </tr>\n",
       "    <tr>\n",
       "      <th>5</th>\n",
       "      <td>ANGOLA</td>\n",
       "      <td>19.0</td>\n",
       "      <td>NaN</td>\n",
       "      <td>29.0</td>\n",
       "      <td>NaN</td>\n",
       "      <td>10.0</td>\n",
       "      <td>NaN</td>\n",
       "      <td>NaN</td>\n",
       "      <td>NaN</td>\n",
       "      <td>NaN</td>\n",
       "    </tr>\n",
       "    <tr>\n",
       "      <th>6</th>\n",
       "      <td>ANTIGUA AND\\rBARBUDA</td>\n",
       "      <td>NaN</td>\n",
       "      <td>NaN</td>\n",
       "      <td>NaN</td>\n",
       "      <td>NaN</td>\n",
       "      <td>NaN</td>\n",
       "      <td>NaN</td>\n",
       "      <td>NaN</td>\n",
       "      <td>NaN</td>\n",
       "      <td>NaN</td>\n",
       "    </tr>\n",
       "  </tbody>\n",
       "</table>\n",
       "</div>"
      ],
      "text/plain": [
       "            nationality  grants grant rate  denials denial rate  other  \\\n",
       "2           AFGHANISTAN    28.0        NaN     19.0         NaN   21.0   \n",
       "3               ALBANIA   181.0     62.41%     55.0      18.97%   49.0   \n",
       "4               ALGERIA     NaN        NaN      NaN         NaN    NaN   \n",
       "5                ANGOLA    19.0        NaN     29.0         NaN   10.0   \n",
       "6  ANTIGUA AND\\rBARBUDA     NaN        NaN      NaN         NaN    NaN   \n",
       "\n",
       "  other rate  admin closure admin closure rate  total  \n",
       "2        NaN            NaN                NaN    NaN  \n",
       "3     16.90%            5.0              1.72%  290.0  \n",
       "4        NaN            NaN                NaN    NaN  \n",
       "5        NaN            NaN                NaN    NaN  \n",
       "6        NaN            NaN                NaN    NaN  "
      ]
     },
     "execution_count": 24,
     "metadata": {},
     "output_type": "execute_result"
    }
   ],
   "source": [
    "test.head()"
   ]
  },
  {
   "cell_type": "markdown",
   "metadata": {
    "id": "KXXOewcrnRha"
   },
   "source": [
    "### Second Let's Get All PDFs"
   ]
  },
  {
   "cell_type": "markdown",
   "metadata": {
    "id": "cX14sAzXnRha"
   },
   "source": [
    "Earlier we identifed the unique pdfs to grab and saved some info about them in the `file_info_df` dictionary"
   ]
  },
  {
   "cell_type": "code",
   "execution_count": 25,
   "metadata": {
    "colab": {
     "base_uri": "https://localhost:8080/"
    },
    "executionInfo": {
     "elapsed": 206,
     "status": "ok",
     "timestamp": 1636676248334,
     "user": {
      "displayName": "Michael Dowd",
      "photoUrl": "https://lh3.googleusercontent.com/a/default-user=s64",
      "userId": "00770521119407228668"
     },
     "user_tz": 480
    },
    "id": "AdmhAu6hnRha",
    "outputId": "c48a5f5f-90ce-40e0-ca94-841d9be39d20"
   },
   "outputs": [
    {
     "data": {
      "text/html": [
       "<div>\n",
       "<style scoped>\n",
       "    .dataframe tbody tr th:only-of-type {\n",
       "        vertical-align: middle;\n",
       "    }\n",
       "\n",
       "    .dataframe tbody tr th {\n",
       "        vertical-align: top;\n",
       "    }\n",
       "\n",
       "    .dataframe thead th {\n",
       "        text-align: right;\n",
       "    }\n",
       "</style>\n",
       "<table border=\"1\" class=\"dataframe\">\n",
       "  <thead>\n",
       "    <tr style=\"text-align: right;\">\n",
       "      <th></th>\n",
       "      <th>file</th>\n",
       "      <th>fiscal_year</th>\n",
       "      <th>generated_on</th>\n",
       "    </tr>\n",
       "  </thead>\n",
       "  <tbody>\n",
       "    <tr>\n",
       "      <th>9</th>\n",
       "      <td>../data/raw_source_files/justice.gov/eoir_adju...</td>\n",
       "      <td>2018</td>\n",
       "      <td>October 24, 2018</td>\n",
       "    </tr>\n",
       "    <tr>\n",
       "      <th>6</th>\n",
       "      <td>../data/raw_source_files/justice.gov/eoir_adju...</td>\n",
       "      <td>2019</td>\n",
       "      <td>October 23, 2019</td>\n",
       "    </tr>\n",
       "    <tr>\n",
       "      <th>3</th>\n",
       "      <td>../data/raw_source_files/justice.gov/eoir_adju...</td>\n",
       "      <td>2020</td>\n",
       "      <td>July 14, 2020</td>\n",
       "    </tr>\n",
       "    <tr>\n",
       "      <th>1</th>\n",
       "      <td>../data/raw_source_files/justice.gov/eoir_adju...</td>\n",
       "      <td>2021</td>\n",
       "      <td>January 7, 2020</td>\n",
       "    </tr>\n",
       "    <tr>\n",
       "      <th>0</th>\n",
       "      <td>../data/raw_source_files/justice.gov/eoir_adju...</td>\n",
       "      <td>2021</td>\n",
       "      <td>April 19, 2021</td>\n",
       "    </tr>\n",
       "    <tr>\n",
       "      <th>8</th>\n",
       "      <td>../data/raw_source_files/justice.gov/eoir_adju...</td>\n",
       "      <td>2021</td>\n",
       "      <td>July 8, 2021</td>\n",
       "    </tr>\n",
       "    <tr>\n",
       "      <th>13</th>\n",
       "      <td>../data/raw_source_files/justice.gov/eoir_adju...</td>\n",
       "      <td>2021</td>\n",
       "      <td>October 19, 2021</td>\n",
       "    </tr>\n",
       "  </tbody>\n",
       "</table>\n",
       "</div>"
      ],
      "text/plain": [
       "                                                 file fiscal_year  \\\n",
       "9   ../data/raw_source_files/justice.gov/eoir_adju...        2018   \n",
       "6   ../data/raw_source_files/justice.gov/eoir_adju...        2019   \n",
       "3   ../data/raw_source_files/justice.gov/eoir_adju...        2020   \n",
       "1   ../data/raw_source_files/justice.gov/eoir_adju...        2021   \n",
       "0   ../data/raw_source_files/justice.gov/eoir_adju...        2021   \n",
       "8   ../data/raw_source_files/justice.gov/eoir_adju...        2021   \n",
       "13  ../data/raw_source_files/justice.gov/eoir_adju...        2021   \n",
       "\n",
       "        generated_on  \n",
       "9   October 24, 2018  \n",
       "6   October 23, 2019  \n",
       "3      July 14, 2020  \n",
       "1    January 7, 2020  \n",
       "0     April 19, 2021  \n",
       "8       July 8, 2021  \n",
       "13  October 19, 2021  "
      ]
     },
     "execution_count": 25,
     "metadata": {},
     "output_type": "execute_result"
    }
   ],
   "source": [
    "file_info_df"
   ]
  },
  {
   "cell_type": "markdown",
   "metadata": {},
   "source": [
    "**Now we will iterate over the rows, and get the data from each file**"
   ]
  },
  {
   "cell_type": "code",
   "execution_count": 26,
   "metadata": {
    "colab": {
     "base_uri": "https://localhost:8080/"
    },
    "executionInfo": {
     "elapsed": 45013,
     "status": "ok",
     "timestamp": 1636676295606,
     "user": {
      "displayName": "Michael Dowd",
      "photoUrl": "https://lh3.googleusercontent.com/a/default-user=s64",
      "userId": "00770521119407228668"
     },
     "user_tz": 480
    },
    "id": "9PBcXgVQnRha",
    "outputId": "4693dd54-c4f0-449b-ee90-a4ffe01fef99"
   },
   "outputs": [],
   "source": [
    "tables = []\n",
    "for idx, row in file_info_df.iterrows():\n",
    "    # Assign information from the row of the data frame to some variables\n",
    "    pdf_path = row[\"file\"]\n",
    "    fiscal_year = row[\"fiscal_year\"]\n",
    "    generated_on = row[\"generated_on\"]\n",
    "\n",
    "    # Get the table data for this pdf path\n",
    "    table = get_table_data(pdf_path)\n",
    "\n",
    "    # Assign our extra variables\n",
    "    table[\"fiscal_year\"] = fiscal_year\n",
    "    table[\"generated_my\"] = generated_on\n",
    "    table[\"pdf_file\"] = pdf_path\n",
    "\n",
    "    # Append the processed table to our tables list\n",
    "    tables.append(table)"
   ]
  },
  {
   "cell_type": "markdown",
   "metadata": {},
   "source": [
    "**Create a single dataframe from all our tables**"
   ]
  },
  {
   "cell_type": "code",
   "execution_count": 27,
   "metadata": {
    "code_folding": [],
    "executionInfo": {
     "elapsed": 167,
     "status": "ok",
     "timestamp": 1636676318830,
     "user": {
      "displayName": "Michael Dowd",
      "photoUrl": "https://lh3.googleusercontent.com/a/default-user=s64",
      "userId": "00770521119407228668"
     },
     "user_tz": 480
    },
    "id": "RJXwFeRVnRha"
   },
   "outputs": [
    {
     "data": {
      "text/html": [
       "<div>\n",
       "<style scoped>\n",
       "    .dataframe tbody tr th:only-of-type {\n",
       "        vertical-align: middle;\n",
       "    }\n",
       "\n",
       "    .dataframe tbody tr th {\n",
       "        vertical-align: top;\n",
       "    }\n",
       "\n",
       "    .dataframe thead th {\n",
       "        text-align: right;\n",
       "    }\n",
       "</style>\n",
       "<table border=\"1\" class=\"dataframe\">\n",
       "  <thead>\n",
       "    <tr style=\"text-align: right;\">\n",
       "      <th></th>\n",
       "      <th>nationality</th>\n",
       "      <th>grants</th>\n",
       "      <th>grant rate</th>\n",
       "      <th>denials</th>\n",
       "      <th>denial rate</th>\n",
       "      <th>other</th>\n",
       "      <th>other rate</th>\n",
       "      <th>admin closure</th>\n",
       "      <th>admin closure rate</th>\n",
       "      <th>total</th>\n",
       "      <th>fiscal_year</th>\n",
       "      <th>generated_my</th>\n",
       "      <th>pdf_file</th>\n",
       "    </tr>\n",
       "  </thead>\n",
       "  <tbody>\n",
       "    <tr>\n",
       "      <th>0</th>\n",
       "      <td>AFGHANISTAN</td>\n",
       "      <td>28</td>\n",
       "      <td>*</td>\n",
       "      <td>19</td>\n",
       "      <td>*</td>\n",
       "      <td>21</td>\n",
       "      <td>*</td>\n",
       "      <td>*</td>\n",
       "      <td>*</td>\n",
       "      <td>*</td>\n",
       "      <td>2018</td>\n",
       "      <td>October 24, 2018</td>\n",
       "      <td>../data/raw_source_files/justice.gov/eoir_adju...</td>\n",
       "    </tr>\n",
       "    <tr>\n",
       "      <th>1</th>\n",
       "      <td>ALBANIA</td>\n",
       "      <td>181</td>\n",
       "      <td>62.41%</td>\n",
       "      <td>55</td>\n",
       "      <td>18.97%</td>\n",
       "      <td>49</td>\n",
       "      <td>16.90%</td>\n",
       "      <td>5</td>\n",
       "      <td>1.72%</td>\n",
       "      <td>290</td>\n",
       "      <td>2018</td>\n",
       "      <td>October 24, 2018</td>\n",
       "      <td>../data/raw_source_files/justice.gov/eoir_adju...</td>\n",
       "    </tr>\n",
       "    <tr>\n",
       "      <th>2</th>\n",
       "      <td>ALGERIA</td>\n",
       "      <td>*</td>\n",
       "      <td>*</td>\n",
       "      <td>*</td>\n",
       "      <td>*</td>\n",
       "      <td>*</td>\n",
       "      <td>*</td>\n",
       "      <td>*</td>\n",
       "      <td>*</td>\n",
       "      <td>*</td>\n",
       "      <td>2018</td>\n",
       "      <td>October 24, 2018</td>\n",
       "      <td>../data/raw_source_files/justice.gov/eoir_adju...</td>\n",
       "    </tr>\n",
       "    <tr>\n",
       "      <th>3</th>\n",
       "      <td>ANGOLA</td>\n",
       "      <td>19</td>\n",
       "      <td>*</td>\n",
       "      <td>29</td>\n",
       "      <td>*</td>\n",
       "      <td>10</td>\n",
       "      <td>*</td>\n",
       "      <td>*</td>\n",
       "      <td>*</td>\n",
       "      <td>*</td>\n",
       "      <td>2018</td>\n",
       "      <td>October 24, 2018</td>\n",
       "      <td>../data/raw_source_files/justice.gov/eoir_adju...</td>\n",
       "    </tr>\n",
       "    <tr>\n",
       "      <th>4</th>\n",
       "      <td>ANTIGUA AND\\rBARBUDA</td>\n",
       "      <td>*</td>\n",
       "      <td>*</td>\n",
       "      <td>*</td>\n",
       "      <td>*</td>\n",
       "      <td>*</td>\n",
       "      <td>*</td>\n",
       "      <td>*</td>\n",
       "      <td>*</td>\n",
       "      <td>*</td>\n",
       "      <td>2018</td>\n",
       "      <td>October 24, 2018</td>\n",
       "      <td>../data/raw_source_files/justice.gov/eoir_adju...</td>\n",
       "    </tr>\n",
       "    <tr>\n",
       "      <th>...</th>\n",
       "      <td>...</td>\n",
       "      <td>...</td>\n",
       "      <td>...</td>\n",
       "      <td>...</td>\n",
       "      <td>...</td>\n",
       "      <td>...</td>\n",
       "      <td>...</td>\n",
       "      <td>...</td>\n",
       "      <td>...</td>\n",
       "      <td>...</td>\n",
       "      <td>...</td>\n",
       "      <td>...</td>\n",
       "      <td>...</td>\n",
       "    </tr>\n",
       "    <tr>\n",
       "      <th>1010</th>\n",
       "      <td>VENEZUELA</td>\n",
       "      <td>472</td>\n",
       "      <td>46%</td>\n",
       "      <td>199</td>\n",
       "      <td>19%</td>\n",
       "      <td>360</td>\n",
       "      <td>35%</td>\n",
       "      <td>NaN</td>\n",
       "      <td>NaN</td>\n",
       "      <td>1,031</td>\n",
       "      <td>2021</td>\n",
       "      <td>October 19, 2021</td>\n",
       "      <td>../data/raw_source_files/justice.gov/eoir_adju...</td>\n",
       "    </tr>\n",
       "    <tr>\n",
       "      <th>1011</th>\n",
       "      <td>VIETNAM</td>\n",
       "      <td>45</td>\n",
       "      <td>59%</td>\n",
       "      <td>17</td>\n",
       "      <td>22%</td>\n",
       "      <td>14</td>\n",
       "      <td>18%</td>\n",
       "      <td>NaN</td>\n",
       "      <td>NaN</td>\n",
       "      <td>76</td>\n",
       "      <td>2021</td>\n",
       "      <td>October 19, 2021</td>\n",
       "      <td>../data/raw_source_files/justice.gov/eoir_adju...</td>\n",
       "    </tr>\n",
       "    <tr>\n",
       "      <th>1012</th>\n",
       "      <td>YEMEN</td>\n",
       "      <td>13</td>\n",
       "      <td>30%</td>\n",
       "      <td>13</td>\n",
       "      <td>30%</td>\n",
       "      <td>18</td>\n",
       "      <td>41%</td>\n",
       "      <td>NaN</td>\n",
       "      <td>NaN</td>\n",
       "      <td>44</td>\n",
       "      <td>2021</td>\n",
       "      <td>October 19, 2021</td>\n",
       "      <td>../data/raw_source_files/justice.gov/eoir_adju...</td>\n",
       "    </tr>\n",
       "    <tr>\n",
       "      <th>1013</th>\n",
       "      <td>ZAMBIA</td>\n",
       "      <td>*</td>\n",
       "      <td>*</td>\n",
       "      <td>*</td>\n",
       "      <td>*</td>\n",
       "      <td>*</td>\n",
       "      <td>*</td>\n",
       "      <td>NaN</td>\n",
       "      <td>NaN</td>\n",
       "      <td>*</td>\n",
       "      <td>2021</td>\n",
       "      <td>October 19, 2021</td>\n",
       "      <td>../data/raw_source_files/justice.gov/eoir_adju...</td>\n",
       "    </tr>\n",
       "    <tr>\n",
       "      <th>1014</th>\n",
       "      <td>ZIMBABWE</td>\n",
       "      <td>*</td>\n",
       "      <td>*</td>\n",
       "      <td>5</td>\n",
       "      <td>*</td>\n",
       "      <td>20</td>\n",
       "      <td>*</td>\n",
       "      <td>NaN</td>\n",
       "      <td>NaN</td>\n",
       "      <td>*</td>\n",
       "      <td>2021</td>\n",
       "      <td>October 19, 2021</td>\n",
       "      <td>../data/raw_source_files/justice.gov/eoir_adju...</td>\n",
       "    </tr>\n",
       "  </tbody>\n",
       "</table>\n",
       "<p>1015 rows × 13 columns</p>\n",
       "</div>"
      ],
      "text/plain": [
       "               nationality grants grant rate denials denial rate other  \\\n",
       "0              AFGHANISTAN     28          *      19           *    21   \n",
       "1                  ALBANIA    181     62.41%      55      18.97%    49   \n",
       "2                  ALGERIA      *          *       *           *     *   \n",
       "3                   ANGOLA     19          *      29           *    10   \n",
       "4     ANTIGUA AND\\rBARBUDA      *          *       *           *     *   \n",
       "...                    ...    ...        ...     ...         ...   ...   \n",
       "1010             VENEZUELA    472        46%     199         19%   360   \n",
       "1011               VIETNAM     45        59%      17         22%    14   \n",
       "1012                 YEMEN     13        30%      13         30%    18   \n",
       "1013                ZAMBIA      *          *       *           *     *   \n",
       "1014              ZIMBABWE      *          *       5           *    20   \n",
       "\n",
       "     other rate admin closure admin closure rate  total fiscal_year  \\\n",
       "0             *             *                  *      *        2018   \n",
       "1        16.90%             5              1.72%    290        2018   \n",
       "2             *             *                  *      *        2018   \n",
       "3             *             *                  *      *        2018   \n",
       "4             *             *                  *      *        2018   \n",
       "...         ...           ...                ...    ...         ...   \n",
       "1010        35%           NaN                NaN  1,031        2021   \n",
       "1011        18%           NaN                NaN     76        2021   \n",
       "1012        41%           NaN                NaN     44        2021   \n",
       "1013          *           NaN                NaN      *        2021   \n",
       "1014          *           NaN                NaN      *        2021   \n",
       "\n",
       "          generated_my                                           pdf_file  \n",
       "0     October 24, 2018  ../data/raw_source_files/justice.gov/eoir_adju...  \n",
       "1     October 24, 2018  ../data/raw_source_files/justice.gov/eoir_adju...  \n",
       "2     October 24, 2018  ../data/raw_source_files/justice.gov/eoir_adju...  \n",
       "3     October 24, 2018  ../data/raw_source_files/justice.gov/eoir_adju...  \n",
       "4     October 24, 2018  ../data/raw_source_files/justice.gov/eoir_adju...  \n",
       "...                ...                                                ...  \n",
       "1010  October 19, 2021  ../data/raw_source_files/justice.gov/eoir_adju...  \n",
       "1011  October 19, 2021  ../data/raw_source_files/justice.gov/eoir_adju...  \n",
       "1012  October 19, 2021  ../data/raw_source_files/justice.gov/eoir_adju...  \n",
       "1013  October 19, 2021  ../data/raw_source_files/justice.gov/eoir_adju...  \n",
       "1014  October 19, 2021  ../data/raw_source_files/justice.gov/eoir_adju...  \n",
       "\n",
       "[1015 rows x 13 columns]"
      ]
     },
     "execution_count": 27,
     "metadata": {},
     "output_type": "execute_result"
    }
   ],
   "source": [
    "all_data_df = pd.DataFrame()\n",
    "for table in tables:\n",
    "    all_data_df = all_data_df.append(table)\n",
    "all_data_df = all_data_df.reset_index(drop=True)\n",
    "all_data_df"
   ]
  },
  {
   "cell_type": "markdown",
   "metadata": {},
   "source": [
    "**Do some clean up**"
   ]
  },
  {
   "cell_type": "code",
   "execution_count": 28,
   "metadata": {
    "executionInfo": {
     "elapsed": 173,
     "status": "ok",
     "timestamp": 1636676333773,
     "user": {
      "displayName": "Michael Dowd",
      "photoUrl": "https://lh3.googleusercontent.com/a/default-user=s64",
      "userId": "00770521119407228668"
     },
     "user_tz": 480
    },
    "id": "Ve3iUtDTnRhb"
   },
   "outputs": [],
   "source": [
    "# Clean the asterisks - replace all of them with NULL or nan(not a number)\n",
    "all_data_df = all_data_df.replace(\"*\", np.nan)\n",
    "\n",
    "# Convert the numeric columns to a float - iterate over the columns,\n",
    "# convert the value to type string, then replace any \",\" with \"\",\n",
    "# and convert the new value to type float.\n",
    "numerics = [\"grants\", \"denials\", \"other\", \"admin closure\", \"total\"]\n",
    "for col in numerics:\n",
    "    all_data_df[col] = all_data_df[col].astype(str).str.replace(\",\", \"\").astype(float)"
   ]
  },
  {
   "cell_type": "markdown",
   "metadata": {},
   "source": [
    "Note: We did not clean up the `rate` columsn in the dataframe, they still have `%` stored in their values which makes them a string. See the appendix for how we can easily clean up those columns. "
   ]
  },
  {
   "cell_type": "code",
   "execution_count": 29,
   "metadata": {
    "executionInfo": {
     "elapsed": 181,
     "status": "ok",
     "timestamp": 1636676337148,
     "user": {
      "displayName": "Michael Dowd",
      "photoUrl": "https://lh3.googleusercontent.com/a/default-user=s64",
      "userId": "00770521119407228668"
     },
     "user_tz": 480
    },
    "id": "jbTMnrsdnRhb"
   },
   "outputs": [
    {
     "data": {
      "text/html": [
       "<div>\n",
       "<style scoped>\n",
       "    .dataframe tbody tr th:only-of-type {\n",
       "        vertical-align: middle;\n",
       "    }\n",
       "\n",
       "    .dataframe tbody tr th {\n",
       "        vertical-align: top;\n",
       "    }\n",
       "\n",
       "    .dataframe thead th {\n",
       "        text-align: right;\n",
       "    }\n",
       "</style>\n",
       "<table border=\"1\" class=\"dataframe\">\n",
       "  <thead>\n",
       "    <tr style=\"text-align: right;\">\n",
       "      <th></th>\n",
       "      <th>nationality</th>\n",
       "      <th>grants</th>\n",
       "      <th>grant rate</th>\n",
       "      <th>denials</th>\n",
       "      <th>denial rate</th>\n",
       "      <th>other</th>\n",
       "      <th>other rate</th>\n",
       "      <th>admin closure</th>\n",
       "      <th>admin closure rate</th>\n",
       "      <th>total</th>\n",
       "      <th>fiscal_year</th>\n",
       "      <th>generated_my</th>\n",
       "      <th>pdf_file</th>\n",
       "    </tr>\n",
       "  </thead>\n",
       "  <tbody>\n",
       "    <tr>\n",
       "      <th>0</th>\n",
       "      <td>AFGHANISTAN</td>\n",
       "      <td>28.0</td>\n",
       "      <td>NaN</td>\n",
       "      <td>19.0</td>\n",
       "      <td>NaN</td>\n",
       "      <td>21.0</td>\n",
       "      <td>NaN</td>\n",
       "      <td>NaN</td>\n",
       "      <td>NaN</td>\n",
       "      <td>NaN</td>\n",
       "      <td>2018</td>\n",
       "      <td>2018-10-24</td>\n",
       "      <td>../data/raw_source_files/justice.gov/eoir_adju...</td>\n",
       "    </tr>\n",
       "    <tr>\n",
       "      <th>1</th>\n",
       "      <td>ALBANIA</td>\n",
       "      <td>181.0</td>\n",
       "      <td>62.41%</td>\n",
       "      <td>55.0</td>\n",
       "      <td>18.97%</td>\n",
       "      <td>49.0</td>\n",
       "      <td>16.90%</td>\n",
       "      <td>5.0</td>\n",
       "      <td>1.72%</td>\n",
       "      <td>290.0</td>\n",
       "      <td>2018</td>\n",
       "      <td>2018-10-24</td>\n",
       "      <td>../data/raw_source_files/justice.gov/eoir_adju...</td>\n",
       "    </tr>\n",
       "    <tr>\n",
       "      <th>2</th>\n",
       "      <td>ALGERIA</td>\n",
       "      <td>NaN</td>\n",
       "      <td>NaN</td>\n",
       "      <td>NaN</td>\n",
       "      <td>NaN</td>\n",
       "      <td>NaN</td>\n",
       "      <td>NaN</td>\n",
       "      <td>NaN</td>\n",
       "      <td>NaN</td>\n",
       "      <td>NaN</td>\n",
       "      <td>2018</td>\n",
       "      <td>2018-10-24</td>\n",
       "      <td>../data/raw_source_files/justice.gov/eoir_adju...</td>\n",
       "    </tr>\n",
       "    <tr>\n",
       "      <th>3</th>\n",
       "      <td>ANGOLA</td>\n",
       "      <td>19.0</td>\n",
       "      <td>NaN</td>\n",
       "      <td>29.0</td>\n",
       "      <td>NaN</td>\n",
       "      <td>10.0</td>\n",
       "      <td>NaN</td>\n",
       "      <td>NaN</td>\n",
       "      <td>NaN</td>\n",
       "      <td>NaN</td>\n",
       "      <td>2018</td>\n",
       "      <td>2018-10-24</td>\n",
       "      <td>../data/raw_source_files/justice.gov/eoir_adju...</td>\n",
       "    </tr>\n",
       "    <tr>\n",
       "      <th>4</th>\n",
       "      <td>ANTIGUA AND\\rBARBUDA</td>\n",
       "      <td>NaN</td>\n",
       "      <td>NaN</td>\n",
       "      <td>NaN</td>\n",
       "      <td>NaN</td>\n",
       "      <td>NaN</td>\n",
       "      <td>NaN</td>\n",
       "      <td>NaN</td>\n",
       "      <td>NaN</td>\n",
       "      <td>NaN</td>\n",
       "      <td>2018</td>\n",
       "      <td>2018-10-24</td>\n",
       "      <td>../data/raw_source_files/justice.gov/eoir_adju...</td>\n",
       "    </tr>\n",
       "    <tr>\n",
       "      <th>...</th>\n",
       "      <td>...</td>\n",
       "      <td>...</td>\n",
       "      <td>...</td>\n",
       "      <td>...</td>\n",
       "      <td>...</td>\n",
       "      <td>...</td>\n",
       "      <td>...</td>\n",
       "      <td>...</td>\n",
       "      <td>...</td>\n",
       "      <td>...</td>\n",
       "      <td>...</td>\n",
       "      <td>...</td>\n",
       "      <td>...</td>\n",
       "    </tr>\n",
       "    <tr>\n",
       "      <th>1010</th>\n",
       "      <td>VENEZUELA</td>\n",
       "      <td>472.0</td>\n",
       "      <td>46%</td>\n",
       "      <td>199.0</td>\n",
       "      <td>19%</td>\n",
       "      <td>360.0</td>\n",
       "      <td>35%</td>\n",
       "      <td>NaN</td>\n",
       "      <td>NaN</td>\n",
       "      <td>1031.0</td>\n",
       "      <td>2021</td>\n",
       "      <td>2021-10-19</td>\n",
       "      <td>../data/raw_source_files/justice.gov/eoir_adju...</td>\n",
       "    </tr>\n",
       "    <tr>\n",
       "      <th>1011</th>\n",
       "      <td>VIETNAM</td>\n",
       "      <td>45.0</td>\n",
       "      <td>59%</td>\n",
       "      <td>17.0</td>\n",
       "      <td>22%</td>\n",
       "      <td>14.0</td>\n",
       "      <td>18%</td>\n",
       "      <td>NaN</td>\n",
       "      <td>NaN</td>\n",
       "      <td>76.0</td>\n",
       "      <td>2021</td>\n",
       "      <td>2021-10-19</td>\n",
       "      <td>../data/raw_source_files/justice.gov/eoir_adju...</td>\n",
       "    </tr>\n",
       "    <tr>\n",
       "      <th>1012</th>\n",
       "      <td>YEMEN</td>\n",
       "      <td>13.0</td>\n",
       "      <td>30%</td>\n",
       "      <td>13.0</td>\n",
       "      <td>30%</td>\n",
       "      <td>18.0</td>\n",
       "      <td>41%</td>\n",
       "      <td>NaN</td>\n",
       "      <td>NaN</td>\n",
       "      <td>44.0</td>\n",
       "      <td>2021</td>\n",
       "      <td>2021-10-19</td>\n",
       "      <td>../data/raw_source_files/justice.gov/eoir_adju...</td>\n",
       "    </tr>\n",
       "    <tr>\n",
       "      <th>1013</th>\n",
       "      <td>ZAMBIA</td>\n",
       "      <td>NaN</td>\n",
       "      <td>NaN</td>\n",
       "      <td>NaN</td>\n",
       "      <td>NaN</td>\n",
       "      <td>NaN</td>\n",
       "      <td>NaN</td>\n",
       "      <td>NaN</td>\n",
       "      <td>NaN</td>\n",
       "      <td>NaN</td>\n",
       "      <td>2021</td>\n",
       "      <td>2021-10-19</td>\n",
       "      <td>../data/raw_source_files/justice.gov/eoir_adju...</td>\n",
       "    </tr>\n",
       "    <tr>\n",
       "      <th>1014</th>\n",
       "      <td>ZIMBABWE</td>\n",
       "      <td>NaN</td>\n",
       "      <td>NaN</td>\n",
       "      <td>5.0</td>\n",
       "      <td>NaN</td>\n",
       "      <td>20.0</td>\n",
       "      <td>NaN</td>\n",
       "      <td>NaN</td>\n",
       "      <td>NaN</td>\n",
       "      <td>NaN</td>\n",
       "      <td>2021</td>\n",
       "      <td>2021-10-19</td>\n",
       "      <td>../data/raw_source_files/justice.gov/eoir_adju...</td>\n",
       "    </tr>\n",
       "  </tbody>\n",
       "</table>\n",
       "<p>1015 rows × 13 columns</p>\n",
       "</div>"
      ],
      "text/plain": [
       "               nationality  grants grant rate  denials denial rate  other  \\\n",
       "0              AFGHANISTAN    28.0        NaN     19.0         NaN   21.0   \n",
       "1                  ALBANIA   181.0     62.41%     55.0      18.97%   49.0   \n",
       "2                  ALGERIA     NaN        NaN      NaN         NaN    NaN   \n",
       "3                   ANGOLA    19.0        NaN     29.0         NaN   10.0   \n",
       "4     ANTIGUA AND\\rBARBUDA     NaN        NaN      NaN         NaN    NaN   \n",
       "...                    ...     ...        ...      ...         ...    ...   \n",
       "1010             VENEZUELA   472.0        46%    199.0         19%  360.0   \n",
       "1011               VIETNAM    45.0        59%     17.0         22%   14.0   \n",
       "1012                 YEMEN    13.0        30%     13.0         30%   18.0   \n",
       "1013                ZAMBIA     NaN        NaN      NaN         NaN    NaN   \n",
       "1014              ZIMBABWE     NaN        NaN      5.0         NaN   20.0   \n",
       "\n",
       "     other rate  admin closure admin closure rate   total fiscal_year  \\\n",
       "0           NaN            NaN                NaN     NaN        2018   \n",
       "1        16.90%            5.0              1.72%   290.0        2018   \n",
       "2           NaN            NaN                NaN     NaN        2018   \n",
       "3           NaN            NaN                NaN     NaN        2018   \n",
       "4           NaN            NaN                NaN     NaN        2018   \n",
       "...         ...            ...                ...     ...         ...   \n",
       "1010        35%            NaN                NaN  1031.0        2021   \n",
       "1011        18%            NaN                NaN    76.0        2021   \n",
       "1012        41%            NaN                NaN    44.0        2021   \n",
       "1013        NaN            NaN                NaN     NaN        2021   \n",
       "1014        NaN            NaN                NaN     NaN        2021   \n",
       "\n",
       "     generated_my                                           pdf_file  \n",
       "0      2018-10-24  ../data/raw_source_files/justice.gov/eoir_adju...  \n",
       "1      2018-10-24  ../data/raw_source_files/justice.gov/eoir_adju...  \n",
       "2      2018-10-24  ../data/raw_source_files/justice.gov/eoir_adju...  \n",
       "3      2018-10-24  ../data/raw_source_files/justice.gov/eoir_adju...  \n",
       "4      2018-10-24  ../data/raw_source_files/justice.gov/eoir_adju...  \n",
       "...           ...                                                ...  \n",
       "1010   2021-10-19  ../data/raw_source_files/justice.gov/eoir_adju...  \n",
       "1011   2021-10-19  ../data/raw_source_files/justice.gov/eoir_adju...  \n",
       "1012   2021-10-19  ../data/raw_source_files/justice.gov/eoir_adju...  \n",
       "1013   2021-10-19  ../data/raw_source_files/justice.gov/eoir_adju...  \n",
       "1014   2021-10-19  ../data/raw_source_files/justice.gov/eoir_adju...  \n",
       "\n",
       "[1015 rows x 13 columns]"
      ]
     },
     "execution_count": 29,
     "metadata": {},
     "output_type": "execute_result"
    }
   ],
   "source": [
    "all_data_df.generated_my = pd.to_datetime(all_data_df.generated_my)\n",
    "\n",
    "all_data_df"
   ]
  },
  {
   "cell_type": "markdown",
   "metadata": {},
   "source": [
    "**Now export the file to our `extracted_date/doj` directory**"
   ]
  },
  {
   "cell_type": "code",
   "execution_count": 30,
   "metadata": {
    "id": "zlsOecZcnRhb"
   },
   "outputs": [],
   "source": [
    "todays_date = time.strftime(\"%Y_%m_%d\")\n",
    "all_data_df.to_csv(\n",
    "    f\"../data/extracted_data/doj/doj_eoir_asylym_decisions_{todays_date}.csv\"\n",
    ")"
   ]
  },
  {
   "cell_type": "markdown",
   "metadata": {},
   "source": [
    "-------------"
   ]
  },
  {
   "cell_type": "markdown",
   "metadata": {},
   "source": [
    "# Appendix\n"
   ]
  },
  {
   "cell_type": "markdown",
   "metadata": {},
   "source": [
    "## Visualizations"
   ]
  },
  {
   "cell_type": "markdown",
   "metadata": {},
   "source": [
    "### A quick chart just for reference"
   ]
  },
  {
   "cell_type": "code",
   "execution_count": 31,
   "metadata": {
    "colab": {
     "base_uri": "https://localhost:8080/",
     "height": 392
    },
    "executionInfo": {
     "elapsed": 653,
     "status": "ok",
     "timestamp": 1636676345677,
     "user": {
      "displayName": "Michael Dowd",
      "photoUrl": "https://lh3.googleusercontent.com/a/default-user=s64",
      "userId": "00770521119407228668"
     },
     "user_tz": 480
    },
    "id": "sCzg-t90nRhb",
    "outputId": "30cf2b83-cae7-4eb1-ead9-19616037bc64",
    "scrolled": false
   },
   "outputs": [
    {
     "data": {
      "text/plain": [
       "<AxesSubplot:xlabel='generated_my'>"
      ]
     },
     "execution_count": 31,
     "metadata": {},
     "output_type": "execute_result"
    },
    {
     "data": {
      "image/png": "[encoded data removed]",
      "text/plain": [
       "<Figure size 432x288 with 1 Axes>"
      ]
     },
     "metadata": {
      "needs_background": "light"
     },
     "output_type": "display_data"
    }
   ],
   "source": [
    "all_data_df.groupby([\"generated_my\"])[numerics].sum().sort_index().plot(kind=\"bar\")"
   ]
  },
  {
   "cell_type": "markdown",
   "metadata": {},
   "source": [
    "## Additional Data Cleaning\n"
   ]
  },
  {
   "cell_type": "markdown",
   "metadata": {},
   "source": [
    "### Converting the `rate` columns to numeric\n",
    "\n",
    "* First isolate the rate columns into a list\n",
    "* Then iterate over those columns\n",
    "    * Convert to string, replace % and * and then make a number and divide by zero. "
   ]
  },
  {
   "cell_type": "code",
   "execution_count": 32,
   "metadata": {},
   "outputs": [],
   "source": [
    "# Note the space in front of ` rate` keeps is from also grabbing `generated_on`\n",
    "rate_columns = [i for i in all_data_df.columns if \" rate\" in i]\n",
    "for col in rate_columns:\n",
    "    # Make sure the column is of type string\n",
    "    all_data_df[col] = all_data_df[col].astype(str)\n",
    "    # replace '%' and '*' with \"\"\n",
    "    all_data_df[col] = (\n",
    "        all_data_df[col]\n",
    "        .str.replace(\"%\", \"\", regex=False)\n",
    "        .str.replace(\"*\", \"\", regex=False)\n",
    "    )\n",
    "    # then convert to a float number and divide by 100\n",
    "    all_data_df[col] = all_data_df[col].astype(float) / 100"
   ]
  },
  {
   "cell_type": "code",
   "execution_count": 33,
   "metadata": {
    "scrolled": true
   },
   "outputs": [
    {
     "data": {
      "text/html": [
       "<div>\n",
       "<style scoped>\n",
       "    .dataframe tbody tr th:only-of-type {\n",
       "        vertical-align: middle;\n",
       "    }\n",
       "\n",
       "    .dataframe tbody tr th {\n",
       "        vertical-align: top;\n",
       "    }\n",
       "\n",
       "    .dataframe thead th {\n",
       "        text-align: right;\n",
       "    }\n",
       "</style>\n",
       "<table border=\"1\" class=\"dataframe\">\n",
       "  <thead>\n",
       "    <tr style=\"text-align: right;\">\n",
       "      <th></th>\n",
       "      <th>nationality</th>\n",
       "      <th>grants</th>\n",
       "      <th>grant rate</th>\n",
       "      <th>denials</th>\n",
       "      <th>denial rate</th>\n",
       "      <th>other</th>\n",
       "      <th>other rate</th>\n",
       "      <th>admin closure</th>\n",
       "      <th>admin closure rate</th>\n",
       "      <th>total</th>\n",
       "      <th>fiscal_year</th>\n",
       "      <th>generated_my</th>\n",
       "      <th>pdf_file</th>\n",
       "    </tr>\n",
       "  </thead>\n",
       "  <tbody>\n",
       "    <tr>\n",
       "      <th>0</th>\n",
       "      <td>AFGHANISTAN</td>\n",
       "      <td>28.0</td>\n",
       "      <td>NaN</td>\n",
       "      <td>19.0</td>\n",
       "      <td>NaN</td>\n",
       "      <td>21.0</td>\n",
       "      <td>NaN</td>\n",
       "      <td>NaN</td>\n",
       "      <td>NaN</td>\n",
       "      <td>NaN</td>\n",
       "      <td>2018</td>\n",
       "      <td>2018-10-24</td>\n",
       "      <td>../data/raw_source_files/justice.gov/eoir_adju...</td>\n",
       "    </tr>\n",
       "    <tr>\n",
       "      <th>1</th>\n",
       "      <td>ALBANIA</td>\n",
       "      <td>181.0</td>\n",
       "      <td>0.6241</td>\n",
       "      <td>55.0</td>\n",
       "      <td>0.1897</td>\n",
       "      <td>49.0</td>\n",
       "      <td>0.169</td>\n",
       "      <td>5.0</td>\n",
       "      <td>0.0172</td>\n",
       "      <td>290.0</td>\n",
       "      <td>2018</td>\n",
       "      <td>2018-10-24</td>\n",
       "      <td>../data/raw_source_files/justice.gov/eoir_adju...</td>\n",
       "    </tr>\n",
       "    <tr>\n",
       "      <th>2</th>\n",
       "      <td>ALGERIA</td>\n",
       "      <td>NaN</td>\n",
       "      <td>NaN</td>\n",
       "      <td>NaN</td>\n",
       "      <td>NaN</td>\n",
       "      <td>NaN</td>\n",
       "      <td>NaN</td>\n",
       "      <td>NaN</td>\n",
       "      <td>NaN</td>\n",
       "      <td>NaN</td>\n",
       "      <td>2018</td>\n",
       "      <td>2018-10-24</td>\n",
       "      <td>../data/raw_source_files/justice.gov/eoir_adju...</td>\n",
       "    </tr>\n",
       "    <tr>\n",
       "      <th>3</th>\n",
       "      <td>ANGOLA</td>\n",
       "      <td>19.0</td>\n",
       "      <td>NaN</td>\n",
       "      <td>29.0</td>\n",
       "      <td>NaN</td>\n",
       "      <td>10.0</td>\n",
       "      <td>NaN</td>\n",
       "      <td>NaN</td>\n",
       "      <td>NaN</td>\n",
       "      <td>NaN</td>\n",
       "      <td>2018</td>\n",
       "      <td>2018-10-24</td>\n",
       "      <td>../data/raw_source_files/justice.gov/eoir_adju...</td>\n",
       "    </tr>\n",
       "    <tr>\n",
       "      <th>4</th>\n",
       "      <td>ANTIGUA AND\\rBARBUDA</td>\n",
       "      <td>NaN</td>\n",
       "      <td>NaN</td>\n",
       "      <td>NaN</td>\n",
       "      <td>NaN</td>\n",
       "      <td>NaN</td>\n",
       "      <td>NaN</td>\n",
       "      <td>NaN</td>\n",
       "      <td>NaN</td>\n",
       "      <td>NaN</td>\n",
       "      <td>2018</td>\n",
       "      <td>2018-10-24</td>\n",
       "      <td>../data/raw_source_files/justice.gov/eoir_adju...</td>\n",
       "    </tr>\n",
       "    <tr>\n",
       "      <th>...</th>\n",
       "      <td>...</td>\n",
       "      <td>...</td>\n",
       "      <td>...</td>\n",
       "      <td>...</td>\n",
       "      <td>...</td>\n",
       "      <td>...</td>\n",
       "      <td>...</td>\n",
       "      <td>...</td>\n",
       "      <td>...</td>\n",
       "      <td>...</td>\n",
       "      <td>...</td>\n",
       "      <td>...</td>\n",
       "      <td>...</td>\n",
       "    </tr>\n",
       "    <tr>\n",
       "      <th>1010</th>\n",
       "      <td>VENEZUELA</td>\n",
       "      <td>472.0</td>\n",
       "      <td>0.4600</td>\n",
       "      <td>199.0</td>\n",
       "      <td>0.1900</td>\n",
       "      <td>360.0</td>\n",
       "      <td>0.350</td>\n",
       "      <td>NaN</td>\n",
       "      <td>NaN</td>\n",
       "      <td>1031.0</td>\n",
       "      <td>2021</td>\n",
       "      <td>2021-10-19</td>\n",
       "      <td>../data/raw_source_files/justice.gov/eoir_adju...</td>\n",
       "    </tr>\n",
       "    <tr>\n",
       "      <th>1011</th>\n",
       "      <td>VIETNAM</td>\n",
       "      <td>45.0</td>\n",
       "      <td>0.5900</td>\n",
       "      <td>17.0</td>\n",
       "      <td>0.2200</td>\n",
       "      <td>14.0</td>\n",
       "      <td>0.180</td>\n",
       "      <td>NaN</td>\n",
       "      <td>NaN</td>\n",
       "      <td>76.0</td>\n",
       "      <td>2021</td>\n",
       "      <td>2021-10-19</td>\n",
       "      <td>../data/raw_source_files/justice.gov/eoir_adju...</td>\n",
       "    </tr>\n",
       "    <tr>\n",
       "      <th>1012</th>\n",
       "      <td>YEMEN</td>\n",
       "      <td>13.0</td>\n",
       "      <td>0.3000</td>\n",
       "      <td>13.0</td>\n",
       "      <td>0.3000</td>\n",
       "      <td>18.0</td>\n",
       "      <td>0.410</td>\n",
       "      <td>NaN</td>\n",
       "      <td>NaN</td>\n",
       "      <td>44.0</td>\n",
       "      <td>2021</td>\n",
       "      <td>2021-10-19</td>\n",
       "      <td>../data/raw_source_files/justice.gov/eoir_adju...</td>\n",
       "    </tr>\n",
       "    <tr>\n",
       "      <th>1013</th>\n",
       "      <td>ZAMBIA</td>\n",
       "      <td>NaN</td>\n",
       "      <td>NaN</td>\n",
       "      <td>NaN</td>\n",
       "      <td>NaN</td>\n",
       "      <td>NaN</td>\n",
       "      <td>NaN</td>\n",
       "      <td>NaN</td>\n",
       "      <td>NaN</td>\n",
       "      <td>NaN</td>\n",
       "      <td>2021</td>\n",
       "      <td>2021-10-19</td>\n",
       "      <td>../data/raw_source_files/justice.gov/eoir_adju...</td>\n",
       "    </tr>\n",
       "    <tr>\n",
       "      <th>1014</th>\n",
       "      <td>ZIMBABWE</td>\n",
       "      <td>NaN</td>\n",
       "      <td>NaN</td>\n",
       "      <td>5.0</td>\n",
       "      <td>NaN</td>\n",
       "      <td>20.0</td>\n",
       "      <td>NaN</td>\n",
       "      <td>NaN</td>\n",
       "      <td>NaN</td>\n",
       "      <td>NaN</td>\n",
       "      <td>2021</td>\n",
       "      <td>2021-10-19</td>\n",
       "      <td>../data/raw_source_files/justice.gov/eoir_adju...</td>\n",
       "    </tr>\n",
       "  </tbody>\n",
       "</table>\n",
       "<p>1015 rows × 13 columns</p>\n",
       "</div>"
      ],
      "text/plain": [
       "               nationality  grants  grant rate  denials  denial rate  other  \\\n",
       "0              AFGHANISTAN    28.0         NaN     19.0          NaN   21.0   \n",
       "1                  ALBANIA   181.0      0.6241     55.0       0.1897   49.0   \n",
       "2                  ALGERIA     NaN         NaN      NaN          NaN    NaN   \n",
       "3                   ANGOLA    19.0         NaN     29.0          NaN   10.0   \n",
       "4     ANTIGUA AND\\rBARBUDA     NaN         NaN      NaN          NaN    NaN   \n",
       "...                    ...     ...         ...      ...          ...    ...   \n",
       "1010             VENEZUELA   472.0      0.4600    199.0       0.1900  360.0   \n",
       "1011               VIETNAM    45.0      0.5900     17.0       0.2200   14.0   \n",
       "1012                 YEMEN    13.0      0.3000     13.0       0.3000   18.0   \n",
       "1013                ZAMBIA     NaN         NaN      NaN          NaN    NaN   \n",
       "1014              ZIMBABWE     NaN         NaN      5.0          NaN   20.0   \n",
       "\n",
       "      other rate  admin closure  admin closure rate   total fiscal_year  \\\n",
       "0            NaN            NaN                 NaN     NaN        2018   \n",
       "1          0.169            5.0              0.0172   290.0        2018   \n",
       "2            NaN            NaN                 NaN     NaN        2018   \n",
       "3            NaN            NaN                 NaN     NaN        2018   \n",
       "4            NaN            NaN                 NaN     NaN        2018   \n",
       "...          ...            ...                 ...     ...         ...   \n",
       "1010       0.350            NaN                 NaN  1031.0        2021   \n",
       "1011       0.180            NaN                 NaN    76.0        2021   \n",
       "1012       0.410            NaN                 NaN    44.0        2021   \n",
       "1013         NaN            NaN                 NaN     NaN        2021   \n",
       "1014         NaN            NaN                 NaN     NaN        2021   \n",
       "\n",
       "     generated_my                                           pdf_file  \n",
       "0      2018-10-24  ../data/raw_source_files/justice.gov/eoir_adju...  \n",
       "1      2018-10-24  ../data/raw_source_files/justice.gov/eoir_adju...  \n",
       "2      2018-10-24  ../data/raw_source_files/justice.gov/eoir_adju...  \n",
       "3      2018-10-24  ../data/raw_source_files/justice.gov/eoir_adju...  \n",
       "4      2018-10-24  ../data/raw_source_files/justice.gov/eoir_adju...  \n",
       "...           ...                                                ...  \n",
       "1010   2021-10-19  ../data/raw_source_files/justice.gov/eoir_adju...  \n",
       "1011   2021-10-19  ../data/raw_source_files/justice.gov/eoir_adju...  \n",
       "1012   2021-10-19  ../data/raw_source_files/justice.gov/eoir_adju...  \n",
       "1013   2021-10-19  ../data/raw_source_files/justice.gov/eoir_adju...  \n",
       "1014   2021-10-19  ../data/raw_source_files/justice.gov/eoir_adju...  \n",
       "\n",
       "[1015 rows x 13 columns]"
      ]
     },
     "execution_count": 33,
     "metadata": {},
     "output_type": "execute_result"
    }
   ],
   "source": [
    "all_data_df"
   ]
  },
  {
   "cell_type": "markdown",
   "metadata": {
    "id": "xivqiogvnRhb"
   },
   "source": [
    "# End"
   ]
  }
 ],
 "metadata": {
  "colab": {
   "collapsed_sections": [],
   "name": "DOJ asylum decisions by nationality.ipynb",
   "provenance": [
    {
     "file_id": "19hgRwWKhP_tUehNk9rfnjjb1HzsSZWxD",
     "timestamp": 1636057297358
    }
   ]
  },
  "hide_input": false,
  "kernelspec": {
   "display_name": "Python 3",
   "language": "python",
   "name": "python3"
  },
  "language_info": {
   "codemirror_mode": {
    "name": "ipython",
    "version": 3
   },
   "file_extension": ".py",
   "mimetype": "text/x-python",
   "name": "python",
   "nbconvert_exporter": "python",
   "pygments_lexer": "ipython3",
   "version": "3.8.5"
  }
 },
 "nbformat": 4,
 "nbformat_minor": 1
}
