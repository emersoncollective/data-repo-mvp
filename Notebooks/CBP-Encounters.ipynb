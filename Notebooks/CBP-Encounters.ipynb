{
 "cells": [
  {
   "cell_type": "markdown",
   "metadata": {
    "deletable": false,
    "editable": false,
    "id": "gmwhK48Akq-_"
   },
   "source": [
    "# CBP Southwest Land Border Encounters\n",
    "**Data Source:** [CBP Southwest Land Border Encounters](https://www.cbp.gov/newsroom/stats/southwest-land-border-encounters) <br>\n",
    "**Download the Output:** [here](../data/extracted_data/cbp-apprehensions)\n",
    "\n",
    "\n",
    "## Overview \n",
    "\n",
    "This notebook provides functionality to \"scrape\" or extract all data from the Tableau dashboards on the **CBP Southwest Land Border Encounters** page. \n",
    "\n",
    "This page contains two dashboards:\n",
    "* Dashboard 1 contains information on FY Southwest Land Border Encounters \n",
    "* Dashboard 2 contains information on Us Border Patrol and Office of Field Operations Encounters. \n",
    "\n",
    "\n",
    "We will show how to scrape both dashboards. \n",
    "**Dashboard 1**\n",
    "<img src=\"../misc/images/cbp_encounters_dash1.png\" width=500 height=400 />\n",
    "**Dashboard 2**\n",
    "<img src=\"../misc/images/cbp_encounters_dash2.png\" width=500 height=400 />\n",
    "\n",
    "\n",
    "CBP does not provide this data in a spreadsheet format nor does it enable download of the data through the embedded Tableau chart. Therefore this code was developed to pull down all the data included every data point that exists with every possible combination of filters. \n",
    "\n",
    "**Please note:** When using the **data outputs** of this notebook for analysis or exploration that you will likely need to filter the data based available columns. The columns are based on the filter options in the tableau dashboards.\n",
    "\n",
    "## Technical Approach\n",
    "\n",
    "We use Python along with the [TableauScraper](https://github.com/bertrandmartel/tableau-scraping) Python library to extract all data from the Tableau dashboards. These dashboards have many filters that provide different slices of data. We will use code to request all possible slices and then combine that data into a single dataframe (or table) and save it out to csv. \n",
    "\n",
    "## Skills Learned\n",
    "* How to download data from Tableau dashboard that doesn't not allow you to directly download data. \n",
    "\n",
    "## The Code "
   ]
  },
  {
   "cell_type": "markdown",
   "metadata": {
    "deletable": false,
    "editable": false
   },
   "source": [
    "**PLEASE NOTE**: We have made this notebook READ only to ensure you receive all updates we make to it. Do not edit this notebook directly, create a copy instead.\n",
    "\n",
    "To customize and experiment with this notebook:\n",
    "1. Create a copy: `Select File -> Make a Copy` at the top-left of the notebook\n",
    "2. Unlock cells in your copy: Press `CMD + A` on your keyboard to select all cells, then click the small unlocked padlock button near the mid-top right of the notebook.\n"
   ]
  },
  {
   "cell_type": "code",
   "execution_count": 4,
   "metadata": {
    "deletable": false,
    "editable": false,
    "executionInfo": {
     "elapsed": 376,
     "status": "ok",
     "timestamp": 1636674060021,
     "user": {
      "displayName": "Michael Dowd",
      "photoUrl": "https://lh3.googleusercontent.com/a/default-user=s64",
      "userId": "00770521119407228668"
     },
     "user_tz": 480
    },
    "id": "Mit8G6Z0kq_H"
   },
   "outputs": [],
   "source": [
    "# Import helper python libraries\n",
    "from tableauscraper import TableauScraper as TS\n",
    "import itertools\n",
    "import logging\n",
    "import time\n",
    "import pprint\n",
    "import pandas as pd\n",
    "\n",
    "import requests\n",
    "from bs4 import BeautifulSoup\n",
    "import urllib\n",
    "from urllib.parse import unquote\n",
    "\n",
    "\n",
    "pp = pprint.PrettyPrinter(indent=4)\n",
    "import logging.config\n",
    "\n",
    "logging.config.dictConfig(\n",
    "    {\n",
    "        \"version\": 1,\n",
    "        \"disable_existing_loggers\": True,\n",
    "    }\n",
    ")"
   ]
  },
  {
   "cell_type": "markdown",
   "metadata": {
    "deletable": false,
    "editable": false
   },
   "source": [
    "------------\n",
    "------------"
   ]
  },
  {
   "cell_type": "markdown",
   "metadata": {
    "deletable": false,
    "editable": false
   },
   "source": [
    "## 1. Getting the Dashboard URLs\n",
    "\n",
    "The Tableau dashboards on the CBP page are embedded in the CBP web page. The dashboards themselves are hosted by Tableau, so we need to get the actual link to the dashboard, not the link to the website where they are embedded. \n",
    " (This is sort of confusing) \n",
    "\n",
    "### 1a. With Code\n",
    "\n",
    "Below we use some code to extract the URLs that are for dashboards on the site. We use a web scraping library called Beautiful Soup to extract information from the web page. "
   ]
  },
  {
   "cell_type": "code",
   "execution_count": 5,
   "metadata": {
    "deletable": false,
    "editable": false
   },
   "outputs": [
    {
     "name": "stdout",
     "output_type": "stream",
     "text": [
      "1 https://publicstats.cbp.gov/t/PublicFacing/views/CBPSBOEnforcementActionsDashboardsOCTFY22/SBOEncounters10935\n",
      "2 https://publicstats.cbp.gov/t/PublicFacing/views/CBPSBOEnforcementActionsDashboardsOCTFY22/SBObyMonthDemo10935\n"
     ]
    }
   ],
   "source": [
    "def get_tableau_dashboard_url_from_tableau_placeholder(item):\n",
    "    \"\"\"\n",
    "    Takes an item with a class of tableauPlaceholder and returns a valid url for a dashboard\n",
    "\n",
    "    Parameters:\n",
    "        item: Beautiful soup item with class of tableauPlaceholder\n",
    "\n",
    "    Returns:\n",
    "        A valid url for a Tableau dashboard\n",
    "    \"\"\"\n",
    "    url = unquote(item.find(\"param\", {\"name\": \"host_url\"})[\"value\"]).strip(\"/\")\n",
    "    url += (\n",
    "        \"/\"\n",
    "        + unquote(item.find(\"param\", {\"name\": \"site_root\"})[\"value\"]).strip(\"/\")\n",
    "        + \"/views\"\n",
    "    )\n",
    "    url += \"/\" + unquote(item.find(\"param\", {\"name\": \"name\"})[\"value\"]).strip(\"/\")\n",
    "    return url\n",
    "\n",
    "\n",
    "# Below we take the URL of the CPB webpage, and search for tableaPlaceholder elements in the\n",
    "# webpage background information.\n",
    "url = \"https://www.cbp.gov/newsroom/stats/southwest-land-border-encounters\"\n",
    "reqs = requests.get(url)  # get the URL's data\n",
    "soup = BeautifulSoup(reqs.text, \"html.parser\")  # parse it with Beautifulsoup\n",
    "\n",
    "# Find the tableauPlaceholder divs and get the dashboard URLs\n",
    "for idx, item in enumerate(soup.find_all(\"div\", {\"class\": \"tableauPlaceholder\"})):\n",
    "    print(idx + 1, get_tableau_dashboard_url_from_tableau_placeholder(item))"
   ]
  },
  {
   "cell_type": "markdown",
   "metadata": {
    "deletable": false,
    "editable": false
   },
   "source": [
    "And there we go - we have two links for the two dashboards on the CBP page. \n",
    "\n",
    "Now there is another way to find these links that will work more consistently across different websites, so we will also show how to find the links manually with developer tools. \n",
    "\n",
    "----------\n",
    "\n",
    "### 1b. With Developer Tools\n",
    "\n",
    "\n",
    "To do this you must access the Developer Tools in your web browser. For Google Chrome you can click on \n",
    "\n",
    "**View --> Developer --> Developer Tools**\n",
    "\n",
    "See the bottom of the image below to see what the developer tools may look like. Note that the display may open to the right of your screen or the bottom. The developer tools let us look at the source information of the page. Web page source info provides the instructions/information a browser needs to display the web page. Buried in that information is the actual true link of the Tableau dashboards.  \n",
    "\n",
    "Let's get those links\n",
    "\n",
    "<img src=\"../misc/images/chrome_dev_tools1.png\"  />\n",
    "\n",
    "Once you have **devtools** open you can click on the **Elements** button and then the small arrow in a box. \n",
    "\n",
    "<img src=\"../misc/images/chrome_devtools2.png\"  />\n",
    "\n",
    "Once selected **click** near the top of the Tableau dashboard. This will highlight the dashboard element in the page source. \n",
    "\n",
    "<img src=\"../misc/images/chrome_devtools_3.png\"  />\n",
    "\n",
    "<br>\n",
    "In the dev tools window and scroll up (or possibly down) and look for a URL. \n",
    "\n",
    "**See below - the part that says `https://publicstats....` this is the actual URL to the first dashboard**\n",
    "\n",
    "<img src=\"../misc/images/chrome_devtools_4_url.png\"  />\n",
    "\n",
    "Copy everything up to `isGuestRedirectFromVizportal` - then you have your URL, you can repeat for the second URL "
   ]
  },
  {
   "cell_type": "markdown",
   "metadata": {
    "deletable": false,
    "editable": false
   },
   "source": [
    "----------------------------\n",
    "------------------------"
   ]
  },
  {
   "cell_type": "markdown",
   "metadata": {
    "deletable": false,
    "editable": false
   },
   "source": [
    "## 2. Scraping Dashboards"
   ]
  },
  {
   "cell_type": "markdown",
   "metadata": {
    "deletable": false,
    "editable": false
   },
   "source": [
    "### 2a. Get data from Dashboard 1"
   ]
  },
  {
   "cell_type": "code",
   "execution_count": 6,
   "metadata": {
    "deletable": false,
    "editable": false,
    "executionInfo": {
     "elapsed": 154,
     "status": "ok",
     "timestamp": 1636674065136,
     "user": {
      "displayName": "Michael Dowd",
      "photoUrl": "https://lh3.googleusercontent.com/a/default-user=s64",
      "userId": "00770521119407228668"
     },
     "user_tz": 480
    },
    "id": "P-n7Pzfqkq_K"
   },
   "outputs": [],
   "source": [
    "dashboard1_url = \"https://publicstats.cbp.gov/t/PublicFacing/views/CBPSBOEnforcementActionsDashboardsOCTFY22/SBOEncounters10935\""
   ]
  },
  {
   "cell_type": "markdown",
   "metadata": {
    "deletable": false,
    "editable": false,
    "id": "1rgUgY_fkq_L"
   },
   "source": [
    "Here we activate (instantiate is the technical term) the TableauScraper library and then load data from the dashboard URL. "
   ]
  },
  {
   "cell_type": "code",
   "execution_count": 131,
   "metadata": {
    "deletable": false,
    "editable": false,
    "executionInfo": {
     "elapsed": 2097,
     "status": "ok",
     "timestamp": 1636674071427,
     "user": {
      "displayName": "Michael Dowd",
      "photoUrl": "https://lh3.googleusercontent.com/a/default-user=s64",
      "userId": "00770521119407228668"
     },
     "user_tz": 480
    },
    "id": "TiTqSPsakq_M"
   },
   "outputs": [],
   "source": [
    "# Create a tableau scraper object\n",
    "ts = TS()\n",
    "\n",
    "# Pass the CBP dashboard URL to the tableau scraper object, which will then grab the data from the dashboard\n",
    "ts.loads(dashboard1_url)"
   ]
  },
  {
   "cell_type": "markdown",
   "metadata": {
    "deletable": false,
    "editable": false
   },
   "source": [
    "**NOTE**: Comments below refer to the first dashboard primarily, but all this code can be applied to the second dashboard as well. \n",
    "\n",
    "\n",
    "Tableau dashboards are generally made up of multiple visualizations all combined into a single dashboard. For the first CBP dashboard we have drop down filters at the top, then a line chart and then a table. Behind the scenes there may be even granularity such as a specific visualization just for the totals column etc. \n",
    "\n",
    "For our purposes we need to identify 2 main things ... \n",
    "1. What part of the visualization do we want to extract data from \n",
    "2. Which part of the visualization are the filter drop downs linked to. \n",
    "\n",
    "The first part is pretty straightforward, for the first dashboard we want to extract the table data (though the line data is basically the same as well , just seen as a line chart). \n",
    "\n",
    "\n",
    "Let's us the `ts` object we created above and see what different components make up the first dashboard. "
   ]
  },
  {
   "cell_type": "code",
   "execution_count": 132,
   "metadata": {
    "deletable": false,
    "editable": false
   },
   "outputs": [
    {
     "name": "stdout",
     "output_type": "stream",
     "text": [
      "SBO FYTD Comparison\n",
      "SBO Line Graph\n",
      "SBO Reset\n",
      "SBO Table\n",
      "SBO Total Only\n"
     ]
    }
   ],
   "source": [
    "def print_worksheets(ts):\n",
    "    for t in ts.getWorkbook().worksheets:\n",
    "        print(t.name)\n",
    "\n",
    "\n",
    "print_worksheets(ts)"
   ]
  },
  {
   "cell_type": "markdown",
   "metadata": {
    "deletable": false,
    "editable": false
   },
   "source": [
    "So we have 5 different parts, (so confusing ! ). But Looking at these items we can guess that the `SBO Table` is the primary table and that the `SBO Line Graph` is the primary line chart. The rest are totals, and other smaller components. \n",
    "\n",
    "So going back to finding the filters..  The CBP tableau dashboards have different filters available for the user to apply, the filters linked to one of these specific visualization elements. \n",
    "\n",
    "Let's apply some code to see which of the elements has filters attached to it, thankfully **the filter will apply to all elements** so if even if it lives on a different element than we want it will likely apply to the element we do want."
   ]
  },
  {
   "cell_type": "code",
   "execution_count": 133,
   "metadata": {
    "deletable": false,
    "editable": false,
    "executionInfo": {
     "elapsed": 163,
     "status": "ok",
     "timestamp": 1636674266799,
     "user": {
      "displayName": "Michael Dowd",
      "photoUrl": "https://lh3.googleusercontent.com/a/default-user=s64",
      "userId": "00770521119407228668"
     },
     "user_tz": 480
    },
    "id": "2VeueHOa8l1L"
   },
   "outputs": [],
   "source": [
    "def find_filters_worksheet(ts):\n",
    "\n",
    "    \"\"\"\n",
    "    Function to search the dashboard to find the worksheet that manages\n",
    "    the filters that are avaiable on the dashboard.\n",
    "    \"\"\"\n",
    "    workbook = ts.getWorkbook()\n",
    "    filters_ws = None\n",
    "    wb_names = []\n",
    "    for t in workbook.worksheets:\n",
    "        filters = t.getFilters()\n",
    "        if len(filters) > 0:\n",
    "            print(\"-\" * 90)\n",
    "            print(\n",
    "                f\"Filters Presesnt on element name --> {t.name}\"\n",
    "            )  # show worksheet name\n",
    "            pp.pprint(filters)  # show dataframe for this worksheet\n",
    "            filters_ws = t.name\n",
    "            print(\"-\" * 90)\n",
    "        else:\n",
    "            print(\"\\nno filters found on element --> \", t.name)\n",
    "\n",
    "        wb_names.append(t.name)\n",
    "    return filters_ws, wb_names"
   ]
  },
  {
   "cell_type": "markdown",
   "metadata": {
    "deletable": false,
    "editable": false
   },
   "source": [
    "**So now let's search the dashboard for filters**"
   ]
  },
  {
   "cell_type": "code",
   "execution_count": 134,
   "metadata": {
    "colab": {
     "base_uri": "https://localhost:8080/"
    },
    "deletable": false,
    "editable": false,
    "executionInfo": {
     "elapsed": 4,
     "status": "ok",
     "timestamp": 1636674267358,
     "user": {
      "displayName": "Michael Dowd",
      "photoUrl": "https://lh3.googleusercontent.com/a/default-user=s64",
      "userId": "00770521119407228668"
     },
     "user_tz": 480
    },
    "id": "i9_fyT68U4fu",
    "outputId": "7f018ed9-d480-4d2e-932d-3e537c980bac"
   },
   "outputs": [
    {
     "name": "stdout",
     "output_type": "stream",
     "text": [
      "\n",
      "no filters found on element -->  SBO FYTD Comparison\n",
      "------------------------------------------------------------------------------------------\n",
      "Filters Presesnt on element name --> SBO Line Graph\n",
      "[   {   'column': 'Citizenship Grouping',\n",
      "        'globalFieldName': '[federated.1xhccc00nlacbx14ajs101w1uee1].[none:Citizenship '\n",
      "                           'Grouping:nk]',\n",
      "        'ordinal': 0,\n",
      "        'selection': [   'El Salvador',\n",
      "                         'Guatemala',\n",
      "                         'Honduras',\n",
      "                         'Mexico',\n",
      "                         'Other',\n",
      "                         'all'],\n",
      "        'selectionAlt': [   {   'columnFullNames': ['[Citizenship Grouping]'],\n",
      "                                'domainTables': [   {   'isSelected': True,\n",
      "                                                        'label': 'El '\n",
      "                                                                 'Salvador'}],\n",
      "                                'fn': '[federated.1xhccc00nlacbx14ajs101w1uee1].[none:Citizenship '\n",
      "                                      'Grouping:nk]'}],\n",
      "        'values': ['El Salvador', 'Guatemala', 'Honduras', 'Mexico', 'Other']},\n",
      "    {   'column': 'Component',\n",
      "        'globalFieldName': '[federated.1xhccc00nlacbx14ajs101w1uee1].[none:Component:nk]',\n",
      "        'ordinal': 0,\n",
      "        'selection': [   'Office of Field Operations',\n",
      "                         'U.S. Border Patrol',\n",
      "                         'all'],\n",
      "        'selectionAlt': [   {   'columnFullNames': ['[Component]'],\n",
      "                                'domainTables': [   {   'isSelected': True,\n",
      "                                                        'label': 'Office of '\n",
      "                                                                 'Field '\n",
      "                                                                 'Operations'}],\n",
      "                                'fn': '[federated.1xhccc00nlacbx14ajs101w1uee1].[none:Component:nk]'}],\n",
      "        'values': ['Office of Field Operations', 'U.S. Border Patrol']},\n",
      "    {   'column': 'Demographic',\n",
      "        'globalFieldName': '[federated.1xhccc00nlacbx14ajs101w1uee1].[none:Demographic:nk]',\n",
      "        'ordinal': 0,\n",
      "        'selection': [   'Accompanied Minors',\n",
      "                         'FMUA',\n",
      "                         'Single Adults',\n",
      "                         'UC / Single Minors',\n",
      "                         'all'],\n",
      "        'selectionAlt': [   {   'columnFullNames': ['[Demographic]'],\n",
      "                                'domainTables': [   {   'isSelected': True,\n",
      "                                                        'label': 'AM'}],\n",
      "                                'fn': '[federated.1xhccc00nlacbx14ajs101w1uee1].[none:Demographic:nk]'}],\n",
      "        'values': [   'Accompanied Minors',\n",
      "                      'FMUA',\n",
      "                      'Single Adults',\n",
      "                      'UC / Single Minors']},\n",
      "    {   'column': 'Fiscal Year',\n",
      "        'globalFieldName': '[federated.1xhccc00nlacbx14ajs101w1uee1].[none:Fiscal '\n",
      "                           'Year:nk]',\n",
      "        'ordinal': 0,\n",
      "        'selection': ['2019', '2020', '2021', '2022 (FYTD)', 'all'],\n",
      "        'selectionAlt': [   {   'columnFullNames': ['[Fiscal Year]'],\n",
      "                                'domainTables': [   {   'isSelected': True,\n",
      "                                                        'label': '2019'}],\n",
      "                                'fn': '[federated.1xhccc00nlacbx14ajs101w1uee1].[none:Fiscal '\n",
      "                                      'Year:nk]'}],\n",
      "        'values': ['2019', '2020', '2021', '2022 (FYTD)']},\n",
      "    {   'column': 'Title of Authority',\n",
      "        'globalFieldName': '[federated.1xhccc00nlacbx14ajs101w1uee1].[none:Title '\n",
      "                           'of Authority:nk]',\n",
      "        'ordinal': 0,\n",
      "        'selection': ['Title 8', 'Title 42', 'all'],\n",
      "        'selectionAlt': [   {   'columnFullNames': ['[Title of Authority]'],\n",
      "                                'domainTables': [   {   'isSelected': True,\n",
      "                                                        'label': 'Title 8'}],\n",
      "                                'fn': '[federated.1xhccc00nlacbx14ajs101w1uee1].[none:Title '\n",
      "                                      'of Authority:nk]'}],\n",
      "        'values': ['Title 8', 'Title 42']}]\n",
      "------------------------------------------------------------------------------------------\n",
      "\n",
      "no filters found on element -->  SBO Reset\n",
      "\n",
      "no filters found on element -->  SBO Table\n",
      "\n",
      "no filters found on element -->  SBO Total Only\n"
     ]
    }
   ],
   "source": [
    "filters_ws, wb_names = find_filters_worksheet(ts)"
   ]
  },
  {
   "cell_type": "markdown",
   "metadata": {
    "deletable": false,
    "editable": false,
    "id": "GDrZTQ4mkq_N"
   },
   "source": [
    "Above we can see which element has the filters, using the first dashboard the filters are on the `SBO Line Graph` element (if using the second URL the filters are on the `All MoM Change Podium` element).\n",
    "\n",
    " The `filters_ws` holds the value for which worksheet has the filters and saves it automatically. "
   ]
  },
  {
   "cell_type": "code",
   "execution_count": 135,
   "metadata": {
    "colab": {
     "base_uri": "https://localhost:8080/"
    },
    "deletable": false,
    "editable": false,
    "executionInfo": {
     "elapsed": 218,
     "status": "ok",
     "timestamp": 1636674276804,
     "user": {
      "displayName": "Michael Dowd",
      "photoUrl": "https://lh3.googleusercontent.com/a/default-user=s64",
      "userId": "00770521119407228668"
     },
     "user_tz": 480
    },
    "id": "RottTeu6Wb53",
    "outputId": "473a477e-1279-4115-b15e-9fd960d27847"
   },
   "outputs": [
    {
     "name": "stdout",
     "output_type": "stream",
     "text": [
      "SBO Line Graph\n"
     ]
    }
   ],
   "source": [
    "print(filters_ws)"
   ]
  },
  {
   "cell_type": "markdown",
   "metadata": {
    "deletable": false,
    "editable": false
   },
   "source": [
    "#### Extract the Data\n",
    "\n",
    "So now that we know which part of the dashboard we want to extract data from and which part has the filters information we can extract all the data with all the different filter combinations automatically into one spreadsheet. \n",
    "\n",
    "Imagine how long this would take to do manually :) "
   ]
  },
  {
   "cell_type": "code",
   "execution_count": 136,
   "metadata": {
    "deletable": false,
    "editable": false,
    "executionInfo": {
     "elapsed": 167,
     "status": "ok",
     "timestamp": 1636674282173,
     "user": {
      "displayName": "Michael Dowd",
      "photoUrl": "https://lh3.googleusercontent.com/a/default-user=s64",
      "userId": "00770521119407228668"
     },
     "user_tz": 480
    },
    "id": "6MkgdK0E8sUt"
   },
   "outputs": [],
   "source": [
    "def unpack_filter_information(ts, filters_ws, skip_filter=[]):\n",
    "\n",
    "    \"\"\"\n",
    "    Function process filters and return object of information on those filters,\n",
    "    on all the combinations, columns names, and other useful information.\n",
    "\n",
    "    skip_filter: is a list with column names that should be skipped, you are likley\n",
    "    skipping columns because the you do not need to apply that filter.\n",
    "\n",
    "    returns dictionary\n",
    "    \"\"\"\n",
    "\n",
    "    # Specifically ask for the Line Graph since it has the filters\n",
    "    ws = ts.getWorksheet(filters_ws)\n",
    "\n",
    "    # Get the different filter names and their corresponding options, then store this data in a dictionary,\n",
    "    # where the filter names are keys and the values are lists of corresponding filter options\n",
    "    filter_master_list = ws.getFilters()\n",
    "    filter_possible_values_list = {i[\"column\"]: i[\"values\"] for i in filter_master_list}\n",
    "    print(\"\\nFilters and their possible values:\")\n",
    "    pp.pprint(filter_possible_values_list)\n",
    "\n",
    "    # Grab just the column names\n",
    "    all_filter_columns = [i[\"column\"] for i in filter_master_list]\n",
    "    # Drop the fiscal year because the chart automatically includes all fiscal years\n",
    "    for col in skip_filter:\n",
    "        try:\n",
    "            all_filter_columns.remove(col)\n",
    "        except ValueError:\n",
    "            print(f\"{col} not present\")\n",
    "\n",
    "    # The code beloew creates an exhaustive\n",
    "    # list of all possible filter combinations, this does not control for\n",
    "    # combinations that don't exist though, meaning that some filter comnbinations\n",
    "    # that don't have any valid data may be attempted, this is fine though we just\n",
    "    # won't get data back for those combinations.\n",
    "    all_f_values = []\n",
    "    for f in filter_master_list:\n",
    "        if f[\"column\"] not in skip_filter:\n",
    "            vals = f[\"values\"]\n",
    "            all_f_values.append([None] + vals)\n",
    "    all_filter_combinations = list(itertools.product(*all_f_values))\n",
    "\n",
    "    filter_data = {\n",
    "        \"master_list\": filter_master_list,\n",
    "        \"filter_columns\": all_filter_columns,\n",
    "        \"filter_combinations\": all_filter_combinations,\n",
    "    }\n",
    "    print(\"\\nFilter on:\")\n",
    "    pp.pprint(filter_data[\"filter_columns\"])\n",
    "    return filter_data"
   ]
  },
  {
   "cell_type": "markdown",
   "metadata": {
    "deletable": false,
    "editable": false
   },
   "source": [
    "Now we create an exhaustive list of Dashboard 1 filter combinations - Note we skip `Fiscal Year` because it is broken out in the chart already. We found the exact name of this filter above where we called the `find_filters_worksheet` function\n"
   ]
  },
  {
   "cell_type": "code",
   "execution_count": 137,
   "metadata": {
    "colab": {
     "base_uri": "https://localhost:8080/"
    },
    "deletable": false,
    "editable": false,
    "executionInfo": {
     "elapsed": 168,
     "status": "ok",
     "timestamp": 1636667108270,
     "user": {
      "displayName": "Michael Dowd",
      "photoUrl": "https://lh3.googleusercontent.com/a/default-user=s64",
      "userId": "00770521119407228668"
     },
     "user_tz": 480
    },
    "id": "mgRYN1nQkq_N",
    "outputId": "682b2177-7781-4d91-8a39-735b1c16750d"
   },
   "outputs": [
    {
     "name": "stdout",
     "output_type": "stream",
     "text": [
      "\n",
      "Filters and their possible values:\n",
      "{   'Citizenship Grouping': [   'El Salvador',\n",
      "                                'Guatemala',\n",
      "                                'Honduras',\n",
      "                                'Mexico',\n",
      "                                'Other'],\n",
      "    'Component': ['Office of Field Operations', 'U.S. Border Patrol'],\n",
      "    'Demographic': [   'Accompanied Minors',\n",
      "                       'FMUA',\n",
      "                       'Single Adults',\n",
      "                       'UC / Single Minors'],\n",
      "    'Fiscal Year': ['2019', '2020', '2021', '2022 (FYTD)'],\n",
      "    'Title of Authority': ['Title 8', 'Title 42']}\n",
      "\n",
      "Filter on:\n",
      "['Citizenship Grouping', 'Component', 'Demographic', 'Title of Authority']\n"
     ]
    }
   ],
   "source": [
    "filter_data = unpack_filter_information(\n",
    "    ts,\n",
    "    filters_ws,\n",
    "    skip_filter=[\"Fiscal Year\"],\n",
    ")"
   ]
  },
  {
   "cell_type": "markdown",
   "metadata": {
    "deletable": false,
    "editable": false
   },
   "source": [
    "**See the various filter combinations**\n",
    "\n",
    "Above we see the **Filter on:...**, those columns correspond to the values we see below.\n",
    "\n",
    "When a value is `None` that means the filter is not applied so it is equivalent to `all`\n"
   ]
  },
  {
   "cell_type": "code",
   "execution_count": 138,
   "metadata": {
    "colab": {
     "base_uri": "https://localhost:8080/"
    },
    "deletable": false,
    "editable": false,
    "executionInfo": {
     "elapsed": 212,
     "status": "ok",
     "timestamp": 1636674294000,
     "user": {
      "displayName": "Michael Dowd",
      "photoUrl": "https://lh3.googleusercontent.com/a/default-user=s64",
      "userId": "00770521119407228668"
     },
     "user_tz": 480
    },
    "id": "Ag9wo4SWkq_P",
    "outputId": "f84f32f8-b3a5-4054-d4c9-3f832e6e0e75",
    "scrolled": true
   },
   "outputs": [
    {
     "name": "stdout",
     "output_type": "stream",
     "text": [
      "[   (None, None, None, None),\n",
      "    (None, None, None, 'Title 8'),\n",
      "    (None, None, None, 'Title 42'),\n",
      "    (None, None, 'Accompanied Minors', None),\n",
      "    (None, None, 'Accompanied Minors', 'Title 8'),\n",
      "    (None, None, 'Accompanied Minors', 'Title 42'),\n",
      "    (None, None, 'FMUA', None),\n",
      "    (None, None, 'FMUA', 'Title 8'),\n",
      "    (None, None, 'FMUA', 'Title 42'),\n",
      "    (None, None, 'Single Adults', None),\n",
      "    (None, None, 'Single Adults', 'Title 8'),\n",
      "    (None, None, 'Single Adults', 'Title 42'),\n",
      "    (None, None, 'UC / Single Minors', None),\n",
      "    (None, None, 'UC / Single Minors', 'Title 8'),\n",
      "    (None, None, 'UC / Single Minors', 'Title 42'),\n",
      "    (None, 'Office of Field Operations', None, None),\n",
      "    (None, 'Office of Field Operations', None, 'Title 8'),\n",
      "    (None, 'Office of Field Operations', None, 'Title 42'),\n",
      "    (None, 'Office of Field Operations', 'Accompanied Minors', None),\n",
      "    (None, 'Office of Field Operations', 'Accompanied Minors', 'Title 8'),\n",
      "    (None, 'Office of Field Operations', 'Accompanied Minors', 'Title 42'),\n",
      "    (None, 'Office of Field Operations', 'FMUA', None),\n",
      "    (None, 'Office of Field Operations', 'FMUA', 'Title 8'),\n",
      "    (None, 'Office of Field Operations', 'FMUA', 'Title 42'),\n",
      "    (None, 'Office of Field Operations', 'Single Adults', None),\n",
      "    (None, 'Office of Field Operations', 'Single Adults', 'Title 8'),\n",
      "    (None, 'Office of Field Operations', 'Single Adults', 'Title 42'),\n",
      "    (None, 'Office of Field Operations', 'UC / Single Minors', None),\n",
      "    (None, 'Office of Field Operations', 'UC / Single Minors', 'Title 8'),\n",
      "    (None, 'Office of Field Operations', 'UC / Single Minors', 'Title 42'),\n",
      "    (None, 'U.S. Border Patrol', None, None),\n",
      "    (None, 'U.S. Border Patrol', None, 'Title 8'),\n",
      "    (None, 'U.S. Border Patrol', None, 'Title 42'),\n",
      "    (None, 'U.S. Border Patrol', 'Accompanied Minors', None),\n",
      "    (None, 'U.S. Border Patrol', 'Accompanied Minors', 'Title 8'),\n",
      "    (None, 'U.S. Border Patrol', 'Accompanied Minors', 'Title 42'),\n",
      "    (None, 'U.S. Border Patrol', 'FMUA', None),\n",
      "    (None, 'U.S. Border Patrol', 'FMUA', 'Title 8'),\n",
      "    (None, 'U.S. Border Patrol', 'FMUA', 'Title 42'),\n",
      "    (None, 'U.S. Border Patrol', 'Single Adults', None),\n",
      "    (None, 'U.S. Border Patrol', 'Single Adults', 'Title 8'),\n",
      "    (None, 'U.S. Border Patrol', 'Single Adults', 'Title 42'),\n",
      "    (None, 'U.S. Border Patrol', 'UC / Single Minors', None),\n",
      "    (None, 'U.S. Border Patrol', 'UC / Single Minors', 'Title 8'),\n",
      "    (None, 'U.S. Border Patrol', 'UC / Single Minors', 'Title 42'),\n",
      "    ('El Salvador', None, None, None),\n",
      "    ('El Salvador', None, None, 'Title 8'),\n",
      "    ('El Salvador', None, None, 'Title 42'),\n",
      "    ('El Salvador', None, 'Accompanied Minors', None),\n",
      "    ('El Salvador', None, 'Accompanied Minors', 'Title 8'),\n",
      "    ('El Salvador', None, 'Accompanied Minors', 'Title 42'),\n",
      "    ('El Salvador', None, 'FMUA', None),\n",
      "    ('El Salvador', None, 'FMUA', 'Title 8'),\n",
      "    ('El Salvador', None, 'FMUA', 'Title 42'),\n",
      "    ('El Salvador', None, 'Single Adults', None),\n",
      "    ('El Salvador', None, 'Single Adults', 'Title 8'),\n",
      "    ('El Salvador', None, 'Single Adults', 'Title 42'),\n",
      "    ('El Salvador', None, 'UC / Single Minors', None),\n",
      "    ('El Salvador', None, 'UC / Single Minors', 'Title 8'),\n",
      "    ('El Salvador', None, 'UC / Single Minors', 'Title 42'),\n",
      "    ('El Salvador', 'Office of Field Operations', None, None),\n",
      "    ('El Salvador', 'Office of Field Operations', None, 'Title 8'),\n",
      "    ('El Salvador', 'Office of Field Operations', None, 'Title 42'),\n",
      "    ('El Salvador', 'Office of Field Operations', 'Accompanied Minors', None),\n",
      "    (   'El Salvador',\n",
      "        'Office of Field Operations',\n",
      "        'Accompanied Minors',\n",
      "        'Title 8'),\n",
      "    (   'El Salvador',\n",
      "        'Office of Field Operations',\n",
      "        'Accompanied Minors',\n",
      "        'Title 42'),\n",
      "    ('El Salvador', 'Office of Field Operations', 'FMUA', None),\n",
      "    ('El Salvador', 'Office of Field Operations', 'FMUA', 'Title 8'),\n",
      "    ('El Salvador', 'Office of Field Operations', 'FMUA', 'Title 42'),\n",
      "    ('El Salvador', 'Office of Field Operations', 'Single Adults', None),\n",
      "    ('El Salvador', 'Office of Field Operations', 'Single Adults', 'Title 8'),\n",
      "    ('El Salvador', 'Office of Field Operations', 'Single Adults', 'Title 42'),\n",
      "    ('El Salvador', 'Office of Field Operations', 'UC / Single Minors', None),\n",
      "    (   'El Salvador',\n",
      "        'Office of Field Operations',\n",
      "        'UC / Single Minors',\n",
      "        'Title 8'),\n",
      "    (   'El Salvador',\n",
      "        'Office of Field Operations',\n",
      "        'UC / Single Minors',\n",
      "        'Title 42'),\n",
      "    ('El Salvador', 'U.S. Border Patrol', None, None),\n",
      "    ('El Salvador', 'U.S. Border Patrol', None, 'Title 8'),\n",
      "    ('El Salvador', 'U.S. Border Patrol', None, 'Title 42'),\n",
      "    ('El Salvador', 'U.S. Border Patrol', 'Accompanied Minors', None),\n",
      "    ('El Salvador', 'U.S. Border Patrol', 'Accompanied Minors', 'Title 8'),\n",
      "    ('El Salvador', 'U.S. Border Patrol', 'Accompanied Minors', 'Title 42'),\n",
      "    ('El Salvador', 'U.S. Border Patrol', 'FMUA', None),\n",
      "    ('El Salvador', 'U.S. Border Patrol', 'FMUA', 'Title 8'),\n",
      "    ('El Salvador', 'U.S. Border Patrol', 'FMUA', 'Title 42'),\n",
      "    ('El Salvador', 'U.S. Border Patrol', 'Single Adults', None),\n",
      "    ('El Salvador', 'U.S. Border Patrol', 'Single Adults', 'Title 8'),\n",
      "    ('El Salvador', 'U.S. Border Patrol', 'Single Adults', 'Title 42'),\n",
      "    ('El Salvador', 'U.S. Border Patrol', 'UC / Single Minors', None),\n",
      "    ('El Salvador', 'U.S. Border Patrol', 'UC / Single Minors', 'Title 8'),\n",
      "    ('El Salvador', 'U.S. Border Patrol', 'UC / Single Minors', 'Title 42'),\n",
      "    ('Guatemala', None, None, None),\n",
      "    ('Guatemala', None, None, 'Title 8'),\n",
      "    ('Guatemala', None, None, 'Title 42'),\n",
      "    ('Guatemala', None, 'Accompanied Minors', None),\n",
      "    ('Guatemala', None, 'Accompanied Minors', 'Title 8'),\n",
      "    ('Guatemala', None, 'Accompanied Minors', 'Title 42'),\n",
      "    ('Guatemala', None, 'FMUA', None),\n",
      "    ('Guatemala', None, 'FMUA', 'Title 8'),\n",
      "    ('Guatemala', None, 'FMUA', 'Title 42'),\n",
      "    ('Guatemala', None, 'Single Adults', None),\n",
      "    ('Guatemala', None, 'Single Adults', 'Title 8'),\n",
      "    ('Guatemala', None, 'Single Adults', 'Title 42'),\n",
      "    ('Guatemala', None, 'UC / Single Minors', None),\n",
      "    ('Guatemala', None, 'UC / Single Minors', 'Title 8'),\n",
      "    ('Guatemala', None, 'UC / Single Minors', 'Title 42'),\n",
      "    ('Guatemala', 'Office of Field Operations', None, None),\n",
      "    ('Guatemala', 'Office of Field Operations', None, 'Title 8'),\n",
      "    ('Guatemala', 'Office of Field Operations', None, 'Title 42'),\n",
      "    ('Guatemala', 'Office of Field Operations', 'Accompanied Minors', None),\n",
      "    (   'Guatemala',\n",
      "        'Office of Field Operations',\n",
      "        'Accompanied Minors',\n",
      "        'Title 8'),\n",
      "    (   'Guatemala',\n",
      "        'Office of Field Operations',\n",
      "        'Accompanied Minors',\n",
      "        'Title 42'),\n",
      "    ('Guatemala', 'Office of Field Operations', 'FMUA', None),\n",
      "    ('Guatemala', 'Office of Field Operations', 'FMUA', 'Title 8'),\n",
      "    ('Guatemala', 'Office of Field Operations', 'FMUA', 'Title 42'),\n",
      "    ('Guatemala', 'Office of Field Operations', 'Single Adults', None),\n",
      "    ('Guatemala', 'Office of Field Operations', 'Single Adults', 'Title 8'),\n",
      "    ('Guatemala', 'Office of Field Operations', 'Single Adults', 'Title 42'),\n",
      "    ('Guatemala', 'Office of Field Operations', 'UC / Single Minors', None),\n",
      "    (   'Guatemala',\n",
      "        'Office of Field Operations',\n",
      "        'UC / Single Minors',\n",
      "        'Title 8'),\n",
      "    (   'Guatemala',\n",
      "        'Office of Field Operations',\n",
      "        'UC / Single Minors',\n",
      "        'Title 42'),\n",
      "    ('Guatemala', 'U.S. Border Patrol', None, None),\n",
      "    ('Guatemala', 'U.S. Border Patrol', None, 'Title 8'),\n",
      "    ('Guatemala', 'U.S. Border Patrol', None, 'Title 42'),\n",
      "    ('Guatemala', 'U.S. Border Patrol', 'Accompanied Minors', None),\n",
      "    ('Guatemala', 'U.S. Border Patrol', 'Accompanied Minors', 'Title 8'),\n",
      "    ('Guatemala', 'U.S. Border Patrol', 'Accompanied Minors', 'Title 42'),\n",
      "    ('Guatemala', 'U.S. Border Patrol', 'FMUA', None),\n",
      "    ('Guatemala', 'U.S. Border Patrol', 'FMUA', 'Title 8'),\n",
      "    ('Guatemala', 'U.S. Border Patrol', 'FMUA', 'Title 42'),\n",
      "    ('Guatemala', 'U.S. Border Patrol', 'Single Adults', None),\n",
      "    ('Guatemala', 'U.S. Border Patrol', 'Single Adults', 'Title 8'),\n",
      "    ('Guatemala', 'U.S. Border Patrol', 'Single Adults', 'Title 42'),\n",
      "    ('Guatemala', 'U.S. Border Patrol', 'UC / Single Minors', None),\n",
      "    ('Guatemala', 'U.S. Border Patrol', 'UC / Single Minors', 'Title 8'),\n",
      "    ('Guatemala', 'U.S. Border Patrol', 'UC / Single Minors', 'Title 42'),\n",
      "    ('Honduras', None, None, None),\n",
      "    ('Honduras', None, None, 'Title 8'),\n",
      "    ('Honduras', None, None, 'Title 42'),\n",
      "    ('Honduras', None, 'Accompanied Minors', None),\n",
      "    ('Honduras', None, 'Accompanied Minors', 'Title 8'),\n",
      "    ('Honduras', None, 'Accompanied Minors', 'Title 42'),\n",
      "    ('Honduras', None, 'FMUA', None),\n",
      "    ('Honduras', None, 'FMUA', 'Title 8'),\n",
      "    ('Honduras', None, 'FMUA', 'Title 42'),\n",
      "    ('Honduras', None, 'Single Adults', None),\n",
      "    ('Honduras', None, 'Single Adults', 'Title 8'),\n",
      "    ('Honduras', None, 'Single Adults', 'Title 42'),\n",
      "    ('Honduras', None, 'UC / Single Minors', None),\n",
      "    ('Honduras', None, 'UC / Single Minors', 'Title 8'),\n",
      "    ('Honduras', None, 'UC / Single Minors', 'Title 42'),\n",
      "    ('Honduras', 'Office of Field Operations', None, None),\n",
      "    ('Honduras', 'Office of Field Operations', None, 'Title 8'),\n",
      "    ('Honduras', 'Office of Field Operations', None, 'Title 42'),\n",
      "    ('Honduras', 'Office of Field Operations', 'Accompanied Minors', None),\n",
      "    ('Honduras', 'Office of Field Operations', 'Accompanied Minors', 'Title 8'),\n",
      "    (   'Honduras',\n",
      "        'Office of Field Operations',\n",
      "        'Accompanied Minors',\n",
      "        'Title 42'),\n",
      "    ('Honduras', 'Office of Field Operations', 'FMUA', None),\n",
      "    ('Honduras', 'Office of Field Operations', 'FMUA', 'Title 8'),\n",
      "    ('Honduras', 'Office of Field Operations', 'FMUA', 'Title 42'),\n",
      "    ('Honduras', 'Office of Field Operations', 'Single Adults', None),\n",
      "    ('Honduras', 'Office of Field Operations', 'Single Adults', 'Title 8'),\n",
      "    ('Honduras', 'Office of Field Operations', 'Single Adults', 'Title 42'),\n",
      "    ('Honduras', 'Office of Field Operations', 'UC / Single Minors', None),\n",
      "    ('Honduras', 'Office of Field Operations', 'UC / Single Minors', 'Title 8'),\n",
      "    (   'Honduras',\n",
      "        'Office of Field Operations',\n",
      "        'UC / Single Minors',\n",
      "        'Title 42'),\n",
      "    ('Honduras', 'U.S. Border Patrol', None, None),\n",
      "    ('Honduras', 'U.S. Border Patrol', None, 'Title 8'),\n",
      "    ('Honduras', 'U.S. Border Patrol', None, 'Title 42'),\n",
      "    ('Honduras', 'U.S. Border Patrol', 'Accompanied Minors', None),\n",
      "    ('Honduras', 'U.S. Border Patrol', 'Accompanied Minors', 'Title 8'),\n",
      "    ('Honduras', 'U.S. Border Patrol', 'Accompanied Minors', 'Title 42'),\n",
      "    ('Honduras', 'U.S. Border Patrol', 'FMUA', None),\n",
      "    ('Honduras', 'U.S. Border Patrol', 'FMUA', 'Title 8'),\n",
      "    ('Honduras', 'U.S. Border Patrol', 'FMUA', 'Title 42'),\n",
      "    ('Honduras', 'U.S. Border Patrol', 'Single Adults', None),\n",
      "    ('Honduras', 'U.S. Border Patrol', 'Single Adults', 'Title 8'),\n",
      "    ('Honduras', 'U.S. Border Patrol', 'Single Adults', 'Title 42'),\n",
      "    ('Honduras', 'U.S. Border Patrol', 'UC / Single Minors', None),\n",
      "    ('Honduras', 'U.S. Border Patrol', 'UC / Single Minors', 'Title 8'),\n",
      "    ('Honduras', 'U.S. Border Patrol', 'UC / Single Minors', 'Title 42'),\n",
      "    ('Mexico', None, None, None),\n",
      "    ('Mexico', None, None, 'Title 8'),\n",
      "    ('Mexico', None, None, 'Title 42'),\n",
      "    ('Mexico', None, 'Accompanied Minors', None),\n",
      "    ('Mexico', None, 'Accompanied Minors', 'Title 8'),\n",
      "    ('Mexico', None, 'Accompanied Minors', 'Title 42'),\n",
      "    ('Mexico', None, 'FMUA', None),\n",
      "    ('Mexico', None, 'FMUA', 'Title 8'),\n",
      "    ('Mexico', None, 'FMUA', 'Title 42'),\n",
      "    ('Mexico', None, 'Single Adults', None),\n",
      "    ('Mexico', None, 'Single Adults', 'Title 8'),\n",
      "    ('Mexico', None, 'Single Adults', 'Title 42'),\n",
      "    ('Mexico', None, 'UC / Single Minors', None),\n",
      "    ('Mexico', None, 'UC / Single Minors', 'Title 8'),\n",
      "    ('Mexico', None, 'UC / Single Minors', 'Title 42'),\n",
      "    ('Mexico', 'Office of Field Operations', None, None),\n",
      "    ('Mexico', 'Office of Field Operations', None, 'Title 8'),\n",
      "    ('Mexico', 'Office of Field Operations', None, 'Title 42'),\n",
      "    ('Mexico', 'Office of Field Operations', 'Accompanied Minors', None),\n",
      "    ('Mexico', 'Office of Field Operations', 'Accompanied Minors', 'Title 8'),\n",
      "    ('Mexico', 'Office of Field Operations', 'Accompanied Minors', 'Title 42'),\n",
      "    ('Mexico', 'Office of Field Operations', 'FMUA', None),\n",
      "    ('Mexico', 'Office of Field Operations', 'FMUA', 'Title 8'),\n",
      "    ('Mexico', 'Office of Field Operations', 'FMUA', 'Title 42'),\n",
      "    ('Mexico', 'Office of Field Operations', 'Single Adults', None),\n",
      "    ('Mexico', 'Office of Field Operations', 'Single Adults', 'Title 8'),\n",
      "    ('Mexico', 'Office of Field Operations', 'Single Adults', 'Title 42'),\n",
      "    ('Mexico', 'Office of Field Operations', 'UC / Single Minors', None),\n",
      "    ('Mexico', 'Office of Field Operations', 'UC / Single Minors', 'Title 8'),\n",
      "    ('Mexico', 'Office of Field Operations', 'UC / Single Minors', 'Title 42'),\n",
      "    ('Mexico', 'U.S. Border Patrol', None, None),\n",
      "    ('Mexico', 'U.S. Border Patrol', None, 'Title 8'),\n",
      "    ('Mexico', 'U.S. Border Patrol', None, 'Title 42'),\n",
      "    ('Mexico', 'U.S. Border Patrol', 'Accompanied Minors', None),\n",
      "    ('Mexico', 'U.S. Border Patrol', 'Accompanied Minors', 'Title 8'),\n",
      "    ('Mexico', 'U.S. Border Patrol', 'Accompanied Minors', 'Title 42'),\n",
      "    ('Mexico', 'U.S. Border Patrol', 'FMUA', None),\n",
      "    ('Mexico', 'U.S. Border Patrol', 'FMUA', 'Title 8'),\n",
      "    ('Mexico', 'U.S. Border Patrol', 'FMUA', 'Title 42'),\n",
      "    ('Mexico', 'U.S. Border Patrol', 'Single Adults', None),\n",
      "    ('Mexico', 'U.S. Border Patrol', 'Single Adults', 'Title 8'),\n",
      "    ('Mexico', 'U.S. Border Patrol', 'Single Adults', 'Title 42'),\n",
      "    ('Mexico', 'U.S. Border Patrol', 'UC / Single Minors', None),\n",
      "    ('Mexico', 'U.S. Border Patrol', 'UC / Single Minors', 'Title 8'),\n",
      "    ('Mexico', 'U.S. Border Patrol', 'UC / Single Minors', 'Title 42'),\n",
      "    ('Other', None, None, None),\n",
      "    ('Other', None, None, 'Title 8'),\n",
      "    ('Other', None, None, 'Title 42'),\n",
      "    ('Other', None, 'Accompanied Minors', None),\n",
      "    ('Other', None, 'Accompanied Minors', 'Title 8'),\n",
      "    ('Other', None, 'Accompanied Minors', 'Title 42'),\n",
      "    ('Other', None, 'FMUA', None),\n",
      "    ('Other', None, 'FMUA', 'Title 8'),\n",
      "    ('Other', None, 'FMUA', 'Title 42'),\n",
      "    ('Other', None, 'Single Adults', None),\n",
      "    ('Other', None, 'Single Adults', 'Title 8'),\n",
      "    ('Other', None, 'Single Adults', 'Title 42'),\n",
      "    ('Other', None, 'UC / Single Minors', None),\n",
      "    ('Other', None, 'UC / Single Minors', 'Title 8'),\n",
      "    ('Other', None, 'UC / Single Minors', 'Title 42'),\n",
      "    ('Other', 'Office of Field Operations', None, None),\n",
      "    ('Other', 'Office of Field Operations', None, 'Title 8'),\n",
      "    ('Other', 'Office of Field Operations', None, 'Title 42'),\n",
      "    ('Other', 'Office of Field Operations', 'Accompanied Minors', None),\n",
      "    ('Other', 'Office of Field Operations', 'Accompanied Minors', 'Title 8'),\n",
      "    ('Other', 'Office of Field Operations', 'Accompanied Minors', 'Title 42'),\n",
      "    ('Other', 'Office of Field Operations', 'FMUA', None),\n",
      "    ('Other', 'Office of Field Operations', 'FMUA', 'Title 8'),\n",
      "    ('Other', 'Office of Field Operations', 'FMUA', 'Title 42'),\n",
      "    ('Other', 'Office of Field Operations', 'Single Adults', None),\n",
      "    ('Other', 'Office of Field Operations', 'Single Adults', 'Title 8'),\n",
      "    ('Other', 'Office of Field Operations', 'Single Adults', 'Title 42'),\n",
      "    ('Other', 'Office of Field Operations', 'UC / Single Minors', None),\n",
      "    ('Other', 'Office of Field Operations', 'UC / Single Minors', 'Title 8'),\n",
      "    ('Other', 'Office of Field Operations', 'UC / Single Minors', 'Title 42'),\n",
      "    ('Other', 'U.S. Border Patrol', None, None),\n",
      "    ('Other', 'U.S. Border Patrol', None, 'Title 8'),\n",
      "    ('Other', 'U.S. Border Patrol', None, 'Title 42'),\n",
      "    ('Other', 'U.S. Border Patrol', 'Accompanied Minors', None),\n",
      "    ('Other', 'U.S. Border Patrol', 'Accompanied Minors', 'Title 8'),\n",
      "    ('Other', 'U.S. Border Patrol', 'Accompanied Minors', 'Title 42'),\n",
      "    ('Other', 'U.S. Border Patrol', 'FMUA', None),\n",
      "    ('Other', 'U.S. Border Patrol', 'FMUA', 'Title 8'),\n",
      "    ('Other', 'U.S. Border Patrol', 'FMUA', 'Title 42'),\n",
      "    ('Other', 'U.S. Border Patrol', 'Single Adults', None),\n",
      "    ('Other', 'U.S. Border Patrol', 'Single Adults', 'Title 8'),\n",
      "    ('Other', 'U.S. Border Patrol', 'Single Adults', 'Title 42'),\n",
      "    ('Other', 'U.S. Border Patrol', 'UC / Single Minors', None),\n",
      "    ('Other', 'U.S. Border Patrol', 'UC / Single Minors', 'Title 8'),\n",
      "    ('Other', 'U.S. Border Patrol', 'UC / Single Minors', 'Title 42')]\n"
     ]
    }
   ],
   "source": [
    "pp.pprint(filter_data[\"filter_combinations\"])"
   ]
  },
  {
   "cell_type": "markdown",
   "metadata": {
    "deletable": false,
    "editable": false,
    "id": "k_lsPBYqkq_S"
   },
   "source": [
    "### Now let's pull down the data\n",
    "\n",
    "**Data Extraction Function**\n",
    "\n",
    "We will create a function to pull down the data and parameterize some of the arguments "
   ]
  },
  {
   "cell_type": "code",
   "execution_count": 139,
   "metadata": {
    "deletable": false,
    "editable": false,
    "executionInfo": {
     "elapsed": 177,
     "status": "ok",
     "timestamp": 1636674296301,
     "user": {
      "displayName": "Michael Dowd",
      "photoUrl": "https://lh3.googleusercontent.com/a/default-user=s64",
      "userId": "00770521119407228668"
     },
     "user_tz": 480
    },
    "id": "FshslOi_8vuA"
   },
   "outputs": [],
   "source": [
    "def get_dashboard_data(\n",
    "    url: str,\n",
    "    all_filter_columns: list,\n",
    "    all_filter_combinations,\n",
    "    filter_worksheet,\n",
    "    data_worksheet,\n",
    "):\n",
    "    \"\"\"\n",
    "    Function to extract data from a Tableau Dashboard\n",
    "\n",
    "    Parameters:\n",
    "        url: URL of dashboard\n",
    "        all_filter_columns: list of columns we will use for filtering\n",
    "        all_filter_combinations: list of tuples containing all filter combinations\n",
    "        filter_worksheet: worksheet where filters exist\n",
    "        data_worksheet: worksheet we want to extract data from\n",
    "\n",
    "    return dashboard data extracted from tableau dashboard element\n",
    "    \"\"\"\n",
    "    failed_combination = []\n",
    "    tableau_dataframe = pd.DataFrame()\n",
    "    for filter_combination in all_filter_combinations:\n",
    "        print(\"Attempting Filter Combination\", filter_combination)\n",
    "        ts = TS()\n",
    "        ts.loads(url)\n",
    "        workbook = ts  # in case all filters are null\n",
    "        worksheet = ts.getWorksheet(filter_worksheet)\n",
    "        try:\n",
    "            for idx, col in enumerate(all_filter_columns):\n",
    "                # If it is none it means we are not applying any filter option for the dropdown filter\n",
    "                if filter_combination[idx] is None:\n",
    "                    continue\n",
    "                else:\n",
    "                    # apply the individual filter and continue iterating\n",
    "                    worksheet = workbook.getWorksheet(filter_worksheet)\n",
    "                    workbook = worksheet.setFilter(\n",
    "                        col, filter_combination[idx], filterDelta=True\n",
    "                    )\n",
    "            subset_worksheet = workbook.getWorksheet(data_worksheet)\n",
    "            subset_data = subset_worksheet.data\n",
    "            if len(subset_data) > 0:  # Only do this if we have data\n",
    "                # Now we iterate over the filter and label the data with\n",
    "                # what filters were applied.\n",
    "                for col, val in list(zip(all_filter_columns, filter_combination)):\n",
    "                    if val is None:\n",
    "                        val = \"all\"\n",
    "                    subset_data.loc[:, col] = val\n",
    "\n",
    "                # append the data to our master dataframe\n",
    "                tableau_dataframe = tableau_dataframe.append(subset_data)\n",
    "            else:\n",
    "                print(f\"WARNING No Length on {filter_combination}\")\n",
    "                failed_combination.append(filter_combination)\n",
    "        except Exception as e:\n",
    "            print(f\"WARNING on {filter_combination} \\n {e}\")\n",
    "            failed_combination.append(filter_combination)\n",
    "    return tableau_dataframe, failed_combination"
   ]
  },
  {
   "cell_type": "markdown",
   "metadata": {
    "deletable": false,
    "editable": false,
    "id": "jDIECb5okq_T"
   },
   "source": [
    "Now we will run it ... This may take about 20 minutes"
   ]
  },
  {
   "cell_type": "code",
   "execution_count": 140,
   "metadata": {
    "colab": {
     "base_uri": "https://localhost:8080/"
    },
    "deletable": false,
    "editable": false,
    "executionInfo": {
     "elapsed": 373372,
     "status": "ok",
     "timestamp": 1635269881775,
     "user": {
      "displayName": "Michael Dowd",
      "photoUrl": "https://lh3.googleusercontent.com/a/default-user=s64",
      "userId": "00770521119407228668"
     },
     "user_tz": 420
    },
    "id": "oEZ_fXc1kq_T",
    "outputId": "856de5d4-81b2-439b-da82-79409aa1037a"
   },
   "outputs": [
    {
     "name": "stdout",
     "output_type": "stream",
     "text": [
      "Attempting Fitler Combination (None, None, None, None)\n",
      "Attempting Fitler Combination (None, None, None, 'Title 8')\n",
      "Attempting Fitler Combination (None, None, None, 'Title 42')\n",
      "Attempting Fitler Combination (None, None, 'Accompanied Minors', None)\n",
      "Attempting Fitler Combination (None, None, 'Accompanied Minors', 'Title 8')\n",
      "Attempting Fitler Combination (None, None, 'Accompanied Minors', 'Title 42')\n",
      "Attempting Fitler Combination (None, None, 'FMUA', None)\n",
      "Attempting Fitler Combination (None, None, 'FMUA', 'Title 8')\n",
      "Attempting Fitler Combination (None, None, 'FMUA', 'Title 42')\n",
      "Attempting Fitler Combination (None, None, 'Single Adults', None)\n",
      "Attempting Fitler Combination (None, None, 'Single Adults', 'Title 8')\n",
      "Attempting Fitler Combination (None, None, 'Single Adults', 'Title 42')\n",
      "Attempting Fitler Combination (None, None, 'UC / Single Minors', None)\n",
      "Attempting Fitler Combination (None, None, 'UC / Single Minors', 'Title 8')\n",
      "Attempting Fitler Combination (None, None, 'UC / Single Minors', 'Title 42')\n",
      "Attempting Fitler Combination (None, 'Office of Field Operations', None, None)\n",
      "Attempting Fitler Combination (None, 'Office of Field Operations', None, 'Title 8')\n",
      "Attempting Fitler Combination (None, 'Office of Field Operations', None, 'Title 42')\n",
      "Attempting Fitler Combination (None, 'Office of Field Operations', 'Accompanied Minors', None)\n",
      "Attempting Fitler Combination (None, 'Office of Field Operations', 'Accompanied Minors', 'Title 8')\n",
      "Attempting Fitler Combination (None, 'Office of Field Operations', 'Accompanied Minors', 'Title 42')\n",
      "Attempting Fitler Combination (None, 'Office of Field Operations', 'FMUA', None)\n",
      "Attempting Fitler Combination (None, 'Office of Field Operations', 'FMUA', 'Title 8')\n",
      "Attempting Fitler Combination (None, 'Office of Field Operations', 'FMUA', 'Title 42')\n",
      "WARNING on (None, 'Office of Field Operations', 'FMUA', 'Title 42') \n",
      " 'NoneType' object is not subscriptable\n",
      "Attempting Fitler Combination (None, 'Office of Field Operations', 'Single Adults', None)\n",
      "Attempting Fitler Combination (None, 'Office of Field Operations', 'Single Adults', 'Title 8')\n",
      "Attempting Fitler Combination (None, 'Office of Field Operations', 'Single Adults', 'Title 42')\n",
      "Attempting Fitler Combination (None, 'Office of Field Operations', 'UC / Single Minors', None)\n",
      "Attempting Fitler Combination (None, 'Office of Field Operations', 'UC / Single Minors', 'Title 8')\n",
      "Attempting Fitler Combination (None, 'Office of Field Operations', 'UC / Single Minors', 'Title 42')\n",
      "Attempting Fitler Combination (None, 'U.S. Border Patrol', None, None)\n",
      "Attempting Fitler Combination (None, 'U.S. Border Patrol', None, 'Title 8')\n",
      "Attempting Fitler Combination (None, 'U.S. Border Patrol', None, 'Title 42')\n",
      "Attempting Fitler Combination (None, 'U.S. Border Patrol', 'Accompanied Minors', None)\n",
      "WARNING on (None, 'U.S. Border Patrol', 'Accompanied Minors', None) \n",
      " 'NoneType' object is not subscriptable\n",
      "Attempting Fitler Combination (None, 'U.S. Border Patrol', 'Accompanied Minors', 'Title 8')\n",
      "WARNING on (None, 'U.S. Border Patrol', 'Accompanied Minors', 'Title 8') \n",
      " 'NoneType' object is not subscriptable\n",
      "Attempting Fitler Combination (None, 'U.S. Border Patrol', 'Accompanied Minors', 'Title 42')\n",
      "WARNING on (None, 'U.S. Border Patrol', 'Accompanied Minors', 'Title 42') \n",
      " 'NoneType' object is not subscriptable\n",
      "Attempting Fitler Combination (None, 'U.S. Border Patrol', 'FMUA', None)\n",
      "Attempting Fitler Combination (None, 'U.S. Border Patrol', 'FMUA', 'Title 8')\n",
      "Attempting Fitler Combination (None, 'U.S. Border Patrol', 'FMUA', 'Title 42')\n",
      "Attempting Fitler Combination (None, 'U.S. Border Patrol', 'Single Adults', None)\n",
      "Attempting Fitler Combination (None, 'U.S. Border Patrol', 'Single Adults', 'Title 8')\n",
      "Attempting Fitler Combination (None, 'U.S. Border Patrol', 'Single Adults', 'Title 42')\n",
      "Attempting Fitler Combination (None, 'U.S. Border Patrol', 'UC / Single Minors', None)\n",
      "Attempting Fitler Combination (None, 'U.S. Border Patrol', 'UC / Single Minors', 'Title 8')\n",
      "Attempting Fitler Combination (None, 'U.S. Border Patrol', 'UC / Single Minors', 'Title 42')\n",
      "Attempting Fitler Combination ('El Salvador', None, None, None)\n",
      "Attempting Fitler Combination ('El Salvador', None, None, 'Title 8')\n",
      "Attempting Fitler Combination ('El Salvador', None, None, 'Title 42')\n",
      "Attempting Fitler Combination ('El Salvador', None, 'Accompanied Minors', None)\n",
      "Attempting Fitler Combination ('El Salvador', None, 'Accompanied Minors', 'Title 8')\n",
      "Attempting Fitler Combination ('El Salvador', None, 'Accompanied Minors', 'Title 42')\n",
      "Attempting Fitler Combination ('El Salvador', None, 'FMUA', None)\n",
      "Attempting Fitler Combination ('El Salvador', None, 'FMUA', 'Title 8')\n",
      "Attempting Fitler Combination ('El Salvador', None, 'FMUA', 'Title 42')\n",
      "Attempting Fitler Combination ('El Salvador', None, 'Single Adults', None)\n",
      "Attempting Fitler Combination ('El Salvador', None, 'Single Adults', 'Title 8')\n",
      "Attempting Fitler Combination ('El Salvador', None, 'Single Adults', 'Title 42')\n",
      "Attempting Fitler Combination ('El Salvador', None, 'UC / Single Minors', None)\n",
      "Attempting Fitler Combination ('El Salvador', None, 'UC / Single Minors', 'Title 8')\n",
      "Attempting Fitler Combination ('El Salvador', None, 'UC / Single Minors', 'Title 42')\n",
      "Attempting Fitler Combination ('El Salvador', 'Office of Field Operations', None, None)\n",
      "Attempting Fitler Combination ('El Salvador', 'Office of Field Operations', None, 'Title 8')\n",
      "Attempting Fitler Combination ('El Salvador', 'Office of Field Operations', None, 'Title 42')\n",
      "Attempting Fitler Combination ('El Salvador', 'Office of Field Operations', 'Accompanied Minors', None)\n",
      "Attempting Fitler Combination ('El Salvador', 'Office of Field Operations', 'Accompanied Minors', 'Title 8')\n",
      "Attempting Fitler Combination ('El Salvador', 'Office of Field Operations', 'Accompanied Minors', 'Title 42')\n",
      "Attempting Fitler Combination ('El Salvador', 'Office of Field Operations', 'FMUA', None)\n",
      "Attempting Fitler Combination ('El Salvador', 'Office of Field Operations', 'FMUA', 'Title 8')\n",
      "Attempting Fitler Combination ('El Salvador', 'Office of Field Operations', 'FMUA', 'Title 42')\n",
      "WARNING on ('El Salvador', 'Office of Field Operations', 'FMUA', 'Title 42') \n",
      " 'NoneType' object is not subscriptable\n",
      "Attempting Fitler Combination ('El Salvador', 'Office of Field Operations', 'Single Adults', None)\n",
      "Attempting Fitler Combination ('El Salvador', 'Office of Field Operations', 'Single Adults', 'Title 8')\n",
      "Attempting Fitler Combination ('El Salvador', 'Office of Field Operations', 'Single Adults', 'Title 42')\n",
      "Attempting Fitler Combination ('El Salvador', 'Office of Field Operations', 'UC / Single Minors', None)\n",
      "Attempting Fitler Combination ('El Salvador', 'Office of Field Operations', 'UC / Single Minors', 'Title 8')\n",
      "Attempting Fitler Combination ('El Salvador', 'Office of Field Operations', 'UC / Single Minors', 'Title 42')\n",
      "Attempting Fitler Combination ('El Salvador', 'U.S. Border Patrol', None, None)\n",
      "Attempting Fitler Combination ('El Salvador', 'U.S. Border Patrol', None, 'Title 8')\n",
      "Attempting Fitler Combination ('El Salvador', 'U.S. Border Patrol', None, 'Title 42')\n",
      "Attempting Fitler Combination ('El Salvador', 'U.S. Border Patrol', 'Accompanied Minors', None)\n",
      "WARNING on ('El Salvador', 'U.S. Border Patrol', 'Accompanied Minors', None) \n",
      " 'NoneType' object is not subscriptable\n",
      "Attempting Fitler Combination ('El Salvador', 'U.S. Border Patrol', 'Accompanied Minors', 'Title 8')\n",
      "WARNING on ('El Salvador', 'U.S. Border Patrol', 'Accompanied Minors', 'Title 8') \n",
      " 'NoneType' object is not subscriptable\n",
      "Attempting Fitler Combination ('El Salvador', 'U.S. Border Patrol', 'Accompanied Minors', 'Title 42')\n",
      "WARNING on ('El Salvador', 'U.S. Border Patrol', 'Accompanied Minors', 'Title 42') \n",
      " 'NoneType' object is not subscriptable\n",
      "Attempting Fitler Combination ('El Salvador', 'U.S. Border Patrol', 'FMUA', None)\n",
      "Attempting Fitler Combination ('El Salvador', 'U.S. Border Patrol', 'FMUA', 'Title 8')\n",
      "Attempting Fitler Combination ('El Salvador', 'U.S. Border Patrol', 'FMUA', 'Title 42')\n",
      "Attempting Fitler Combination ('El Salvador', 'U.S. Border Patrol', 'Single Adults', None)\n",
      "Attempting Fitler Combination ('El Salvador', 'U.S. Border Patrol', 'Single Adults', 'Title 8')\n"
     ]
    },
    {
     "name": "stdout",
     "output_type": "stream",
     "text": [
      "Attempting Fitler Combination ('El Salvador', 'U.S. Border Patrol', 'Single Adults', 'Title 42')\n",
      "Attempting Fitler Combination ('El Salvador', 'U.S. Border Patrol', 'UC / Single Minors', None)\n",
      "Attempting Fitler Combination ('El Salvador', 'U.S. Border Patrol', 'UC / Single Minors', 'Title 8')\n",
      "Attempting Fitler Combination ('El Salvador', 'U.S. Border Patrol', 'UC / Single Minors', 'Title 42')\n",
      "Attempting Fitler Combination ('Guatemala', None, None, None)\n",
      "Attempting Fitler Combination ('Guatemala', None, None, 'Title 8')\n",
      "Attempting Fitler Combination ('Guatemala', None, None, 'Title 42')\n",
      "Attempting Fitler Combination ('Guatemala', None, 'Accompanied Minors', None)\n",
      "Attempting Fitler Combination ('Guatemala', None, 'Accompanied Minors', 'Title 8')\n",
      "Attempting Fitler Combination ('Guatemala', None, 'Accompanied Minors', 'Title 42')\n",
      "Attempting Fitler Combination ('Guatemala', None, 'FMUA', None)\n",
      "Attempting Fitler Combination ('Guatemala', None, 'FMUA', 'Title 8')\n",
      "Attempting Fitler Combination ('Guatemala', None, 'FMUA', 'Title 42')\n",
      "Attempting Fitler Combination ('Guatemala', None, 'Single Adults', None)\n",
      "Attempting Fitler Combination ('Guatemala', None, 'Single Adults', 'Title 8')\n",
      "Attempting Fitler Combination ('Guatemala', None, 'Single Adults', 'Title 42')\n",
      "Attempting Fitler Combination ('Guatemala', None, 'UC / Single Minors', None)\n",
      "Attempting Fitler Combination ('Guatemala', None, 'UC / Single Minors', 'Title 8')\n",
      "Attempting Fitler Combination ('Guatemala', None, 'UC / Single Minors', 'Title 42')\n",
      "Attempting Fitler Combination ('Guatemala', 'Office of Field Operations', None, None)\n",
      "Attempting Fitler Combination ('Guatemala', 'Office of Field Operations', None, 'Title 8')\n",
      "Attempting Fitler Combination ('Guatemala', 'Office of Field Operations', None, 'Title 42')\n",
      "Attempting Fitler Combination ('Guatemala', 'Office of Field Operations', 'Accompanied Minors', None)\n",
      "Attempting Fitler Combination ('Guatemala', 'Office of Field Operations', 'Accompanied Minors', 'Title 8')\n",
      "Attempting Fitler Combination ('Guatemala', 'Office of Field Operations', 'Accompanied Minors', 'Title 42')\n",
      "Attempting Fitler Combination ('Guatemala', 'Office of Field Operations', 'FMUA', None)\n",
      "Attempting Fitler Combination ('Guatemala', 'Office of Field Operations', 'FMUA', 'Title 8')\n",
      "Attempting Fitler Combination ('Guatemala', 'Office of Field Operations', 'FMUA', 'Title 42')\n",
      "WARNING on ('Guatemala', 'Office of Field Operations', 'FMUA', 'Title 42') \n",
      " 'NoneType' object is not subscriptable\n",
      "Attempting Fitler Combination ('Guatemala', 'Office of Field Operations', 'Single Adults', None)\n",
      "Attempting Fitler Combination ('Guatemala', 'Office of Field Operations', 'Single Adults', 'Title 8')\n",
      "Attempting Fitler Combination ('Guatemala', 'Office of Field Operations', 'Single Adults', 'Title 42')\n",
      "Attempting Fitler Combination ('Guatemala', 'Office of Field Operations', 'UC / Single Minors', None)\n",
      "Attempting Fitler Combination ('Guatemala', 'Office of Field Operations', 'UC / Single Minors', 'Title 8')\n",
      "Attempting Fitler Combination ('Guatemala', 'Office of Field Operations', 'UC / Single Minors', 'Title 42')\n",
      "Attempting Fitler Combination ('Guatemala', 'U.S. Border Patrol', None, None)\n",
      "Attempting Fitler Combination ('Guatemala', 'U.S. Border Patrol', None, 'Title 8')\n",
      "Attempting Fitler Combination ('Guatemala', 'U.S. Border Patrol', None, 'Title 42')\n",
      "Attempting Fitler Combination ('Guatemala', 'U.S. Border Patrol', 'Accompanied Minors', None)\n",
      "WARNING on ('Guatemala', 'U.S. Border Patrol', 'Accompanied Minors', None) \n",
      " 'NoneType' object is not subscriptable\n",
      "Attempting Fitler Combination ('Guatemala', 'U.S. Border Patrol', 'Accompanied Minors', 'Title 8')\n",
      "WARNING on ('Guatemala', 'U.S. Border Patrol', 'Accompanied Minors', 'Title 8') \n",
      " 'NoneType' object is not subscriptable\n",
      "Attempting Fitler Combination ('Guatemala', 'U.S. Border Patrol', 'Accompanied Minors', 'Title 42')\n",
      "WARNING on ('Guatemala', 'U.S. Border Patrol', 'Accompanied Minors', 'Title 42') \n",
      " 'NoneType' object is not subscriptable\n",
      "Attempting Fitler Combination ('Guatemala', 'U.S. Border Patrol', 'FMUA', None)\n",
      "Attempting Fitler Combination ('Guatemala', 'U.S. Border Patrol', 'FMUA', 'Title 8')\n",
      "Attempting Fitler Combination ('Guatemala', 'U.S. Border Patrol', 'FMUA', 'Title 42')\n",
      "Attempting Fitler Combination ('Guatemala', 'U.S. Border Patrol', 'Single Adults', None)\n",
      "Attempting Fitler Combination ('Guatemala', 'U.S. Border Patrol', 'Single Adults', 'Title 8')\n",
      "Attempting Fitler Combination ('Guatemala', 'U.S. Border Patrol', 'Single Adults', 'Title 42')\n",
      "Attempting Fitler Combination ('Guatemala', 'U.S. Border Patrol', 'UC / Single Minors', None)\n",
      "Attempting Fitler Combination ('Guatemala', 'U.S. Border Patrol', 'UC / Single Minors', 'Title 8')\n",
      "Attempting Fitler Combination ('Guatemala', 'U.S. Border Patrol', 'UC / Single Minors', 'Title 42')\n",
      "Attempting Fitler Combination ('Honduras', None, None, None)\n",
      "Attempting Fitler Combination ('Honduras', None, None, 'Title 8')\n",
      "Attempting Fitler Combination ('Honduras', None, None, 'Title 42')\n",
      "Attempting Fitler Combination ('Honduras', None, 'Accompanied Minors', None)\n",
      "Attempting Fitler Combination ('Honduras', None, 'Accompanied Minors', 'Title 8')\n",
      "Attempting Fitler Combination ('Honduras', None, 'Accompanied Minors', 'Title 42')\n",
      "Attempting Fitler Combination ('Honduras', None, 'FMUA', None)\n",
      "Attempting Fitler Combination ('Honduras', None, 'FMUA', 'Title 8')\n",
      "Attempting Fitler Combination ('Honduras', None, 'FMUA', 'Title 42')\n",
      "Attempting Fitler Combination ('Honduras', None, 'Single Adults', None)\n",
      "Attempting Fitler Combination ('Honduras', None, 'Single Adults', 'Title 8')\n",
      "Attempting Fitler Combination ('Honduras', None, 'Single Adults', 'Title 42')\n",
      "Attempting Fitler Combination ('Honduras', None, 'UC / Single Minors', None)\n",
      "Attempting Fitler Combination ('Honduras', None, 'UC / Single Minors', 'Title 8')\n",
      "Attempting Fitler Combination ('Honduras', None, 'UC / Single Minors', 'Title 42')\n",
      "Attempting Fitler Combination ('Honduras', 'Office of Field Operations', None, None)\n",
      "Attempting Fitler Combination ('Honduras', 'Office of Field Operations', None, 'Title 8')\n",
      "Attempting Fitler Combination ('Honduras', 'Office of Field Operations', None, 'Title 42')\n",
      "Attempting Fitler Combination ('Honduras', 'Office of Field Operations', 'Accompanied Minors', None)\n",
      "Attempting Fitler Combination ('Honduras', 'Office of Field Operations', 'Accompanied Minors', 'Title 8')\n",
      "Attempting Fitler Combination ('Honduras', 'Office of Field Operations', 'Accompanied Minors', 'Title 42')\n",
      "Attempting Fitler Combination ('Honduras', 'Office of Field Operations', 'FMUA', None)\n",
      "Attempting Fitler Combination ('Honduras', 'Office of Field Operations', 'FMUA', 'Title 8')\n",
      "Attempting Fitler Combination ('Honduras', 'Office of Field Operations', 'FMUA', 'Title 42')\n",
      "WARNING on ('Honduras', 'Office of Field Operations', 'FMUA', 'Title 42') \n",
      " 'NoneType' object is not subscriptable\n",
      "Attempting Fitler Combination ('Honduras', 'Office of Field Operations', 'Single Adults', None)\n",
      "Attempting Fitler Combination ('Honduras', 'Office of Field Operations', 'Single Adults', 'Title 8')\n",
      "Attempting Fitler Combination ('Honduras', 'Office of Field Operations', 'Single Adults', 'Title 42')\n",
      "Attempting Fitler Combination ('Honduras', 'Office of Field Operations', 'UC / Single Minors', None)\n",
      "Attempting Fitler Combination ('Honduras', 'Office of Field Operations', 'UC / Single Minors', 'Title 8')\n",
      "Attempting Fitler Combination ('Honduras', 'Office of Field Operations', 'UC / Single Minors', 'Title 42')\n",
      "Attempting Fitler Combination ('Honduras', 'U.S. Border Patrol', None, None)\n",
      "Attempting Fitler Combination ('Honduras', 'U.S. Border Patrol', None, 'Title 8')\n",
      "Attempting Fitler Combination ('Honduras', 'U.S. Border Patrol', None, 'Title 42')\n",
      "Attempting Fitler Combination ('Honduras', 'U.S. Border Patrol', 'Accompanied Minors', None)\n",
      "WARNING on ('Honduras', 'U.S. Border Patrol', 'Accompanied Minors', None) \n",
      " 'NoneType' object is not subscriptable\n",
      "Attempting Fitler Combination ('Honduras', 'U.S. Border Patrol', 'Accompanied Minors', 'Title 8')\n",
      "WARNING on ('Honduras', 'U.S. Border Patrol', 'Accompanied Minors', 'Title 8') \n",
      " 'NoneType' object is not subscriptable\n",
      "Attempting Fitler Combination ('Honduras', 'U.S. Border Patrol', 'Accompanied Minors', 'Title 42')\n"
     ]
    },
    {
     "name": "stdout",
     "output_type": "stream",
     "text": [
      "WARNING on ('Honduras', 'U.S. Border Patrol', 'Accompanied Minors', 'Title 42') \n",
      " 'NoneType' object is not subscriptable\n",
      "Attempting Fitler Combination ('Honduras', 'U.S. Border Patrol', 'FMUA', None)\n",
      "Attempting Fitler Combination ('Honduras', 'U.S. Border Patrol', 'FMUA', 'Title 8')\n",
      "Attempting Fitler Combination ('Honduras', 'U.S. Border Patrol', 'FMUA', 'Title 42')\n",
      "Attempting Fitler Combination ('Honduras', 'U.S. Border Patrol', 'Single Adults', None)\n",
      "Attempting Fitler Combination ('Honduras', 'U.S. Border Patrol', 'Single Adults', 'Title 8')\n",
      "Attempting Fitler Combination ('Honduras', 'U.S. Border Patrol', 'Single Adults', 'Title 42')\n",
      "Attempting Fitler Combination ('Honduras', 'U.S. Border Patrol', 'UC / Single Minors', None)\n",
      "Attempting Fitler Combination ('Honduras', 'U.S. Border Patrol', 'UC / Single Minors', 'Title 8')\n",
      "Attempting Fitler Combination ('Honduras', 'U.S. Border Patrol', 'UC / Single Minors', 'Title 42')\n",
      "Attempting Fitler Combination ('Mexico', None, None, None)\n",
      "Attempting Fitler Combination ('Mexico', None, None, 'Title 8')\n",
      "Attempting Fitler Combination ('Mexico', None, None, 'Title 42')\n",
      "Attempting Fitler Combination ('Mexico', None, 'Accompanied Minors', None)\n",
      "Attempting Fitler Combination ('Mexico', None, 'Accompanied Minors', 'Title 8')\n",
      "Attempting Fitler Combination ('Mexico', None, 'Accompanied Minors', 'Title 42')\n",
      "Attempting Fitler Combination ('Mexico', None, 'FMUA', None)\n",
      "Attempting Fitler Combination ('Mexico', None, 'FMUA', 'Title 8')\n",
      "Attempting Fitler Combination ('Mexico', None, 'FMUA', 'Title 42')\n",
      "Attempting Fitler Combination ('Mexico', None, 'Single Adults', None)\n",
      "Attempting Fitler Combination ('Mexico', None, 'Single Adults', 'Title 8')\n",
      "Attempting Fitler Combination ('Mexico', None, 'Single Adults', 'Title 42')\n",
      "Attempting Fitler Combination ('Mexico', None, 'UC / Single Minors', None)\n",
      "Attempting Fitler Combination ('Mexico', None, 'UC / Single Minors', 'Title 8')\n",
      "Attempting Fitler Combination ('Mexico', None, 'UC / Single Minors', 'Title 42')\n",
      "Attempting Fitler Combination ('Mexico', 'Office of Field Operations', None, None)\n",
      "Attempting Fitler Combination ('Mexico', 'Office of Field Operations', None, 'Title 8')\n",
      "Attempting Fitler Combination ('Mexico', 'Office of Field Operations', None, 'Title 42')\n",
      "Attempting Fitler Combination ('Mexico', 'Office of Field Operations', 'Accompanied Minors', None)\n",
      "Attempting Fitler Combination ('Mexico', 'Office of Field Operations', 'Accompanied Minors', 'Title 8')\n",
      "Attempting Fitler Combination ('Mexico', 'Office of Field Operations', 'Accompanied Minors', 'Title 42')\n",
      "Attempting Fitler Combination ('Mexico', 'Office of Field Operations', 'FMUA', None)\n",
      "Attempting Fitler Combination ('Mexico', 'Office of Field Operations', 'FMUA', 'Title 8')\n",
      "Attempting Fitler Combination ('Mexico', 'Office of Field Operations', 'FMUA', 'Title 42')\n",
      "WARNING on ('Mexico', 'Office of Field Operations', 'FMUA', 'Title 42') \n",
      " 'NoneType' object is not subscriptable\n",
      "Attempting Fitler Combination ('Mexico', 'Office of Field Operations', 'Single Adults', None)\n",
      "Attempting Fitler Combination ('Mexico', 'Office of Field Operations', 'Single Adults', 'Title 8')\n",
      "Attempting Fitler Combination ('Mexico', 'Office of Field Operations', 'Single Adults', 'Title 42')\n",
      "Attempting Fitler Combination ('Mexico', 'Office of Field Operations', 'UC / Single Minors', None)\n",
      "Attempting Fitler Combination ('Mexico', 'Office of Field Operations', 'UC / Single Minors', 'Title 8')\n",
      "Attempting Fitler Combination ('Mexico', 'Office of Field Operations', 'UC / Single Minors', 'Title 42')\n",
      "Attempting Fitler Combination ('Mexico', 'U.S. Border Patrol', None, None)\n",
      "Attempting Fitler Combination ('Mexico', 'U.S. Border Patrol', None, 'Title 8')\n",
      "Attempting Fitler Combination ('Mexico', 'U.S. Border Patrol', None, 'Title 42')\n",
      "Attempting Fitler Combination ('Mexico', 'U.S. Border Patrol', 'Accompanied Minors', None)\n",
      "WARNING on ('Mexico', 'U.S. Border Patrol', 'Accompanied Minors', None) \n",
      " 'NoneType' object is not subscriptable\n",
      "Attempting Fitler Combination ('Mexico', 'U.S. Border Patrol', 'Accompanied Minors', 'Title 8')\n",
      "WARNING on ('Mexico', 'U.S. Border Patrol', 'Accompanied Minors', 'Title 8') \n",
      " 'NoneType' object is not subscriptable\n",
      "Attempting Fitler Combination ('Mexico', 'U.S. Border Patrol', 'Accompanied Minors', 'Title 42')\n",
      "WARNING on ('Mexico', 'U.S. Border Patrol', 'Accompanied Minors', 'Title 42') \n",
      " 'NoneType' object is not subscriptable\n",
      "Attempting Fitler Combination ('Mexico', 'U.S. Border Patrol', 'FMUA', None)\n",
      "Attempting Fitler Combination ('Mexico', 'U.S. Border Patrol', 'FMUA', 'Title 8')\n",
      "Attempting Fitler Combination ('Mexico', 'U.S. Border Patrol', 'FMUA', 'Title 42')\n",
      "Attempting Fitler Combination ('Mexico', 'U.S. Border Patrol', 'Single Adults', None)\n",
      "Attempting Fitler Combination ('Mexico', 'U.S. Border Patrol', 'Single Adults', 'Title 8')\n",
      "Attempting Fitler Combination ('Mexico', 'U.S. Border Patrol', 'Single Adults', 'Title 42')\n",
      "Attempting Fitler Combination ('Mexico', 'U.S. Border Patrol', 'UC / Single Minors', None)\n",
      "Attempting Fitler Combination ('Mexico', 'U.S. Border Patrol', 'UC / Single Minors', 'Title 8')\n",
      "Attempting Fitler Combination ('Mexico', 'U.S. Border Patrol', 'UC / Single Minors', 'Title 42')\n",
      "Attempting Fitler Combination ('Other', None, None, None)\n",
      "Attempting Fitler Combination ('Other', None, None, 'Title 8')\n",
      "Attempting Fitler Combination ('Other', None, None, 'Title 42')\n",
      "Attempting Fitler Combination ('Other', None, 'Accompanied Minors', None)\n",
      "Attempting Fitler Combination ('Other', None, 'Accompanied Minors', 'Title 8')\n",
      "Attempting Fitler Combination ('Other', None, 'Accompanied Minors', 'Title 42')\n",
      "Attempting Fitler Combination ('Other', None, 'FMUA', None)\n",
      "Attempting Fitler Combination ('Other', None, 'FMUA', 'Title 8')\n",
      "Attempting Fitler Combination ('Other', None, 'FMUA', 'Title 42')\n",
      "Attempting Fitler Combination ('Other', None, 'Single Adults', None)\n",
      "Attempting Fitler Combination ('Other', None, 'Single Adults', 'Title 8')\n",
      "Attempting Fitler Combination ('Other', None, 'Single Adults', 'Title 42')\n",
      "Attempting Fitler Combination ('Other', None, 'UC / Single Minors', None)\n",
      "Attempting Fitler Combination ('Other', None, 'UC / Single Minors', 'Title 8')\n",
      "Attempting Fitler Combination ('Other', None, 'UC / Single Minors', 'Title 42')\n",
      "Attempting Fitler Combination ('Other', 'Office of Field Operations', None, None)\n",
      "Attempting Fitler Combination ('Other', 'Office of Field Operations', None, 'Title 8')\n",
      "Attempting Fitler Combination ('Other', 'Office of Field Operations', None, 'Title 42')\n",
      "Attempting Fitler Combination ('Other', 'Office of Field Operations', 'Accompanied Minors', None)\n",
      "Attempting Fitler Combination ('Other', 'Office of Field Operations', 'Accompanied Minors', 'Title 8')\n",
      "Attempting Fitler Combination ('Other', 'Office of Field Operations', 'Accompanied Minors', 'Title 42')\n",
      "Attempting Fitler Combination ('Other', 'Office of Field Operations', 'FMUA', None)\n",
      "Attempting Fitler Combination ('Other', 'Office of Field Operations', 'FMUA', 'Title 8')\n",
      "Attempting Fitler Combination ('Other', 'Office of Field Operations', 'FMUA', 'Title 42')\n",
      "WARNING on ('Other', 'Office of Field Operations', 'FMUA', 'Title 42') \n",
      " 'NoneType' object is not subscriptable\n",
      "Attempting Fitler Combination ('Other', 'Office of Field Operations', 'Single Adults', None)\n",
      "Attempting Fitler Combination ('Other', 'Office of Field Operations', 'Single Adults', 'Title 8')\n",
      "Attempting Fitler Combination ('Other', 'Office of Field Operations', 'Single Adults', 'Title 42')\n",
      "Attempting Fitler Combination ('Other', 'Office of Field Operations', 'UC / Single Minors', None)\n",
      "Attempting Fitler Combination ('Other', 'Office of Field Operations', 'UC / Single Minors', 'Title 8')\n",
      "Attempting Fitler Combination ('Other', 'Office of Field Operations', 'UC / Single Minors', 'Title 42')\n",
      "Attempting Fitler Combination ('Other', 'U.S. Border Patrol', None, None)\n",
      "Attempting Fitler Combination ('Other', 'U.S. Border Patrol', None, 'Title 8')\n",
      "Attempting Fitler Combination ('Other', 'U.S. Border Patrol', None, 'Title 42')\n",
      "Attempting Fitler Combination ('Other', 'U.S. Border Patrol', 'Accompanied Minors', None)\n",
      "WARNING on ('Other', 'U.S. Border Patrol', 'Accompanied Minors', None) \n",
      " 'NoneType' object is not subscriptable\n",
      "Attempting Fitler Combination ('Other', 'U.S. Border Patrol', 'Accompanied Minors', 'Title 8')\n"
     ]
    },
    {
     "name": "stdout",
     "output_type": "stream",
     "text": [
      "WARNING on ('Other', 'U.S. Border Patrol', 'Accompanied Minors', 'Title 8') \n",
      " 'NoneType' object is not subscriptable\n",
      "Attempting Fitler Combination ('Other', 'U.S. Border Patrol', 'Accompanied Minors', 'Title 42')\n",
      "WARNING on ('Other', 'U.S. Border Patrol', 'Accompanied Minors', 'Title 42') \n",
      " 'NoneType' object is not subscriptable\n",
      "Attempting Fitler Combination ('Other', 'U.S. Border Patrol', 'FMUA', None)\n",
      "Attempting Fitler Combination ('Other', 'U.S. Border Patrol', 'FMUA', 'Title 8')\n",
      "Attempting Fitler Combination ('Other', 'U.S. Border Patrol', 'FMUA', 'Title 42')\n",
      "Attempting Fitler Combination ('Other', 'U.S. Border Patrol', 'Single Adults', None)\n",
      "Attempting Fitler Combination ('Other', 'U.S. Border Patrol', 'Single Adults', 'Title 8')\n",
      "Attempting Fitler Combination ('Other', 'U.S. Border Patrol', 'Single Adults', 'Title 42')\n",
      "Attempting Fitler Combination ('Other', 'U.S. Border Patrol', 'UC / Single Minors', None)\n",
      "Attempting Fitler Combination ('Other', 'U.S. Border Patrol', 'UC / Single Minors', 'Title 8')\n",
      "Attempting Fitler Combination ('Other', 'U.S. Border Patrol', 'UC / Single Minors', 'Title 42')\n"
     ]
    }
   ],
   "source": [
    "dataset1, failed_combination1 = get_dashboard_data(\n",
    "    dashboard1_url,\n",
    "    filter_data[\"filter_columns\"],\n",
    "    filter_data[\"filter_combinations\"],\n",
    "    filters_ws,\n",
    "    \"SBO Table\",\n",
    ")"
   ]
  },
  {
   "cell_type": "markdown",
   "metadata": {
    "deletable": false,
    "editable": false,
    "id": "kRl7WeMtkq_V"
   },
   "source": [
    "**Check if anything failed**"
   ]
  },
  {
   "cell_type": "code",
   "execution_count": 141,
   "metadata": {
    "colab": {
     "base_uri": "https://localhost:8080/"
    },
    "deletable": false,
    "editable": false,
    "executionInfo": {
     "elapsed": 176,
     "status": "ok",
     "timestamp": 1636674407047,
     "user": {
      "displayName": "Michael Dowd",
      "photoUrl": "https://lh3.googleusercontent.com/a/default-user=s64",
      "userId": "00770521119407228668"
     },
     "user_tz": 480
    },
    "id": "XnTyyJuNkq_V",
    "outputId": "1ee47197-c94e-424c-ec73-f4437ac3b8a5"
   },
   "outputs": [
    {
     "name": "stdout",
     "output_type": "stream",
     "text": [
      "24\n",
      "[   (None, 'Office of Field Operations', 'FMUA', 'Title 42'),\n",
      "    (None, 'U.S. Border Patrol', 'Accompanied Minors', None),\n",
      "    (None, 'U.S. Border Patrol', 'Accompanied Minors', 'Title 8'),\n",
      "    (None, 'U.S. Border Patrol', 'Accompanied Minors', 'Title 42'),\n",
      "    ('El Salvador', 'Office of Field Operations', 'FMUA', 'Title 42'),\n",
      "    ('El Salvador', 'U.S. Border Patrol', 'Accompanied Minors', None),\n",
      "    ('El Salvador', 'U.S. Border Patrol', 'Accompanied Minors', 'Title 8'),\n",
      "    ('El Salvador', 'U.S. Border Patrol', 'Accompanied Minors', 'Title 42'),\n",
      "    ('Guatemala', 'Office of Field Operations', 'FMUA', 'Title 42'),\n",
      "    ('Guatemala', 'U.S. Border Patrol', 'Accompanied Minors', None),\n",
      "    ('Guatemala', 'U.S. Border Patrol', 'Accompanied Minors', 'Title 8'),\n",
      "    ('Guatemala', 'U.S. Border Patrol', 'Accompanied Minors', 'Title 42'),\n",
      "    ('Honduras', 'Office of Field Operations', 'FMUA', 'Title 42'),\n",
      "    ('Honduras', 'U.S. Border Patrol', 'Accompanied Minors', None),\n",
      "    ('Honduras', 'U.S. Border Patrol', 'Accompanied Minors', 'Title 8'),\n",
      "    ('Honduras', 'U.S. Border Patrol', 'Accompanied Minors', 'Title 42'),\n",
      "    ('Mexico', 'Office of Field Operations', 'FMUA', 'Title 42'),\n",
      "    ('Mexico', 'U.S. Border Patrol', 'Accompanied Minors', None),\n",
      "    ('Mexico', 'U.S. Border Patrol', 'Accompanied Minors', 'Title 8'),\n",
      "    ('Mexico', 'U.S. Border Patrol', 'Accompanied Minors', 'Title 42'),\n",
      "    ('Other', 'Office of Field Operations', 'FMUA', 'Title 42'),\n",
      "    ('Other', 'U.S. Border Patrol', 'Accompanied Minors', None),\n",
      "    ('Other', 'U.S. Border Patrol', 'Accompanied Minors', 'Title 8'),\n",
      "    ('Other', 'U.S. Border Patrol', 'Accompanied Minors', 'Title 42')]\n"
     ]
    }
   ],
   "source": [
    "print(len(failed_combination1))\n",
    "pp.pprint(failed_combination1)"
   ]
  },
  {
   "cell_type": "markdown",
   "metadata": {
    "deletable": false,
    "editable": false,
    "id": "-x-_O-9sXBpa"
   },
   "source": [
    "Note if there are failure, some/all of these failures may be because the combination results in no data. You can verify this manually be attempting these combinations with the actual tableau dashboard. \n",
    "\n",
    "#### Now Same Thing but Just the code \n",
    "\n",
    "Now that we have walked through all the steps to collect the first dashboard, we just wanted to highlight how short the actual code to extract is once you know how this works, AND what elements you want to extract from the dashboard.\n",
    "\n",
    "Below we just have all the steps to collect the first dashboard without all the comments "
   ]
  },
  {
   "cell_type": "code",
   "execution_count": 142,
   "metadata": {
    "deletable": false,
    "editable": false
   },
   "outputs": [],
   "source": [
    "ts = TS()\n",
    "ts.loads(dashboard1_url)\n",
    "data_element_target = \"SBO Table\"\n",
    "\n",
    "filters_ws, wb_names = find_filters_worksheet(ts)\n",
    "\n",
    "# Dashboard 1- Note we skip fiscal year because it is broken out in the chart already\n",
    "filter_data = unpack_filter_information(\n",
    "    ts,\n",
    "    filters_ws,\n",
    "    skip_filter=[\"Fiscal Year\"],\n",
    ")\n",
    "\n",
    "dataset1, failed_combination1 = get_dashboard_data(\n",
    "    dashboard1_url,\n",
    "    filter_data[\"filter_columns\"],\n",
    "    filter_data[\"filter_combinations\"],\n",
    "    filters_ws,\n",
    "    data_element_target,\n",
    ")\n",
    "\n",
    "print(len(failed_combination))\n",
    "pp.pprint(failed_combination)"
   ]
  },
  {
   "cell_type": "markdown",
   "metadata": {
    "deletable": false,
    "editable": false
   },
   "source": [
    "**Export the data to csv**\n",
    "\n",
    "Below we just grab today's year, month and date and we will include this in the name of the output file. \n"
   ]
  },
  {
   "cell_type": "code",
   "execution_count": 8,
   "metadata": {
    "deletable": false,
    "editable": false
   },
   "outputs": [],
   "source": [
    "today_date = time.strftime(\"%Y-%m-%d\")"
   ]
  },
  {
   "cell_type": "markdown",
   "metadata": {
    "deletable": false,
    "editable": false
   },
   "source": [
    "Now run the export command"
   ]
  },
  {
   "cell_type": "code",
   "execution_count": null,
   "metadata": {
    "deletable": false,
    "editable": false
   },
   "outputs": [],
   "source": [
    "dataset1.to_csv(\n",
    "    f\"../data/extracted_data/cbp-tableau/cbp-encounters-dashboard-1-{today_date}.csv\"\n",
    ")"
   ]
  },
  {
   "cell_type": "markdown",
   "metadata": {
    "deletable": false,
    "editable": false
   },
   "source": [
    "-------------------------"
   ]
  },
  {
   "cell_type": "markdown",
   "metadata": {
    "deletable": false,
    "editable": false
   },
   "source": [
    "### 2b. Get data from Dashboard 2"
   ]
  },
  {
   "cell_type": "code",
   "execution_count": null,
   "metadata": {
    "deletable": false,
    "editable": false
   },
   "outputs": [],
   "source": [
    "dashboard2_url = \"https://publicstats.cbp.gov/t/PublicFacing/views/CBPSBOEnforcementActionsDashboardsOCTFY22/SBObyMonthDemo10935\""
   ]
  },
  {
   "cell_type": "code",
   "execution_count": 143,
   "metadata": {
    "deletable": false,
    "editable": false
   },
   "outputs": [
    {
     "name": "stdout",
     "output_type": "stream",
     "text": [
      "All MoM Change Podium\n",
      "Demo FYTD by Month (2)\n",
      "OFO MoM Change\n",
      "Reset SBO by Month\n",
      "USBP MoM Change\n"
     ]
    }
   ],
   "source": [
    "ts = TS()\n",
    "ts.loads(dashboard2_url)\n",
    "print_worksheets(ts)"
   ]
  },
  {
   "cell_type": "markdown",
   "metadata": {
    "deletable": false,
    "editable": false
   },
   "source": [
    "So I believe we want to collect the table data in the second dashboard, so I'm guessing that `Demo FYTD by Month (2)` is the correct element. This is a bit confusing but if you look at the dashboard and compare you can make an educated guess about which element holds the information you want. If you get it wrong you can always rerun the code with a different element. :) \n",
    "\n",
    "Let's see where the filters live in this dashboard."
   ]
  },
  {
   "cell_type": "code",
   "execution_count": 144,
   "metadata": {
    "deletable": false,
    "editable": false,
    "scrolled": true
   },
   "outputs": [
    {
     "name": "stdout",
     "output_type": "stream",
     "text": [
      "------------------------------------------------------------------------------------------\n",
      "Filters Presesnt on element name --> All MoM Change Podium\n",
      "[   {   'column': 'Citizenship Grouping',\n",
      "        'globalFieldName': '[federated.1xhccc00nlacbx14ajs101w1uee1].[none:Citizenship '\n",
      "                           'Grouping:nk]',\n",
      "        'ordinal': 0,\n",
      "        'selection': [   'El Salvador',\n",
      "                         'Guatemala',\n",
      "                         'Honduras',\n",
      "                         'Mexico',\n",
      "                         'Other',\n",
      "                         'all'],\n",
      "        'selectionAlt': [   {   'columnFullNames': ['[Citizenship Grouping]'],\n",
      "                                'domainTables': [   {   'isSelected': True,\n",
      "                                                        'label': 'El '\n",
      "                                                                 'Salvador'}],\n",
      "                                'fn': '[federated.1xhccc00nlacbx14ajs101w1uee1].[none:Citizenship '\n",
      "                                      'Grouping:nk]'}],\n",
      "        'values': ['El Salvador', 'Guatemala', 'Honduras', 'Mexico', 'Other']},\n",
      "    {   'column': 'Demographic',\n",
      "        'globalFieldName': '[federated.1xhccc00nlacbx14ajs101w1uee1].[none:Demographic:nk]',\n",
      "        'ordinal': 0,\n",
      "        'selection': [   'Accompanied Minors',\n",
      "                         'FMUA',\n",
      "                         'Single Adults',\n",
      "                         'UC / Single Minors',\n",
      "                         'all'],\n",
      "        'selectionAlt': [   {   'columnFullNames': ['[Demographic]'],\n",
      "                                'domainTables': [   {   'isSelected': True,\n",
      "                                                        'label': 'AM'}],\n",
      "                                'fn': '[federated.1xhccc00nlacbx14ajs101w1uee1].[none:Demographic:nk]'}],\n",
      "        'values': [   'Accompanied Minors',\n",
      "                      'FMUA',\n",
      "                      'Single Adults',\n",
      "                      'UC / Single Minors']},\n",
      "    {   'column': 'Title of Authority',\n",
      "        'globalFieldName': '[federated.1xhccc00nlacbx14ajs101w1uee1].[none:Title '\n",
      "                           'of Authority:nk]',\n",
      "        'ordinal': 0,\n",
      "        'selection': ['Title 8', 'Title 42', 'all'],\n",
      "        'selectionAlt': [   {   'columnFullNames': ['[Title of Authority]'],\n",
      "                                'domainTables': [   {   'isSelected': True,\n",
      "                                                        'label': 'Title 8'}],\n",
      "                                'fn': '[federated.1xhccc00nlacbx14ajs101w1uee1].[none:Title '\n",
      "                                      'of Authority:nk]'}],\n",
      "        'values': ['Title 8', 'Title 42']}]\n",
      "------------------------------------------------------------------------------------------\n",
      "\n",
      "no filters found on element -->  Demo FYTD by Month (2)\n",
      "\n",
      "no filters found on element -->  OFO MoM Change\n",
      "\n",
      "no filters found on element -->  Reset SBO by Month\n",
      "\n",
      "no filters found on element -->  USBP MoM Change\n"
     ]
    }
   ],
   "source": [
    "filters_ws, wb_names = find_filters_worksheet(ts)"
   ]
  },
  {
   "cell_type": "markdown",
   "metadata": {
    "deletable": false,
    "editable": false
   },
   "source": [
    "Ok looks like the filters are on the `All MoM Change Podium` element. "
   ]
  },
  {
   "cell_type": "code",
   "execution_count": 145,
   "metadata": {
    "deletable": false,
    "editable": false
   },
   "outputs": [
    {
     "name": "stdout",
     "output_type": "stream",
     "text": [
      "filters_ws: All MoM Change Podium\n"
     ]
    }
   ],
   "source": [
    "print(\"filters_ws:\", filters_ws)"
   ]
  },
  {
   "cell_type": "code",
   "execution_count": 146,
   "metadata": {
    "deletable": false,
    "editable": false
   },
   "outputs": [
    {
     "name": "stdout",
     "output_type": "stream",
     "text": [
      "\n",
      "Filters and their possible values:\n",
      "{   'Citizenship Grouping': [   'El Salvador',\n",
      "                                'Guatemala',\n",
      "                                'Honduras',\n",
      "                                'Mexico',\n",
      "                                'Other'],\n",
      "    'Demographic': [   'Accompanied Minors',\n",
      "                       'FMUA',\n",
      "                       'Single Adults',\n",
      "                       'UC / Single Minors'],\n",
      "    'Title of Authority': ['Title 8', 'Title 42']}\n",
      "\n",
      "Filter on:\n",
      "['Citizenship Grouping', 'Title of Authority']\n"
     ]
    }
   ],
   "source": [
    "# Dashboard 2  - note here we skip demographics becauase they are broken out in the chart already\n",
    "filter_data = unpack_filter_information(\n",
    "    ts,\n",
    "    filters_ws,\n",
    "    skip_filter=[\"Demographic\"],\n",
    ")"
   ]
  },
  {
   "cell_type": "markdown",
   "metadata": {
    "deletable": false,
    "editable": false
   },
   "source": [
    "Now let's collect the dashboard data -  This takes about 5 min"
   ]
  },
  {
   "cell_type": "code",
   "execution_count": 147,
   "metadata": {
    "deletable": false,
    "editable": false
   },
   "outputs": [
    {
     "name": "stdout",
     "output_type": "stream",
     "text": [
      "Attempting Fitler Combination (None, None)\n",
      "Attempting Fitler Combination (None, 'Title 8')\n",
      "Attempting Fitler Combination (None, 'Title 42')\n",
      "Attempting Fitler Combination ('El Salvador', None)\n",
      "Attempting Fitler Combination ('El Salvador', 'Title 8')\n",
      "Attempting Fitler Combination ('El Salvador', 'Title 42')\n",
      "Attempting Fitler Combination ('Guatemala', None)\n",
      "Attempting Fitler Combination ('Guatemala', 'Title 8')\n",
      "Attempting Fitler Combination ('Guatemala', 'Title 42')\n",
      "Attempting Fitler Combination ('Honduras', None)\n",
      "Attempting Fitler Combination ('Honduras', 'Title 8')\n",
      "Attempting Fitler Combination ('Honduras', 'Title 42')\n",
      "Attempting Fitler Combination ('Mexico', None)\n",
      "Attempting Fitler Combination ('Mexico', 'Title 8')\n",
      "Attempting Fitler Combination ('Mexico', 'Title 42')\n",
      "Attempting Fitler Combination ('Other', None)\n",
      "Attempting Fitler Combination ('Other', 'Title 8')\n",
      "Attempting Fitler Combination ('Other', 'Title 42')\n"
     ]
    }
   ],
   "source": [
    "dataset2, failed_combination2 = get_dashboard_data(\n",
    "    dashboard2_url,\n",
    "    filter_data[\"filter_columns\"],\n",
    "    filter_data[\"filter_combinations\"],\n",
    "    filters_ws,\n",
    "    \"Demo FYTD by Month (2)\",\n",
    ")"
   ]
  },
  {
   "cell_type": "code",
   "execution_count": 148,
   "metadata": {
    "deletable": false,
    "editable": false
   },
   "outputs": [
    {
     "name": "stdout",
     "output_type": "stream",
     "text": [
      "0\n",
      "[]\n"
     ]
    }
   ],
   "source": [
    "print(len(failed_combination2))\n",
    "pp.pprint(failed_combination2)"
   ]
  },
  {
   "cell_type": "code",
   "execution_count": 149,
   "metadata": {
    "colab": {
     "base_uri": "https://localhost:8080/",
     "height": 538
    },
    "deletable": false,
    "editable": false,
    "executionInfo": {
     "elapsed": 161,
     "status": "ok",
     "timestamp": 1636674410739,
     "user": {
      "displayName": "Michael Dowd",
      "photoUrl": "https://lh3.googleusercontent.com/a/default-user=s64",
      "userId": "00770521119407228668"
     },
     "user_tz": 480
    },
    "id": "OKo1E4r8oxTe",
    "outputId": "09f04392-4602-43dc-c022-a8a7837539b2"
   },
   "outputs": [
    {
     "data": {
      "text/html": [
       "<div>\n",
       "<style scoped>\n",
       "    .dataframe tbody tr th:only-of-type {\n",
       "        vertical-align: middle;\n",
       "    }\n",
       "\n",
       "    .dataframe tbody tr th {\n",
       "        vertical-align: top;\n",
       "    }\n",
       "\n",
       "    .dataframe thead th {\n",
       "        text-align: right;\n",
       "    }\n",
       "</style>\n",
       "<table border=\"1\" class=\"dataframe\">\n",
       "  <thead>\n",
       "    <tr style=\"text-align: right;\">\n",
       "      <th></th>\n",
       "      <th>Component-value</th>\n",
       "      <th>Component-alias</th>\n",
       "      <th>Demographic-value</th>\n",
       "      <th>Demographic-alias</th>\n",
       "      <th>Month (abbv)-value</th>\n",
       "      <th>Month (abbv)-alias</th>\n",
       "      <th>SUM(Encounter Count)-alias</th>\n",
       "      <th>ATTR(Demographic (copy))-alias</th>\n",
       "      <th>Citizenship Grouping</th>\n",
       "      <th>Title of Authority</th>\n",
       "    </tr>\n",
       "  </thead>\n",
       "  <tbody>\n",
       "    <tr>\n",
       "      <th>0</th>\n",
       "      <td>Office of Field Operations</td>\n",
       "      <td>Office of Field Operations</td>\n",
       "      <td>%all%</td>\n",
       "      <td>%all%</td>\n",
       "      <td>%all%</td>\n",
       "      <td>%all%</td>\n",
       "      <td>5728</td>\n",
       "      <td>%many-values%</td>\n",
       "      <td>all</td>\n",
       "      <td>all</td>\n",
       "    </tr>\n",
       "    <tr>\n",
       "      <th>1</th>\n",
       "      <td>Office of Field Operations</td>\n",
       "      <td>Office of Field Operations</td>\n",
       "      <td>%all%</td>\n",
       "      <td>%all%</td>\n",
       "      <td>OCT</td>\n",
       "      <td>OCT</td>\n",
       "      <td>5728</td>\n",
       "      <td>%many-values%</td>\n",
       "      <td>all</td>\n",
       "      <td>all</td>\n",
       "    </tr>\n",
       "    <tr>\n",
       "      <th>2</th>\n",
       "      <td>Office of Field Operations</td>\n",
       "      <td>Office of Field Operations</td>\n",
       "      <td>Accompanied Minors</td>\n",
       "      <td>AM</td>\n",
       "      <td>%all%</td>\n",
       "      <td>%all%</td>\n",
       "      <td>187</td>\n",
       "      <td>Accompanied Minors</td>\n",
       "      <td>all</td>\n",
       "      <td>all</td>\n",
       "    </tr>\n",
       "    <tr>\n",
       "      <th>3</th>\n",
       "      <td>Office of Field Operations</td>\n",
       "      <td>Office of Field Operations</td>\n",
       "      <td>Accompanied Minors</td>\n",
       "      <td>AM</td>\n",
       "      <td>OCT</td>\n",
       "      <td>OCT</td>\n",
       "      <td>187</td>\n",
       "      <td>Accompanied Minors</td>\n",
       "      <td>all</td>\n",
       "      <td>all</td>\n",
       "    </tr>\n",
       "    <tr>\n",
       "      <th>4</th>\n",
       "      <td>Office of Field Operations</td>\n",
       "      <td>Office of Field Operations</td>\n",
       "      <td>UC / Single Minors</td>\n",
       "      <td>UC / Single Minors</td>\n",
       "      <td>%all%</td>\n",
       "      <td>%all%</td>\n",
       "      <td>160</td>\n",
       "      <td>UC / Single Minors</td>\n",
       "      <td>all</td>\n",
       "      <td>all</td>\n",
       "    </tr>\n",
       "    <tr>\n",
       "      <th>...</th>\n",
       "      <td>...</td>\n",
       "      <td>...</td>\n",
       "      <td>...</td>\n",
       "      <td>...</td>\n",
       "      <td>...</td>\n",
       "      <td>...</td>\n",
       "      <td>...</td>\n",
       "      <td>...</td>\n",
       "      <td>...</td>\n",
       "      <td>...</td>\n",
       "    </tr>\n",
       "    <tr>\n",
       "      <th>9</th>\n",
       "      <td>U.S. Border Patrol</td>\n",
       "      <td>U.S. Border Patrol</td>\n",
       "      <td>FMUA</td>\n",
       "      <td>FMUA</td>\n",
       "      <td>OCT</td>\n",
       "      <td>OCT</td>\n",
       "      <td>550</td>\n",
       "      <td>FMUA</td>\n",
       "      <td>Other</td>\n",
       "      <td>Title 42</td>\n",
       "    </tr>\n",
       "    <tr>\n",
       "      <th>10</th>\n",
       "      <td>U.S. Border Patrol</td>\n",
       "      <td>U.S. Border Patrol</td>\n",
       "      <td>Single Adults</td>\n",
       "      <td>Single Adults</td>\n",
       "      <td>%all%</td>\n",
       "      <td>%all%</td>\n",
       "      <td>1228</td>\n",
       "      <td>Single Adults</td>\n",
       "      <td>Other</td>\n",
       "      <td>Title 42</td>\n",
       "    </tr>\n",
       "    <tr>\n",
       "      <th>11</th>\n",
       "      <td>U.S. Border Patrol</td>\n",
       "      <td>U.S. Border Patrol</td>\n",
       "      <td>Single Adults</td>\n",
       "      <td>Single Adults</td>\n",
       "      <td>OCT</td>\n",
       "      <td>OCT</td>\n",
       "      <td>1228</td>\n",
       "      <td>Single Adults</td>\n",
       "      <td>Other</td>\n",
       "      <td>Title 42</td>\n",
       "    </tr>\n",
       "    <tr>\n",
       "      <th>12</th>\n",
       "      <td>%all%</td>\n",
       "      <td>%all%</td>\n",
       "      <td>%all%</td>\n",
       "      <td>%all%</td>\n",
       "      <td>%all%</td>\n",
       "      <td>%all%</td>\n",
       "      <td>1817</td>\n",
       "      <td>%many-values%</td>\n",
       "      <td>Other</td>\n",
       "      <td>Title 42</td>\n",
       "    </tr>\n",
       "    <tr>\n",
       "      <th>13</th>\n",
       "      <td>%all%</td>\n",
       "      <td>%all%</td>\n",
       "      <td>%all%</td>\n",
       "      <td>%all%</td>\n",
       "      <td>OCT</td>\n",
       "      <td>OCT</td>\n",
       "      <td>1817</td>\n",
       "      <td>%many-values%</td>\n",
       "      <td>Other</td>\n",
       "      <td>Title 42</td>\n",
       "    </tr>\n",
       "  </tbody>\n",
       "</table>\n",
       "<p>326 rows × 10 columns</p>\n",
       "</div>"
      ],
      "text/plain": [
       "               Component-value             Component-alias  \\\n",
       "0   Office of Field Operations  Office of Field Operations   \n",
       "1   Office of Field Operations  Office of Field Operations   \n",
       "2   Office of Field Operations  Office of Field Operations   \n",
       "3   Office of Field Operations  Office of Field Operations   \n",
       "4   Office of Field Operations  Office of Field Operations   \n",
       "..                         ...                         ...   \n",
       "9           U.S. Border Patrol          U.S. Border Patrol   \n",
       "10          U.S. Border Patrol          U.S. Border Patrol   \n",
       "11          U.S. Border Patrol          U.S. Border Patrol   \n",
       "12                       %all%                       %all%   \n",
       "13                       %all%                       %all%   \n",
       "\n",
       "     Demographic-value   Demographic-alias Month (abbv)-value  \\\n",
       "0                %all%               %all%              %all%   \n",
       "1                %all%               %all%                OCT   \n",
       "2   Accompanied Minors                  AM              %all%   \n",
       "3   Accompanied Minors                  AM                OCT   \n",
       "4   UC / Single Minors  UC / Single Minors              %all%   \n",
       "..                 ...                 ...                ...   \n",
       "9                 FMUA                FMUA                OCT   \n",
       "10       Single Adults       Single Adults              %all%   \n",
       "11       Single Adults       Single Adults                OCT   \n",
       "12               %all%               %all%              %all%   \n",
       "13               %all%               %all%                OCT   \n",
       "\n",
       "   Month (abbv)-alias SUM(Encounter Count)-alias  \\\n",
       "0               %all%                       5728   \n",
       "1                 OCT                       5728   \n",
       "2               %all%                        187   \n",
       "3                 OCT                        187   \n",
       "4               %all%                        160   \n",
       "..                ...                        ...   \n",
       "9                 OCT                        550   \n",
       "10              %all%                       1228   \n",
       "11                OCT                       1228   \n",
       "12              %all%                       1817   \n",
       "13                OCT                       1817   \n",
       "\n",
       "   ATTR(Demographic (copy))-alias Citizenship Grouping Title of Authority  \n",
       "0                   %many-values%                  all                all  \n",
       "1                   %many-values%                  all                all  \n",
       "2              Accompanied Minors                  all                all  \n",
       "3              Accompanied Minors                  all                all  \n",
       "4              UC / Single Minors                  all                all  \n",
       "..                            ...                  ...                ...  \n",
       "9                            FMUA                Other           Title 42  \n",
       "10                  Single Adults                Other           Title 42  \n",
       "11                  Single Adults                Other           Title 42  \n",
       "12                  %many-values%                Other           Title 42  \n",
       "13                  %many-values%                Other           Title 42  \n",
       "\n",
       "[326 rows x 10 columns]"
      ]
     },
     "execution_count": 149,
     "metadata": {},
     "output_type": "execute_result"
    }
   ],
   "source": [
    "dataset2"
   ]
  },
  {
   "cell_type": "markdown",
   "metadata": {
    "deletable": false,
    "editable": false,
    "id": "FyGy6vglkq_V"
   },
   "source": [
    "Now run the export command"
   ]
  },
  {
   "cell_type": "code",
   "execution_count": 152,
   "metadata": {
    "deletable": false,
    "editable": false,
    "id": "xs4dh5xcXBpb",
    "outputId": "d1a79cd0-2259-4f22-be15-236f3e9321ba"
   },
   "outputs": [],
   "source": [
    "dataset2.to_csv(\n",
    "    f\"../data/extracted_data/cbp-tableau/cbp-encounters-dashboard-2-{today_date}.csv\"\n",
    ")"
   ]
  },
  {
   "cell_type": "markdown",
   "metadata": {
    "deletable": false,
    "editable": false
   },
   "source": [
    "----------"
   ]
  },
  {
   "cell_type": "markdown",
   "metadata": {
    "deletable": false,
    "editable": false,
    "id": "tCfFIc8jkq_V"
   },
   "source": [
    "# End"
   ]
  }
 ],
 "metadata": {
  "colab": {
   "collapsed_sections": [],
   "name": "CBP-Encounters.ipynb",
   "provenance": [
    {
     "file_id": "1rfCQdkosC64QM_l1DAlBoZA9zxlmq5Xx",
     "timestamp": 1634160845672
    }
   ]
  },
  "hide_input": false,
  "kernelspec": {
   "display_name": "Python 3",
   "language": "python",
   "name": "python3"
  },
  "language_info": {
   "codemirror_mode": {
    "name": "ipython",
    "version": 3
   },
   "file_extension": ".py",
   "mimetype": "text/x-python",
   "name": "python",
   "nbconvert_exporter": "python",
   "pygments_lexer": "ipython3",
   "version": "3.8.5"
  }
 },
 "nbformat": 4,
 "nbformat_minor": 1
}
